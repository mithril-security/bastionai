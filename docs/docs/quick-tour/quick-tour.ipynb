{
 "cells": [
  {
   "attachments": {},
   "cell_type": "markdown",
   "metadata": {},
   "source": [
    "<div id=\"colab_button\">\n",
    "  <h1>Quick tour</h1>\n",
    "  <a target=\"_blank\" href=\"https://colab.research.google.com/github/mithril-security/bastionlab/blob/v0.3.7/docs/docs/quick-tour/quick-tour.ipynb\"> \n",
    "  <img src=\"https://colab.research.google.com/assets/colab-badge.svg\" alt=\"Open In Colab\"/></a>\n",
    "</div>\n",
    "\n",
    "_____________________________________________"
   ]
  },
  {
   "attachments": {},
   "cell_type": "markdown",
   "metadata": {},
   "source": [
    "## Why BastionLab?\n",
    "________________________________________\n",
    "Data owners often need or wish that remote data scientists would access their datasets - like a hospital might want to valorize their data to external parties, startups, labs, or receive help from external experts, for instance. \n",
    "The problem is that the most popular solution is to give access to a Jupyter Python notebook installed on the data owner infrastructure. \n"
   ]
  },
  {
   "attachments": {},
   "cell_type": "markdown",
   "metadata": {},
   "source": [
    "This is dangerous, because it exposes the dataset to serious data leakages. Jupyter was not made for this task and exfiltrating data can easily be done.\n",
    "\n",
    "That is why we have built BastionLab, a simple privacy framework to perform remote and secure Exploratory Data Analysis. It acts like an access control solution, for data owners to protect the privacy of their datasets, and stands as a guard, to enforce that only privacy-friendly operations are allowed on the data and anonymized outputs are shown to the data scientist.\n",
    "\n",
    "The following plan illustrates the architecture of BastionLab and the workflow we implement:\n"
   ]
  },
  {
   "attachments": {},
   "cell_type": "markdown",
   "metadata": {},
   "source": [
    "![](https://github.com/mithril-security/bastionlab/raw/master/docs/assets/BastionLab_Workflow.png)"
   ]
  },
  {
   "attachments": {},
   "cell_type": "markdown",
   "metadata": {},
   "source": [
    "BastionLab's current main feature is to show *only* aggregated results to maintain privacy with a minimal sample size to ensure the anonymization of each individual. Differential Privacy will be integrated transparently in the future.\n",
    "\n",
    "Technically, the framework uses polars (a Rust equivalent of pandas) lazy API to construct the queries locally. Once built, the queries are sent to the remote server of BastionLab and executed, if they pass the privacy policy rules defined by the data owner. BastionLab supports most data wrangling operations, like selects, groupbys, joins…"
   ]
  },
  {
   "attachments": {},
   "cell_type": "markdown",
   "metadata": {},
   "source": [
    "## Tutorial's introduction\n",
    "__________________________________________________"
   ]
  },
  {
   "attachments": {},
   "cell_type": "markdown",
   "metadata": {},
   "source": [
    "In the following notebook tutorial, we will show you **how to install BastionLab** and **use a few basic functionalities**. \n",
    "\n",
    "We’ll use a mock example in which the data owner puts a Titanic passengers dataset at the disposal of the data scientist. By the end, the data scientist will be able to do **Exploratory Data Analysis remotely**, **under the privacy policy** constraints defined **by the data owner**.\n",
    "\n",
    "You can run the folliwing line to download the dataset:"
   ]
  },
  {
   "cell_type": "code",
   "execution_count": 1,
   "metadata": {},
   "outputs": [
    {
     "name": "stdout",
     "output_type": "stream",
     "text": [
      "--2023-01-24 12:34:25--  https://raw.githubusercontent.com/datasciencedojo/datasets/master/titanic.csv\n",
      "Resolving raw.githubusercontent.com (raw.githubusercontent.com)... 185.199.111.133, 185.199.108.133, 185.199.110.133, ...\n",
      "Connecting to raw.githubusercontent.com (raw.githubusercontent.com)|185.199.111.133|:443... connected.\n",
      "HTTP request sent, awaiting response... 200 OK\n",
      "Length: 60302 (59K) [text/plain]\n",
      "Saving to: ‘titanic.csv’\n",
      "\n",
      "titanic.csv         100%[===================>]  58,89K  --.-KB/s    in 0,008s  \n",
      "\n",
      "2023-01-24 12:34:26 (7,45 MB/s) - ‘titanic.csv’ saved [60302/60302]\n",
      "\n"
     ]
    }
   ],
   "source": [
    "!wget 'https://raw.githubusercontent.com/datasciencedojo/datasets/master/titanic.csv'"
   ]
  },
  {
   "attachments": {},
   "cell_type": "markdown",
   "metadata": {},
   "source": [
    "*Or you can get it from source with a free user account at https://www.kaggle.com/competitions/titanic/data)*\n",
    "\n",
    "<br>\n",
    "\n",
    "This notebook is divided into three parts:  \n",
    "- Installation of BastionLab client and server\n",
    "- The data owner's side\n",
    "- The data scientist's side\n",
    "\n",
    ">If you opened this Quick Tour in Collab, you can go ahead and skip the next step.\n",
    "\n",
    "If you didn't, it's not too late! You can do it [here](https://colab.research.google.com/github/mithril-security/bastionlab/blob/v0.3.5/docs/docs/getting-started/quick-tour.ipynb) - it will let you run all the command lines and try out BastionLab without having to install anything on your machine. \n",
    "\n",
    "Else, you can refer to our [Installation tutorial](https://bastionlab.readthedocs.io/en/latest/docs/tutorials/installation/) to check you have the correct technical requirements. "
   ]
  },
  {
   "attachments": {},
   "cell_type": "markdown",
   "metadata": {
    "id": "YlQTyrwwOT6P"
   },
   "source": [
    "## Installing BastionLab client\n",
    "_________________________________________\n",
    "\n",
    "We provide a pip package for our client library that contains all the necessary to interact with the BastionLab server. \n",
    "\n",
    "It provides high level abstraction such as remote objects which mimic the behavior of plain local objects. These objects actually are references to remote resources and allow running remote computations seemlessly in a secure fashion."
   ]
  },
  {
   "cell_type": "code",
   "execution_count": null,
   "metadata": {
    "id": "afLaK6QON7-U"
   },
   "outputs": [],
   "source": [
    "!pip install bastionlab"
   ]
  },
  {
   "attachments": {},
   "cell_type": "markdown",
   "metadata": {},
   "source": [
    "## Installing BastionLab server\n",
    "____________________________________________________\n",
    "\n",
    "For testing purposes, BastionLab server has been packaged as a pip wheel. In this tutorial, we will use this package to quickly set up a test server."
   ]
  },
  {
   "cell_type": "code",
   "execution_count": 3,
   "metadata": {},
   "outputs": [],
   "source": [
    "!pip install bastionlab_server"
   ]
  },
  {
   "attachments": {},
   "cell_type": "markdown",
   "metadata": {},
   "source": [
    "*You may alternatively install BastionLab Server using our Docker image or from source. To do so, refer to our more detailed [Installation Tutorial](https://bastionlab.readthedocs.io/en/latest/docs/tutorials/installation/).*"
   ]
  },
  {
   "attachments": {},
   "cell_type": "markdown",
   "metadata": {
    "id": "GqLROxasOf-d"
   },
   "source": [
    "### Running BastionLab server\n",
    "\n",
    "The server exposes port `50056` for gRPC communication with clients and uses a default configuration (authentication, default settings).\n",
    "\n",
    ">*Note* - You can go check out our [Authentication tutorial](https://bastionlab.readthedocs.io/en/latest/docs/tutorials/authentication/) to learn more about how it works, and see how to disable that option if, for example, you're deploying locally.\n",
    "\n",
    "To run the server, we use the utility function provided by the `bastionlab_server` package."
   ]
  },
  {
   "cell_type": "code",
   "execution_count": null,
   "metadata": {
    "id": "LTtSRCMFOfm3"
   },
   "outputs": [],
   "source": [
    "import bastionlab_server\n",
    "\n",
    "srv = bastionlab_server.start()"
   ]
  },
  {
   "attachments": {},
   "cell_type": "markdown",
   "metadata": {
    "id": "JA-3PuGqFpAx"
   },
   "source": [
    "## Data owner's side\n",
    "_______________________________________\n",
    "\n",
    "In this tutorial, we assume that the data owner has a private dataset they want to explore. As they don't have the expertise, they would like to hire a data scientist and give them restricted access to their private data.\n",
    "\n",
    "> To keep this overview short and simple, we will use weak but reasonable guarantees. If you're interested in setting up stricter policies, you are encouraged to have a look at our [Privacy policy tutorial](https://github.com/mithril-security/bastionlab/blob/master/docs/docs/tutorials/policy.ipynb).\n",
    "\n",
    "In this part, we'll see how to **upload a data frame** to the server and **set up a privacy policy**. It is key to know that BastionLab ensures that **the original dataset cannot be downloaded by the data scientist**."
   ]
  },
  {
   "attachments": {},
   "cell_type": "markdown",
   "metadata": {
    "id": "xX0tE-3zGOhT"
   },
   "source": [
    "### Upload the data frame to the BastionLab client\n",
    "\n",
    "We first load the Titanic dataset in memory as a DataFrame object:"
   ]
  },
  {
   "cell_type": "code",
   "execution_count": 5,
   "metadata": {
    "id": "7tby18jsFlHC"
   },
   "outputs": [],
   "source": [
    "import polars as pl\n",
    "\n",
    "df = pl.read_csv(\"titanic.csv\")"
   ]
  },
  {
   "attachments": {},
   "cell_type": "markdown",
   "metadata": {
    "id": "bcZV2enRGdLk"
   },
   "source": [
    "We then open a connection to the server by providing its hostname:"
   ]
  },
  {
   "cell_type": "code",
   "execution_count": null,
   "metadata": {
    "id": "oCzcU937GeOT"
   },
   "outputs": [],
   "source": [
    "from bastionlab import Connection\n",
    "\n",
    "connection = Connection(\"localhost\")"
   ]
  },
  {
   "attachments": {},
   "cell_type": "markdown",
   "metadata": {
    "id": "Xj4VzVyrGx4o"
   },
   "source": [
    "### Setting up the privacy policy\n",
    "\n",
    "Using BastionLab client, we'll upload our data to the server in a secure and private way. To do so, we need to define a custom privacy policy that will require two parameters.\n",
    "\n",
    "- A `safe_zone` which is a condition any request must meet to be considered privacy-preserving.\n",
    "- An `unsafe_handling` which is the action taken in case a request violates the `safe_zone`.\n",
    "\n",
    "For the purpose of this tutorial, we'll use the following:\n",
    "- Any request that aggregates at least 10 rows of the original DataFrame is safe,\n",
    "- We decide to log any offending request on the server side, so the Data Owner can see it.\n",
    "\n",
    "To send the DataFrame with the privacy policy to the server, we'll use the `send_df()` method of the `polars` interface of the client. We'll pass it our custom policy and a list of columns to be sanitized (*meaning set to null*) if retrieved by the data scientist."
   ]
  },
  {
   "cell_type": "code",
   "execution_count": 7,
   "metadata": {
    "id": "hXZ-z0r7GxT2"
   },
   "outputs": [
    {
     "data": {
      "text/plain": [
       "FetchableLazyFrame(identifier=0d117ba9-f17b-49cc-ad47-c95f430efb2c)"
      ]
     },
     "execution_count": 7,
     "metadata": {},
     "output_type": "execute_result"
    }
   ],
   "source": [
    "from bastionlab.polars.policy import Policy, Aggregation, Log\n",
    "\n",
    "policy = Policy(\n",
    "    safe_zone=Aggregation(min_agg_size=10), unsafe_handling=Log(), savable=True\n",
    ")\n",
    "connection.client.polars.send_df(df, policy=policy, sanitized_columns=[\"Name\"])"
   ]
  },
  {
   "attachments": {},
   "cell_type": "markdown",
   "metadata": {},
   "source": [
    "The server returns a `FetchableLazyFrame` which is a reference to the remote DataFrame. It can be used as if it were locally available. We'll see how to use it in the data scientist's side section."
   ]
  },
  {
   "attachments": {},
   "cell_type": "markdown",
   "metadata": {
    "id": "_EsucHv3IZ8l"
   },
   "source": [
    "## Data scientist’s side\n",
    "______________________________________________\n",
    "\n",
    "In this part, we’ll show how the data scientist can **access the Data Owner’s dataset**, **run queries**, **fetch the results**, and **display them**."
   ]
  },
  {
   "attachments": {},
   "cell_type": "markdown",
   "metadata": {
    "id": "4JMB8Vo6IlA5"
   },
   "source": [
    "### Access the data owner’s dataset \n",
    "\n",
    "The core object of BastionLab's polars API is the `RemoteLazyFrame` which is a reference to the DataFrame uploaded by the data owner, along with some metadata such as the names and types of the columns. \n",
    "\n",
    "`RemoteLazyFrame` usually works like a plain Polars `LazyFrame`. Almost all the functions available in the Python API of Polars can be used with `RemoteLazyFrame` to run computations on the server.\n",
    "\n",
    "There are a few differences, however. One major distinction is that data must be downloaded *prior* to any local usage, such as printing or plotting. Because our API is inherently lazy, not all `RemoteLazyFrame` can be downloaded because it would not make sense to download a result that hasn't been computed yet on the server. Only `FetchableLazyFrame`, a subtype of `RemoteLazyFrame` can be downloaded with their specific `fetch()` method. \n",
    "\n",
    "Like in Polars' `LazyFrame`, the user must first call the `collect()` method to run the computation and get a `FetchableLazyFrame` as a result. In practice, this means that most calls to `collect()` with `polars` will be replaced by `collect().fetch()` with `bastionlab.polars` \n",
    "\n",
    "At this stage, we do not know the unique identifier of the DataFrame uploaded by the data owner. So we'll start by asking the server to list all available DataFrames."
   ]
  },
  {
   "cell_type": "code",
   "execution_count": 8,
   "metadata": {
    "id": "zTutluzrIU25"
   },
   "outputs": [
    {
     "data": {
      "text/plain": [
       "[FetchableLazyFrame(identifier=0d117ba9-f17b-49cc-ad47-c95f430efb2c)]"
      ]
     },
     "execution_count": 8,
     "metadata": {},
     "output_type": "execute_result"
    }
   ],
   "source": [
    "connection = Connection(\"localhost\", 50056)\n",
    "\n",
    "client = connection.client\n",
    "\n",
    "all_rdfs = client.polars.list_dfs()\n",
    "\n",
    "rdf = all_rdfs[0]\n",
    "\n",
    "all_rdfs"
   ]
  },
  {
   "attachments": {},
   "cell_type": "markdown",
   "metadata": {
    "id": "aEUumlO7I_hs"
   },
   "source": [
    "The server returns a list of `FetchableLazyFrame` that we can inspect. In our case, we can just take the first one as the data owner has only uploaded one DataFrame so far."
   ]
  },
  {
   "attachments": {},
   "cell_type": "markdown",
   "metadata": {
    "id": "LW4aLKlIJC6b"
   },
   "source": [
    "### Running queries\n",
    "\n",
    "Now that we have a `RemoteLazyFrame` corresponding to the data owner’s DataFrame, it is time to run some queries on it.\n",
    "\n",
    "To define these queries, we can directly use all the methods provided by Polars’ lazy API. \n",
    "\n",
    ">*Note* - Here, the adjective *lazy* means that no computation will be run unless explicitly needed. This allows the data scientist to build queries with a Pythonic approach from the RemoteLazyFrame. When an operation needs to be executed on the data, the query is serialized and sent to the server. \n",
    "\n",
    "The `collect()` method triggers the execution of all the recorded operations on the server.\n"
   ]
  },
  {
   "cell_type": "code",
   "execution_count": 9,
   "metadata": {
    "id": "KrGcCK5VIwg0"
   },
   "outputs": [
    {
     "name": "stdout",
     "output_type": "stream",
     "text": [
      "RemoteLazyFrame\n",
      "FetchableLazyFrame(identifier=3ecd6348-4ef4-482d-8693-02aeb7a7863c)\n"
     ]
    }
   ],
   "source": [
    "rdf1 = rdf.head(5)\n",
    "print(rdf1)\n",
    "\n",
    "rdf2 = rdf1.collect()\n",
    "print(rdf2)"
   ]
  },
  {
   "attachments": {},
   "cell_type": "markdown",
   "metadata": {
    "id": "rf6C_13wJH10"
   },
   "source": [
    "In this example, the first line returns a new RemoteLazyFrame that records the head operation - nothing happens on the server. In the second line, however, the call to `collect()` sends a query to the server instructing it to do a head operation, and will run it right away.\n",
    "\n",
    "\n",
    "What is key to understanding, is that **every call to `collect()` will create a new DataFrame** on the server side that contains the result.\n",
    "\n",
    "On the client side, **`collect()` returns a new `FetchableLazyFrame`** that references the result on the server."
   ]
  },
  {
   "attachments": {},
   "cell_type": "markdown",
   "metadata": {
    "id": "fd5LudClJO0Z"
   },
   "source": [
    "### Fetching results\n",
    "\n",
    "At some point in your process, you will need to download the results to use them locally or to display them. \n",
    "\n",
    "This can be achieved with the `fetch()` method. It is defined on the `FetchableLazyFrame` class which extends the `RemoteLazyFrame` class. \n",
    "\n",
    "Recall that we’ve already seen the two ways of getting FetchableLazyFrames: by listing available DataFrames on the server, and by calling `collect()` on any RemoteLazyFrame. \n",
    "\n",
    "In practice, this means that `fetch()` can only be called on references to DataFrames, already available on the server, or after a call to `collect()`. As no computation has run before you call `collect()`, it wouldn’t actually make sense to `fetch()` the result because it does not yet exist! \n"
   ]
  },
  {
   "cell_type": "code",
   "execution_count": 10,
   "metadata": {
    "id": "e_8EGgopJRUi"
   },
   "outputs": [
    {
     "name": "stdout",
     "output_type": "stream",
     "text": [
      "\u001b[33mWarning: non privacy-preserving query.\n",
      "Reason: Cannot fetch a result DataFrame that does not aggregate at least 10 rows of DataFrame 0d117ba9-f17b-49cc-ad47-c95f430efb2c.\n",
      "\n",
      "This incident will be reported to the data owner.\u001b[37m\n"
     ]
    },
    {
     "data": {
      "text/html": [
       "<div>\n",
       "<style scoped>\n",
       "    .dataframe tbody tr th:only-of-type {\n",
       "        vertical-align: middle;\n",
       "    }\n",
       "\n",
       "    .dataframe tbody tr th {\n",
       "        vertical-align: top;\n",
       "    }\n",
       "\n",
       "    .dataframe thead th {\n",
       "        text-align: right;\n",
       "    }\n",
       "\n",
       "    .dataframe td {\n",
       "        white-space: pre;\n",
       "    }\n",
       "\n",
       "    .dataframe td {\n",
       "        padding-top: 0;\n",
       "    }\n",
       "\n",
       "    .dataframe td {\n",
       "        padding-bottom: 0;\n",
       "    }\n",
       "</style>\n",
       "<table border=\"1\" class=\"dataframe\" >\n",
       "<small>shape: (5, 12)</small>\n",
       "<thead>\n",
       "<tr>\n",
       "<th>\n",
       "PassengerId\n",
       "</th>\n",
       "<th>\n",
       "Survived\n",
       "</th>\n",
       "<th>\n",
       "Pclass\n",
       "</th>\n",
       "<th>\n",
       "Name\n",
       "</th>\n",
       "<th>\n",
       "Sex\n",
       "</th>\n",
       "<th>\n",
       "Age\n",
       "</th>\n",
       "<th>\n",
       "SibSp\n",
       "</th>\n",
       "<th>\n",
       "Parch\n",
       "</th>\n",
       "<th>\n",
       "Ticket\n",
       "</th>\n",
       "<th>\n",
       "Fare\n",
       "</th>\n",
       "<th>\n",
       "Cabin\n",
       "</th>\n",
       "<th>\n",
       "Embarked\n",
       "</th>\n",
       "</tr>\n",
       "<tr>\n",
       "<td>\n",
       "i64\n",
       "</td>\n",
       "<td>\n",
       "i64\n",
       "</td>\n",
       "<td>\n",
       "i64\n",
       "</td>\n",
       "<td>\n",
       "str\n",
       "</td>\n",
       "<td>\n",
       "str\n",
       "</td>\n",
       "<td>\n",
       "f64\n",
       "</td>\n",
       "<td>\n",
       "i64\n",
       "</td>\n",
       "<td>\n",
       "i64\n",
       "</td>\n",
       "<td>\n",
       "str\n",
       "</td>\n",
       "<td>\n",
       "f64\n",
       "</td>\n",
       "<td>\n",
       "str\n",
       "</td>\n",
       "<td>\n",
       "str\n",
       "</td>\n",
       "</tr>\n",
       "</thead>\n",
       "<tbody>\n",
       "<tr>\n",
       "<td>\n",
       "1\n",
       "</td>\n",
       "<td>\n",
       "0\n",
       "</td>\n",
       "<td>\n",
       "3\n",
       "</td>\n",
       "<td>\n",
       "null\n",
       "</td>\n",
       "<td>\n",
       "&quot;male&quot;\n",
       "</td>\n",
       "<td>\n",
       "22.0\n",
       "</td>\n",
       "<td>\n",
       "1\n",
       "</td>\n",
       "<td>\n",
       "0\n",
       "</td>\n",
       "<td>\n",
       "&quot;A/5 21171&quot;\n",
       "</td>\n",
       "<td>\n",
       "7.25\n",
       "</td>\n",
       "<td>\n",
       "null\n",
       "</td>\n",
       "<td>\n",
       "&quot;S&quot;\n",
       "</td>\n",
       "</tr>\n",
       "<tr>\n",
       "<td>\n",
       "2\n",
       "</td>\n",
       "<td>\n",
       "1\n",
       "</td>\n",
       "<td>\n",
       "1\n",
       "</td>\n",
       "<td>\n",
       "null\n",
       "</td>\n",
       "<td>\n",
       "&quot;female&quot;\n",
       "</td>\n",
       "<td>\n",
       "38.0\n",
       "</td>\n",
       "<td>\n",
       "1\n",
       "</td>\n",
       "<td>\n",
       "0\n",
       "</td>\n",
       "<td>\n",
       "&quot;PC 17599&quot;\n",
       "</td>\n",
       "<td>\n",
       "71.2833\n",
       "</td>\n",
       "<td>\n",
       "&quot;C85&quot;\n",
       "</td>\n",
       "<td>\n",
       "&quot;C&quot;\n",
       "</td>\n",
       "</tr>\n",
       "<tr>\n",
       "<td>\n",
       "3\n",
       "</td>\n",
       "<td>\n",
       "1\n",
       "</td>\n",
       "<td>\n",
       "3\n",
       "</td>\n",
       "<td>\n",
       "null\n",
       "</td>\n",
       "<td>\n",
       "&quot;female&quot;\n",
       "</td>\n",
       "<td>\n",
       "26.0\n",
       "</td>\n",
       "<td>\n",
       "0\n",
       "</td>\n",
       "<td>\n",
       "0\n",
       "</td>\n",
       "<td>\n",
       "&quot;STON/O2. 31012...\n",
       "</td>\n",
       "<td>\n",
       "7.925\n",
       "</td>\n",
       "<td>\n",
       "null\n",
       "</td>\n",
       "<td>\n",
       "&quot;S&quot;\n",
       "</td>\n",
       "</tr>\n",
       "<tr>\n",
       "<td>\n",
       "4\n",
       "</td>\n",
       "<td>\n",
       "1\n",
       "</td>\n",
       "<td>\n",
       "1\n",
       "</td>\n",
       "<td>\n",
       "null\n",
       "</td>\n",
       "<td>\n",
       "&quot;female&quot;\n",
       "</td>\n",
       "<td>\n",
       "35.0\n",
       "</td>\n",
       "<td>\n",
       "1\n",
       "</td>\n",
       "<td>\n",
       "0\n",
       "</td>\n",
       "<td>\n",
       "&quot;113803&quot;\n",
       "</td>\n",
       "<td>\n",
       "53.1\n",
       "</td>\n",
       "<td>\n",
       "&quot;C123&quot;\n",
       "</td>\n",
       "<td>\n",
       "&quot;S&quot;\n",
       "</td>\n",
       "</tr>\n",
       "<tr>\n",
       "<td>\n",
       "5\n",
       "</td>\n",
       "<td>\n",
       "0\n",
       "</td>\n",
       "<td>\n",
       "3\n",
       "</td>\n",
       "<td>\n",
       "null\n",
       "</td>\n",
       "<td>\n",
       "&quot;male&quot;\n",
       "</td>\n",
       "<td>\n",
       "35.0\n",
       "</td>\n",
       "<td>\n",
       "0\n",
       "</td>\n",
       "<td>\n",
       "0\n",
       "</td>\n",
       "<td>\n",
       "&quot;373450&quot;\n",
       "</td>\n",
       "<td>\n",
       "8.05\n",
       "</td>\n",
       "<td>\n",
       "null\n",
       "</td>\n",
       "<td>\n",
       "&quot;S&quot;\n",
       "</td>\n",
       "</tr>\n",
       "</tbody>\n",
       "</table>\n",
       "</div>"
      ],
      "text/plain": [
       "shape: (5, 12)\n",
       "┌─────────────┬──────────┬────────┬──────┬─────┬──────────────────┬─────────┬───────┬──────────┐\n",
       "│ PassengerId ┆ Survived ┆ Pclass ┆ Name ┆ ... ┆ Ticket           ┆ Fare    ┆ Cabin ┆ Embarked │\n",
       "│ ---         ┆ ---      ┆ ---    ┆ ---  ┆     ┆ ---              ┆ ---     ┆ ---   ┆ ---      │\n",
       "│ i64         ┆ i64      ┆ i64    ┆ str  ┆     ┆ str              ┆ f64     ┆ str   ┆ str      │\n",
       "╞═════════════╪══════════╪════════╪══════╪═════╪══════════════════╪═════════╪═══════╪══════════╡\n",
       "│ 1           ┆ 0        ┆ 3      ┆ null ┆ ... ┆ A/5 21171        ┆ 7.25    ┆ null  ┆ S        │\n",
       "├╌╌╌╌╌╌╌╌╌╌╌╌╌┼╌╌╌╌╌╌╌╌╌╌┼╌╌╌╌╌╌╌╌┼╌╌╌╌╌╌┼╌╌╌╌╌┼╌╌╌╌╌╌╌╌╌╌╌╌╌╌╌╌╌╌┼╌╌╌╌╌╌╌╌╌┼╌╌╌╌╌╌╌┼╌╌╌╌╌╌╌╌╌╌┤\n",
       "│ 2           ┆ 1        ┆ 1      ┆ null ┆ ... ┆ PC 17599         ┆ 71.2833 ┆ C85   ┆ C        │\n",
       "├╌╌╌╌╌╌╌╌╌╌╌╌╌┼╌╌╌╌╌╌╌╌╌╌┼╌╌╌╌╌╌╌╌┼╌╌╌╌╌╌┼╌╌╌╌╌┼╌╌╌╌╌╌╌╌╌╌╌╌╌╌╌╌╌╌┼╌╌╌╌╌╌╌╌╌┼╌╌╌╌╌╌╌┼╌╌╌╌╌╌╌╌╌╌┤\n",
       "│ 3           ┆ 1        ┆ 3      ┆ null ┆ ... ┆ STON/O2. 3101282 ┆ 7.925   ┆ null  ┆ S        │\n",
       "├╌╌╌╌╌╌╌╌╌╌╌╌╌┼╌╌╌╌╌╌╌╌╌╌┼╌╌╌╌╌╌╌╌┼╌╌╌╌╌╌┼╌╌╌╌╌┼╌╌╌╌╌╌╌╌╌╌╌╌╌╌╌╌╌╌┼╌╌╌╌╌╌╌╌╌┼╌╌╌╌╌╌╌┼╌╌╌╌╌╌╌╌╌╌┤\n",
       "│ 4           ┆ 1        ┆ 1      ┆ null ┆ ... ┆ 113803           ┆ 53.1    ┆ C123  ┆ S        │\n",
       "├╌╌╌╌╌╌╌╌╌╌╌╌╌┼╌╌╌╌╌╌╌╌╌╌┼╌╌╌╌╌╌╌╌┼╌╌╌╌╌╌┼╌╌╌╌╌┼╌╌╌╌╌╌╌╌╌╌╌╌╌╌╌╌╌╌┼╌╌╌╌╌╌╌╌╌┼╌╌╌╌╌╌╌┼╌╌╌╌╌╌╌╌╌╌┤\n",
       "│ 5           ┆ 0        ┆ 3      ┆ null ┆ ... ┆ 373450           ┆ 8.05    ┆ null  ┆ S        │\n",
       "└─────────────┴──────────┴────────┴──────┴─────┴──────────────────┴─────────┴───────┴──────────┘"
      ]
     },
     "execution_count": 10,
     "metadata": {},
     "output_type": "execute_result"
    }
   ],
   "source": [
    "rdf.head(5).collect().fetch()"
   ]
  },
  {
   "attachments": {},
   "cell_type": "markdown",
   "metadata": {
    "id": "zuhVGJNfJVT5"
   },
   "source": [
    "In addition, `fetch()` downloads the resulting DataFrame after performing some checks on how it was obtained and what the data owner authorizes in their policy. These checks allow BastionLab to uphold a decent level of privacy without too big an impact on your workflow.\n",
    "\n",
    "Recall that the data owner has set the following policy:\n",
    "- a `safe_zone` that accepts queries aggregating at least 10 original rows,\n",
    "- the `Log` `unsafe_hanling` action which prints a message in the server logs in case of a violation of the `safe_zone`.\n",
    "\n",
    "As printing the first rows of a DataFrame is not an aggregation, we are actually violating the safe zone which explains the printed warning message. The same message is also recorded in the logs of the server.\n",
    "\n",
    "Also note that the `'Name'` column has been filled with `null` values as it was added to the `sanitized_columns` list by the data owner.\n"
   ]
  },
  {
   "cell_type": "markdown",
   "metadata": {},
   "source": [
    "Let’s now try a more involved query: we compute the survival rates of the passengers on the Titanic based on their ticket class."
   ]
  },
  {
   "cell_type": "code",
   "execution_count": 11,
   "metadata": {},
   "outputs": [
    {
     "data": {
      "text/html": [
       "<div>\n",
       "<style scoped>\n",
       "    .dataframe tbody tr th:only-of-type {\n",
       "        vertical-align: middle;\n",
       "    }\n",
       "\n",
       "    .dataframe tbody tr th {\n",
       "        vertical-align: top;\n",
       "    }\n",
       "\n",
       "    .dataframe thead th {\n",
       "        text-align: right;\n",
       "    }\n",
       "\n",
       "    .dataframe td {\n",
       "        white-space: pre;\n",
       "    }\n",
       "\n",
       "    .dataframe td {\n",
       "        padding-top: 0;\n",
       "    }\n",
       "\n",
       "    .dataframe td {\n",
       "        padding-bottom: 0;\n",
       "    }\n",
       "</style>\n",
       "<table border=\"1\" class=\"dataframe\" >\n",
       "<small>shape: (3, 2)</small>\n",
       "<thead>\n",
       "<tr>\n",
       "<th>\n",
       "Pclass\n",
       "</th>\n",
       "<th>\n",
       "Survived\n",
       "</th>\n",
       "</tr>\n",
       "<tr>\n",
       "<td>\n",
       "i64\n",
       "</td>\n",
       "<td>\n",
       "f64\n",
       "</td>\n",
       "</tr>\n",
       "</thead>\n",
       "<tbody>\n",
       "<tr>\n",
       "<td>\n",
       "1\n",
       "</td>\n",
       "<td>\n",
       "0.62963\n",
       "</td>\n",
       "</tr>\n",
       "<tr>\n",
       "<td>\n",
       "2\n",
       "</td>\n",
       "<td>\n",
       "0.472826\n",
       "</td>\n",
       "</tr>\n",
       "<tr>\n",
       "<td>\n",
       "3\n",
       "</td>\n",
       "<td>\n",
       "0.242363\n",
       "</td>\n",
       "</tr>\n",
       "</tbody>\n",
       "</table>\n",
       "</div>"
      ],
      "text/plain": [
       "shape: (3, 2)\n",
       "┌────────┬──────────┐\n",
       "│ Pclass ┆ Survived │\n",
       "│ ---    ┆ ---      │\n",
       "│ i64    ┆ f64      │\n",
       "╞════════╪══════════╡\n",
       "│ 1      ┆ 0.62963  │\n",
       "├╌╌╌╌╌╌╌╌┼╌╌╌╌╌╌╌╌╌╌┤\n",
       "│ 2      ┆ 0.472826 │\n",
       "├╌╌╌╌╌╌╌╌┼╌╌╌╌╌╌╌╌╌╌┤\n",
       "│ 3      ┆ 0.242363 │\n",
       "└────────┴──────────┘"
      ]
     },
     "execution_count": 11,
     "metadata": {},
     "output_type": "execute_result"
    }
   ],
   "source": [
    "per_class_rates = (\n",
    "    rdf.select([pl.col(\"Pclass\"), pl.col(\"Survived\")])\n",
    "    .groupby(pl.col(\"Pclass\"))\n",
    "    .agg(pl.col(\"Survived\").mean())\n",
    "    .sort(\"Survived\", reverse=True)\n",
    "    .collect()\n",
    ")\n",
    "per_class_rates.fetch()"
   ]
  },
  {
   "attachments": {},
   "cell_type": "markdown",
   "metadata": {
    "id": "SUoApr5UJna1"
   },
   "source": [
    "Once again, we must use:\n",
    "- `collect()` to run the computation on the server,\n",
    "- `fetch()` to retrieve the result locally. \n",
    "\n",
    "In this case, no message appears because the query involves an aggregation step."
   ]
  },
  {
   "attachments": {},
   "cell_type": "markdown",
   "metadata": {},
   "source": [
    "Let's also take a quick look at the `describe` method:\n",
    "\n",
    "By calling the `describe` method on `RemoteLazyFrames` or `FetchableLazyFrames`, we get back a `FetchableLazyFrame` containing the following statistics for each column in your original dataframe:\n",
    "- count\n",
    "- mean\n",
    "- std\n",
    "- min\n",
    "- 1st quartile\n",
    "- 2nd quartile/median\n",
    "- 3rd quartile\n",
    "- max\n",
    "\n",
    "We need to follow this method with `.collect().fetch` to display this summary dataframe.\n",
    "\n",
    "If these operations can't be applied to the type of data in a column, a null value will be displayed instead."
   ]
  },
  {
   "cell_type": "code",
   "execution_count": 12,
   "metadata": {},
   "outputs": [
    {
     "data": {
      "text/html": [
       "<div>\n",
       "<style scoped>\n",
       "    .dataframe tbody tr th:only-of-type {\n",
       "        vertical-align: middle;\n",
       "    }\n",
       "\n",
       "    .dataframe tbody tr th {\n",
       "        vertical-align: top;\n",
       "    }\n",
       "\n",
       "    .dataframe thead th {\n",
       "        text-align: right;\n",
       "    }\n",
       "\n",
       "    .dataframe td {\n",
       "        white-space: pre;\n",
       "    }\n",
       "\n",
       "    .dataframe td {\n",
       "        padding-top: 0;\n",
       "    }\n",
       "\n",
       "    .dataframe td {\n",
       "        padding-bottom: 0;\n",
       "    }\n",
       "</style>\n",
       "<table border=\"1\" class=\"dataframe\" >\n",
       "<small>shape: (8, 13)</small>\n",
       "<thead>\n",
       "<tr>\n",
       "<th>\n",
       "describe\n",
       "</th>\n",
       "<th>\n",
       "PassengerId\n",
       "</th>\n",
       "<th>\n",
       "Survived\n",
       "</th>\n",
       "<th>\n",
       "Pclass\n",
       "</th>\n",
       "<th>\n",
       "Name\n",
       "</th>\n",
       "<th>\n",
       "Sex\n",
       "</th>\n",
       "<th>\n",
       "Age\n",
       "</th>\n",
       "<th>\n",
       "SibSp\n",
       "</th>\n",
       "<th>\n",
       "Parch\n",
       "</th>\n",
       "<th>\n",
       "Ticket\n",
       "</th>\n",
       "<th>\n",
       "Fare\n",
       "</th>\n",
       "<th>\n",
       "Cabin\n",
       "</th>\n",
       "<th>\n",
       "Embarked\n",
       "</th>\n",
       "</tr>\n",
       "<tr>\n",
       "<td>\n",
       "str\n",
       "</td>\n",
       "<td>\n",
       "f64\n",
       "</td>\n",
       "<td>\n",
       "f64\n",
       "</td>\n",
       "<td>\n",
       "f64\n",
       "</td>\n",
       "<td>\n",
       "f64\n",
       "</td>\n",
       "<td>\n",
       "f64\n",
       "</td>\n",
       "<td>\n",
       "f64\n",
       "</td>\n",
       "<td>\n",
       "f64\n",
       "</td>\n",
       "<td>\n",
       "f64\n",
       "</td>\n",
       "<td>\n",
       "f64\n",
       "</td>\n",
       "<td>\n",
       "f64\n",
       "</td>\n",
       "<td>\n",
       "f64\n",
       "</td>\n",
       "<td>\n",
       "f64\n",
       "</td>\n",
       "</tr>\n",
       "</thead>\n",
       "<tbody>\n",
       "<tr>\n",
       "<td>\n",
       "&quot;count&quot;\n",
       "</td>\n",
       "<td>\n",
       "891.0\n",
       "</td>\n",
       "<td>\n",
       "891.0\n",
       "</td>\n",
       "<td>\n",
       "891.0\n",
       "</td>\n",
       "<td>\n",
       "891.0\n",
       "</td>\n",
       "<td>\n",
       "891.0\n",
       "</td>\n",
       "<td>\n",
       "891.0\n",
       "</td>\n",
       "<td>\n",
       "891.0\n",
       "</td>\n",
       "<td>\n",
       "891.0\n",
       "</td>\n",
       "<td>\n",
       "891.0\n",
       "</td>\n",
       "<td>\n",
       "891.0\n",
       "</td>\n",
       "<td>\n",
       "891.0\n",
       "</td>\n",
       "<td>\n",
       "891.0\n",
       "</td>\n",
       "</tr>\n",
       "<tr>\n",
       "<td>\n",
       "&quot;mean&quot;\n",
       "</td>\n",
       "<td>\n",
       "446.0\n",
       "</td>\n",
       "<td>\n",
       "0.383838\n",
       "</td>\n",
       "<td>\n",
       "2.308642\n",
       "</td>\n",
       "<td>\n",
       "null\n",
       "</td>\n",
       "<td>\n",
       "null\n",
       "</td>\n",
       "<td>\n",
       "29.699118\n",
       "</td>\n",
       "<td>\n",
       "0.523008\n",
       "</td>\n",
       "<td>\n",
       "0.381594\n",
       "</td>\n",
       "<td>\n",
       "null\n",
       "</td>\n",
       "<td>\n",
       "32.204208\n",
       "</td>\n",
       "<td>\n",
       "null\n",
       "</td>\n",
       "<td>\n",
       "null\n",
       "</td>\n",
       "</tr>\n",
       "<tr>\n",
       "<td>\n",
       "&quot;std&quot;\n",
       "</td>\n",
       "<td>\n",
       "257.353842\n",
       "</td>\n",
       "<td>\n",
       "0.486592\n",
       "</td>\n",
       "<td>\n",
       "0.836071\n",
       "</td>\n",
       "<td>\n",
       "null\n",
       "</td>\n",
       "<td>\n",
       "null\n",
       "</td>\n",
       "<td>\n",
       "14.526497\n",
       "</td>\n",
       "<td>\n",
       "1.102743\n",
       "</td>\n",
       "<td>\n",
       "0.806057\n",
       "</td>\n",
       "<td>\n",
       "null\n",
       "</td>\n",
       "<td>\n",
       "49.693429\n",
       "</td>\n",
       "<td>\n",
       "null\n",
       "</td>\n",
       "<td>\n",
       "null\n",
       "</td>\n",
       "</tr>\n",
       "<tr>\n",
       "<td>\n",
       "&quot;min&quot;\n",
       "</td>\n",
       "<td>\n",
       "1.0\n",
       "</td>\n",
       "<td>\n",
       "0.0\n",
       "</td>\n",
       "<td>\n",
       "1.0\n",
       "</td>\n",
       "<td>\n",
       "null\n",
       "</td>\n",
       "<td>\n",
       "null\n",
       "</td>\n",
       "<td>\n",
       "0.42\n",
       "</td>\n",
       "<td>\n",
       "0.0\n",
       "</td>\n",
       "<td>\n",
       "0.0\n",
       "</td>\n",
       "<td>\n",
       "110152.0\n",
       "</td>\n",
       "<td>\n",
       "0.0\n",
       "</td>\n",
       "<td>\n",
       "null\n",
       "</td>\n",
       "<td>\n",
       "null\n",
       "</td>\n",
       "</tr>\n",
       "<tr>\n",
       "<td>\n",
       "&quot;25%&quot;\n",
       "</td>\n",
       "<td>\n",
       "223.5\n",
       "</td>\n",
       "<td>\n",
       "0.0\n",
       "</td>\n",
       "<td>\n",
       "2.0\n",
       "</td>\n",
       "<td>\n",
       "null\n",
       "</td>\n",
       "<td>\n",
       "null\n",
       "</td>\n",
       "<td>\n",
       "20.125\n",
       "</td>\n",
       "<td>\n",
       "0.0\n",
       "</td>\n",
       "<td>\n",
       "0.0\n",
       "</td>\n",
       "<td>\n",
       "null\n",
       "</td>\n",
       "<td>\n",
       "7.9104\n",
       "</td>\n",
       "<td>\n",
       "null\n",
       "</td>\n",
       "<td>\n",
       "null\n",
       "</td>\n",
       "</tr>\n",
       "<tr>\n",
       "<td>\n",
       "&quot;50%&quot;\n",
       "</td>\n",
       "<td>\n",
       "446.0\n",
       "</td>\n",
       "<td>\n",
       "0.0\n",
       "</td>\n",
       "<td>\n",
       "3.0\n",
       "</td>\n",
       "<td>\n",
       "null\n",
       "</td>\n",
       "<td>\n",
       "null\n",
       "</td>\n",
       "<td>\n",
       "28.0\n",
       "</td>\n",
       "<td>\n",
       "0.0\n",
       "</td>\n",
       "<td>\n",
       "0.0\n",
       "</td>\n",
       "<td>\n",
       "null\n",
       "</td>\n",
       "<td>\n",
       "14.4542\n",
       "</td>\n",
       "<td>\n",
       "null\n",
       "</td>\n",
       "<td>\n",
       "null\n",
       "</td>\n",
       "</tr>\n",
       "<tr>\n",
       "<td>\n",
       "&quot;75%&quot;\n",
       "</td>\n",
       "<td>\n",
       "668.5\n",
       "</td>\n",
       "<td>\n",
       "1.0\n",
       "</td>\n",
       "<td>\n",
       "3.0\n",
       "</td>\n",
       "<td>\n",
       "null\n",
       "</td>\n",
       "<td>\n",
       "null\n",
       "</td>\n",
       "<td>\n",
       "38.0\n",
       "</td>\n",
       "<td>\n",
       "1.0\n",
       "</td>\n",
       "<td>\n",
       "0.0\n",
       "</td>\n",
       "<td>\n",
       "null\n",
       "</td>\n",
       "<td>\n",
       "31.0\n",
       "</td>\n",
       "<td>\n",
       "null\n",
       "</td>\n",
       "<td>\n",
       "null\n",
       "</td>\n",
       "</tr>\n",
       "<tr>\n",
       "<td>\n",
       "&quot;max&quot;\n",
       "</td>\n",
       "<td>\n",
       "891.0\n",
       "</td>\n",
       "<td>\n",
       "1.0\n",
       "</td>\n",
       "<td>\n",
       "3.0\n",
       "</td>\n",
       "<td>\n",
       "null\n",
       "</td>\n",
       "<td>\n",
       "null\n",
       "</td>\n",
       "<td>\n",
       "80.0\n",
       "</td>\n",
       "<td>\n",
       "8.0\n",
       "</td>\n",
       "<td>\n",
       "6.0\n",
       "</td>\n",
       "<td>\n",
       "null\n",
       "</td>\n",
       "<td>\n",
       "512.3292\n",
       "</td>\n",
       "<td>\n",
       "null\n",
       "</td>\n",
       "<td>\n",
       "null\n",
       "</td>\n",
       "</tr>\n",
       "</tbody>\n",
       "</table>\n",
       "</div>"
      ],
      "text/plain": [
       "shape: (8, 13)\n",
       "┌──────────┬─────────────┬──────────┬──────────┬─────┬──────────┬───────────┬───────┬──────────┐\n",
       "│ describe ┆ PassengerId ┆ Survived ┆ Pclass   ┆ ... ┆ Ticket   ┆ Fare      ┆ Cabin ┆ Embarked │\n",
       "│ ---      ┆ ---         ┆ ---      ┆ ---      ┆     ┆ ---      ┆ ---       ┆ ---   ┆ ---      │\n",
       "│ str      ┆ f64         ┆ f64      ┆ f64      ┆     ┆ f64      ┆ f64       ┆ f64   ┆ f64      │\n",
       "╞══════════╪═════════════╪══════════╪══════════╪═════╪══════════╪═══════════╪═══════╪══════════╡\n",
       "│ count    ┆ 891.0       ┆ 891.0    ┆ 891.0    ┆ ... ┆ 891.0    ┆ 891.0     ┆ 891.0 ┆ 891.0    │\n",
       "├╌╌╌╌╌╌╌╌╌╌┼╌╌╌╌╌╌╌╌╌╌╌╌╌┼╌╌╌╌╌╌╌╌╌╌┼╌╌╌╌╌╌╌╌╌╌┼╌╌╌╌╌┼╌╌╌╌╌╌╌╌╌╌┼╌╌╌╌╌╌╌╌╌╌╌┼╌╌╌╌╌╌╌┼╌╌╌╌╌╌╌╌╌╌┤\n",
       "│ mean     ┆ 446.0       ┆ 0.383838 ┆ 2.308642 ┆ ... ┆ null     ┆ 32.204208 ┆ null  ┆ null     │\n",
       "├╌╌╌╌╌╌╌╌╌╌┼╌╌╌╌╌╌╌╌╌╌╌╌╌┼╌╌╌╌╌╌╌╌╌╌┼╌╌╌╌╌╌╌╌╌╌┼╌╌╌╌╌┼╌╌╌╌╌╌╌╌╌╌┼╌╌╌╌╌╌╌╌╌╌╌┼╌╌╌╌╌╌╌┼╌╌╌╌╌╌╌╌╌╌┤\n",
       "│ std      ┆ 257.353842  ┆ 0.486592 ┆ 0.836071 ┆ ... ┆ null     ┆ 49.693429 ┆ null  ┆ null     │\n",
       "├╌╌╌╌╌╌╌╌╌╌┼╌╌╌╌╌╌╌╌╌╌╌╌╌┼╌╌╌╌╌╌╌╌╌╌┼╌╌╌╌╌╌╌╌╌╌┼╌╌╌╌╌┼╌╌╌╌╌╌╌╌╌╌┼╌╌╌╌╌╌╌╌╌╌╌┼╌╌╌╌╌╌╌┼╌╌╌╌╌╌╌╌╌╌┤\n",
       "│ min      ┆ 1.0         ┆ 0.0      ┆ 1.0      ┆ ... ┆ 110152.0 ┆ 0.0       ┆ null  ┆ null     │\n",
       "├╌╌╌╌╌╌╌╌╌╌┼╌╌╌╌╌╌╌╌╌╌╌╌╌┼╌╌╌╌╌╌╌╌╌╌┼╌╌╌╌╌╌╌╌╌╌┼╌╌╌╌╌┼╌╌╌╌╌╌╌╌╌╌┼╌╌╌╌╌╌╌╌╌╌╌┼╌╌╌╌╌╌╌┼╌╌╌╌╌╌╌╌╌╌┤\n",
       "│ 25%      ┆ 223.5       ┆ 0.0      ┆ 2.0      ┆ ... ┆ null     ┆ 7.9104    ┆ null  ┆ null     │\n",
       "├╌╌╌╌╌╌╌╌╌╌┼╌╌╌╌╌╌╌╌╌╌╌╌╌┼╌╌╌╌╌╌╌╌╌╌┼╌╌╌╌╌╌╌╌╌╌┼╌╌╌╌╌┼╌╌╌╌╌╌╌╌╌╌┼╌╌╌╌╌╌╌╌╌╌╌┼╌╌╌╌╌╌╌┼╌╌╌╌╌╌╌╌╌╌┤\n",
       "│ 50%      ┆ 446.0       ┆ 0.0      ┆ 3.0      ┆ ... ┆ null     ┆ 14.4542   ┆ null  ┆ null     │\n",
       "├╌╌╌╌╌╌╌╌╌╌┼╌╌╌╌╌╌╌╌╌╌╌╌╌┼╌╌╌╌╌╌╌╌╌╌┼╌╌╌╌╌╌╌╌╌╌┼╌╌╌╌╌┼╌╌╌╌╌╌╌╌╌╌┼╌╌╌╌╌╌╌╌╌╌╌┼╌╌╌╌╌╌╌┼╌╌╌╌╌╌╌╌╌╌┤\n",
       "│ 75%      ┆ 668.5       ┆ 1.0      ┆ 3.0      ┆ ... ┆ null     ┆ 31.0      ┆ null  ┆ null     │\n",
       "├╌╌╌╌╌╌╌╌╌╌┼╌╌╌╌╌╌╌╌╌╌╌╌╌┼╌╌╌╌╌╌╌╌╌╌┼╌╌╌╌╌╌╌╌╌╌┼╌╌╌╌╌┼╌╌╌╌╌╌╌╌╌╌┼╌╌╌╌╌╌╌╌╌╌╌┼╌╌╌╌╌╌╌┼╌╌╌╌╌╌╌╌╌╌┤\n",
       "│ max      ┆ 891.0       ┆ 1.0      ┆ 3.0      ┆ ... ┆ null     ┆ 512.3292  ┆ null  ┆ null     │\n",
       "└──────────┴─────────────┴──────────┴──────────┴─────┴──────────┴───────────┴───────┴──────────┘"
      ]
     },
     "execution_count": 12,
     "metadata": {},
     "output_type": "execute_result"
    }
   ],
   "source": [
    "rdf.describe().collect().fetch()"
   ]
  },
  {
   "attachments": {},
   "cell_type": "markdown",
   "metadata": {},
   "source": [
    "### Saving Dataframes\n",
    "\n",
    "A this point, maybe you'll want to save your dataframes so that you can continue what you were doing at a later time. \n",
    "\n",
    "Good news: you can do it with BastionLab with the `save()` method! Saving your dataframes ensures that they will not be lost in the scenario of a server restart: the server will save that dataframe to a file, and reload it when it restarts."
   ]
  },
  {
   "cell_type": "code",
   "execution_count": 13,
   "metadata": {},
   "outputs": [],
   "source": [
    "# Saving the RemoteLazyFrame with the rates of survivals\n",
    "# of the passengers per ticket class\n",
    "per_class_rates.save()"
   ]
  },
  {
   "attachments": {},
   "cell_type": "markdown",
   "metadata": {},
   "source": [
    "It's important that you write down the identifier of the dataframe you saved, because you'll need to identify it when you decide to work on it again.\n",
    "\n",
    "The identifier can be retrieved using the `identifier` property of the dataframe."
   ]
  },
  {
   "cell_type": "code",
   "execution_count": 14,
   "metadata": {},
   "outputs": [
    {
     "name": "stdout",
     "output_type": "stream",
     "text": [
      "4d2a163f-5b8c-47b9-93b0-b407404b5dce\n"
     ]
    }
   ],
   "source": [
    "# Printing the identifier of the dataframe we're saving\n",
    "print(per_class_rates.identifier)"
   ]
  },
  {
   "cell_type": "markdown",
   "metadata": {
    "id": "ElGtVk90JvoC"
   },
   "source": [
    "### Data visualization functions\n",
    "\n",
    "The data scientist can also use plotting functions to visualize data while still upholding data privacy. It is important to note that, although plots are computed locally, the client only retrieves the necessary data, allowing the policy privacy garanties to stay intact."
   ]
  },
  {
   "cell_type": "markdown",
   "metadata": {
    "id": "71-OMO3IJ713"
   },
   "source": [
    "#### Histograms\n",
    "\n",
    "Histograms (and barplots) inherently aggregate data which makes them a good fit for private data exploration.\n",
    "Instead of fetching the whole DataFrame, BastionLab client selects relevant rows, runs an aggregation query on the server and fetches the aggregated data.\n",
    "\n",
    "In the following example, we plot the number of passengers who survived per age class. We set a bin size of 10 which means our age classes span 10 years."
   ]
  },
  {
   "cell_type": "code",
   "execution_count": 15,
   "metadata": {
    "id": "H2-2g_2RJ9TC"
   },
   "outputs": [
    {
     "name": "stdout",
     "output_type": "stream",
     "text": [
      "\u001b[33mWarning: non privacy-preserving query.\n",
      "Reason: Cannot fetch a result DataFrame that does not aggregate at least 10 rows of DataFrame 0d117ba9-f17b-49cc-ad47-c95f430efb2c.\n",
      "\n",
      "This incident will be reported to the data owner.\u001b[37m\n"
     ]
    },
    {
     "data": {
      "image/png": "[encoded data removed]",
      "text/plain": [
       "<Figure size 640x480 with 1 Axes>"
      ]
     },
     "metadata": {},
     "output_type": "display_data"
    }
   ],
   "source": [
    "rdf.filter(pl.col(\"Survived\") == 1).histplot(x=\"Age\", bins=10)"
   ]
  },
  {
   "attachments": {},
   "cell_type": "markdown",
   "metadata": {},
   "source": [
    "We get a warning message because there are outliers in our data: people aged 70 or more are few. They form groups that are smaller than 10 in size and, so, they violate the data owner's policy.\n",
    "In practice, outlier data are more vulnerable to deanonymization attacks because they make correlations easier to find. It is standard practice in privacy to remove outlier data to mitigate this risk.\n",
    "\n",
    "One solution to make our example more-privacy preserving is to clip the age column to remove outliers prior to making the barplot."
   ]
  },
  {
   "cell_type": "code",
   "execution_count": 16,
   "metadata": {},
   "outputs": [
    {
     "data": {
      "image/png": "[encoded data removed]",
      "text/plain": [
       "<Figure size 640x480 with 1 Axes>"
      ]
     },
     "metadata": {},
     "output_type": "display_data"
    }
   ],
   "source": [
    "(\n",
    "    rdf.select([pl.col(\"Survived\"), pl.col(\"Age\").clip(0, 50)])\n",
    "    .filter(pl.col(\"Survived\") == 1)\n",
    "    .histplot(x=\"Age\", bins=10)\n",
    ")"
   ]
  },
  {
   "cell_type": "markdown",
   "metadata": {},
   "source": [
    "In this case, outliers are counted in a new 50+ bin, and each bin aggregates at least 10 passengers. The query does not violate the safe zone anymore."
   ]
  },
  {
   "cell_type": "markdown",
   "metadata": {
    "id": "4M6JbJmXKNGR"
   },
   "source": [
    "#### Curve and scatter plots\n",
    "\n",
    "BastionLab also features other types of plots although these are less suited for privacy-preserving exploration.\n",
    "They typically require fetching the whole DataFrame because they do not naturally involve an aggregation step like histograms do.\n",
    "\n",
    "Bellow are two examples of the same relationship between age, fare and survival as a curve plot and as a scatter plot."
   ]
  },
  {
   "cell_type": "code",
   "execution_count": 17,
   "metadata": {
    "id": "65nIvNBSKNt3"
   },
   "outputs": [
    {
     "name": "stdout",
     "output_type": "stream",
     "text": [
      "\u001b[33mWarning: non privacy-preserving query.\n",
      "Reason: Cannot fetch a result DataFrame that does not aggregate at least 10 rows of DataFrame 0d117ba9-f17b-49cc-ad47-c95f430efb2c.\n",
      "\n",
      "This incident will be reported to the data owner.\u001b[37m\n"
     ]
    },
    {
     "data": {
      "image/png": "[encoded data removed]",
      "text/plain": [
       "<Figure size 640x480 with 1 Axes>"
      ]
     },
     "metadata": {},
     "output_type": "display_data"
    }
   ],
   "source": [
    "rdf.scatterplot(x=\"Age\", y=\"Fare\", hue=\"Sex\")"
   ]
  },
  {
   "cell_type": "code",
   "execution_count": 18,
   "metadata": {
    "id": "VplE4fOFKdyD"
   },
   "outputs": [
    {
     "name": "stdout",
     "output_type": "stream",
     "text": [
      "\u001b[33mWarning: non privacy-preserving query.\n",
      "Reason: Cannot fetch a result DataFrame that does not aggregate at least 10 rows of DataFrame 0d117ba9-f17b-49cc-ad47-c95f430efb2c.\n",
      "\n",
      "This incident will be reported to the data owner.\u001b[37m\n"
     ]
    },
    {
     "data": {
      "image/png": "[encoded data removed]",
      "text/plain": [
       "<Figure size 640x480 with 1 Axes>"
      ]
     },
     "metadata": {},
     "output_type": "display_data"
    }
   ],
   "source": [
    "rdf.lineplot(x=\"Age\", y=\"Fare\", hue=\"Sex\")"
   ]
  },
  {
   "cell_type": "markdown",
   "metadata": {
    "id": "OrZA7dZnKido"
   },
   "source": [
    "For more information on these functions and more complex examples, check out our data visualization tutorial [here](../tutorials/visualization.ipynb).\n",
    "\n",
    "Let's now close the connection and shutdown the server."
   ]
  },
  {
   "cell_type": "code",
   "execution_count": 19,
   "metadata": {},
   "outputs": [
    {
     "name": "stdout",
     "output_type": "stream",
     "text": [
      "BastionLab's server already stopped\n"
     ]
    },
    {
     "data": {
      "text/plain": [
       "False"
      ]
     },
     "execution_count": 19,
     "metadata": {},
     "output_type": "execute_result"
    }
   ],
   "source": [
    "connection.close()\n",
    "bastionlab_server.stop(srv)"
   ]
  }
 ],
 "metadata": {
  "colab": {
   "provenance": []
  },
  "kernelspec": {
   "display_name": ".venv",
   "language": "python",
   "name": "python3"
  },
  "language_info": {
   "codemirror_mode": {
    "name": "ipython",
    "version": 3
   },
   "file_extension": ".py",
   "mimetype": "text/x-python",
   "name": "python",
   "nbconvert_exporter": "python",
   "pygments_lexer": "ipython3",
   "version": "3.9.13"
  },
  "vscode": {
   "interpreter": {
    "hash": "a9b54e0e60c951251616a770da8af80f8d16584449e5a507ea2f8de766b1741b"
   }
  }
 },
 "nbformat": 4,
 "nbformat_minor": 0
}
