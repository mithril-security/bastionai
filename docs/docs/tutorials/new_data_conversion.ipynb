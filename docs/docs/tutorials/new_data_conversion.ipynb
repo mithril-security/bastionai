{
 "cells": [
  {
   "cell_type": "code",
   "execution_count": null,
   "metadata": {},
   "outputs": [],
   "source": [
    "from tokenizers import Tokenizer\n",
    "from bastionlab.polars.policy import Policy, Aggregation, Log\n",
    "from bastionlab.polars import train_test_split\n",
    "import polars as pl\n",
    "from bastionlab import Connection\n",
    "from bastionlab.tokenizers import RemoteTokenizer\n",
    "from bastionlab.torch.remote_torch import RemoteDataset\n",
    "from bastionlab.torch.learner import RemoteLearner\n",
    "\n",
    "\n",
    "file_path = \"./SMSSpamCollection\"\n",
    "\n",
    "# Read CSV file using Polars and rename columns with `text`, `label`\n",
    "df = pl.read_csv(file_path, has_header=False, sep=\"\\t\", new_columns=[\"label\", \"text\"])\n",
    "\n",
    "# Transform `spam` labels to `1` and `0` for any other column label\n",
    "df = df.with_column(\n",
    "    pl.when(pl.col(\"label\") == \"spam\").then(1).otherwise(0).alias(\"label\")\n",
    ")\n",
    "\n",
    "# View the first few elements of the DataFrame\n",
    "df.head()"
   ]
  },
  {
   "cell_type": "code",
   "execution_count": null,
   "metadata": {},
   "outputs": [],
   "source": [
    "tokenizer = RemoteTokenizer.from_hugging_face_pretrained(\"distilbert-base-uncased\")\n",
    "tokenizer.enable_padding(length=32)\n",
    "tokenizer.enable_truncation(max_length=32)\n",
    "\n",
    "connection = Connection(\"localhost\")\n",
    "\n",
    "\n",
    "rdf = connection.client.polars.send_df(df.limit(64))\n",
    "\n",
    "# Split dataframe into train and test sets.\n",
    "train_rdf, test_rdf = train_test_split(rdf, test_size=0.2, shuffle=True)\n",
    "\n",
    "# Create Inputs(train, test) RemoteSeries objects\n",
    "train_inputs = train_rdf.select(\"text\").to_array()\n",
    "test_inputs = test_rdf.select(\"text\").to_array()\n",
    "\n",
    "# Create Label(train, test) RemoteSeries objects\n",
    "train_label = train_rdf.select(\"label\").to_array().to_tensor()\n",
    "test_label = test_rdf.select(\"label\").to_array().to_tensor()\n",
    "\n",
    "# Tokenize `text` fields\n",
    "train_ids, train_mask = tokenizer.encode(train_inputs)\n",
    "test_ids, test_mask = tokenizer.encode(test_inputs)\n",
    "\n",
    "# Create train RemoteDataset\n",
    "train_rds = RemoteDataset(inputs=[train_ids, train_mask], labels=train_label)\n",
    "\n",
    "# Create test RemoteDataset\n",
    "test_rds = RemoteDataset(inputs=[test_ids, test_mask], labels=test_label)"
   ]
  },
  {
   "cell_type": "code",
   "execution_count": null,
   "metadata": {},
   "outputs": [],
   "source": [
    "from transformers import DistilBertForSequenceClassification, DistilBertTokenizer\n",
    "from bastionlab.torch.utils import MultipleOutputWrapper\n",
    "\n",
    "model = DistilBertForSequenceClassification.from_pretrained(\n",
    "    \"distilbert-base-uncased\",\n",
    "    num_labels=2,\n",
    "    output_attentions=False,\n",
    "    output_hidden_states=False,\n",
    "    torchscript=True,\n",
    ")\n",
    "model = MultipleOutputWrapper(model, 0)"
   ]
  },
  {
   "cell_type": "code",
   "execution_count": null,
   "metadata": {},
   "outputs": [],
   "source": [
    "from bastionlab.torch.optimizer_config import Adam\n",
    "\n",
    "remote_learner = connection.client.torch.RemoteLearner(\n",
    "    model,\n",
    "    train_rds,\n",
    "    max_batch_size=2,\n",
    "    loss=\"cross_entropy\",\n",
    "    optimizer=Adam(lr=5e-5),\n",
    "    model_name=\"DistilBERT\",\n",
    ")"
   ]
  },
  {
   "cell_type": "code",
   "execution_count": null,
   "metadata": {},
   "outputs": [],
   "source": [
    "remote_learner.fit(nb_epochs=1)  # , poll_delay=1.0)"
   ]
  },
  {
   "cell_type": "code",
   "execution_count": null,
   "metadata": {},
   "outputs": [],
   "source": [
    "# from torchvision.datasets import CIFAR10\n",
    "# from torchvision.models import resnet50, ResNet50_Weights\n",
    "# from torch.utils.data import DataLoader\n",
    "# from torchvision.transforms import ToTensor, Normalize, Compose\n",
    "# from bastionlab.torch.remote_torch import RemoteDataset\n",
    "# import torch\n",
    "# from bastionlab import Connection\n",
    "\n",
    "\n",
    "# client = Connection(\"localhost\").client.torch\n",
    "\n",
    "\n",
    "# transform = Compose(\n",
    "#     [\n",
    "#         ToTensor(),\n",
    "#         Normalize((0.4914, 0.4822, 0.4465), (0.2023, 0.1994, 0.2010)),\n",
    "#         lambda x: [x],\n",
    "#     ]\n",
    "# )\n",
    "\n",
    "# train = CIFAR10(\"data\", train=True, transform=transform, download=True)\n",
    "\n",
    "# dataset = RemoteDataset.from_dataset(train)\n",
    "\n",
    "# model = resnet50(weights=ResNet50_Weights.IMAGENET1K_V2)\n",
    "\n",
    "# remote_learner = client.RemoteLearner(\n",
    "#     model,\n",
    "#     dataset,\n",
    "#     max_batch_size=4,\n",
    "#     loss=\"cross_entropy\",\n",
    "#     model_name=\"ResNet50\",\n",
    "# )\n",
    "\n",
    "# remote_learner.fit(nb_epochs=1)"
   ]
  }
 ],
 "metadata": {
  "kernelspec": {
   "display_name": "base",
   "language": "python",
   "name": "python3"
  },
  "language_info": {
   "codemirror_mode": {
    "name": "ipython",
    "version": 3
   },
   "file_extension": ".py",
   "mimetype": "text/x-python",
   "name": "python",
   "nbconvert_exporter": "python",
   "pygments_lexer": "ipython3",
   "version": "3.8.10"
  },
  "orig_nbformat": 4,
  "vscode": {
   "interpreter": {
    "hash": "cfb725626286d8c8fc5334ffe77697f720dc23e64d3046271825a5556b528e7d"
   }
  }
 },
 "nbformat": 4,
 "nbformat_minor": 2
}
