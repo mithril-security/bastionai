{
 "cells": [
  {
   "cell_type": "code",
   "execution_count": 9,
   "metadata": {},
   "outputs": [
    {
     "data": {
      "text/html": [
       "<div>\n",
       "<style scoped>\n",
       "    .dataframe tbody tr th:only-of-type {\n",
       "        vertical-align: middle;\n",
       "    }\n",
       "\n",
       "    .dataframe tbody tr th {\n",
       "        vertical-align: top;\n",
       "    }\n",
       "\n",
       "    .dataframe thead th {\n",
       "        text-align: right;\n",
       "    }\n",
       "\n",
       "    .dataframe td {\n",
       "        white-space: pre;\n",
       "    }\n",
       "\n",
       "    .dataframe td {\n",
       "        padding-top: 0;\n",
       "    }\n",
       "\n",
       "    .dataframe td {\n",
       "        padding-bottom: 0;\n",
       "    }\n",
       "</style>\n",
       "<table border=\"1\" class=\"dataframe\" >\n",
       "<small>shape: (5, 2)</small>\n",
       "<thead>\n",
       "<tr>\n",
       "<th>\n",
       "label\n",
       "</th>\n",
       "<th>\n",
       "text\n",
       "</th>\n",
       "</tr>\n",
       "<tr>\n",
       "<td>\n",
       "i64\n",
       "</td>\n",
       "<td>\n",
       "str\n",
       "</td>\n",
       "</tr>\n",
       "</thead>\n",
       "<tbody>\n",
       "<tr>\n",
       "<td>\n",
       "0\n",
       "</td>\n",
       "<td>\n",
       "&quot;Go until juron...\n",
       "</td>\n",
       "</tr>\n",
       "<tr>\n",
       "<td>\n",
       "0\n",
       "</td>\n",
       "<td>\n",
       "&quot;Ok lar... Joki...\n",
       "</td>\n",
       "</tr>\n",
       "<tr>\n",
       "<td>\n",
       "1\n",
       "</td>\n",
       "<td>\n",
       "&quot;Free entry in ...\n",
       "</td>\n",
       "</tr>\n",
       "<tr>\n",
       "<td>\n",
       "0\n",
       "</td>\n",
       "<td>\n",
       "&quot;U dun say so e...\n",
       "</td>\n",
       "</tr>\n",
       "<tr>\n",
       "<td>\n",
       "0\n",
       "</td>\n",
       "<td>\n",
       "&quot;Nah I don&#x27;t th...\n",
       "</td>\n",
       "</tr>\n",
       "</tbody>\n",
       "</table>\n",
       "</div>"
      ],
      "text/plain": [
       "shape: (5, 2)\n",
       "┌───────┬─────────────────────────────────────┐\n",
       "│ label ┆ text                                │\n",
       "│ ---   ┆ ---                                 │\n",
       "│ i64   ┆ str                                 │\n",
       "╞═══════╪═════════════════════════════════════╡\n",
       "│ 0     ┆ Go until jurong point, crazy.. A... │\n",
       "├╌╌╌╌╌╌╌┼╌╌╌╌╌╌╌╌╌╌╌╌╌╌╌╌╌╌╌╌╌╌╌╌╌╌╌╌╌╌╌╌╌╌╌╌╌┤\n",
       "│ 0     ┆ Ok lar... Joking wif u oni...       │\n",
       "├╌╌╌╌╌╌╌┼╌╌╌╌╌╌╌╌╌╌╌╌╌╌╌╌╌╌╌╌╌╌╌╌╌╌╌╌╌╌╌╌╌╌╌╌╌┤\n",
       "│ 1     ┆ Free entry in 2 a wkly comp to w... │\n",
       "├╌╌╌╌╌╌╌┼╌╌╌╌╌╌╌╌╌╌╌╌╌╌╌╌╌╌╌╌╌╌╌╌╌╌╌╌╌╌╌╌╌╌╌╌╌┤\n",
       "│ 0     ┆ U dun say so early hor... U c al... │\n",
       "├╌╌╌╌╌╌╌┼╌╌╌╌╌╌╌╌╌╌╌╌╌╌╌╌╌╌╌╌╌╌╌╌╌╌╌╌╌╌╌╌╌╌╌╌╌┤\n",
       "│ 0     ┆ Nah I don't think he goes to usf... │\n",
       "└───────┴─────────────────────────────────────┘"
      ]
     },
     "execution_count": 9,
     "metadata": {},
     "output_type": "execute_result"
    }
   ],
   "source": [
    "from tokenizers import Tokenizer\n",
    "from bastionlab.polars.policy import Policy, Aggregation, Log\n",
    "from bastionlab.polars import train_test_split\n",
    "import polars as pl\n",
    "from bastionlab import Connection\n",
    "from bastionlab.tokenizers import RemoteTokenizer\n",
    "from bastionlab.torch.remote_torch import RemoteDataset\n",
    "from bastionlab.torch.learner import RemoteLearner\n",
    "\n",
    "\n",
    "file_path = \"./SMSSpamCollection\"\n",
    "\n",
    "# Read CSV file using Polars and rename columns with `text`, `label`\n",
    "df = pl.read_csv(file_path, has_header=False, sep=\"\\t\", new_columns=[\"label\", \"text\"])\n",
    "\n",
    "# Transform `spam` labels to `1` and `0` for any other column label\n",
    "df = df.with_column(\n",
    "    pl.when(pl.col(\"label\") == \"spam\").then(1).otherwise(0).alias(\"label\")\n",
    ")\n",
    "\n",
    "# View the first few elements of the DataFrame\n",
    "df.head()"
   ]
  },
  {
   "cell_type": "code",
   "execution_count": 10,
   "metadata": {},
   "outputs": [],
   "source": [
    "tokenizer = RemoteTokenizer.from_hugging_face_pretrained(\"distilbert-base-uncased\")\n",
    "tokenizer.enable_padding(length=32)\n",
    "tokenizer.enable_truncation(max_length=32)\n",
    "\n",
    "connection = Connection(\"localhost\")\n",
    "\n",
    "policy = Policy(safe_zone=Aggregation(min_agg_size=10), unsafe_handling=Log())\n",
    "\n",
    "\n",
    "rdf = connection.client.polars.send_df(df.limit(64), policy=policy)\n",
    "\n",
    "# Split dataframe into train and test sets.\n",
    "train_rdf, test_rdf = train_test_split(rdf, test_size=0.2)\n",
    "\n",
    "# Create Inputs(train, test) RemoteSeries objects\n",
    "train_inputs = train_rdf.column(\"text\")\n",
    "test_inputs = test_rdf.column(\"text\")\n",
    "\n",
    "\n",
    "# Create Label(train, test) RemoteSeries objects\n",
    "train_label = train_rdf.column(\"label\").to_tensor()\n",
    "test_label = test_rdf.column(\"label\").to_tensor()\n",
    "\n",
    "# Tokenize `text` fields\n",
    "train_ids, train_mask = tokenizer.encode(train_inputs)\n",
    "test_ids, test_mask = tokenizer.encode(test_inputs)\n",
    "\n",
    "# Create train RemoteDataset\n",
    "train_rds = RemoteDataset(\n",
    "    inputs=[train_ids, train_mask], label=train_label, privacy_limit=1_000_000\n",
    ")\n",
    "\n",
    "# Create test RemoteDataset\n",
    "test_rds = RemoteDataset(inputs=[test_ids, test_mask], label=test_label)"
   ]
  },
  {
   "cell_type": "code",
   "execution_count": 11,
   "metadata": {},
   "outputs": [
    {
     "name": "stderr",
     "output_type": "stream",
     "text": [
      "Some weights of the model checkpoint at distilbert-base-uncased were not used when initializing DistilBertForSequenceClassification: ['vocab_layer_norm.bias', 'vocab_transform.weight', 'vocab_layer_norm.weight', 'vocab_transform.bias', 'vocab_projector.weight', 'vocab_projector.bias']\n",
      "- This IS expected if you are initializing DistilBertForSequenceClassification from the checkpoint of a model trained on another task or with another architecture (e.g. initializing a BertForSequenceClassification model from a BertForPreTraining model).\n",
      "- This IS NOT expected if you are initializing DistilBertForSequenceClassification from the checkpoint of a model that you expect to be exactly identical (initializing a BertForSequenceClassification model from a BertForSequenceClassification model).\n",
      "Some weights of DistilBertForSequenceClassification were not initialized from the model checkpoint at distilbert-base-uncased and are newly initialized: ['classifier.weight', 'pre_classifier.weight', 'classifier.bias', 'pre_classifier.bias']\n",
      "You should probably TRAIN this model on a down-stream task to be able to use it for predictions and inference.\n"
     ]
    }
   ],
   "source": [
    "from transformers import DistilBertForSequenceClassification, DistilBertTokenizer\n",
    "from bastionlab.torch.utils import MultipleOutputWrapper\n",
    "\n",
    "model = DistilBertForSequenceClassification.from_pretrained(\n",
    "    \"distilbert-base-uncased\",\n",
    "    num_labels=2,\n",
    "    output_attentions=False,\n",
    "    output_hidden_states=False,\n",
    "    torchscript=True,\n",
    ")\n",
    "model = MultipleOutputWrapper(model, 0)"
   ]
  },
  {
   "cell_type": "code",
   "execution_count": 12,
   "metadata": {},
   "outputs": [
    {
     "name": "stderr",
     "output_type": "stream",
     "text": [
      "Sending DistilBERT: 100%|████████████████████| 268M/268M [00:05<00:00, 50.9MB/s] \n"
     ]
    },
    {
     "name": "stdout",
     "output_type": "stream",
     "text": [
      "identifier: \"93bd90460bfe3249370bcf07f4a23c730c37490c2fa935b3d5020db8bf78044b\"\n",
      "name: \"DistilBERT\"\n",
      "\n",
      "{\"inputs\": [{\"identifier\": \"efb8fb86-876f-402b-b8b5-56885d592483\"},{\"identifier\": \"c46ddbad-8f6d-40da-bd50-ece29a82ee4e\"}], \"label\": {\"identifier\": \"510cc36c-af08-416a-a589-1a61061818e4\"}, \"nb_samples\": 51, \"privacy_limit\": 1000000}\n"
     ]
    },
    {
     "ename": "GRPCException",
     "evalue": "Internal server error: code=StatusCode.INTERNAL message=Torch error: invalid shape: Failed to stack per-sample gradients, are you using a model with expanded weights? Initial error: Internal torch error: stack expects each tensor to be equal size, but got [3072] at entry 0 and [] at entry 1\nException raised from get_stack_inputs at ../aten/src/ATen/native/TensorShape.cpp:2345 (most recent call first):\nframe #0: c10::Error::Error(c10::SourceLocation, std::__cxx11::basic_string<char, std::char_traits<char>, std::allocator<char> >) + 0x6b (0x7f7014502d4b in /home/kbamponsem/libtorch-13/libtorch/lib/libc10.so)\nframe #1: c10::detail::torchCheckFail(char const*, char const*, unsigned int, std::__cxx11::basic_string<char, std::char_traits<char>, std::allocator<char> > const&) + 0xce (0x7f70144fe6fe in /home/kbamponsem/libtorch-13/libtorch/lib/libc10.so)\nframe #2: <unknown function> + 0x19f5e29 (0x7f7015f48e29 in /home/kbamponsem/libtorch-13/libtorch/lib/libtorch_cpu.so)\nframe #3: at::native::stack(c10::ArrayRef<at::Tensor>, long) + 0xaa (0x7f7015f4e09a in /home/kbamponsem/libtorch-13/libtorch/lib/libtorch_cpu.so)\nframe #4: <unknown function> + 0x25fcb66 (0x7f7016b4fb66 in /home/kbamponsem/libtorch-13/libtorch/lib/libtorch_cpu.so)\nframe #5: at::_ops::stack::redispatch(c10::DispatchKeySet, c10::ArrayRef<at::Tensor>, long) + 0x98 (0x7f70164f5fd8 in /home/kbamponsem/libtorch-13/libtorch/lib/libtorch_cpu.so)\nframe #6: <unknown function> + 0x386a6a8 (0x7f7017dbd6a8 in /home/kbamponsem/libtorch-13/libtorch/lib/libtorch_cpu.so)\nframe #7: <unknown function> + 0x386abb9 (0x7f7017dbdbb9 in /home/kbamponsem/libtorch-13/libtorch/lib/libtorch_cpu.so)\nframe #8: at::_ops::stack::call(c10::ArrayRef<at::Tensor>, long) + 0x220 (0x7f701652f410 in /home/kbamponsem/libtorch-13/libtorch/lib/libtorch_cpu.so)\nframe #9: <unknown function> + 0x70c7e2 (0x55ce1a3a37e2 in ./bastionlab)\nframe #10: <unknown function> + 0x3ad3d2 (0x55ce1a0443d2 in ./bastionlab)\nframe #11: <unknown function> + 0x3af4c8 (0x55ce1a0464c8 in ./bastionlab)\nframe #12: <unknown function> + 0x3abbd7 (0x55ce1a042bd7 in ./bastionlab)\nframe #13: <unknown function> + 0x3b8ee4 (0x55ce1a04fee4 in ./bastionlab)\nframe #14: <unknown function> + 0x3b9699 (0x55ce1a050699 in ./bastionlab)\nframe #15: <unknown function> + 0x38abb6 (0x55ce1a021bb6 in ./bastionlab)\nframe #16: <unknown function> + 0x39ecd5 (0x55ce1a035cd5 in ./bastionlab)\nframe #17: <unknown function> + 0x39a0a6 (0x55ce1a0310a6 in ./bastionlab)\nframe #18: <unknown function> + 0x18b9d0b (0x55ce1b550d0b in ./bastionlab)\nframe #19: <unknown function> + 0x18b9372 (0x55ce1b550372 in ./bastionlab)\nframe #20: <unknown function> + 0x18c9d79 (0x55ce1b560d79 in ./bastionlab)\nframe #21: <unknown function> + 0x18b8e70 (0x55ce1b54fe70 in ./bastionlab)\nframe #22: <unknown function> + 0x18cd892 (0x55ce1b564892 in ./bastionlab)\nframe #23: <unknown function> + 0x18b045c (0x55ce1b54745c in ./bastionlab)\nframe #24: <unknown function> + 0x18b281f (0x55ce1b54981f in ./bastionlab)\nframe #25: <unknown function> + 0x18b5779 (0x55ce1b54c779 in ./bastionlab)\nframe #26: <unknown function> + 0x18cc177 (0x55ce1b563177 in ./bastionlab)\nframe #27: <unknown function> + 0x18bb92e (0x55ce1b55292e in ./bastionlab)\nframe #28: <unknown function> + 0x19583d3 (0x55ce1b5ef3d3 in ./bastionlab)\nframe #29: <unknown function> + 0x8609 (0x7f7014433609 in /lib/x86_64-linux-gnu/libpthread.so.0)\nframe #30: clone + 0x43 (0x7f7014203133 in /lib/x86_64-linux-gnu/libc.so.6)\n",
     "output_type": "error",
     "traceback": [
      "\u001b[0;31m---------------------------------------------------------------------------\u001b[0m",
      "\u001b[0;31m_InactiveRpcError\u001b[0m                         Traceback (most recent call last)",
      "File \u001b[0;32m~/Projects/bastionlab/client/src/bastionlab/errors.py:70\u001b[0m, in \u001b[0;36mGRPCException.map_error\u001b[0;34m(f)\u001b[0m\n\u001b[1;32m     69\u001b[0m \u001b[39mtry\u001b[39;00m:\n\u001b[0;32m---> 70\u001b[0m     \u001b[39mreturn\u001b[39;00m f()\n\u001b[1;32m     71\u001b[0m \u001b[39mexcept\u001b[39;00m _InactiveRpcError \u001b[39mas\u001b[39;00m e:\n",
      "File \u001b[0;32m~/Projects/bastionlab/client/src/bastionlab/torch/client.py:240\u001b[0m, in \u001b[0;36mBastionLabTorch.get_metric.<locals>.<lambda>\u001b[0;34m()\u001b[0m\n\u001b[1;32m    238\u001b[0m \u001b[39mself\u001b[39m\u001b[39m.\u001b[39mclient\u001b[39m.\u001b[39mrefresh_session_if_needed()\n\u001b[0;32m--> 240\u001b[0m \u001b[39mreturn\u001b[39;00m GRPCException\u001b[39m.\u001b[39mmap_error(\u001b[39mlambda\u001b[39;00m: \u001b[39mself\u001b[39;49m\u001b[39m.\u001b[39;49mstub\u001b[39m.\u001b[39;49mGetMetric(run))\n",
      "File \u001b[0;32m~/base/lib/python3.8/site-packages/grpc/_channel.py:946\u001b[0m, in \u001b[0;36m_UnaryUnaryMultiCallable.__call__\u001b[0;34m(self, request, timeout, metadata, credentials, wait_for_ready, compression)\u001b[0m\n\u001b[1;32m    944\u001b[0m state, call, \u001b[39m=\u001b[39m \u001b[39mself\u001b[39m\u001b[39m.\u001b[39m_blocking(request, timeout, metadata, credentials,\n\u001b[1;32m    945\u001b[0m                               wait_for_ready, compression)\n\u001b[0;32m--> 946\u001b[0m \u001b[39mreturn\u001b[39;00m _end_unary_response_blocking(state, call, \u001b[39mFalse\u001b[39;49;00m, \u001b[39mNone\u001b[39;49;00m)\n",
      "File \u001b[0;32m~/base/lib/python3.8/site-packages/grpc/_channel.py:849\u001b[0m, in \u001b[0;36m_end_unary_response_blocking\u001b[0;34m(state, call, with_call, deadline)\u001b[0m\n\u001b[1;32m    848\u001b[0m \u001b[39melse\u001b[39;00m:\n\u001b[0;32m--> 849\u001b[0m     \u001b[39mraise\u001b[39;00m _InactiveRpcError(state)\n",
      "\u001b[0;31m_InactiveRpcError\u001b[0m: <_InactiveRpcError of RPC that terminated with:\n\tstatus = StatusCode.INTERNAL\n\tdetails = \"Torch error: invalid shape: Failed to stack per-sample gradients, are you using a model with expanded weights? Initial error: Internal torch error: stack expects each tensor to be equal size, but got [3072] at entry 0 and [] at entry 1\nException raised from get_stack_inputs at ../aten/src/ATen/native/TensorShape.cpp:2345 (most recent call first):\nframe #0: c10::Error::Error(c10::SourceLocation, std::__cxx11::basic_string<char, std::char_traits<char>, std::allocator<char> >) + 0x6b (0x7f7014502d4b in /home/kbamponsem/libtorch-13/libtorch/lib/libc10.so)\nframe #1: c10::detail::torchCheckFail(char const*, char const*, unsigned int, std::__cxx11::basic_string<char, std::char_traits<char>, std::allocator<char> > const&) + 0xce (0x7f70144fe6fe in /home/kbamponsem/libtorch-13/libtorch/lib/libc10.so)\nframe #2: <unknown function> + 0x19f5e29 (0x7f7015f48e29 in /home/kbamponsem/libtorch-13/libtorch/lib/libtorch_cpu.so)\nframe #3: at::native::stack(c10::ArrayRef<at::Tensor>, long) + 0xaa (0x7f7015f4e09a in /home/kbamponsem/libtorch-13/libtorch/lib/libtorch_cpu.so)\nframe #4: <unknown function> + 0x25fcb66 (0x7f7016b4fb66 in /home/kbamponsem/libtorch-13/libtorch/lib/libtorch_cpu.so)\nframe #5: at::_ops::stack::redispatch(c10::DispatchKeySet, c10::ArrayRef<at::Tensor>, long) + 0x98 (0x7f70164f5fd8 in /home/kbamponsem/libtorch-13/libtorch/lib/libtorch_cpu.so)\nframe #6: <unknown function> + 0x386a6a8 (0x7f7017dbd6a8 in /home/kbamponsem/libtorch-13/libtorch/lib/libtorch_cpu.so)\nframe #7: <unknown function> + 0x386abb9 (0x7f7017dbdbb9 in /home/kbamponsem/libtorch-13/libtorch/lib/libtorch_cpu.so)\nframe #8: at::_ops::stack::call(c10::ArrayRef<at::Tensor>, long) + 0x220 (0x7f701652f410 in /home/kbamponsem/libtorch-13/libtorch/lib/libtorch_cpu.so)\nframe #9: <unknown function> + 0x70c7e2 (0x55ce1a3a37e2 in ./bastionlab)\nframe #10: <unknown function> + 0x3ad3d2 (0x55ce1a0443d2 in ./bastionlab)\nframe #11: <unknown function> + 0x3af4c8 (0x55ce1a0464c8 in ./bastionlab)\nframe #12: <unknown function> + 0x3abbd7 (0x55ce1a042bd7 in ./bastionlab)\nframe #13: <unknown function> + 0x3b8ee4 (0x55ce1a04fee4 in ./bastionlab)\nframe #14: <unknown function> + 0x3b9699 (0x55ce1a050699 in ./bastionlab)\nframe #15: <unknown function> + 0x38abb6 (0x55ce1a021bb6 in ./bastionlab)\nframe #16: <unknown function> + 0x39ecd5 (0x55ce1a035cd5 in ./bastionlab)\nframe #17: <unknown function> + 0x39a0a6 (0x55ce1a0310a6 in ./bastionlab)\nframe #18: <unknown function> + 0x18b9d0b (0x55ce1b550d0b in ./bastionlab)\nframe #19: <unknown function> + 0x18b9372 (0x55ce1b550372 in ./bastionlab)\nframe #20: <unknown function> + 0x18c9d79 (0x55ce1b560d79 in ./bastionlab)\nframe #21: <unknown function> + 0x18b8e70 (0x55ce1b54fe70 in ./bastionlab)\nframe #22: <unknown function> + 0x18cd892 (0x55ce1b564892 in ./bastionlab)\nframe #23: <unknown function> + 0x18b045c (0x55ce1b54745c in ./bastionlab)\nframe #24: <unknown function> + 0x18b281f (0x55ce1b54981f in ./bastionlab)\nframe #25: <unknown function> + 0x18b5779 (0x55ce1b54c779 in ./bastionlab)\nframe #26: <unknown function> + 0x18cc177 (0x55ce1b563177 in ./bastionlab)\nframe #27: <unknown function> + 0x18bb92e (0x55ce1b55292e in ./bastionlab)\nframe #28: <unknown function> + 0x19583d3 (0x55ce1b5ef3d3 in ./bastionlab)\nframe #29: <unknown function> + 0x8609 (0x7f7014433609 in /lib/x86_64-linux-gnu/libpthread.so.0)\nframe #30: clone + 0x43 (0x7f7014203133 in /lib/x86_64-linux-gnu/libc.so.6)\n\"\n\tdebug_error_string = \"{\"created\":\"@1672933583.094122443\",\"description\":\"Error received from peer ipv4:127.0.0.1:50056\",\"file\":\"src/core/lib/surface/call.cc\",\"file_line\":966,\"grpc_message\":\"Torch error: invalid shape: Failed to stack per-sample gradients, are you using a model with expanded weights? Initial error: Internal torch error: stack expects each tensor to be equal size, but got [3072] at entry 0 and [] at entry 1\\nException raised from get_stack_inputs at ../aten/src/ATen/native/TensorShape.cpp:2345 (most recent call first):\\nframe #0: c10::Error::Error(c10::SourceLocation, std::__cxx11::basic_string<char, std::char_traits<char>, std::allocator<char> >) + 0x6b (0x7f7014502d4b in /home/kbamponsem/libtorch-13/libtorch/lib/libc10.so)\\nframe #1: c10::detail::torchCheckFail(char const*, char const*, unsigned int, std::__cxx11::basic_string<char, std::char_traits<char>, std::allocator<char> > const&) + 0xce (0x7f70144fe6fe in /home/kbamponsem/libtorch-13/libtorch/lib/libc10.so)\\nframe #2: <unknown function> + 0x19f5e29 (0x7f7015f48e29 in /home/kbamponsem/libtorch-13/libtorch/lib/libtorch_cpu.so)\\nframe #3: at::native::stack(c10::ArrayRef<at::Tensor>, long) + 0xaa (0x7f7015f4e09a in /home/kbamponsem/libtorch-13/libtorch/lib/libtorch_cpu.so)\\nframe #4: <unknown function> + 0x25fcb66 (0x7f7016b4fb66 in /home/kbamponsem/libtorch-13/libtorch/lib/libtorch_cpu.so)\\nframe #5: at::_ops::stack::redispatch(c10::DispatchKeySet, c10::ArrayRef<at::Tensor>, long) + 0x98 (0x7f70164f5fd8 in /home/kbamponsem/libtorch-13/libtorch/lib/libtorch_cpu.so)\\nframe #6: <unknown function> + 0x386a6a8 (0x7f7017dbd6a8 in /home/kbamponsem/libtorch-13/libtorch/lib/libtorch_cpu.so)\\nframe #7: <unknown function> + 0x386abb9 (0x7f7017dbdbb9 in /home/kbamponsem/libtorch-13/libtorch/lib/libtorch_cpu.so)\\nframe #8: at::_ops::stack::call(c10::ArrayRef<at::Tensor>, long) + 0x220 (0x7f701652f410 in /home/kbamponsem/libtorch-13/libtorch/lib/libtorch_cpu.so)\\nframe #9: <unknown function> + 0x70c7e2 (0x55ce1a3a37e2 in ./bastionlab)\\nframe #10: <unknown function> + 0x3ad3d2 (0x55ce1a0443d2 in ./bastionlab)\\nframe #11: <unknown function> + 0x3af4c8 (0x55ce1a0464c8 in ./bastionlab)\\nframe #12: <unknown function> + 0x3abbd7 (0x55ce1a042bd7 in ./bastionlab)\\nframe #13: <unknown function> + 0x3b8ee4 (0x55ce1a04fee4 in ./bastionlab)\\nframe #14: <unknown function> + 0x3b9699 (0x55ce1a050699 in ./bastionlab)\\nframe #15: <unknown function> + 0x38abb6 (0x55ce1a021bb6 in ./bastionlab)\\nframe #16: <unknown function> + 0x39ecd5 (0x55ce1a035cd5 in ./bastionlab)\\nframe #17: <unknown function> + 0x39a0a6 (0x55ce1a0310a6 in ./bastionlab)\\nframe #18: <unknown function> + 0x18b9d0b (0x55ce1b550d0b in ./bastionlab)\\nframe #19: <unknown function> + 0x18b9372 (0x55ce1b550372 in ./bastionlab)\\nframe #20: <unknown function> + 0x18c9d79 (0x55ce1b560d79 in ./bastionlab)\\nframe #21: <unknown function> + 0x18b8e70 (0x55ce1b54fe70 in ./bastionlab)\\nframe #22: <unknown function> + 0x18cd892 (0x55ce1b564892 in ./bastionlab)\\nframe #23: <unknown function> + 0x18b045c (0x55ce1b54745c in ./bastionlab)\\nframe #24: <unknown function> + 0x18b281f (0x55ce1b54981f in ./bastionlab)\\nframe #25: <unknown function> + 0x18b5779 (0x55ce1b54c779 in ./bastionlab)\\nframe #26: <unknown function> + 0x18cc177 (0x55ce1b563177 in ./bastionlab)\\nframe #27: <unknown function> + 0x18bb92e (0x55ce1b55292e in ./bastionlab)\\nframe #28: <unknown function> + 0x19583d3 (0x55ce1b5ef3d3 in ./bastionlab)\\nframe #29: <unknown function> + 0x8609 (0x7f7014433609 in /lib/x86_64-linux-gnu/libpthread.so.0)\\nframe #30: clone + 0x43 (0x7f7014203133 in /lib/x86_64-linux-gnu/libc.so.6)\\n\",\"grpc_status\":13}\"\n>",
      "\nDuring handling of the above exception, another exception occurred:\n",
      "\u001b[0;31mGRPCException\u001b[0m                             Traceback (most recent call last)",
      "Cell \u001b[0;32mIn[12], line 12\u001b[0m\n\u001b[1;32m      1\u001b[0m \u001b[39mfrom\u001b[39;00m \u001b[39mbastionlab\u001b[39;00m\u001b[39m.\u001b[39;00m\u001b[39mtorch\u001b[39;00m\u001b[39m.\u001b[39;00m\u001b[39moptimizer_config\u001b[39;00m \u001b[39mimport\u001b[39;00m Adam\n\u001b[1;32m      3\u001b[0m remote_learner \u001b[39m=\u001b[39m connection\u001b[39m.\u001b[39mclient\u001b[39m.\u001b[39mtorch\u001b[39m.\u001b[39mRemoteLearner(\n\u001b[1;32m      4\u001b[0m     model,\n\u001b[1;32m      5\u001b[0m     train_rds,\n\u001b[0;32m   (...)\u001b[0m\n\u001b[1;32m      9\u001b[0m     model_name\u001b[39m=\u001b[39m\u001b[39m\"\u001b[39m\u001b[39mDistilBERT\u001b[39m\u001b[39m\"\u001b[39m,\n\u001b[1;32m     10\u001b[0m )\n\u001b[0;32m---> 12\u001b[0m remote_learner\u001b[39m.\u001b[39;49mfit(nb_epochs\u001b[39m=\u001b[39;49m\u001b[39m1\u001b[39;49m, eps\u001b[39m=\u001b[39;49m\u001b[39m6.0\u001b[39;49m)\n",
      "File \u001b[0;32m~/Projects/bastionlab/client/src/bastionlab/torch/learner.py:469\u001b[0m, in \u001b[0;36mRemoteLearner.fit\u001b[0;34m(self, nb_epochs, eps, batch_size, max_grad_norm, lr, metric_eps, timeout, poll_delay, per_n_epochs_checkpoint, per_n_steps_checkpoint, resume)\u001b[0m\n\u001b[1;32m    443\u001b[0m \u001b[39m\"\"\"Fits the uploaded model to the training dataset with given hyperparameters.\u001b[39;00m\n\u001b[1;32m    444\u001b[0m \n\u001b[1;32m    445\u001b[0m \u001b[39mArgs:\u001b[39;00m\n\u001b[0;32m   (...)\u001b[0m\n\u001b[1;32m    454\u001b[0m \u001b[39m    poll_delay: Delay in seconds between two polling requests for the loss.\u001b[39;00m\n\u001b[1;32m    455\u001b[0m \u001b[39m\"\"\"\u001b[39;00m\n\u001b[1;32m    456\u001b[0m run \u001b[39m=\u001b[39m \u001b[39mself\u001b[39m\u001b[39m.\u001b[39mclient\u001b[39m.\u001b[39mtrain(\n\u001b[1;32m    457\u001b[0m     \u001b[39mself\u001b[39m\u001b[39m.\u001b[39m_train_config(\n\u001b[1;32m    458\u001b[0m         nb_epochs,\n\u001b[0;32m   (...)\u001b[0m\n\u001b[1;32m    467\u001b[0m     )\n\u001b[1;32m    468\u001b[0m )\n\u001b[0;32m--> 469\u001b[0m \u001b[39mself\u001b[39;49m\u001b[39m.\u001b[39;49m_poll_metric(\n\u001b[1;32m    470\u001b[0m     run,\n\u001b[1;32m    471\u001b[0m     name\u001b[39m=\u001b[39;49m\u001b[39mself\u001b[39;49m\u001b[39m.\u001b[39;49mloss,\n\u001b[1;32m    472\u001b[0m     train\u001b[39m=\u001b[39;49m\u001b[39mTrue\u001b[39;49;00m,\n\u001b[1;32m    473\u001b[0m     timeout\u001b[39m=\u001b[39;49m\u001b[39mint\u001b[39;49m(timeout \u001b[39m/\u001b[39;49m poll_delay),\n\u001b[1;32m    474\u001b[0m     poll_delay\u001b[39m=\u001b[39;49mpoll_delay,\n\u001b[1;32m    475\u001b[0m )\n",
      "File \u001b[0;32m~/Projects/bastionlab/client/src/bastionlab/torch/learner.py:373\u001b[0m, in \u001b[0;36mRemoteLearner._poll_metric\u001b[0;34m(self, run, name, train, timeout, poll_delay)\u001b[0m\n\u001b[1;32m    371\u001b[0m             \u001b[39mcontinue\u001b[39;00m\n\u001b[1;32m    372\u001b[0m         \u001b[39melse\u001b[39;00m:\n\u001b[0;32m--> 373\u001b[0m             \u001b[39mraise\u001b[39;00m e\n\u001b[1;32m    374\u001b[0m \u001b[39mif\u001b[39;00m metric \u001b[39mis\u001b[39;00m \u001b[39mNone\u001b[39;00m:\n\u001b[1;32m    375\u001b[0m     \u001b[39mraise\u001b[39;00m \u001b[39mException\u001b[39;00m(\n\u001b[1;32m    376\u001b[0m         \u001b[39mf\u001b[39m\u001b[39m\"\u001b[39m\u001b[39mRun start timeout. Polling has stoped. You may query the server by hand later using: run id is \u001b[39m\u001b[39m{\u001b[39;00mrun\u001b[39m.\u001b[39midentifier\u001b[39m}\u001b[39;00m\u001b[39m\"\u001b[39m\n\u001b[1;32m    377\u001b[0m     )\n",
      "File \u001b[0;32m~/Projects/bastionlab/client/src/bastionlab/torch/learner.py:367\u001b[0m, in \u001b[0;36mRemoteLearner._poll_metric\u001b[0;34m(self, run, name, train, timeout, poll_delay)\u001b[0m\n\u001b[1;32m    365\u001b[0m \u001b[39mtry\u001b[39;00m:\n\u001b[1;32m    366\u001b[0m     sleep(poll_delay)\n\u001b[0;32m--> 367\u001b[0m     metric \u001b[39m=\u001b[39m \u001b[39mself\u001b[39;49m\u001b[39m.\u001b[39;49mclient\u001b[39m.\u001b[39;49mget_metric(run)\n\u001b[1;32m    368\u001b[0m     \u001b[39mbreak\u001b[39;00m\n\u001b[1;32m    369\u001b[0m \u001b[39mexcept\u001b[39;00m GRPCException \u001b[39mas\u001b[39;00m e:\n",
      "File \u001b[0;32m~/Projects/bastionlab/client/src/bastionlab/torch/client.py:240\u001b[0m, in \u001b[0;36mBastionLabTorch.get_metric\u001b[0;34m(self, run)\u001b[0m\n\u001b[1;32m    232\u001b[0m \u001b[39m\"\"\"Returns the value of the metric associated with the given `run` reference.\u001b[39;00m\n\u001b[1;32m    233\u001b[0m \n\u001b[1;32m    234\u001b[0m \u001b[39mArgs:\u001b[39;00m\n\u001b[1;32m    235\u001b[0m \u001b[39m    run: BastionAI gRPC protocol reference of the run whose metric is read.\u001b[39;00m\n\u001b[1;32m    236\u001b[0m \u001b[39m\"\"\"\u001b[39;00m\n\u001b[1;32m    238\u001b[0m \u001b[39mself\u001b[39m\u001b[39m.\u001b[39mclient\u001b[39m.\u001b[39mrefresh_session_if_needed()\n\u001b[0;32m--> 240\u001b[0m \u001b[39mreturn\u001b[39;00m GRPCException\u001b[39m.\u001b[39;49mmap_error(\u001b[39mlambda\u001b[39;49;00m: \u001b[39mself\u001b[39;49m\u001b[39m.\u001b[39;49mstub\u001b[39m.\u001b[39;49mGetMetric(run))\n",
      "File \u001b[0;32m~/Projects/bastionlab/client/src/bastionlab/errors.py:72\u001b[0m, in \u001b[0;36mGRPCException.map_error\u001b[0;34m(f)\u001b[0m\n\u001b[1;32m     70\u001b[0m     \u001b[39mreturn\u001b[39;00m f()\n\u001b[1;32m     71\u001b[0m \u001b[39mexcept\u001b[39;00m _InactiveRpcError \u001b[39mas\u001b[39;00m e:\n\u001b[0;32m---> 72\u001b[0m     \u001b[39mraise\u001b[39;00m GRPCException(e)\n\u001b[1;32m     73\u001b[0m \u001b[39mexcept\u001b[39;00m _MultiThreadedRendezvous \u001b[39mas\u001b[39;00m e:\n\u001b[1;32m     74\u001b[0m     \u001b[39mraise\u001b[39;00m GRPCException(e)\n",
      "\u001b[0;31mGRPCException\u001b[0m: Internal server error: code=StatusCode.INTERNAL message=Torch error: invalid shape: Failed to stack per-sample gradients, are you using a model with expanded weights? Initial error: Internal torch error: stack expects each tensor to be equal size, but got [3072] at entry 0 and [] at entry 1\nException raised from get_stack_inputs at ../aten/src/ATen/native/TensorShape.cpp:2345 (most recent call first):\nframe #0: c10::Error::Error(c10::SourceLocation, std::__cxx11::basic_string<char, std::char_traits<char>, std::allocator<char> >) + 0x6b (0x7f7014502d4b in /home/kbamponsem/libtorch-13/libtorch/lib/libc10.so)\nframe #1: c10::detail::torchCheckFail(char const*, char const*, unsigned int, std::__cxx11::basic_string<char, std::char_traits<char>, std::allocator<char> > const&) + 0xce (0x7f70144fe6fe in /home/kbamponsem/libtorch-13/libtorch/lib/libc10.so)\nframe #2: <unknown function> + 0x19f5e29 (0x7f7015f48e29 in /home/kbamponsem/libtorch-13/libtorch/lib/libtorch_cpu.so)\nframe #3: at::native::stack(c10::ArrayRef<at::Tensor>, long) + 0xaa (0x7f7015f4e09a in /home/kbamponsem/libtorch-13/libtorch/lib/libtorch_cpu.so)\nframe #4: <unknown function> + 0x25fcb66 (0x7f7016b4fb66 in /home/kbamponsem/libtorch-13/libtorch/lib/libtorch_cpu.so)\nframe #5: at::_ops::stack::redispatch(c10::DispatchKeySet, c10::ArrayRef<at::Tensor>, long) + 0x98 (0x7f70164f5fd8 in /home/kbamponsem/libtorch-13/libtorch/lib/libtorch_cpu.so)\nframe #6: <unknown function> + 0x386a6a8 (0x7f7017dbd6a8 in /home/kbamponsem/libtorch-13/libtorch/lib/libtorch_cpu.so)\nframe #7: <unknown function> + 0x386abb9 (0x7f7017dbdbb9 in /home/kbamponsem/libtorch-13/libtorch/lib/libtorch_cpu.so)\nframe #8: at::_ops::stack::call(c10::ArrayRef<at::Tensor>, long) + 0x220 (0x7f701652f410 in /home/kbamponsem/libtorch-13/libtorch/lib/libtorch_cpu.so)\nframe #9: <unknown function> + 0x70c7e2 (0x55ce1a3a37e2 in ./bastionlab)\nframe #10: <unknown function> + 0x3ad3d2 (0x55ce1a0443d2 in ./bastionlab)\nframe #11: <unknown function> + 0x3af4c8 (0x55ce1a0464c8 in ./bastionlab)\nframe #12: <unknown function> + 0x3abbd7 (0x55ce1a042bd7 in ./bastionlab)\nframe #13: <unknown function> + 0x3b8ee4 (0x55ce1a04fee4 in ./bastionlab)\nframe #14: <unknown function> + 0x3b9699 (0x55ce1a050699 in ./bastionlab)\nframe #15: <unknown function> + 0x38abb6 (0x55ce1a021bb6 in ./bastionlab)\nframe #16: <unknown function> + 0x39ecd5 (0x55ce1a035cd5 in ./bastionlab)\nframe #17: <unknown function> + 0x39a0a6 (0x55ce1a0310a6 in ./bastionlab)\nframe #18: <unknown function> + 0x18b9d0b (0x55ce1b550d0b in ./bastionlab)\nframe #19: <unknown function> + 0x18b9372 (0x55ce1b550372 in ./bastionlab)\nframe #20: <unknown function> + 0x18c9d79 (0x55ce1b560d79 in ./bastionlab)\nframe #21: <unknown function> + 0x18b8e70 (0x55ce1b54fe70 in ./bastionlab)\nframe #22: <unknown function> + 0x18cd892 (0x55ce1b564892 in ./bastionlab)\nframe #23: <unknown function> + 0x18b045c (0x55ce1b54745c in ./bastionlab)\nframe #24: <unknown function> + 0x18b281f (0x55ce1b54981f in ./bastionlab)\nframe #25: <unknown function> + 0x18b5779 (0x55ce1b54c779 in ./bastionlab)\nframe #26: <unknown function> + 0x18cc177 (0x55ce1b563177 in ./bastionlab)\nframe #27: <unknown function> + 0x18bb92e (0x55ce1b55292e in ./bastionlab)\nframe #28: <unknown function> + 0x19583d3 (0x55ce1b5ef3d3 in ./bastionlab)\nframe #29: <unknown function> + 0x8609 (0x7f7014433609 in /lib/x86_64-linux-gnu/libpthread.so.0)\nframe #30: clone + 0x43 (0x7f7014203133 in /lib/x86_64-linux-gnu/libc.so.6)\n"
     ]
    }
   ],
   "source": [
    "from bastionlab.torch.optimizer_config import Adam\n",
    "\n",
    "remote_learner = connection.client.torch.RemoteLearner(\n",
    "    model,\n",
    "    train_rds,\n",
    "    max_batch_size=2,\n",
    "    loss=\"cross_entropy\",\n",
    "    optimizer=Adam(lr=5e-5),\n",
    "    expand=False,\n",
    "    model_name=\"DistilBERT\",\n",
    ")\n",
    "\n",
    "remote_learner.fit(nb_epochs=1, eps=6.0)  # , poll_delay=1.0)"
   ]
  }
 ],
 "metadata": {
  "kernelspec": {
   "display_name": "base",
   "language": "python",
   "name": "python3"
  },
  "language_info": {
   "codemirror_mode": {
    "name": "ipython",
    "version": 3
   },
   "file_extension": ".py",
   "mimetype": "text/x-python",
   "name": "python",
   "nbconvert_exporter": "python",
   "pygments_lexer": "ipython3",
   "version": "3.8.10"
  },
  "orig_nbformat": 4,
  "vscode": {
   "interpreter": {
    "hash": "cfb725626286d8c8fc5334ffe77697f720dc23e64d3046271825a5556b528e7d"
   }
  }
 },
 "nbformat": 4,
 "nbformat_minor": 2
}
