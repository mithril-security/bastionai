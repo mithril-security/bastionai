{
 "cells": [
  {
   "cell_type": "code",
   "execution_count": 1,
   "metadata": {},
   "outputs": [
    {
     "name": "stderr",
     "output_type": "stream",
     "text": [
      "/home/kbamponsem/base/lib/python3.8/site-packages/tqdm/auto.py:22: TqdmWarning: IProgress not found. Please update jupyter and ipywidgets. See https://ipywidgets.readthedocs.io/en/stable/user_install.html\n",
      "  from .autonotebook import tqdm as notebook_tqdm\n"
     ]
    },
    {
     "data": {
      "text/html": [
       "<div>\n",
       "<style scoped>\n",
       "    .dataframe tbody tr th:only-of-type {\n",
       "        vertical-align: middle;\n",
       "    }\n",
       "\n",
       "    .dataframe tbody tr th {\n",
       "        vertical-align: top;\n",
       "    }\n",
       "\n",
       "    .dataframe thead th {\n",
       "        text-align: right;\n",
       "    }\n",
       "\n",
       "    .dataframe td {\n",
       "        white-space: pre;\n",
       "    }\n",
       "\n",
       "    .dataframe td {\n",
       "        padding-top: 0;\n",
       "    }\n",
       "\n",
       "    .dataframe td {\n",
       "        padding-bottom: 0;\n",
       "    }\n",
       "</style>\n",
       "<table border=\"1\" class=\"dataframe\" >\n",
       "<small>shape: (5, 2)</small>\n",
       "<thead>\n",
       "<tr>\n",
       "<th>\n",
       "label\n",
       "</th>\n",
       "<th>\n",
       "text\n",
       "</th>\n",
       "</tr>\n",
       "<tr>\n",
       "<td>\n",
       "i64\n",
       "</td>\n",
       "<td>\n",
       "str\n",
       "</td>\n",
       "</tr>\n",
       "</thead>\n",
       "<tbody>\n",
       "<tr>\n",
       "<td>\n",
       "0\n",
       "</td>\n",
       "<td>\n",
       "&quot;Go until juron...\n",
       "</td>\n",
       "</tr>\n",
       "<tr>\n",
       "<td>\n",
       "0\n",
       "</td>\n",
       "<td>\n",
       "&quot;Ok lar... Joki...\n",
       "</td>\n",
       "</tr>\n",
       "<tr>\n",
       "<td>\n",
       "1\n",
       "</td>\n",
       "<td>\n",
       "&quot;Free entry in ...\n",
       "</td>\n",
       "</tr>\n",
       "<tr>\n",
       "<td>\n",
       "0\n",
       "</td>\n",
       "<td>\n",
       "&quot;U dun say so e...\n",
       "</td>\n",
       "</tr>\n",
       "<tr>\n",
       "<td>\n",
       "0\n",
       "</td>\n",
       "<td>\n",
       "&quot;Nah I don&#x27;t th...\n",
       "</td>\n",
       "</tr>\n",
       "</tbody>\n",
       "</table>\n",
       "</div>"
      ],
      "text/plain": [
       "shape: (5, 2)\n",
       "┌───────┬─────────────────────────────────────┐\n",
       "│ label ┆ text                                │\n",
       "│ ---   ┆ ---                                 │\n",
       "│ i64   ┆ str                                 │\n",
       "╞═══════╪═════════════════════════════════════╡\n",
       "│ 0     ┆ Go until jurong point, crazy.. A... │\n",
       "├╌╌╌╌╌╌╌┼╌╌╌╌╌╌╌╌╌╌╌╌╌╌╌╌╌╌╌╌╌╌╌╌╌╌╌╌╌╌╌╌╌╌╌╌╌┤\n",
       "│ 0     ┆ Ok lar... Joking wif u oni...       │\n",
       "├╌╌╌╌╌╌╌┼╌╌╌╌╌╌╌╌╌╌╌╌╌╌╌╌╌╌╌╌╌╌╌╌╌╌╌╌╌╌╌╌╌╌╌╌╌┤\n",
       "│ 1     ┆ Free entry in 2 a wkly comp to w... │\n",
       "├╌╌╌╌╌╌╌┼╌╌╌╌╌╌╌╌╌╌╌╌╌╌╌╌╌╌╌╌╌╌╌╌╌╌╌╌╌╌╌╌╌╌╌╌╌┤\n",
       "│ 0     ┆ U dun say so early hor... U c al... │\n",
       "├╌╌╌╌╌╌╌┼╌╌╌╌╌╌╌╌╌╌╌╌╌╌╌╌╌╌╌╌╌╌╌╌╌╌╌╌╌╌╌╌╌╌╌╌╌┤\n",
       "│ 0     ┆ Nah I don't think he goes to usf... │\n",
       "└───────┴─────────────────────────────────────┘"
      ]
     },
     "execution_count": 1,
     "metadata": {},
     "output_type": "execute_result"
    }
   ],
   "source": [
    "from tokenizers import Tokenizer\n",
    "from bastionlab.polars.policy import Policy, Aggregation, Log\n",
    "from bastionlab.polars import train_test_split\n",
    "import polars as pl\n",
    "from bastionlab import Connection\n",
    "from bastionlab.tokenizers import RemoteTokenizer\n",
    "from bastionlab.torch.remote_torch import RemoteDataset\n",
    "from bastionlab.torch.learner import RemoteLearner\n",
    "\n",
    "\n",
    "file_path = \"./SMSSpamCollection\"\n",
    "\n",
    "# Read CSV file using Polars and rename columns with `text`, `label`\n",
    "df = pl.read_csv(file_path, has_header=False, sep=\"\\t\", new_columns=[\"label\", \"text\"])\n",
    "\n",
    "# Transform `spam` labels to `1` and `0` for any other column label\n",
    "df = df.with_column(\n",
    "    pl.when(pl.col(\"label\") == \"spam\").then(1).otherwise(0).alias(\"label\")\n",
    ")\n",
    "\n",
    "# View the first few elements of the DataFrame\n",
    "df.head()"
   ]
  },
  {
   "cell_type": "code",
   "execution_count": 2,
   "metadata": {},
   "outputs": [
    {
     "ename": "ConnectionRefusedError",
     "evalue": "[Errno 111] Connection refused",
     "output_type": "error",
     "traceback": [
      "\u001b[0;31m---------------------------------------------------------------------------\u001b[0m",
      "\u001b[0;31mConnectionRefusedError\u001b[0m                    Traceback (most recent call last)",
      "Cell \u001b[0;32mIn[2], line 10\u001b[0m\n\u001b[1;32m      5\u001b[0m connection \u001b[39m=\u001b[39m Connection(\u001b[39m\"\u001b[39m\u001b[39mlocalhost\u001b[39m\u001b[39m\"\u001b[39m)\n\u001b[1;32m      7\u001b[0m policy \u001b[39m=\u001b[39m Policy(safe_zone\u001b[39m=\u001b[39mAggregation(min_agg_size\u001b[39m=\u001b[39m\u001b[39m10\u001b[39m), unsafe_handling\u001b[39m=\u001b[39mLog())\n\u001b[0;32m---> 10\u001b[0m rdf \u001b[39m=\u001b[39m connection\u001b[39m.\u001b[39;49mclient\u001b[39m.\u001b[39mpolars\u001b[39m.\u001b[39msend_df(df\u001b[39m.\u001b[39mlimit(\u001b[39m64\u001b[39m), policy\u001b[39m=\u001b[39mpolicy)\n\u001b[1;32m     12\u001b[0m \u001b[39m# Split dataframe into train and test sets.\u001b[39;00m\n\u001b[1;32m     13\u001b[0m train_rdf, test_rdf \u001b[39m=\u001b[39m train_test_split(rdf, test_size\u001b[39m=\u001b[39m\u001b[39m0.2\u001b[39m)\n",
      "File \u001b[0;32m~/Projects/bastionlab/client/src/bastionlab/client.py:227\u001b[0m, in \u001b[0;36mConnection.client\u001b[0;34m(self)\u001b[0m\n\u001b[1;32m    225\u001b[0m     \u001b[39mreturn\u001b[39;00m \u001b[39mself\u001b[39m\u001b[39m.\u001b[39m_client\n\u001b[1;32m    226\u001b[0m \u001b[39melse\u001b[39;00m:\n\u001b[0;32m--> 227\u001b[0m     \u001b[39mreturn\u001b[39;00m \u001b[39mself\u001b[39;49m\u001b[39m.\u001b[39;49m\u001b[39m__enter__\u001b[39;49m()\n",
      "File \u001b[0;32m~/Projects/bastionlab/client/src/bastionlab/client.py:243\u001b[0m, in \u001b[0;36mConnection.__enter__\u001b[0;34m(self)\u001b[0m\n\u001b[1;32m    237\u001b[0m \u001b[39mdef\u001b[39;00m \u001b[39m__enter__\u001b[39m(\u001b[39mself\u001b[39m) \u001b[39m-\u001b[39m\u001b[39m>\u001b[39m Client:\n\u001b[1;32m    238\u001b[0m     \u001b[39m# \"\"\"Establishes a secure channel to the server and returns a `Client` object that can be used to interact with the server.\u001b[39;00m\n\u001b[1;32m    239\u001b[0m     \u001b[39m# This method is called automatically when the `Connection` object is used in a `with` statement.\u001b[39;00m\n\u001b[1;32m    240\u001b[0m     \u001b[39m# Returns:\u001b[39;00m\n\u001b[1;32m    241\u001b[0m     \u001b[39m#    A `Client` object that can be used to interact with the server.\u001b[39;00m\n\u001b[1;32m    242\u001b[0m     server_target \u001b[39m=\u001b[39m \u001b[39mf\u001b[39m\u001b[39m\"\u001b[39m\u001b[39m{\u001b[39;00m\u001b[39mself\u001b[39m\u001b[39m.\u001b[39mhost\u001b[39m}\u001b[39;00m\u001b[39m:\u001b[39m\u001b[39m{\u001b[39;00m\u001b[39mself\u001b[39m\u001b[39m.\u001b[39mport\u001b[39m}\u001b[39;00m\u001b[39m\"\u001b[39m\n\u001b[0;32m--> 243\u001b[0m     server_cert \u001b[39m=\u001b[39m ssl\u001b[39m.\u001b[39;49mget_server_certificate((\u001b[39mself\u001b[39;49m\u001b[39m.\u001b[39;49mhost, \u001b[39mself\u001b[39;49m\u001b[39m.\u001b[39;49mport))\n\u001b[1;32m    244\u001b[0m     server_creds \u001b[39m=\u001b[39m grpc\u001b[39m.\u001b[39mssl_channel_credentials(\n\u001b[1;32m    245\u001b[0m         root_certificates\u001b[39m=\u001b[39m\u001b[39mbytes\u001b[39m(server_cert, encoding\u001b[39m=\u001b[39m\u001b[39m\"\u001b[39m\u001b[39mutf8\u001b[39m\u001b[39m\"\u001b[39m)\n\u001b[1;32m    246\u001b[0m     )\n\u001b[1;32m    247\u001b[0m     connection_options \u001b[39m=\u001b[39m ((\u001b[39m\"\u001b[39m\u001b[39mgrpc.ssl_target_name_override\u001b[39m\u001b[39m\"\u001b[39m, \u001b[39mself\u001b[39m\u001b[39m.\u001b[39mserver_name),)\n",
      "File \u001b[0;32m/usr/lib/python3.8/ssl.py:1483\u001b[0m, in \u001b[0;36mget_server_certificate\u001b[0;34m(addr, ssl_version, ca_certs)\u001b[0m\n\u001b[1;32m   1479\u001b[0m     cert_reqs \u001b[39m=\u001b[39m CERT_NONE\n\u001b[1;32m   1480\u001b[0m context \u001b[39m=\u001b[39m _create_stdlib_context(ssl_version,\n\u001b[1;32m   1481\u001b[0m                                  cert_reqs\u001b[39m=\u001b[39mcert_reqs,\n\u001b[1;32m   1482\u001b[0m                                  cafile\u001b[39m=\u001b[39mca_certs)\n\u001b[0;32m-> 1483\u001b[0m \u001b[39mwith\u001b[39;00m  create_connection(addr) \u001b[39mas\u001b[39;00m sock:\n\u001b[1;32m   1484\u001b[0m     \u001b[39mwith\u001b[39;00m context\u001b[39m.\u001b[39mwrap_socket(sock) \u001b[39mas\u001b[39;00m sslsock:\n\u001b[1;32m   1485\u001b[0m         dercert \u001b[39m=\u001b[39m sslsock\u001b[39m.\u001b[39mgetpeercert(\u001b[39mTrue\u001b[39;00m)\n",
      "File \u001b[0;32m/usr/lib/python3.8/socket.py:808\u001b[0m, in \u001b[0;36mcreate_connection\u001b[0;34m(address, timeout, source_address)\u001b[0m\n\u001b[1;32m    806\u001b[0m \u001b[39mif\u001b[39;00m err \u001b[39mis\u001b[39;00m \u001b[39mnot\u001b[39;00m \u001b[39mNone\u001b[39;00m:\n\u001b[1;32m    807\u001b[0m     \u001b[39mtry\u001b[39;00m:\n\u001b[0;32m--> 808\u001b[0m         \u001b[39mraise\u001b[39;00m err\n\u001b[1;32m    809\u001b[0m     \u001b[39mfinally\u001b[39;00m:\n\u001b[1;32m    810\u001b[0m         \u001b[39m# Break explicitly a reference cycle\u001b[39;00m\n\u001b[1;32m    811\u001b[0m         err \u001b[39m=\u001b[39m \u001b[39mNone\u001b[39;00m\n",
      "File \u001b[0;32m/usr/lib/python3.8/socket.py:796\u001b[0m, in \u001b[0;36mcreate_connection\u001b[0;34m(address, timeout, source_address)\u001b[0m\n\u001b[1;32m    794\u001b[0m \u001b[39mif\u001b[39;00m source_address:\n\u001b[1;32m    795\u001b[0m     sock\u001b[39m.\u001b[39mbind(source_address)\n\u001b[0;32m--> 796\u001b[0m sock\u001b[39m.\u001b[39;49mconnect(sa)\n\u001b[1;32m    797\u001b[0m \u001b[39m# Break explicitly a reference cycle\u001b[39;00m\n\u001b[1;32m    798\u001b[0m err \u001b[39m=\u001b[39m \u001b[39mNone\u001b[39;00m\n",
      "\u001b[0;31mConnectionRefusedError\u001b[0m: [Errno 111] Connection refused"
     ]
    }
   ],
   "source": [
    "tokenizer = RemoteTokenizer.from_hugging_face_pretrained(\"distilbert-base-uncased\")\n",
    "tokenizer.enable_padding(length=32)\n",
    "tokenizer.enable_truncation(max_length=32)\n",
    "\n",
    "connection = Connection(\"localhost\")\n",
    "\n",
    "policy = Policy(safe_zone=Aggregation(min_agg_size=10), unsafe_handling=Log())\n",
    "\n",
    "\n",
    "rdf = connection.client.polars.send_df(df.limit(64), policy=policy)\n",
    "\n",
    "# Split dataframe into train and test sets.\n",
    "train_rdf, test_rdf = train_test_split(rdf, test_size=0.2)\n",
    "\n",
    "# Create Inputs(train, test) RemoteSeries objects\n",
    "train_inputs = train_rdf.column(\"text\")\n",
    "test_inputs = test_rdf.column(\"text\")\n",
    "\n",
    "# Create Label(train, test) RemoteSeries objects\n",
    "train_label = train_rdf.column(\"label\").to_tensor()\n",
    "test_label = test_rdf.column(\"label\").to_tensor()\n",
    "\n",
    "# Tokenize `text` fields\n",
    "train_ids, train_mask = tokenizer.encode(train_inputs)\n",
    "test_ids, test_mask = tokenizer.encode(test_inputs)\n",
    "\n",
    "# Create train RemoteDataset\n",
    "train_rds = RemoteDataset(inputs=[train_ids, train_mask], label=train_label)\n",
    "\n",
    "# Create test RemoteDataset\n",
    "test_rds = RemoteDataset(inputs=[test_ids, test_mask], label=test_label)"
   ]
  },
  {
   "cell_type": "code",
   "execution_count": 17,
   "metadata": {},
   "outputs": [
    {
     "name": "stderr",
     "output_type": "stream",
     "text": [
      "Some weights of the model checkpoint at distilbert-base-uncased were not used when initializing DistilBertForSequenceClassification: ['vocab_projector.weight', 'vocab_layer_norm.weight', 'vocab_transform.bias', 'vocab_layer_norm.bias', 'vocab_transform.weight', 'vocab_projector.bias']\n",
      "- This IS expected if you are initializing DistilBertForSequenceClassification from the checkpoint of a model trained on another task or with another architecture (e.g. initializing a BertForSequenceClassification model from a BertForPreTraining model).\n",
      "- This IS NOT expected if you are initializing DistilBertForSequenceClassification from the checkpoint of a model that you expect to be exactly identical (initializing a BertForSequenceClassification model from a BertForSequenceClassification model).\n",
      "Some weights of DistilBertForSequenceClassification were not initialized from the model checkpoint at distilbert-base-uncased and are newly initialized: ['classifier.weight', 'pre_classifier.weight', 'pre_classifier.bias', 'classifier.bias']\n",
      "You should probably TRAIN this model on a down-stream task to be able to use it for predictions and inference.\n"
     ]
    }
   ],
   "source": [
    "from transformers import DistilBertForSequenceClassification, DistilBertTokenizer\n",
    "from bastionlab.torch.utils import MultipleOutputWrapper\n",
    "\n",
    "model = DistilBertForSequenceClassification.from_pretrained(\n",
    "    \"distilbert-base-uncased\",\n",
    "    num_labels=2,\n",
    "    output_attentions=False,\n",
    "    output_hidden_states=False,\n",
    "    torchscript=True,\n",
    ")\n",
    "model = MultipleOutputWrapper(model, 0)"
   ]
  },
  {
   "cell_type": "code",
   "execution_count": 18,
   "metadata": {},
   "outputs": [
    {
     "name": "stderr",
     "output_type": "stream",
     "text": [
      "Sending DistilBERT: 100%|████████████████████| 268M/268M [00:07<00:00, 36.5MB/s]\n"
     ]
    },
    {
     "name": "stdout",
     "output_type": "stream",
     "text": [
      "identifier: \"8e43e41f447870bc47395f069147ae31ee6c710e471cc71fd45967ca55dd733a\"\n",
      "name: \"DistilBERT\"\n",
      "\n",
      "{\"inputs\": [{\"identifier\": \"4b703fa2-a9cf-41e9-aff3-417e6c239a9b\"},{\"identifier\": \"86e3fe50-adeb-4da2-b97b-674d85c6b474\"}], \"label\": {\"identifier\": \"56ee0aef-165b-446b-94a5-3e19f3246751\"}, \"nb_samples\": 51, \"privacy_limit\": -1.0}\n"
     ]
    },
    {
     "name": "stderr",
     "output_type": "stream",
     "text": []
    },
    {
     "ename": "GRPCException",
     "evalue": "Connection to the gRPC server failed: code=StatusCode.UNAVAILABLE message=Connection reset by peer",
     "output_type": "error",
     "traceback": [
      "\u001b[0;31m---------------------------------------------------------------------------\u001b[0m",
      "\u001b[0;31m_InactiveRpcError\u001b[0m                         Traceback (most recent call last)",
      "File \u001b[0;32m~/Projects/bastionlab/client/src/bastionlab/errors.py:70\u001b[0m, in \u001b[0;36mGRPCException.map_error\u001b[0;34m(f)\u001b[0m\n\u001b[1;32m     69\u001b[0m \u001b[39mtry\u001b[39;00m:\n\u001b[0;32m---> 70\u001b[0m     \u001b[39mreturn\u001b[39;00m f()\n\u001b[1;32m     71\u001b[0m \u001b[39mexcept\u001b[39;00m _InactiveRpcError \u001b[39mas\u001b[39;00m e:\n",
      "File \u001b[0;32m~/Projects/bastionlab/client/src/bastionlab/torch/client.py:240\u001b[0m, in \u001b[0;36mBastionLabTorch.get_metric.<locals>.<lambda>\u001b[0;34m()\u001b[0m\n\u001b[1;32m    238\u001b[0m \u001b[39mself\u001b[39m\u001b[39m.\u001b[39mclient\u001b[39m.\u001b[39mrefresh_session_if_needed()\n\u001b[0;32m--> 240\u001b[0m \u001b[39mreturn\u001b[39;00m GRPCException\u001b[39m.\u001b[39mmap_error(\u001b[39mlambda\u001b[39;00m: \u001b[39mself\u001b[39;49m\u001b[39m.\u001b[39;49mstub\u001b[39m.\u001b[39;49mGetMetric(run))\n",
      "File \u001b[0;32m~/base/lib/python3.8/site-packages/grpc/_channel.py:946\u001b[0m, in \u001b[0;36m_UnaryUnaryMultiCallable.__call__\u001b[0;34m(self, request, timeout, metadata, credentials, wait_for_ready, compression)\u001b[0m\n\u001b[1;32m    944\u001b[0m state, call, \u001b[39m=\u001b[39m \u001b[39mself\u001b[39m\u001b[39m.\u001b[39m_blocking(request, timeout, metadata, credentials,\n\u001b[1;32m    945\u001b[0m                               wait_for_ready, compression)\n\u001b[0;32m--> 946\u001b[0m \u001b[39mreturn\u001b[39;00m _end_unary_response_blocking(state, call, \u001b[39mFalse\u001b[39;49;00m, \u001b[39mNone\u001b[39;49;00m)\n",
      "File \u001b[0;32m~/base/lib/python3.8/site-packages/grpc/_channel.py:849\u001b[0m, in \u001b[0;36m_end_unary_response_blocking\u001b[0;34m(state, call, with_call, deadline)\u001b[0m\n\u001b[1;32m    848\u001b[0m \u001b[39melse\u001b[39;00m:\n\u001b[0;32m--> 849\u001b[0m     \u001b[39mraise\u001b[39;00m _InactiveRpcError(state)\n",
      "\u001b[0;31m_InactiveRpcError\u001b[0m: <_InactiveRpcError of RPC that terminated with:\n\tstatus = StatusCode.UNAVAILABLE\n\tdetails = \"Connection reset by peer\"\n\tdebug_error_string = \"{\"created\":\"@1672999446.633803509\",\"description\":\"Error received from peer ipv4:127.0.0.1:50056\",\"file\":\"src/core/lib/surface/call.cc\",\"file_line\":966,\"grpc_message\":\"Connection reset by peer\",\"grpc_status\":14}\"\n>",
      "\nDuring handling of the above exception, another exception occurred:\n",
      "\u001b[0;31mGRPCException\u001b[0m                             Traceback (most recent call last)",
      "Cell \u001b[0;32mIn[18], line 12\u001b[0m\n\u001b[1;32m      1\u001b[0m \u001b[39mfrom\u001b[39;00m \u001b[39mbastionlab\u001b[39;00m\u001b[39m.\u001b[39;00m\u001b[39mtorch\u001b[39;00m\u001b[39m.\u001b[39;00m\u001b[39moptimizer_config\u001b[39;00m \u001b[39mimport\u001b[39;00m Adam\n\u001b[1;32m      3\u001b[0m remote_learner \u001b[39m=\u001b[39m connection\u001b[39m.\u001b[39mclient\u001b[39m.\u001b[39mtorch\u001b[39m.\u001b[39mRemoteLearner(\n\u001b[1;32m      4\u001b[0m     model,\n\u001b[1;32m      5\u001b[0m     train_rds,\n\u001b[0;32m   (...)\u001b[0m\n\u001b[1;32m      9\u001b[0m     model_name\u001b[39m=\u001b[39m\u001b[39m\"\u001b[39m\u001b[39mDistilBERT\u001b[39m\u001b[39m\"\u001b[39m,\n\u001b[1;32m     10\u001b[0m )\n\u001b[0;32m---> 12\u001b[0m remote_learner\u001b[39m.\u001b[39;49mfit(nb_epochs\u001b[39m=\u001b[39;49m\u001b[39m1\u001b[39;49m)\n",
      "File \u001b[0;32m~/Projects/bastionlab/client/src/bastionlab/torch/learner.py:469\u001b[0m, in \u001b[0;36mRemoteLearner.fit\u001b[0;34m(self, nb_epochs, eps, batch_size, max_grad_norm, lr, metric_eps, timeout, poll_delay, per_n_epochs_checkpoint, per_n_steps_checkpoint, resume)\u001b[0m\n\u001b[1;32m    443\u001b[0m \u001b[39m\"\"\"Fits the uploaded model to the training dataset with given hyperparameters.\u001b[39;00m\n\u001b[1;32m    444\u001b[0m \n\u001b[1;32m    445\u001b[0m \u001b[39mArgs:\u001b[39;00m\n\u001b[0;32m   (...)\u001b[0m\n\u001b[1;32m    454\u001b[0m \u001b[39m    poll_delay: Delay in seconds between two polling requests for the loss.\u001b[39;00m\n\u001b[1;32m    455\u001b[0m \u001b[39m\"\"\"\u001b[39;00m\n\u001b[1;32m    456\u001b[0m run \u001b[39m=\u001b[39m \u001b[39mself\u001b[39m\u001b[39m.\u001b[39mclient\u001b[39m.\u001b[39mtrain(\n\u001b[1;32m    457\u001b[0m     \u001b[39mself\u001b[39m\u001b[39m.\u001b[39m_train_config(\n\u001b[1;32m    458\u001b[0m         nb_epochs,\n\u001b[0;32m   (...)\u001b[0m\n\u001b[1;32m    467\u001b[0m     )\n\u001b[1;32m    468\u001b[0m )\n\u001b[0;32m--> 469\u001b[0m \u001b[39mself\u001b[39;49m\u001b[39m.\u001b[39;49m_poll_metric(\n\u001b[1;32m    470\u001b[0m     run,\n\u001b[1;32m    471\u001b[0m     name\u001b[39m=\u001b[39;49m\u001b[39mself\u001b[39;49m\u001b[39m.\u001b[39;49mloss,\n\u001b[1;32m    472\u001b[0m     train\u001b[39m=\u001b[39;49m\u001b[39mTrue\u001b[39;49;00m,\n\u001b[1;32m    473\u001b[0m     timeout\u001b[39m=\u001b[39;49m\u001b[39mint\u001b[39;49m(timeout \u001b[39m/\u001b[39;49m poll_delay),\n\u001b[1;32m    474\u001b[0m     poll_delay\u001b[39m=\u001b[39;49mpoll_delay,\n\u001b[1;32m    475\u001b[0m )\n",
      "File \u001b[0;32m~/Projects/bastionlab/client/src/bastionlab/torch/learner.py:394\u001b[0m, in \u001b[0;36mRemoteLearner._poll_metric\u001b[0;34m(self, run, name, train, timeout, poll_delay)\u001b[0m\n\u001b[1;32m    392\u001b[0m prev_batch \u001b[39m=\u001b[39m metric\u001b[39m.\u001b[39mbatch\n\u001b[1;32m    393\u001b[0m prev_epoch \u001b[39m=\u001b[39m metric\u001b[39m.\u001b[39mepoch\n\u001b[0;32m--> 394\u001b[0m metric \u001b[39m=\u001b[39m \u001b[39mself\u001b[39;49m\u001b[39m.\u001b[39;49mclient\u001b[39m.\u001b[39;49mget_metric(run)\n\u001b[1;32m    396\u001b[0m \u001b[39m# Handle end of training\u001b[39;00m\n\u001b[1;32m    397\u001b[0m \u001b[39mif\u001b[39;00m metric\u001b[39m.\u001b[39mbatch \u001b[39m==\u001b[39m prev_batch \u001b[39mand\u001b[39;00m metric\u001b[39m.\u001b[39mepoch \u001b[39m==\u001b[39m prev_epoch:\n",
      "File \u001b[0;32m~/Projects/bastionlab/client/src/bastionlab/torch/client.py:240\u001b[0m, in \u001b[0;36mBastionLabTorch.get_metric\u001b[0;34m(self, run)\u001b[0m\n\u001b[1;32m    232\u001b[0m \u001b[39m\"\"\"Returns the value of the metric associated with the given `run` reference.\u001b[39;00m\n\u001b[1;32m    233\u001b[0m \n\u001b[1;32m    234\u001b[0m \u001b[39mArgs:\u001b[39;00m\n\u001b[1;32m    235\u001b[0m \u001b[39m    run: BastionAI gRPC protocol reference of the run whose metric is read.\u001b[39;00m\n\u001b[1;32m    236\u001b[0m \u001b[39m\"\"\"\u001b[39;00m\n\u001b[1;32m    238\u001b[0m \u001b[39mself\u001b[39m\u001b[39m.\u001b[39mclient\u001b[39m.\u001b[39mrefresh_session_if_needed()\n\u001b[0;32m--> 240\u001b[0m \u001b[39mreturn\u001b[39;00m GRPCException\u001b[39m.\u001b[39;49mmap_error(\u001b[39mlambda\u001b[39;49;00m: \u001b[39mself\u001b[39;49m\u001b[39m.\u001b[39;49mstub\u001b[39m.\u001b[39;49mGetMetric(run))\n",
      "File \u001b[0;32m~/Projects/bastionlab/client/src/bastionlab/errors.py:72\u001b[0m, in \u001b[0;36mGRPCException.map_error\u001b[0;34m(f)\u001b[0m\n\u001b[1;32m     70\u001b[0m     \u001b[39mreturn\u001b[39;00m f()\n\u001b[1;32m     71\u001b[0m \u001b[39mexcept\u001b[39;00m _InactiveRpcError \u001b[39mas\u001b[39;00m e:\n\u001b[0;32m---> 72\u001b[0m     \u001b[39mraise\u001b[39;00m GRPCException(e)\n\u001b[1;32m     73\u001b[0m \u001b[39mexcept\u001b[39;00m _MultiThreadedRendezvous \u001b[39mas\u001b[39;00m e:\n\u001b[1;32m     74\u001b[0m     \u001b[39mraise\u001b[39;00m GRPCException(e)\n",
      "\u001b[0;31mGRPCException\u001b[0m: Connection to the gRPC server failed: code=StatusCode.UNAVAILABLE message=Connection reset by peer"
     ]
    }
   ],
   "source": [
    "from bastionlab.torch.optimizer_config import Adam\n",
    "\n",
    "remote_learner = connection.client.torch.RemoteLearner(\n",
    "    model,\n",
    "    train_rds,\n",
    "    max_batch_size=2,\n",
    "    loss=\"cross_entropy\",\n",
    "    optimizer=Adam(lr=5e-5),\n",
    "    model_name=\"DistilBERT\",\n",
    ")\n",
    "\n",
    "remote_learner.fit(nb_epochs=1)  # , poll_delay=1.0)"
   ]
  }
 ],
 "metadata": {
  "kernelspec": {
   "display_name": "base",
   "language": "python",
   "name": "python3"
  },
  "language_info": {
   "codemirror_mode": {
    "name": "ipython",
    "version": 3
   },
   "file_extension": ".py",
   "mimetype": "text/x-python",
   "name": "python",
   "nbconvert_exporter": "python",
   "pygments_lexer": "ipython3",
   "version": "3.8.10"
  },
  "orig_nbformat": 4,
  "vscode": {
   "interpreter": {
    "hash": "cfb725626286d8c8fc5334ffe77697f720dc23e64d3046271825a5556b528e7d"
   }
  }
 },
 "nbformat": 4,
 "nbformat_minor": 2
}
