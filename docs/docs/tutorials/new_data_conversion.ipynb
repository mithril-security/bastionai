{
 "cells": [
  {
   "cell_type": "code",
   "execution_count": 1,
   "metadata": {},
   "outputs": [
    {
     "name": "stderr",
     "output_type": "stream",
     "text": [
      "/home/kbamponsem/base/lib/python3.8/site-packages/tqdm/auto.py:22: TqdmWarning: IProgress not found. Please update jupyter and ipywidgets. See https://ipywidgets.readthedocs.io/en/stable/user_install.html\n",
      "  from .autonotebook import tqdm as notebook_tqdm\n"
     ]
    },
    {
     "data": {
      "text/html": [
       "<div>\n",
       "<style scoped>\n",
       "    .dataframe tbody tr th:only-of-type {\n",
       "        vertical-align: middle;\n",
       "    }\n",
       "\n",
       "    .dataframe tbody tr th {\n",
       "        vertical-align: top;\n",
       "    }\n",
       "\n",
       "    .dataframe thead th {\n",
       "        text-align: right;\n",
       "    }\n",
       "\n",
       "    .dataframe td {\n",
       "        white-space: pre;\n",
       "    }\n",
       "\n",
       "    .dataframe td {\n",
       "        padding-top: 0;\n",
       "    }\n",
       "\n",
       "    .dataframe td {\n",
       "        padding-bottom: 0;\n",
       "    }\n",
       "</style>\n",
       "<table border=\"1\" class=\"dataframe\" >\n",
       "<small>shape: (5, 2)</small>\n",
       "<thead>\n",
       "<tr>\n",
       "<th>\n",
       "label\n",
       "</th>\n",
       "<th>\n",
       "text\n",
       "</th>\n",
       "</tr>\n",
       "<tr>\n",
       "<td>\n",
       "i64\n",
       "</td>\n",
       "<td>\n",
       "str\n",
       "</td>\n",
       "</tr>\n",
       "</thead>\n",
       "<tbody>\n",
       "<tr>\n",
       "<td>\n",
       "0\n",
       "</td>\n",
       "<td>\n",
       "&quot;Go until juron...\n",
       "</td>\n",
       "</tr>\n",
       "<tr>\n",
       "<td>\n",
       "0\n",
       "</td>\n",
       "<td>\n",
       "&quot;Ok lar... Joki...\n",
       "</td>\n",
       "</tr>\n",
       "<tr>\n",
       "<td>\n",
       "1\n",
       "</td>\n",
       "<td>\n",
       "&quot;Free entry in ...\n",
       "</td>\n",
       "</tr>\n",
       "<tr>\n",
       "<td>\n",
       "0\n",
       "</td>\n",
       "<td>\n",
       "&quot;U dun say so e...\n",
       "</td>\n",
       "</tr>\n",
       "<tr>\n",
       "<td>\n",
       "0\n",
       "</td>\n",
       "<td>\n",
       "&quot;Nah I don&#x27;t th...\n",
       "</td>\n",
       "</tr>\n",
       "</tbody>\n",
       "</table>\n",
       "</div>"
      ],
      "text/plain": [
       "shape: (5, 2)\n",
       "┌───────┬─────────────────────────────────────┐\n",
       "│ label ┆ text                                │\n",
       "│ ---   ┆ ---                                 │\n",
       "│ i64   ┆ str                                 │\n",
       "╞═══════╪═════════════════════════════════════╡\n",
       "│ 0     ┆ Go until jurong point, crazy.. A... │\n",
       "├╌╌╌╌╌╌╌┼╌╌╌╌╌╌╌╌╌╌╌╌╌╌╌╌╌╌╌╌╌╌╌╌╌╌╌╌╌╌╌╌╌╌╌╌╌┤\n",
       "│ 0     ┆ Ok lar... Joking wif u oni...       │\n",
       "├╌╌╌╌╌╌╌┼╌╌╌╌╌╌╌╌╌╌╌╌╌╌╌╌╌╌╌╌╌╌╌╌╌╌╌╌╌╌╌╌╌╌╌╌╌┤\n",
       "│ 1     ┆ Free entry in 2 a wkly comp to w... │\n",
       "├╌╌╌╌╌╌╌┼╌╌╌╌╌╌╌╌╌╌╌╌╌╌╌╌╌╌╌╌╌╌╌╌╌╌╌╌╌╌╌╌╌╌╌╌╌┤\n",
       "│ 0     ┆ U dun say so early hor... U c al... │\n",
       "├╌╌╌╌╌╌╌┼╌╌╌╌╌╌╌╌╌╌╌╌╌╌╌╌╌╌╌╌╌╌╌╌╌╌╌╌╌╌╌╌╌╌╌╌╌┤\n",
       "│ 0     ┆ Nah I don't think he goes to usf... │\n",
       "└───────┴─────────────────────────────────────┘"
      ]
     },
     "execution_count": 1,
     "metadata": {},
     "output_type": "execute_result"
    }
   ],
   "source": [
    "from tokenizers import Tokenizer\n",
    "from bastionlab.polars.policy import Policy, Aggregation, Log\n",
    "from bastionlab.polars import train_test_split\n",
    "import polars as pl\n",
    "from bastionlab import Connection\n",
    "from bastionlab.tokenizers import RemoteTokenizer\n",
    "from bastionlab.torch.remote_torch import RemoteDataset\n",
    "\n",
    "\n",
    "file_path = \"./SMSSpamCollection\"\n",
    "\n",
    "# Read CSV file using Polars and rename columns with `text`, `label`\n",
    "df = pl.read_csv(file_path, has_header=False, sep=\"\\t\", new_columns=[\"label\", \"text\"])\n",
    "\n",
    "# Transform `spam` labels to `1` and `0` for any other column label\n",
    "df = df.with_column(\n",
    "    pl.when(pl.col(\"label\") == \"spam\").then(1).otherwise(0).alias(\"label\")\n",
    ")\n",
    "\n",
    "# View the first few elements of the DataFrame\n",
    "df.head()"
   ]
  },
  {
   "cell_type": "code",
   "execution_count": 2,
   "metadata": {},
   "outputs": [
    {
     "name": "stdout",
     "output_type": "stream",
     "text": [
      "RemoteTensor(identifier=04798f9e-4a30-437e-95f2-8f04ff5af9e1, dtype=torch.int64, shape=torch.Size([4774, 32])) RemoteTensor(identifier=70f3bbf7-0ffe-47d0-a314-c86b1d6b29d2, dtype=torch.int64, shape=torch.Size([4774, 32])) RemoteTensor(identifier=4c43767d-b17c-4754-8e64-fc7bd6fb526f, dtype=torch.int64, shape=torch.Size([4774]))\n",
      "RemoteDataset(name=RemoteDataset-e3b0c, privacy_limit=-1.0)\n",
      "\t└──inputs: RemoteTensor(identifier=04798f9e-4a30-437e-95f2-8f04ff5af9e1, dtype=torch.int64, shape=torch.Size([4774, 32]))\n",
      "\t\t└──RemoteTensor(identifier=70f3bbf7-0ffe-47d0-a314-c86b1d6b29d2, dtype=torch.int64, shape=torch.Size([4774, 32]))\n",
      "\t└──label: RemoteTensor(identifier=4c43767d-b17c-4754-8e64-fc7bd6fb526f, dtype=torch.int64, shape=torch.Size([4774]))\n"
     ]
    }
   ],
   "source": [
    "tokenizer = RemoteTokenizer.from_hugging_face_pretrained(\"distilbert-base-uncased\")\n",
    "tokenizer.enable_padding(length=32)\n",
    "tokenizer.enable_truncation(max_length=32)\n",
    "\n",
    "connection = Connection(\"localhost\")\n",
    "\n",
    "policy = Policy(safe_zone=Aggregation(min_agg_size=10), unsafe_handling=Log())\n",
    "\n",
    "\n",
    "rdf = connection.client.polars.send_df(df, policy=policy)\n",
    "\n",
    "rs = rdf.column(\"text\")\n",
    "label = rdf.column(\"label\").to_tensor()\n",
    "input_ids, attention_mask = tokenizer.encode(rs)\n",
    "\n",
    "print(input_ids, attention_mask, label)\n",
    "\n",
    "rds = RemoteDataset(inputs=[input_ids, attention_mask], label=label)\n",
    "\n",
    "print(rds)"
   ]
  }
 ],
 "metadata": {
  "kernelspec": {
   "display_name": "base",
   "language": "python",
   "name": "python3"
  },
  "language_info": {
   "codemirror_mode": {
    "name": "ipython",
    "version": 3
   },
   "file_extension": ".py",
   "mimetype": "text/x-python",
   "name": "python",
   "nbconvert_exporter": "python",
   "pygments_lexer": "ipython3",
   "version": "3.8.10"
  },
  "orig_nbformat": 4,
  "vscode": {
   "interpreter": {
    "hash": "cfb725626286d8c8fc5334ffe77697f720dc23e64d3046271825a5556b528e7d"
   }
  }
 },
 "nbformat": 4,
 "nbformat_minor": 2
}
