{
 "cells": [
  {
   "cell_type": "markdown",
   "metadata": {},
   "source": [
    "# Combining Datasets\n",
    "\n",
    "In this tutorial, we are going to see how to use BastionLab's vstack function to join RemoteLazyFrames vertically. This can be particularly useful if you want to query or train models on a combination of datasets from different parties. The only requirement is that datasets must have the same column names/types. You can learn about dataset preparation including changing column types, names and adding and removing columns in out data cleaning tutorial.\n",
    "\n",
    "## Pre-requisites\n",
    "### Technical Requirements\n",
    "\n",
    "To start this tutorial, ensure the following are already installed in your system:\n",
    "- Python3.7 or greater (get the latest version of Python at https://www.python.org/downloads/ or with your operating system’s package manager)\n",
    "- [Python Pip](https://pypi.org/project/pip/) (PyPi), the package manager\n",
    "- [Docker](https://www.docker.com/) \n",
    "\n",
    "*Here's the [Docker official tutorial](https://docker-curriculum.com/) to set it up on your computer.*\n",
    "\n",
    "### Pip packages and dataset\n",
    "\n",
    "In order to run this notebook, you will also need to install Polars, Bastionlab by running the following code block."
   ]
  },
  {
   "cell_type": "code",
   "execution_count": 1,
   "metadata": {},
   "outputs": [],
   "source": [
    "!pip install bastionlab"
   ]
  },
  {
   "cell_type": "markdown",
   "metadata": {},
   "source": [
    "Firstly, we will run the server via BastionLab's official docker image."
   ]
  },
  {
   "cell_type": "code",
   "execution_count": null,
   "metadata": {},
   "outputs": [],
   "source": [
    "!docker run -it -p 50056:50056 -d mithrilsecuritysas/bastionlab:latest"
   ]
  },
  {
   "cell_type": "markdown",
   "metadata": {},
   "source": [
    "Secondly, we will connect to the server using the Connection() method."
   ]
  },
  {
   "cell_type": "code",
   "execution_count": null,
   "metadata": {},
   "outputs": [],
   "source": [
    "from bastionlab import Connection\n",
    "\n",
    "connection = Connection(\"localhost\")\n",
    "client = connection.client"
   ]
  },
  {
   "cell_type": "markdown",
   "metadata": {},
   "source": [
    "Now we will create three simple Polars dataframes with \"Element\" and \"Melting Point (K)\" columns."
   ]
  },
  {
   "cell_type": "code",
   "execution_count": 4,
   "metadata": {},
   "outputs": [],
   "source": [
    "import polars as pl\n",
    "\n",
    "df1 = pl.DataFrame(\n",
    "    {\n",
    "        \"Element\": [\"Copper\", \"Silver\", \"Gold\"],\n",
    "        \"Melting Point (K)\": [1357.77, 1234.93, 1337.33],\n",
    "    }\n",
    ")\n",
    "\n",
    "df2 = pl.DataFrame(\n",
    "    {\"Element\": [\"Platinum\", \"Palladium\"], \"Melting Point (K)\": [2041.4, 1828.05]}\n",
    ")\n",
    "\n",
    "df3 = pl.DataFrame({\"Element\": [\"Titanium\"], \"Melting Point (K)\": [1945.0]})"
   ]
  },
  {
   "cell_type": "markdown",
   "metadata": {},
   "source": [
    "Now we need to send these Polar dataframes to the server and get back our RemoteLazyFrame instances which we will be working with in the rest of the tutorial.\n",
    "\n",
    "For the sake of this tutorial, we specify an unsafe policy which disables all checks. We set the `unsafe_zone` parameter to `TrueRule()` to allow all requests. In this case, the `unsafe_handling` parameter can be anything (as there are no unsafe requests), we set it to `Log()` in the following example.\n",
    "\n",
    "Note that this is purely done so that we can focus on demonstrating the vstack feature in BastionLab without having to worry about approving any data access requests. This policy is not suitable for production."
   ]
  },
  {
   "cell_type": "code",
   "execution_count": 5,
   "metadata": {},
   "outputs": [],
   "source": [
    "from bastionlab.polars.policy import Policy, TrueRule, Log\n",
    "\n",
    "policy = Policy(safe_zone=TrueRule(), unsafe_handling=Log())\n",
    "\n",
    "rdf1 = client.polars.send_df(df1, policy=policy)\n",
    "rdf2 = client.polars.send_df(df2, policy=policy)\n",
    "rdf3 = client.polars.send_df(df3, policy=policy)"
   ]
  },
  {
   "cell_type": "markdown",
   "metadata": {},
   "source": [
    "So now we will test out vstack by adding the second dataframe, with the Platinum and Palladium elements, to our first one, with Copper, Silver and Gold. We simply change rdf1 to equal the RemoteLazyFrame returned by our vstack function.\n",
    "\n",
    "As you can see when we .collect().fetch() our RemoteLazyFrame, the second dataframe has now been appended to the bottom of the first one."
   ]
  },
  {
   "cell_type": "code",
   "execution_count": 6,
   "metadata": {},
   "outputs": [
    {
     "data": {
      "text/html": [
       "<div>\n",
       "<style scoped>\n",
       "    .dataframe tbody tr th:only-of-type {\n",
       "        vertical-align: middle;\n",
       "    }\n",
       "\n",
       "    .dataframe tbody tr th {\n",
       "        vertical-align: top;\n",
       "    }\n",
       "\n",
       "    .dataframe thead th {\n",
       "        text-align: right;\n",
       "    }\n",
       "\n",
       "    .dataframe td {\n",
       "        white-space: pre;\n",
       "    }\n",
       "\n",
       "    .dataframe td {\n",
       "        padding-top: 0;\n",
       "    }\n",
       "\n",
       "    .dataframe td {\n",
       "        padding-bottom: 0;\n",
       "    }\n",
       "</style>\n",
       "<table border=\"1\" class=\"dataframe\" >\n",
       "<small>shape: (5, 2)</small>\n",
       "<thead>\n",
       "<tr>\n",
       "<th>\n",
       "Element\n",
       "</th>\n",
       "<th>\n",
       "Melting Point (K)\n",
       "</th>\n",
       "</tr>\n",
       "<tr>\n",
       "<td>\n",
       "str\n",
       "</td>\n",
       "<td>\n",
       "f64\n",
       "</td>\n",
       "</tr>\n",
       "</thead>\n",
       "<tbody>\n",
       "<tr>\n",
       "<td>\n",
       "&quot;Copper&quot;\n",
       "</td>\n",
       "<td>\n",
       "1357.77\n",
       "</td>\n",
       "</tr>\n",
       "<tr>\n",
       "<td>\n",
       "&quot;Silver&quot;\n",
       "</td>\n",
       "<td>\n",
       "1234.93\n",
       "</td>\n",
       "</tr>\n",
       "<tr>\n",
       "<td>\n",
       "&quot;Gold&quot;\n",
       "</td>\n",
       "<td>\n",
       "1337.33\n",
       "</td>\n",
       "</tr>\n",
       "<tr>\n",
       "<td>\n",
       "&quot;Platinum&quot;\n",
       "</td>\n",
       "<td>\n",
       "2041.4\n",
       "</td>\n",
       "</tr>\n",
       "<tr>\n",
       "<td>\n",
       "&quot;Palladium&quot;\n",
       "</td>\n",
       "<td>\n",
       "1828.05\n",
       "</td>\n",
       "</tr>\n",
       "</tbody>\n",
       "</table>\n",
       "</div>"
      ],
      "text/plain": [
       "shape: (5, 2)\n",
       "┌───────────┬───────────────────┐\n",
       "│ Element   ┆ Melting Point (K) │\n",
       "│ ---       ┆ ---               │\n",
       "│ str       ┆ f64               │\n",
       "╞═══════════╪═══════════════════╡\n",
       "│ Copper    ┆ 1357.77           │\n",
       "├╌╌╌╌╌╌╌╌╌╌╌┼╌╌╌╌╌╌╌╌╌╌╌╌╌╌╌╌╌╌╌┤\n",
       "│ Silver    ┆ 1234.93           │\n",
       "├╌╌╌╌╌╌╌╌╌╌╌┼╌╌╌╌╌╌╌╌╌╌╌╌╌╌╌╌╌╌╌┤\n",
       "│ Gold      ┆ 1337.33           │\n",
       "├╌╌╌╌╌╌╌╌╌╌╌┼╌╌╌╌╌╌╌╌╌╌╌╌╌╌╌╌╌╌╌┤\n",
       "│ Platinum  ┆ 2041.4            │\n",
       "├╌╌╌╌╌╌╌╌╌╌╌┼╌╌╌╌╌╌╌╌╌╌╌╌╌╌╌╌╌╌╌┤\n",
       "│ Palladium ┆ 1828.05           │\n",
       "└───────────┴───────────────────┘"
      ]
     },
     "execution_count": 6,
     "metadata": {},
     "output_type": "execute_result"
    }
   ],
   "source": [
    "rdf1 = rdf1.vstack(rdf2)\n",
    "rdf1.collect().fetch()"
   ]
  },
  {
   "cell_type": "markdown",
   "metadata": {},
   "source": [
    "Next we will add our third RemoteLazyFrame containing Titanium to rdf1, two times!\n",
    "\n",
    "As you can see, we now have all the previous elements, plus two lots of Titanium at the end."
   ]
  },
  {
   "cell_type": "code",
   "execution_count": 7,
   "metadata": {},
   "outputs": [
    {
     "data": {
      "text/html": [
       "<div>\n",
       "<style scoped>\n",
       "    .dataframe tbody tr th:only-of-type {\n",
       "        vertical-align: middle;\n",
       "    }\n",
       "\n",
       "    .dataframe tbody tr th {\n",
       "        vertical-align: top;\n",
       "    }\n",
       "\n",
       "    .dataframe thead th {\n",
       "        text-align: right;\n",
       "    }\n",
       "\n",
       "    .dataframe td {\n",
       "        white-space: pre;\n",
       "    }\n",
       "\n",
       "    .dataframe td {\n",
       "        padding-top: 0;\n",
       "    }\n",
       "\n",
       "    .dataframe td {\n",
       "        padding-bottom: 0;\n",
       "    }\n",
       "</style>\n",
       "<table border=\"1\" class=\"dataframe\" >\n",
       "<small>shape: (7, 2)</small>\n",
       "<thead>\n",
       "<tr>\n",
       "<th>\n",
       "Element\n",
       "</th>\n",
       "<th>\n",
       "Melting Point (K)\n",
       "</th>\n",
       "</tr>\n",
       "<tr>\n",
       "<td>\n",
       "str\n",
       "</td>\n",
       "<td>\n",
       "f64\n",
       "</td>\n",
       "</tr>\n",
       "</thead>\n",
       "<tbody>\n",
       "<tr>\n",
       "<td>\n",
       "&quot;Copper&quot;\n",
       "</td>\n",
       "<td>\n",
       "1357.77\n",
       "</td>\n",
       "</tr>\n",
       "<tr>\n",
       "<td>\n",
       "&quot;Silver&quot;\n",
       "</td>\n",
       "<td>\n",
       "1234.93\n",
       "</td>\n",
       "</tr>\n",
       "<tr>\n",
       "<td>\n",
       "&quot;Gold&quot;\n",
       "</td>\n",
       "<td>\n",
       "1337.33\n",
       "</td>\n",
       "</tr>\n",
       "<tr>\n",
       "<td>\n",
       "&quot;Platinum&quot;\n",
       "</td>\n",
       "<td>\n",
       "2041.4\n",
       "</td>\n",
       "</tr>\n",
       "<tr>\n",
       "<td>\n",
       "&quot;Palladium&quot;\n",
       "</td>\n",
       "<td>\n",
       "1828.05\n",
       "</td>\n",
       "</tr>\n",
       "<tr>\n",
       "<td>\n",
       "&quot;Titanium&quot;\n",
       "</td>\n",
       "<td>\n",
       "1945.0\n",
       "</td>\n",
       "</tr>\n",
       "<tr>\n",
       "<td>\n",
       "&quot;Titanium&quot;\n",
       "</td>\n",
       "<td>\n",
       "1945.0\n",
       "</td>\n",
       "</tr>\n",
       "</tbody>\n",
       "</table>\n",
       "</div>"
      ],
      "text/plain": [
       "shape: (7, 2)\n",
       "┌───────────┬───────────────────┐\n",
       "│ Element   ┆ Melting Point (K) │\n",
       "│ ---       ┆ ---               │\n",
       "│ str       ┆ f64               │\n",
       "╞═══════════╪═══════════════════╡\n",
       "│ Copper    ┆ 1357.77           │\n",
       "├╌╌╌╌╌╌╌╌╌╌╌┼╌╌╌╌╌╌╌╌╌╌╌╌╌╌╌╌╌╌╌┤\n",
       "│ Silver    ┆ 1234.93           │\n",
       "├╌╌╌╌╌╌╌╌╌╌╌┼╌╌╌╌╌╌╌╌╌╌╌╌╌╌╌╌╌╌╌┤\n",
       "│ Gold      ┆ 1337.33           │\n",
       "├╌╌╌╌╌╌╌╌╌╌╌┼╌╌╌╌╌╌╌╌╌╌╌╌╌╌╌╌╌╌╌┤\n",
       "│ Platinum  ┆ 2041.4            │\n",
       "├╌╌╌╌╌╌╌╌╌╌╌┼╌╌╌╌╌╌╌╌╌╌╌╌╌╌╌╌╌╌╌┤\n",
       "│ Palladium ┆ 1828.05           │\n",
       "├╌╌╌╌╌╌╌╌╌╌╌┼╌╌╌╌╌╌╌╌╌╌╌╌╌╌╌╌╌╌╌┤\n",
       "│ Titanium  ┆ 1945.0            │\n",
       "├╌╌╌╌╌╌╌╌╌╌╌┼╌╌╌╌╌╌╌╌╌╌╌╌╌╌╌╌╌╌╌┤\n",
       "│ Titanium  ┆ 1945.0            │\n",
       "└───────────┴───────────────────┘"
      ]
     },
     "execution_count": 7,
     "metadata": {},
     "output_type": "execute_result"
    }
   ],
   "source": [
    "rdf1 = rdf1.vstack(rdf3)\n",
    "rdf1 = rdf1.vstack(rdf3)\n",
    "rdf1.collect().fetch()"
   ]
  },
  {
   "cell_type": "markdown",
   "metadata": {},
   "source": [
    "And that's it for this tutorial. Finally, we will now simply close the connection."
   ]
  },
  {
   "cell_type": "code",
   "execution_count": 8,
   "metadata": {},
   "outputs": [],
   "source": [
    "connection.close()"
   ]
  }
 ],
 "metadata": {
  "kernelspec": {
   "display_name": "Python 3.9.13 ('.venv': venv)",
   "language": "python",
   "name": "python3"
  },
  "language_info": {
   "codemirror_mode": {
    "name": "ipython",
    "version": 3
   },
   "file_extension": ".py",
   "mimetype": "text/x-python",
   "name": "python",
   "nbconvert_exporter": "python",
   "pygments_lexer": "ipython3",
   "version": "3.9.13"
  },
  "orig_nbformat": 4,
  "vscode": {
   "interpreter": {
    "hash": "ecc9e348b2453baa0e4208f38ec7a9ed567024199131dbd6d415ec8001506678"
   }
  }
 },
 "nbformat": 4,
 "nbformat_minor": 2
}
