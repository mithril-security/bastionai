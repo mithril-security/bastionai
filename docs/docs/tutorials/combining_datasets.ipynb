{
 "cells": [
  {
   "attachments": {},
   "cell_type": "markdown",
   "metadata": {},
   "source": [
    "# Combining Datasets Tutorial\n",
    "\n",
    "In this tutorial, we are going to see how to use BastionLab's vstack function to join RemoteLazyFrames vertically. This can be particularly useful if you want to query or train models on a combination of datasets from different parties. The only requirement is that datasets must have the same column names/types. You can learn about dataset preparation including changing column types, names and adding and removing columns in out data cleaning tutorial.\n",
    "\n",
    "## Pre-requisites\n",
    "\n",
    "### Technical requirements\n",
    "\n",
    "- You have installed BastionLab Server and Client.\n",
    "\n",
    "If not, you can go check out our [installation page](https://bastionlab.readthedocs.io/en/latest/docs/getting-started/installation/) or run the code block below: "
   ]
  },
  {
   "cell_type": "code",
   "execution_count": 1,
   "metadata": {},
   "outputs": [],
   "source": [
    "!pip install bastionlab\n",
    "!docker run -it -p 50056:50056 -d mithrilsecuritysas/bastionlab:latest"
   ]
  },
  {
   "cell_type": "code",
   "execution_count": null,
   "metadata": {},
   "outputs": [],
   "source": [
    "# To run the server\n",
    "from bastionlab import Connection\n",
    "\n",
    "connection = Connection(\"localhost\")\n",
    "client = connection.client"
   ]
  },
  {
   "attachments": {},
   "cell_type": "markdown",
   "metadata": {},
   "source": [
    "### Upload the dataframe to the server"
   ]
  },
  {
   "attachments": {},
   "cell_type": "markdown",
   "metadata": {},
   "source": [
    "For this tutorial, we'll create three simple Polars dataframes with \"Element\" and \"Melting Point (K)\" columns."
   ]
  },
  {
   "cell_type": "code",
   "execution_count": 4,
   "metadata": {},
   "outputs": [],
   "source": [
    "import polars as pl\n",
    "\n",
    "df1 = pl.DataFrame(\n",
    "    {\n",
    "        \"Element\": [\"Copper\", \"Silver\", \"Gold\"],\n",
    "        \"Melting Point (K)\": [1357.77, 1234.93, 1337.33],\n",
    "    }\n",
    ")\n",
    "\n",
    "df2 = pl.DataFrame(\n",
    "    {\"Element\": [\"Platinum\", \"Palladium\"], \"Melting Point (K)\": [2041.4, 1828.05]}\n",
    ")\n",
    "\n",
    "df3 = pl.DataFrame({\"Element\": [\"Titanium\"], \"Melting Point (K)\": [1945.0]})"
   ]
  },
  {
   "attachments": {},
   "cell_type": "markdown",
   "metadata": {},
   "source": [
    "Now we need to send these Polar dataframes to the server and get back our RemoteLazyFrame instances which we will be working with in the rest of the tutorial.\n",
    "\n",
    "Since this is not the focus of this tutorial, we'll quickly set up an open safety policy that allows us to demonstrate features without having to approve any data access requests. We want to underline that **this policy is not suitable for production.**"
   ]
  },
  {
   "cell_type": "code",
   "execution_count": 5,
   "metadata": {},
   "outputs": [],
   "source": [
    "from bastionlab.polars.policy import Policy, TrueRule, Log\n",
    "\n",
    "policy = Policy(safe_zone=TrueRule(), unsafe_handling=Log())\n",
    "\n",
    "rdf1 = client.polars.send_df(df1, policy=policy)\n",
    "rdf2 = client.polars.send_df(df2, policy=policy)\n",
    "rdf3 = client.polars.send_df(df3, policy=policy)"
   ]
  },
  {
   "cell_type": "markdown",
   "metadata": {},
   "source": [
    "So now we will test out vstack by adding the second dataframe, with the Platinum and Palladium elements, to our first one, with Copper, Silver and Gold. We simply change rdf1 to equal the RemoteLazyFrame returned by our vstack function.\n",
    "\n",
    "As you can see when we .collect().fetch() our RemoteLazyFrame, the second dataframe has now been appended to the bottom of the first one."
   ]
  },
  {
   "cell_type": "code",
   "execution_count": 6,
   "metadata": {},
   "outputs": [
    {
     "data": {
      "text/html": [
       "<div>\n",
       "<style scoped>\n",
       "    .dataframe tbody tr th:only-of-type {\n",
       "        vertical-align: middle;\n",
       "    }\n",
       "\n",
       "    .dataframe tbody tr th {\n",
       "        vertical-align: top;\n",
       "    }\n",
       "\n",
       "    .dataframe thead th {\n",
       "        text-align: right;\n",
       "    }\n",
       "\n",
       "    .dataframe td {\n",
       "        white-space: pre;\n",
       "    }\n",
       "\n",
       "    .dataframe td {\n",
       "        padding-top: 0;\n",
       "    }\n",
       "\n",
       "    .dataframe td {\n",
       "        padding-bottom: 0;\n",
       "    }\n",
       "</style>\n",
       "<table border=\"1\" class=\"dataframe\" >\n",
       "<small>shape: (5, 2)</small>\n",
       "<thead>\n",
       "<tr>\n",
       "<th>\n",
       "Element\n",
       "</th>\n",
       "<th>\n",
       "Melting Point (K)\n",
       "</th>\n",
       "</tr>\n",
       "<tr>\n",
       "<td>\n",
       "str\n",
       "</td>\n",
       "<td>\n",
       "f64\n",
       "</td>\n",
       "</tr>\n",
       "</thead>\n",
       "<tbody>\n",
       "<tr>\n",
       "<td>\n",
       "&quot;Copper&quot;\n",
       "</td>\n",
       "<td>\n",
       "1357.77\n",
       "</td>\n",
       "</tr>\n",
       "<tr>\n",
       "<td>\n",
       "&quot;Silver&quot;\n",
       "</td>\n",
       "<td>\n",
       "1234.93\n",
       "</td>\n",
       "</tr>\n",
       "<tr>\n",
       "<td>\n",
       "&quot;Gold&quot;\n",
       "</td>\n",
       "<td>\n",
       "1337.33\n",
       "</td>\n",
       "</tr>\n",
       "<tr>\n",
       "<td>\n",
       "&quot;Platinum&quot;\n",
       "</td>\n",
       "<td>\n",
       "2041.4\n",
       "</td>\n",
       "</tr>\n",
       "<tr>\n",
       "<td>\n",
       "&quot;Palladium&quot;\n",
       "</td>\n",
       "<td>\n",
       "1828.05\n",
       "</td>\n",
       "</tr>\n",
       "</tbody>\n",
       "</table>\n",
       "</div>"
      ],
      "text/plain": [
       "shape: (5, 2)\n",
       "┌───────────┬───────────────────┐\n",
       "│ Element   ┆ Melting Point (K) │\n",
       "│ ---       ┆ ---               │\n",
       "│ str       ┆ f64               │\n",
       "╞═══════════╪═══════════════════╡\n",
       "│ Copper    ┆ 1357.77           │\n",
       "├╌╌╌╌╌╌╌╌╌╌╌┼╌╌╌╌╌╌╌╌╌╌╌╌╌╌╌╌╌╌╌┤\n",
       "│ Silver    ┆ 1234.93           │\n",
       "├╌╌╌╌╌╌╌╌╌╌╌┼╌╌╌╌╌╌╌╌╌╌╌╌╌╌╌╌╌╌╌┤\n",
       "│ Gold      ┆ 1337.33           │\n",
       "├╌╌╌╌╌╌╌╌╌╌╌┼╌╌╌╌╌╌╌╌╌╌╌╌╌╌╌╌╌╌╌┤\n",
       "│ Platinum  ┆ 2041.4            │\n",
       "├╌╌╌╌╌╌╌╌╌╌╌┼╌╌╌╌╌╌╌╌╌╌╌╌╌╌╌╌╌╌╌┤\n",
       "│ Palladium ┆ 1828.05           │\n",
       "└───────────┴───────────────────┘"
      ]
     },
     "execution_count": 6,
     "metadata": {},
     "output_type": "execute_result"
    }
   ],
   "source": [
    "rdf1 = rdf1.vstack(rdf2)\n",
    "rdf1.collect().fetch()"
   ]
  },
  {
   "cell_type": "markdown",
   "metadata": {},
   "source": [
    "Next we will add our third RemoteLazyFrame containing Titanium to rdf1, two times!\n",
    "\n",
    "As you can see, we now have all the previous elements, plus two lots of Titanium at the end."
   ]
  },
  {
   "cell_type": "code",
   "execution_count": 7,
   "metadata": {},
   "outputs": [
    {
     "data": {
      "text/html": [
       "<div>\n",
       "<style scoped>\n",
       "    .dataframe tbody tr th:only-of-type {\n",
       "        vertical-align: middle;\n",
       "    }\n",
       "\n",
       "    .dataframe tbody tr th {\n",
       "        vertical-align: top;\n",
       "    }\n",
       "\n",
       "    .dataframe thead th {\n",
       "        text-align: right;\n",
       "    }\n",
       "\n",
       "    .dataframe td {\n",
       "        white-space: pre;\n",
       "    }\n",
       "\n",
       "    .dataframe td {\n",
       "        padding-top: 0;\n",
       "    }\n",
       "\n",
       "    .dataframe td {\n",
       "        padding-bottom: 0;\n",
       "    }\n",
       "</style>\n",
       "<table border=\"1\" class=\"dataframe\" >\n",
       "<small>shape: (7, 2)</small>\n",
       "<thead>\n",
       "<tr>\n",
       "<th>\n",
       "Element\n",
       "</th>\n",
       "<th>\n",
       "Melting Point (K)\n",
       "</th>\n",
       "</tr>\n",
       "<tr>\n",
       "<td>\n",
       "str\n",
       "</td>\n",
       "<td>\n",
       "f64\n",
       "</td>\n",
       "</tr>\n",
       "</thead>\n",
       "<tbody>\n",
       "<tr>\n",
       "<td>\n",
       "&quot;Copper&quot;\n",
       "</td>\n",
       "<td>\n",
       "1357.77\n",
       "</td>\n",
       "</tr>\n",
       "<tr>\n",
       "<td>\n",
       "&quot;Silver&quot;\n",
       "</td>\n",
       "<td>\n",
       "1234.93\n",
       "</td>\n",
       "</tr>\n",
       "<tr>\n",
       "<td>\n",
       "&quot;Gold&quot;\n",
       "</td>\n",
       "<td>\n",
       "1337.33\n",
       "</td>\n",
       "</tr>\n",
       "<tr>\n",
       "<td>\n",
       "&quot;Platinum&quot;\n",
       "</td>\n",
       "<td>\n",
       "2041.4\n",
       "</td>\n",
       "</tr>\n",
       "<tr>\n",
       "<td>\n",
       "&quot;Palladium&quot;\n",
       "</td>\n",
       "<td>\n",
       "1828.05\n",
       "</td>\n",
       "</tr>\n",
       "<tr>\n",
       "<td>\n",
       "&quot;Titanium&quot;\n",
       "</td>\n",
       "<td>\n",
       "1945.0\n",
       "</td>\n",
       "</tr>\n",
       "<tr>\n",
       "<td>\n",
       "&quot;Titanium&quot;\n",
       "</td>\n",
       "<td>\n",
       "1945.0\n",
       "</td>\n",
       "</tr>\n",
       "</tbody>\n",
       "</table>\n",
       "</div>"
      ],
      "text/plain": [
       "shape: (7, 2)\n",
       "┌───────────┬───────────────────┐\n",
       "│ Element   ┆ Melting Point (K) │\n",
       "│ ---       ┆ ---               │\n",
       "│ str       ┆ f64               │\n",
       "╞═══════════╪═══════════════════╡\n",
       "│ Copper    ┆ 1357.77           │\n",
       "├╌╌╌╌╌╌╌╌╌╌╌┼╌╌╌╌╌╌╌╌╌╌╌╌╌╌╌╌╌╌╌┤\n",
       "│ Silver    ┆ 1234.93           │\n",
       "├╌╌╌╌╌╌╌╌╌╌╌┼╌╌╌╌╌╌╌╌╌╌╌╌╌╌╌╌╌╌╌┤\n",
       "│ Gold      ┆ 1337.33           │\n",
       "├╌╌╌╌╌╌╌╌╌╌╌┼╌╌╌╌╌╌╌╌╌╌╌╌╌╌╌╌╌╌╌┤\n",
       "│ Platinum  ┆ 2041.4            │\n",
       "├╌╌╌╌╌╌╌╌╌╌╌┼╌╌╌╌╌╌╌╌╌╌╌╌╌╌╌╌╌╌╌┤\n",
       "│ Palladium ┆ 1828.05           │\n",
       "├╌╌╌╌╌╌╌╌╌╌╌┼╌╌╌╌╌╌╌╌╌╌╌╌╌╌╌╌╌╌╌┤\n",
       "│ Titanium  ┆ 1945.0            │\n",
       "├╌╌╌╌╌╌╌╌╌╌╌┼╌╌╌╌╌╌╌╌╌╌╌╌╌╌╌╌╌╌╌┤\n",
       "│ Titanium  ┆ 1945.0            │\n",
       "└───────────┴───────────────────┘"
      ]
     },
     "execution_count": 7,
     "metadata": {},
     "output_type": "execute_result"
    }
   ],
   "source": [
    "rdf1 = rdf1.vstack(rdf3)\n",
    "rdf1 = rdf1.vstack(rdf3)\n",
    "rdf1.collect().fetch()"
   ]
  },
  {
   "cell_type": "markdown",
   "metadata": {},
   "source": [
    "And that's it for this tutorial. Finally, we will now simply close the connection."
   ]
  },
  {
   "cell_type": "code",
   "execution_count": 8,
   "metadata": {},
   "outputs": [],
   "source": [
    "connection.close()"
   ]
  }
 ],
 "metadata": {
  "kernelspec": {
   "display_name": "Python 3.9.13 ('.venv': venv)",
   "language": "python",
   "name": "python3"
  },
  "language_info": {
   "codemirror_mode": {
    "name": "ipython",
    "version": 3
   },
   "file_extension": ".py",
   "mimetype": "text/x-python",
   "name": "python",
   "nbconvert_exporter": "python",
   "pygments_lexer": "ipython3",
   "version": "3.9.13"
  },
  "orig_nbformat": 4,
  "vscode": {
   "interpreter": {
    "hash": "ecc9e348b2453baa0e4208f38ec7a9ed567024199131dbd6d415ec8001506678"
   }
  }
 },
 "nbformat": 4,
 "nbformat_minor": 2
}
