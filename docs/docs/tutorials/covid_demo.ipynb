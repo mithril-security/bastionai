{
 "cells": [
  {
   "cell_type": "markdown",
   "metadata": {},
   "source": [
    "# Covid-19- Analysis, Visualization and Comparaisons with BastionLab\n",
    "\n",
    "In this tutorial, we are going to explore how we can use BastionLab to explore a Covid-19 dataset.\n",
    "\n",
    "## Pre-requisites\n",
    "\n",
    "### Technical Requirements\n",
    "\n",
    "To start this tutorial, ensure the following are already installed in your system:\n",
    "- Python3.7 or greater (get the latest version of Python at https://www.python.org/downloads/ or with your operating system’s package manager)\n",
    "- [Python Pip](https://pypi.org/project/pip/) (PyPi), the package manager\n",
    "- [Docker](https://www.docker.com/) \n",
    "\n",
    "*Here's the [Docker official tutorial](https://docker-curriculum.com/) to set it up on your computer.*\n",
    "\n",
    "## Pip packages and dataset\n",
    "\n",
    "In order to run this notebook, you will also need to install Polars, Bastionlab which you can do by running the code block below. Finally, you will need to download the dataset we will be using in this tutorial from Kaggle by following this link: https://www.kaggle.com/datasets/sudalairajkumar/novel-corona-virus-2019-dataset and creaing a free user account. You then need to move the \"covid_19_data.csv\" file into this folder. This dataset is a WHO dataset, compiling worldwide statitics related to cases of Covid-19 around the globe."
   ]
  },
  {
   "cell_type": "code",
   "execution_count": null,
   "metadata": {},
   "outputs": [],
   "source": [
    "! pip install polars seaborn squarify matplotlib\n",
    "! pip install bastionlab"
   ]
  },
  {
   "cell_type": "markdown",
   "metadata": {},
   "source": [
    "## Getting set-up\n",
    "So firstly, we need to download the dataset we will be working with.\n",
    "We will need to create a key pair and run the server with a copy of the public key so that authentication can be implemented.\n",
    "\n",
    "To create a key pair, I use BastionLab's Identity.create() method and specifify the path for my key. This will generate a private key with my specified file name, plus a corresponding \".pub\" public key.\n",
    "\n",
    "To create my signing key which I will use when connecting to the server, I simply use the Identity.load() method with the path to my private key.\n",
    "\n",
    "Finally I move public key to a separate folder which I can then send to the server when I launch my docker container."
   ]
  },
  {
   "cell_type": "code",
   "execution_count": null,
   "metadata": {},
   "outputs": [],
   "source": [
    "from bastionlab import Identity\n",
    "\n",
    "!mkdir -p privkey\n",
    "!mkdir -p pubkey\n",
    "\n",
    "Identity.create(\"./privkey/data_owner\")\n",
    "!mv privkey/data_owner.pub  pubkey/data_owner.pub\n",
    "\n",
    "data_owner_key = Identity.load(\"./privkey/data_owner\")"
   ]
  },
  {
   "cell_type": "markdown",
   "metadata": {},
   "source": [
    "The next step is to launch the server using Docker. Note how we send our public key to the server so that it can implement authentication."
   ]
  },
  {
   "cell_type": "code",
   "execution_count": 14,
   "metadata": {},
   "outputs": [],
   "source": [
    "!docker run -p 50056:50056 --mount type=bind,source=$(pwd)/pubkey/,target=/app/bin/keys/ -d mithrilsecuritysas/bastionlab:latest"
   ]
  },
  {
   "cell_type": "markdown",
   "metadata": {},
   "source": [
    "Now that's all done, we can finally connect to our server, send over our CSV file and start analysing our data!\n",
    "\n",
    "Firstly, we read in the dataset using Polar's read_csv() function, which returns a Polar's DataFrame instance containing the dataset.\n",
    "Secondly, we connect to the server using Bastionlab's Connection() method- we provide our signing key for authentication purposes."
   ]
  },
  {
   "cell_type": "code",
   "execution_count": 15,
   "metadata": {},
   "outputs": [],
   "source": [
    "from bastionlab import Connection\n",
    "import polars as pl\n",
    "\n",
    "df = pl.read_csv(\"covid_19_data.csv\")\n",
    "\n",
    "connection = Connection(\"localhost\", 50056, identity=data_owner_key)\n",
    "client = connection.client"
   ]
  },
  {
   "cell_type": "markdown",
   "metadata": {},
   "source": [
    "Finally, we send the Polar's DataFrame instance to the server using Bastionlab's send_df() method which will return a RemoteLazyFrame instance, a reference to the DataFrame uploaded which we will be working with throughout this tutorial. For the sake of this tutorial, we specify an unsafe policy which disables the need for the data owner to approve any requests that don't pass our data safety rules. This is purely done so that we can focus on demonstrating data cleaning and analysis in BastionLab without having to worry about approving any data access requests."
   ]
  },
  {
   "cell_type": "code",
   "execution_count": 16,
   "metadata": {},
   "outputs": [],
   "source": [
    "from bastionlab.polars.policy import Policy, TrueRule, Log\n",
    "\n",
    "policy = Policy(safe_zone=TrueRule(), unsafe_handling=Log())\n",
    "rdf = client.polars.send_df(df, policy=policy)"
   ]
  },
  {
   "cell_type": "markdown",
   "metadata": {},
   "source": [
    "We can now see the list of column names in the dataset by using RemoteDataFrame's columns() method."
   ]
  },
  {
   "cell_type": "code",
   "execution_count": 17,
   "metadata": {},
   "outputs": [
    {
     "data": {
      "text/plain": [
       "['SNo',\n",
       " 'ObservationDate',\n",
       " 'Province/State',\n",
       " 'Country/Region',\n",
       " 'Last Update',\n",
       " 'Confirmed',\n",
       " 'Deaths',\n",
       " 'Recovered']"
      ]
     },
     "execution_count": 17,
     "metadata": {},
     "output_type": "execute_result"
    }
   ],
   "source": [
    "rdf.columns"
   ]
  },
  {
   "cell_type": "markdown",
   "metadata": {},
   "source": [
    "# Data cleaning: Null values\n",
    "\n",
    "Firstly, I want to see where I might have problems with missing values in my dataset, so I am going to calculate what percentage of values are missing from each column by taking the sum of is_null() values in each column, multiplying them by 100 and dividing them by the total rows of that same column.\n",
    "\n",
    "In order to make this tutorial easier to follow, I will print out the results of my query using the .collect() and .fetch() methods necessary to transform the RemoteLazyFrame instance to a readable dataset. This would ordinarily require the request to be confirmed by the dataset owner, but in this case, we have disabled the data access approval feature."
   ]
  },
  {
   "cell_type": "code",
   "execution_count": 18,
   "metadata": {},
   "outputs": [
    {
     "data": {
      "text/html": [
       "<div>\n",
       "<style scoped>\n",
       "    .dataframe tbody tr th:only-of-type {\n",
       "        vertical-align: middle;\n",
       "    }\n",
       "\n",
       "    .dataframe tbody tr th {\n",
       "        vertical-align: top;\n",
       "    }\n",
       "\n",
       "    .dataframe thead th {\n",
       "        text-align: right;\n",
       "    }\n",
       "\n",
       "    .dataframe td {\n",
       "        white-space: pre;\n",
       "    }\n",
       "\n",
       "    .dataframe td {\n",
       "        padding-top: 0;\n",
       "    }\n",
       "\n",
       "    .dataframe td {\n",
       "        padding-bottom: 0;\n",
       "    }\n",
       "</style>\n",
       "<table border=\"1\" class=\"dataframe\" >\n",
       "<small>shape: (1, 8)</small>\n",
       "<thead>\n",
       "<tr>\n",
       "<th>\n",
       "SNo\n",
       "</th>\n",
       "<th>\n",
       "ObservationDate\n",
       "</th>\n",
       "<th>\n",
       "Province/State\n",
       "</th>\n",
       "<th>\n",
       "Country/Region\n",
       "</th>\n",
       "<th>\n",
       "Last Update\n",
       "</th>\n",
       "<th>\n",
       "Confirmed\n",
       "</th>\n",
       "<th>\n",
       "Deaths\n",
       "</th>\n",
       "<th>\n",
       "Recovered\n",
       "</th>\n",
       "</tr>\n",
       "<tr>\n",
       "<td>\n",
       "f64\n",
       "</td>\n",
       "<td>\n",
       "f64\n",
       "</td>\n",
       "<td>\n",
       "f64\n",
       "</td>\n",
       "<td>\n",
       "f64\n",
       "</td>\n",
       "<td>\n",
       "f64\n",
       "</td>\n",
       "<td>\n",
       "f64\n",
       "</td>\n",
       "<td>\n",
       "f64\n",
       "</td>\n",
       "<td>\n",
       "f64\n",
       "</td>\n",
       "</tr>\n",
       "</thead>\n",
       "<tbody>\n",
       "<tr>\n",
       "<td>\n",
       "0.0\n",
       "</td>\n",
       "<td>\n",
       "0.0\n",
       "</td>\n",
       "<td>\n",
       "25.487144\n",
       "</td>\n",
       "<td>\n",
       "0.0\n",
       "</td>\n",
       "<td>\n",
       "0.0\n",
       "</td>\n",
       "<td>\n",
       "0.0\n",
       "</td>\n",
       "<td>\n",
       "0.0\n",
       "</td>\n",
       "<td>\n",
       "0.0\n",
       "</td>\n",
       "</tr>\n",
       "</tbody>\n",
       "</table>\n",
       "</div>"
      ],
      "text/plain": [
       "shape: (1, 8)\n",
       "┌─────┬───────────────┬──────────────┬──────────────┬─────────────┬───────────┬────────┬───────────┐\n",
       "│ SNo ┆ ObservationDa ┆ Province/Sta ┆ Country/Regi ┆ Last Update ┆ Confirmed ┆ Deaths ┆ Recovered │\n",
       "│ --- ┆ te            ┆ te           ┆ on           ┆ ---         ┆ ---       ┆ ---    ┆ ---       │\n",
       "│ f64 ┆ ---           ┆ ---          ┆ ---          ┆ f64         ┆ f64       ┆ f64    ┆ f64       │\n",
       "│     ┆ f64           ┆ f64          ┆ f64          ┆             ┆           ┆        ┆           │\n",
       "╞═════╪═══════════════╪══════════════╪══════════════╪═════════════╪═══════════╪════════╪═══════════╡\n",
       "│ 0.0 ┆ 0.0           ┆ 25.487144    ┆ 0.0          ┆ 0.0         ┆ 0.0       ┆ 0.0    ┆ 0.0       │\n",
       "└─────┴───────────────┴──────────────┴──────────────┴─────────────┴───────────┴────────┴───────────┘"
      ]
     },
     "execution_count": 18,
     "metadata": {},
     "output_type": "execute_result"
    }
   ],
   "source": [
    "percent_missing = rdf.select(\n",
    "    pl.col(x).is_null().sum() * 100 / pl.col(x).count() for x in rdf.columns\n",
    ")\n",
    "percent_missing.collect().fetch()"
   ]
  },
  {
   "cell_type": "markdown",
   "metadata": {},
   "source": [
    "We can see that there are quite a lot of null values in the Province/State column. Let's change these null values to \"Uknown\" by selecting the column 'Province/State' and using the fill_null() method to fill null values with a value of our choice- \"Unknown\" in this case.\n",
    "\n",
    "To check this has worked, I will output the total sum of null values in the 'Province/State' column- we can see this is now 0."
   ]
  },
  {
   "cell_type": "code",
   "execution_count": 19,
   "metadata": {},
   "outputs": [
    {
     "data": {
      "text/html": [
       "<div>\n",
       "<style scoped>\n",
       "    .dataframe tbody tr th:only-of-type {\n",
       "        vertical-align: middle;\n",
       "    }\n",
       "\n",
       "    .dataframe tbody tr th {\n",
       "        vertical-align: top;\n",
       "    }\n",
       "\n",
       "    .dataframe thead th {\n",
       "        text-align: right;\n",
       "    }\n",
       "\n",
       "    .dataframe td {\n",
       "        white-space: pre;\n",
       "    }\n",
       "\n",
       "    .dataframe td {\n",
       "        padding-top: 0;\n",
       "    }\n",
       "\n",
       "    .dataframe td {\n",
       "        padding-bottom: 0;\n",
       "    }\n",
       "</style>\n",
       "<table border=\"1\" class=\"dataframe\" >\n",
       "<small>shape: (1, 1)</small>\n",
       "<thead>\n",
       "<tr>\n",
       "<th>\n",
       "Province/State\n",
       "</th>\n",
       "</tr>\n",
       "<tr>\n",
       "<td>\n",
       "u32\n",
       "</td>\n",
       "</tr>\n",
       "</thead>\n",
       "<tbody>\n",
       "<tr>\n",
       "<td>\n",
       "0\n",
       "</td>\n",
       "</tr>\n",
       "</tbody>\n",
       "</table>\n",
       "</div>"
      ],
      "text/plain": [
       "shape: (1, 1)\n",
       "┌────────────────┐\n",
       "│ Province/State │\n",
       "│ ---            │\n",
       "│ u32            │\n",
       "╞════════════════╡\n",
       "│ 0              │\n",
       "└────────────────┘"
      ]
     },
     "execution_count": 19,
     "metadata": {},
     "output_type": "execute_result"
    }
   ],
   "source": [
    "rdf = rdf.with_column(pl.col(\"Province/State\")).fill_null(\"Unknown\")\n",
    "total_nulls = rdf.select(pl.col(\"Province/State\").is_null().sum())\n",
    "total_nulls.collect().fetch()"
   ]
  },
  {
   "cell_type": "markdown",
   "metadata": {},
   "source": [
    "# Data cleaning: Column dtypes\n",
    "Next, I want to check if the column dtypes are the best fit for our dataset. I can list the dtypes by printing out the schema attribute on our RemoteLazyFrame which outputs all column names and dtypes. "
   ]
  },
  {
   "cell_type": "code",
   "execution_count": 20,
   "metadata": {},
   "outputs": [
    {
     "data": {
      "text/plain": [
       "{'SNo': polars.datatypes.Int64,\n",
       " 'ObservationDate': polars.datatypes.Utf8,\n",
       " 'Province/State': polars.datatypes.Utf8,\n",
       " 'Country/Region': polars.datatypes.Utf8,\n",
       " 'Last Update': polars.datatypes.Utf8,\n",
       " 'Confirmed': polars.datatypes.Float64,\n",
       " 'Deaths': polars.datatypes.Float64,\n",
       " 'Recovered': polars.datatypes.Float64}"
      ]
     },
     "execution_count": 20,
     "metadata": {},
     "output_type": "execute_result"
    }
   ],
   "source": [
    "rdf.schema"
   ]
  },
  {
   "cell_type": "markdown",
   "metadata": {},
   "source": [
    "I can see that the dtype of the 'Confirmed', 'Deaths' and 'Recovered' columns is f64. I will change this to Int64 using the .cast(pl.Int64) method as we should only have integer values in these columns. I combine this with the with_columns() method to place these new columns into my RemoteLazyFrame, effectively replacing the old ones.\n",
    "\n",
    "I will also convert the 'ObservationDate' column to a pl.Date type so that I can more easily run queries against the months, days and years within the date. To do this, I need to specify the format the dates are written in. This will therefore not work if you have dates in mixed formats, in which case, you would need to clean up the data before calling this function.\n",
    "\n",
    "Finally, I will drop the 'Last Update' column as I won't be needing it for the purposes of this tutorial and because this column contains a mix of date formats which can take time to clean and our beyong the scope of this tutorial. However, feel free to get in touch and let us know if you'd like to see a tutorial on this topic, or any other, via our Discord community!"
   ]
  },
  {
   "cell_type": "code",
   "execution_count": 21,
   "metadata": {},
   "outputs": [
    {
     "data": {
      "text/plain": [
       "{'SNo': polars.datatypes.Int64,\n",
       " 'ObservationDate': polars.datatypes.Date,\n",
       " 'Province/State': polars.datatypes.Utf8,\n",
       " 'Country/Region': polars.datatypes.Utf8,\n",
       " 'Confirmed': polars.datatypes.Int64,\n",
       " 'Deaths': polars.datatypes.Int64,\n",
       " 'Recovered': polars.datatypes.Int64}"
      ]
     },
     "execution_count": 21,
     "metadata": {},
     "output_type": "execute_result"
    }
   ],
   "source": [
    "rdf = rdf.with_columns(\n",
    "    pl.col(x).cast(pl.Int64, strict=True) for x in [\"Confirmed\", \"Deaths\", \"Recovered\"]\n",
    ")\n",
    "rdf = rdf.with_column(\n",
    "    pl.col(\"ObservationDate\").str.strptime(pl.Date, fmt=\"%m/%d/%Y\", strict=False)\n",
    ")\n",
    "rdf = rdf.drop(\"Last Update\")\n",
    "rdf.schema"
   ]
  },
  {
   "cell_type": "markdown",
   "metadata": {},
   "source": [
    "As you can see our changes have been taken into account as expected."
   ]
  },
  {
   "cell_type": "markdown",
   "metadata": {},
   "source": [
    "## Replacing alternative labels with one unique label\n",
    "\n",
    "By quickly looking over my .csv file, I also notice that I have both \"China\" and \"Mainland China\" values in my Country/Region column. I want to group all these values under one label, \"China\". I will do this using the .when.then.otherwise() methods.\n",
    "\n",
    "To check this has worked, I will print out the sum of unique values in the Country/region column before and after this change. We can see it reduces by one after we replace \"Mainland China\" values with \"China\"."
   ]
  },
  {
   "cell_type": "code",
   "execution_count": 22,
   "metadata": {},
   "outputs": [
    {
     "name": "stdout",
     "output_type": "stream",
     "text": [
      "shape: (1, 1)\n",
      "┌────────────────┐\n",
      "│ Country/Region │\n",
      "│ ---            │\n",
      "│ u32            │\n",
      "╞════════════════╡\n",
      "│ 229            │\n",
      "└────────────────┘\n",
      "shape: (1, 1)\n",
      "┌────────────────┐\n",
      "│ Country/Region │\n",
      "│ ---            │\n",
      "│ u32            │\n",
      "╞════════════════╡\n",
      "│ 228            │\n",
      "└────────────────┘\n"
     ]
    }
   ],
   "source": [
    "test = (\n",
    "    rdf.select(pl.col(\"Country/Region\"))\n",
    "    .unique()\n",
    "    .select(pl.col(\"Country/Region\").count())\n",
    ")\n",
    "print(test.collect().fetch())\n",
    "\n",
    "rdf = rdf.with_column(\n",
    "    pl.when(pl.col(\"Country/Region\") == \"Mainland China\")\n",
    "    .then(\"China\")\n",
    "    .otherwise(pl.col(\"Country/Region\"))\n",
    "    .alias(\"Country/Region\")\n",
    ")\n",
    "\n",
    "test = (\n",
    "    rdf.select(pl.col(\"Country/Region\"))\n",
    "    .unique()\n",
    "    .select(pl.col(\"Country/Region\").count())\n",
    ")\n",
    "print(test.collect().fetch())"
   ]
  },
  {
   "cell_type": "markdown",
   "metadata": {},
   "source": [
    "## Adding new columns\n",
    "\n",
    "I also want to add a new column \"Active_cases\", which will be calculated as following: Confirmed - Deaths - Recovered. I will do this again using the with_column method with the .when.then.otherwise() methods.\n"
   ]
  },
  {
   "cell_type": "code",
   "execution_count": 23,
   "metadata": {},
   "outputs": [
    {
     "data": {
      "text/plain": [
       "{'SNo': polars.datatypes.Int64,\n",
       " 'ObservationDate': polars.datatypes.Date,\n",
       " 'Province/State': polars.datatypes.Utf8,\n",
       " 'Country/Region': polars.datatypes.Utf8,\n",
       " 'Confirmed': polars.datatypes.Int64,\n",
       " 'Deaths': polars.datatypes.Int64,\n",
       " 'Recovered': polars.datatypes.Int64,\n",
       " 'Active_cases': polars.datatypes.Int64}"
      ]
     },
     "execution_count": 23,
     "metadata": {},
     "output_type": "execute_result"
    }
   ],
   "source": [
    "rdf = rdf.with_column(\n",
    "    (pl.col(\"Confirmed\") - pl.col(\"Deaths\") - pl.col(\"Recovered\")).alias(\"Active_cases\")\n",
    ")\n",
    "rdf.schema"
   ]
  },
  {
   "cell_type": "markdown",
   "metadata": {},
   "source": [
    "## Data Analysis and visualization\n",
    "\n",
    "So now the dataset has been cleaned and prepared, let's start to analyse the data. let's run a query to get the total of confirmed cases, deaths, number of people recovered and active cases worldwide. For the sake of simplicity, we will only look at the latest data provided by countries on the most recent observation date. A small number of countries did not submit obersvations on this day and will therefore not be included in these results, but the data is sufficent for the sake of this tutorial.\n",
    "\n",
    "I am able to display the results by using the .collect() and .fetch() in combination to get a printable version of my dataframe.\n",
    "\n",
    "With default or stricter privacy policies, when you want to .collect().fetch() a RemoteLazyFrame, the query will be screened to check that data is sufficiently anonymous and if this is not the case, data access approval from the data owner will be needed.\n",
    "\n",
    "In our case, this query does not pose a data privacy risk because we are extracting the results of an aggregated query which does not reveal any specific data relating to an individual- but in any case, we have disabled this feature for this tutorial."
   ]
  },
  {
   "cell_type": "code",
   "execution_count": 36,
   "metadata": {},
   "outputs": [
    {
     "data": {
      "text/html": [
       "<div>\n",
       "<style scoped>\n",
       "    .dataframe tbody tr th:only-of-type {\n",
       "        vertical-align: middle;\n",
       "    }\n",
       "\n",
       "    .dataframe tbody tr th {\n",
       "        vertical-align: top;\n",
       "    }\n",
       "\n",
       "    .dataframe thead th {\n",
       "        text-align: right;\n",
       "    }\n",
       "\n",
       "    .dataframe td {\n",
       "        white-space: pre;\n",
       "    }\n",
       "\n",
       "    .dataframe td {\n",
       "        padding-top: 0;\n",
       "    }\n",
       "\n",
       "    .dataframe td {\n",
       "        padding-bottom: 0;\n",
       "    }\n",
       "</style>\n",
       "<table border=\"1\" class=\"dataframe\" >\n",
       "<small>shape: (1, 4)</small>\n",
       "<thead>\n",
       "<tr>\n",
       "<th>\n",
       "Deaths\n",
       "</th>\n",
       "<th>\n",
       "Confirmed\n",
       "</th>\n",
       "<th>\n",
       "Recovered\n",
       "</th>\n",
       "<th>\n",
       "Active_cases\n",
       "</th>\n",
       "</tr>\n",
       "<tr>\n",
       "<td>\n",
       "i64\n",
       "</td>\n",
       "<td>\n",
       "i64\n",
       "</td>\n",
       "<td>\n",
       "i64\n",
       "</td>\n",
       "<td>\n",
       "i64\n",
       "</td>\n",
       "</tr>\n",
       "</thead>\n",
       "<tbody>\n",
       "<tr>\n",
       "<td>\n",
       "3523117\n",
       "</td>\n",
       "<td>\n",
       "169470725\n",
       "</td>\n",
       "<td>\n",
       "106633069\n",
       "</td>\n",
       "<td>\n",
       "59314539\n",
       "</td>\n",
       "</tr>\n",
       "</tbody>\n",
       "</table>\n",
       "</div>"
      ],
      "text/plain": [
       "shape: (1, 4)\n",
       "┌─────────┬───────────┬───────────┬──────────────┐\n",
       "│ Deaths  ┆ Confirmed ┆ Recovered ┆ Active_cases │\n",
       "│ ---     ┆ ---       ┆ ---       ┆ ---          │\n",
       "│ i64     ┆ i64       ┆ i64       ┆ i64          │\n",
       "╞═════════╪═══════════╪═══════════╪══════════════╡\n",
       "│ 3523117 ┆ 169470725 ┆ 106633069 ┆ 59314539     │\n",
       "└─────────┴───────────┴───────────┴──────────────┘"
      ]
     },
     "execution_count": 36,
     "metadata": {},
     "output_type": "execute_result"
    }
   ],
   "source": [
    "from datetime import date\n",
    "\n",
    "latest_date = date(2021, 5, 28)  # create DateTime value: 2021-05-28\n",
    "cols = [\"Deaths\", \"Confirmed\", \"Recovered\", \"Active_cases\"]\n",
    "\n",
    "total = rdf.filter(\n",
    "    pl.col(\"ObservationDate\") == latest_date\n",
    ").select(  # limit to data shared on this observation date\n",
    "    [pl.col(x).sum() for x in cols]\n",
    ")  # get the sum of values shared on this date for each category in cols\n",
    "total.collect().fetch()"
   ]
  },
  {
   "cell_type": "markdown",
   "metadata": {},
   "source": [
    "Let's now take a look at the top 10 countries in terms of confirmed Covid cases in the dataset. To do this, I will run a similar query to the previous one but will group the data by country before summing the values for each catgeory on the selected date.\n",
    "\n",
    "I then limit this dataframe to the highest ten results and collect().fetch() the results."
   ]
  },
  {
   "cell_type": "code",
   "execution_count": 89,
   "metadata": {},
   "outputs": [
    {
     "name": "stdout",
     "output_type": "stream",
     "text": [
      "2021-05-28\n"
     ]
    },
    {
     "data": {
      "text/html": [
       "<div>\n",
       "<style scoped>\n",
       "    .dataframe tbody tr th:only-of-type {\n",
       "        vertical-align: middle;\n",
       "    }\n",
       "\n",
       "    .dataframe tbody tr th {\n",
       "        vertical-align: top;\n",
       "    }\n",
       "\n",
       "    .dataframe thead th {\n",
       "        text-align: right;\n",
       "    }\n",
       "\n",
       "    .dataframe td {\n",
       "        white-space: pre;\n",
       "    }\n",
       "\n",
       "    .dataframe td {\n",
       "        padding-top: 0;\n",
       "    }\n",
       "\n",
       "    .dataframe td {\n",
       "        padding-bottom: 0;\n",
       "    }\n",
       "</style>\n",
       "<table border=\"1\" class=\"dataframe\" >\n",
       "<small>shape: (10, 2)</small>\n",
       "<thead>\n",
       "<tr>\n",
       "<th>\n",
       "Country/Region\n",
       "</th>\n",
       "<th>\n",
       "Confirmed\n",
       "</th>\n",
       "</tr>\n",
       "<tr>\n",
       "<td>\n",
       "str\n",
       "</td>\n",
       "<td>\n",
       "i64\n",
       "</td>\n",
       "</tr>\n",
       "</thead>\n",
       "<tbody>\n",
       "<tr>\n",
       "<td>\n",
       "&quot;US&quot;\n",
       "</td>\n",
       "<td>\n",
       "33239963\n",
       "</td>\n",
       "</tr>\n",
       "<tr>\n",
       "<td>\n",
       "&quot;India&quot;\n",
       "</td>\n",
       "<td>\n",
       "27729247\n",
       "</td>\n",
       "</tr>\n",
       "<tr>\n",
       "<td>\n",
       "&quot;Brazil&quot;\n",
       "</td>\n",
       "<td>\n",
       "16391930\n",
       "</td>\n",
       "</tr>\n",
       "<tr>\n",
       "<td>\n",
       "&quot;France&quot;\n",
       "</td>\n",
       "<td>\n",
       "5708350\n",
       "</td>\n",
       "</tr>\n",
       "<tr>\n",
       "<td>\n",
       "&quot;Turkey&quot;\n",
       "</td>\n",
       "<td>\n",
       "5228322\n",
       "</td>\n",
       "</tr>\n",
       "<tr>\n",
       "<td>\n",
       "&quot;Russia&quot;\n",
       "</td>\n",
       "<td>\n",
       "4986458\n",
       "</td>\n",
       "</tr>\n",
       "<tr>\n",
       "<td>\n",
       "&quot;UK&quot;\n",
       "</td>\n",
       "<td>\n",
       "4493582\n",
       "</td>\n",
       "</tr>\n",
       "<tr>\n",
       "<td>\n",
       "&quot;Italy&quot;\n",
       "</td>\n",
       "<td>\n",
       "4209707\n",
       "</td>\n",
       "</tr>\n",
       "<tr>\n",
       "<td>\n",
       "&quot;Argentina&quot;\n",
       "</td>\n",
       "<td>\n",
       "3702422\n",
       "</td>\n",
       "</tr>\n",
       "<tr>\n",
       "<td>\n",
       "&quot;Germany&quot;\n",
       "</td>\n",
       "<td>\n",
       "3680159\n",
       "</td>\n",
       "</tr>\n",
       "</tbody>\n",
       "</table>\n",
       "</div>"
      ],
      "text/plain": [
       "shape: (10, 2)\n",
       "┌────────────────┬───────────┐\n",
       "│ Country/Region ┆ Confirmed │\n",
       "│ ---            ┆ ---       │\n",
       "│ str            ┆ i64       │\n",
       "╞════════════════╪═══════════╡\n",
       "│ US             ┆ 33239963  │\n",
       "├╌╌╌╌╌╌╌╌╌╌╌╌╌╌╌╌┼╌╌╌╌╌╌╌╌╌╌╌┤\n",
       "│ India          ┆ 27729247  │\n",
       "├╌╌╌╌╌╌╌╌╌╌╌╌╌╌╌╌┼╌╌╌╌╌╌╌╌╌╌╌┤\n",
       "│ Brazil         ┆ 16391930  │\n",
       "├╌╌╌╌╌╌╌╌╌╌╌╌╌╌╌╌┼╌╌╌╌╌╌╌╌╌╌╌┤\n",
       "│ France         ┆ 5708350   │\n",
       "├╌╌╌╌╌╌╌╌╌╌╌╌╌╌╌╌┼╌╌╌╌╌╌╌╌╌╌╌┤\n",
       "│ Turkey         ┆ 5228322   │\n",
       "├╌╌╌╌╌╌╌╌╌╌╌╌╌╌╌╌┼╌╌╌╌╌╌╌╌╌╌╌┤\n",
       "│ Russia         ┆ 4986458   │\n",
       "├╌╌╌╌╌╌╌╌╌╌╌╌╌╌╌╌┼╌╌╌╌╌╌╌╌╌╌╌┤\n",
       "│ UK             ┆ 4493582   │\n",
       "├╌╌╌╌╌╌╌╌╌╌╌╌╌╌╌╌┼╌╌╌╌╌╌╌╌╌╌╌┤\n",
       "│ Italy          ┆ 4209707   │\n",
       "├╌╌╌╌╌╌╌╌╌╌╌╌╌╌╌╌┼╌╌╌╌╌╌╌╌╌╌╌┤\n",
       "│ Argentina      ┆ 3702422   │\n",
       "├╌╌╌╌╌╌╌╌╌╌╌╌╌╌╌╌┼╌╌╌╌╌╌╌╌╌╌╌┤\n",
       "│ Germany        ┆ 3680159   │\n",
       "└────────────────┴───────────┘"
      ]
     },
     "execution_count": 89,
     "metadata": {},
     "output_type": "execute_result"
    }
   ],
   "source": [
    "all_cols = [\"Deaths\", \"Confirmed\", \"Recovered\", \"Active_cases\", \"Country/Region\"]\n",
    "agg_cols = [\"Deaths\", \"Confirmed\", \"Recovered\", \"Active_cases\"]\n",
    "\n",
    "by_country = (\n",
    "    rdf.filter(\n",
    "        pl.col(\"ObservationDate\") == latest_date\n",
    "    )  # limit to data shared on this observation date\n",
    "    .select([pl.col(x) for x in all_cols])  # limit data to columns in all_cols list\n",
    "    .groupby(pl.col(\"Country/Region\"))  # group data by country\n",
    "    .agg(\n",
    "        [pl.col(x).sum() for x in agg_cols]\n",
    "    )  # get the sum of values shared by each country on this date for each category in agg_cols\n",
    ")\n",
    "\n",
    "top_10 = (\n",
    "    by_country.select([pl.col(\"Country/Region\"), pl.col(\"Confirmed\")])\n",
    "    .sort(pl.col(\"Confirmed\"), reverse=True)\n",
    "    .limit(10)\n",
    ")\n",
    "top_10.collect().fetch()"
   ]
  },
  {
   "cell_type": "markdown",
   "metadata": {},
   "source": [
    "We can now easily visualize this using Seaborn's barplot function. Seaborn functions won't accept Polars or BastionLab dataframes, so we will need to use the .collect() and .fetch() methods to convert our RemoteLazyFrame to a Polars DataFrame and then use Polars' .to_pandas() function to convert the dataset to a Pandas dataframe which is accepted by all Seaborn functions.\n",
    "\n",
    "We then simply supply the x and y columns and the dataframe as arguments to the barplot() function to get our bar chart visualization."
   ]
  },
  {
   "cell_type": "code",
   "execution_count": 26,
   "metadata": {},
   "outputs": [
    {
     "data": {
      "text/plain": [
       "<AxesSubplot: xlabel='Confirmed', ylabel='Country/Region'>"
      ]
     },
     "execution_count": 26,
     "metadata": {},
     "output_type": "execute_result"
    },
    {
     "data": {
      "image/png": "[encoded data removed]",
      "text/plain": [
       "<Figure size 640x480 with 1 Axes>"
      ]
     },
     "metadata": {},
     "output_type": "display_data"
    }
   ],
   "source": [
    "import seaborn as sns\n",
    "\n",
    "data = top_10.collect().fetch().to_pandas()\n",
    "\n",
    "sns.barplot(x=data[\"Confirmed\"], y=data[\"Country/Region\"], data=data)"
   ]
  },
  {
   "cell_type": "markdown",
   "metadata": {},
   "source": [
    "##Pie charts and waffle charts\n",
    "\n",
    "Next, I will display patient outcomes globally as a pie chart. To do this, I first take the \"total\" RemoteLazyFrame instance I previously created and get the total recovered, deceased and active cases values as a percetage of confirmed cases.\n",
    "\n",
    "While we previously converted our dataframe to a Pandas dataframe to work with Seaborn functions, I will convert my dataframe to a NumPy array for compatability with matplotlib's pie function. This will provide me with the following 3d array: [[62.92123256  2.07889416 34.99987328]], which is why I need to index into my array and specify that I want to build my pie chart using the [0] row in my array.\n"
   ]
  },
  {
   "cell_type": "code",
   "execution_count": 53,
   "metadata": {},
   "outputs": [
    {
     "data": {
      "image/png": "[encoded data removed]",
      "text/plain": [
       "<Figure size 700x400 with 1 Axes>"
      ]
     },
     "metadata": {},
     "output_type": "display_data"
    }
   ],
   "source": [
    "import matplotlib.pyplot as plt\n",
    "\n",
    "pie_data = (\n",
    "    total.select(\n",
    "        pl.col(x) * 100 / pl.col(\"Confirmed\")\n",
    "        for x in [\"Recovered\", \"Deaths\", \"Active_cases\"]\n",
    "    )\n",
    "    .collect()\n",
    "    .fetch()\n",
    ")\n",
    "fig, ax = plt.subplots(\n",
    "    figsize=(7, 4), subplot_kw=dict(aspect=\"equal\")\n",
    ")  # define size of figure and get axis\n",
    "wedges, autotexts = plt.pie(\n",
    "    pie_data.to_numpy()[0], labels=[\"Recovered\", \"Deceased\", \"Active cases\"]\n",
    ")  # run plt.pie() and collect wedges output\n",
    "\n",
    "ax.legend(\n",
    "    wedges,\n",
    "    [\"Recovered\", \"Deceased\", \"Active cases\"],  # create key with colour labels\n",
    "    title=\"Patient outcome\",\n",
    "    loc=\"center left\",\n",
    "    bbox_to_anchor=(1, 0, 0.5, 1),\n",
    ")\n",
    "\n",
    "ax.set_title(\"Global outcomes of Covid-19 confirmed cases\")  # give pie chart a title\n",
    "plt.show()  # display my pie chart"
   ]
  },
  {
   "cell_type": "markdown",
   "metadata": {},
   "source": [
    "Now let's imagine we want to see the outcomes just for patients from France, Spain and Germany. Firstly I will filter down my by_country RemoteLazyFrame instance to only contain data relating to France, Germany and Spain and then I will collect().fetch() this dataframe."
   ]
  },
  {
   "cell_type": "code",
   "execution_count": 28,
   "metadata": {},
   "outputs": [
    {
     "data": {
      "text/html": [
       "<div>\n",
       "<style scoped>\n",
       "    .dataframe tbody tr th:only-of-type {\n",
       "        vertical-align: middle;\n",
       "    }\n",
       "\n",
       "    .dataframe tbody tr th {\n",
       "        vertical-align: top;\n",
       "    }\n",
       "\n",
       "    .dataframe thead th {\n",
       "        text-align: right;\n",
       "    }\n",
       "\n",
       "    .dataframe td {\n",
       "        white-space: pre;\n",
       "    }\n",
       "\n",
       "    .dataframe td {\n",
       "        padding-top: 0;\n",
       "    }\n",
       "\n",
       "    .dataframe td {\n",
       "        padding-bottom: 0;\n",
       "    }\n",
       "</style>\n",
       "<table border=\"1\" class=\"dataframe\" >\n",
       "<small>shape: (3, 5)</small>\n",
       "<thead>\n",
       "<tr>\n",
       "<th>\n",
       "Country/Region\n",
       "</th>\n",
       "<th>\n",
       "Deaths\n",
       "</th>\n",
       "<th>\n",
       "Confirmed\n",
       "</th>\n",
       "<th>\n",
       "Recovered\n",
       "</th>\n",
       "<th>\n",
       "Active_cases\n",
       "</th>\n",
       "</tr>\n",
       "<tr>\n",
       "<td>\n",
       "str\n",
       "</td>\n",
       "<td>\n",
       "i64\n",
       "</td>\n",
       "<td>\n",
       "i64\n",
       "</td>\n",
       "<td>\n",
       "i64\n",
       "</td>\n",
       "<td>\n",
       "i64\n",
       "</td>\n",
       "</tr>\n",
       "</thead>\n",
       "<tbody>\n",
       "<tr>\n",
       "<td>\n",
       "&quot;France&quot;\n",
       "</td>\n",
       "<td>\n",
       "109452\n",
       "</td>\n",
       "<td>\n",
       "5708350\n",
       "</td>\n",
       "<td>\n",
       "390196\n",
       "</td>\n",
       "<td>\n",
       "5208702\n",
       "</td>\n",
       "</tr>\n",
       "<tr>\n",
       "<td>\n",
       "&quot;Germany&quot;\n",
       "</td>\n",
       "<td>\n",
       "88360\n",
       "</td>\n",
       "<td>\n",
       "3680159\n",
       "</td>\n",
       "<td>\n",
       "3472650\n",
       "</td>\n",
       "<td>\n",
       "119149\n",
       "</td>\n",
       "</tr>\n",
       "<tr>\n",
       "<td>\n",
       "&quot;Spain&quot;\n",
       "</td>\n",
       "<td>\n",
       "79905\n",
       "</td>\n",
       "<td>\n",
       "3668658\n",
       "</td>\n",
       "<td>\n",
       "150376\n",
       "</td>\n",
       "<td>\n",
       "3438377\n",
       "</td>\n",
       "</tr>\n",
       "</tbody>\n",
       "</table>\n",
       "</div>"
      ],
      "text/plain": [
       "shape: (3, 5)\n",
       "┌────────────────┬────────┬───────────┬───────────┬──────────────┐\n",
       "│ Country/Region ┆ Deaths ┆ Confirmed ┆ Recovered ┆ Active_cases │\n",
       "│ ---            ┆ ---    ┆ ---       ┆ ---       ┆ ---          │\n",
       "│ str            ┆ i64    ┆ i64       ┆ i64       ┆ i64          │\n",
       "╞════════════════╪════════╪═══════════╪═══════════╪══════════════╡\n",
       "│ France         ┆ 109452 ┆ 5708350   ┆ 390196    ┆ 5208702      │\n",
       "├╌╌╌╌╌╌╌╌╌╌╌╌╌╌╌╌┼╌╌╌╌╌╌╌╌┼╌╌╌╌╌╌╌╌╌╌╌┼╌╌╌╌╌╌╌╌╌╌╌┼╌╌╌╌╌╌╌╌╌╌╌╌╌╌┤\n",
       "│ Germany        ┆ 88360  ┆ 3680159   ┆ 3472650   ┆ 119149       │\n",
       "├╌╌╌╌╌╌╌╌╌╌╌╌╌╌╌╌┼╌╌╌╌╌╌╌╌┼╌╌╌╌╌╌╌╌╌╌╌┼╌╌╌╌╌╌╌╌╌╌╌┼╌╌╌╌╌╌╌╌╌╌╌╌╌╌┤\n",
       "│ Spain          ┆ 79905  ┆ 3668658   ┆ 150376    ┆ 3438377      │\n",
       "└────────────────┴────────┴───────────┴───────────┴──────────────┘"
      ]
     },
     "execution_count": 28,
     "metadata": {},
     "output_type": "execute_result"
    }
   ],
   "source": [
    "compare = by_country.filter(\n",
    "    (pl.col(\"Country/Region\") == \"France\")\n",
    "    | (pl.col(\"Country/Region\") == \"Germany\")\n",
    "    | (pl.col(\"Country/Region\") == \"Spain\")\n",
    ").sort(pl.col(\"Country/Region\"))\n",
    "compare.collect().fetch()"
   ]
  },
  {
   "cell_type": "markdown",
   "metadata": {},
   "source": [
    "Next, I will create a similar pie chart to previously, but I will compare the outcomes of France, Germany and Spain by creating a matplotlib figure with 3 subplots (1 row x 3 columns). I then iterate from 0 to 3, creating a pie chart for each country and labelling their axis accordingly."
   ]
  },
  {
   "cell_type": "code",
   "execution_count": 60,
   "metadata": {},
   "outputs": [
    {
     "data": {
      "text/plain": [
       "<matplotlib.legend.Legend at 0x7f5ecc6b1ac0>"
      ]
     },
     "execution_count": 60,
     "metadata": {},
     "output_type": "execute_result"
    },
    {
     "data": {
      "image/png": "[encoded data removed]",
      "text/plain": [
       "<Figure size 2500x2000 with 3 Axes>"
      ]
     },
     "metadata": {},
     "output_type": "display_data"
    }
   ],
   "source": [
    "pie_data = compare.select(\n",
    "    pl.col(x) * 100 / pl.col(\"Confirmed\")\n",
    "    for x in [\"Recovered\", \"Deaths\", \"Active_cases\"]\n",
    ")\n",
    "\n",
    "countries = [\"France\", \"Germany\", \"Spain\"]\n",
    "fig, axes = plt.subplots(1, 3, figsize=(25, 20))\n",
    "\n",
    "for i in range(3):\n",
    "    wedges, autotexts = axes[i].pie(\n",
    "        pie_data.collect().fetch().to_numpy()[i],\n",
    "        labels=[\"Recovered\", \"Deceased\", \"Active\"],\n",
    "    )  # create pie charts\n",
    "    axes[i].set_title(\"Covid outcomes in \" + str(countries[i]))  # set title\n",
    "\n",
    "axes[i].legend(\n",
    "    wedges,\n",
    "    [\"Recovered\", \"Deceased\", \"Active cases\"],  # create key with colour labels\n",
    "    title=\"Patient outcome\",\n",
    "    loc=\"upper left\",\n",
    "    bbox_to_anchor=(1, 0, 0.5, 1),\n",
    ")"
   ]
  },
  {
   "cell_type": "markdown",
   "metadata": {},
   "source": [
    "Let's now take a look at confirmed cases by Province/State in Spain. We will create a fresh RemoteLazyFrame instance based on the original dataset to do this. I will first filter the data down to data released by Spain on the latest ObservationDate and then group data this time by Province/State before collecting the sum of confirmed cases."
   ]
  },
  {
   "cell_type": "code",
   "execution_count": 90,
   "metadata": {},
   "outputs": [
    {
     "data": {
      "text/html": [
       "<div>\n",
       "<style scoped>\n",
       "    .dataframe tbody tr th:only-of-type {\n",
       "        vertical-align: middle;\n",
       "    }\n",
       "\n",
       "    .dataframe tbody tr th {\n",
       "        vertical-align: top;\n",
       "    }\n",
       "\n",
       "    .dataframe thead th {\n",
       "        text-align: right;\n",
       "    }\n",
       "\n",
       "    .dataframe td {\n",
       "        white-space: pre;\n",
       "    }\n",
       "\n",
       "    .dataframe td {\n",
       "        padding-top: 0;\n",
       "    }\n",
       "\n",
       "    .dataframe td {\n",
       "        padding-bottom: 0;\n",
       "    }\n",
       "</style>\n",
       "<table border=\"1\" class=\"dataframe\" >\n",
       "<small>shape: (20, 2)</small>\n",
       "<thead>\n",
       "<tr>\n",
       "<th>\n",
       "Province/State\n",
       "</th>\n",
       "<th>\n",
       "Confirmed\n",
       "</th>\n",
       "</tr>\n",
       "<tr>\n",
       "<td>\n",
       "str\n",
       "</td>\n",
       "<td>\n",
       "i64\n",
       "</td>\n",
       "</tr>\n",
       "</thead>\n",
       "<tbody>\n",
       "<tr>\n",
       "<td>\n",
       "&quot;Aragon&quot;\n",
       "</td>\n",
       "<td>\n",
       "123905\n",
       "</td>\n",
       "</tr>\n",
       "<tr>\n",
       "<td>\n",
       "&quot;Madrid&quot;\n",
       "</td>\n",
       "<td>\n",
       "714616\n",
       "</td>\n",
       "</tr>\n",
       "<tr>\n",
       "<td>\n",
       "&quot;Extremadura&quot;\n",
       "</td>\n",
       "<td>\n",
       "75693\n",
       "</td>\n",
       "</tr>\n",
       "<tr>\n",
       "<td>\n",
       "&quot;Pais Vasco&quot;\n",
       "</td>\n",
       "<td>\n",
       "197812\n",
       "</td>\n",
       "</tr>\n",
       "<tr>\n",
       "<td>\n",
       "&quot;Ceuta&quot;\n",
       "</td>\n",
       "<td>\n",
       "5829\n",
       "</td>\n",
       "</tr>\n",
       "<tr>\n",
       "<td>\n",
       "&quot;Baleares&quot;\n",
       "</td>\n",
       "<td>\n",
       "60364\n",
       "</td>\n",
       "</tr>\n",
       "<tr>\n",
       "<td>\n",
       "...\n",
       "</td>\n",
       "<td>\n",
       "...\n",
       "</td>\n",
       "</tr>\n",
       "<tr>\n",
       "<td>\n",
       "&quot;Navarra&quot;\n",
       "</td>\n",
       "<td>\n",
       "62232\n",
       "</td>\n",
       "</tr>\n",
       "<tr>\n",
       "<td>\n",
       "&quot;Murcia&quot;\n",
       "</td>\n",
       "<td>\n",
       "112926\n",
       "</td>\n",
       "</tr>\n",
       "<tr>\n",
       "<td>\n",
       "&quot;Castilla - La ...\n",
       "</td>\n",
       "<td>\n",
       "192347\n",
       "</td>\n",
       "</tr>\n",
       "<tr>\n",
       "<td>\n",
       "&quot;Galicia&quot;\n",
       "</td>\n",
       "<td>\n",
       "126622\n",
       "</td>\n",
       "</tr>\n",
       "<tr>\n",
       "<td>\n",
       "&quot;C. Valenciana&quot;\n",
       "</td>\n",
       "<td>\n",
       "394360\n",
       "</td>\n",
       "</tr>\n",
       "<tr>\n",
       "<td>\n",
       "&quot;Melilla&quot;\n",
       "</td>\n",
       "<td>\n",
       "9098\n",
       "</td>\n",
       "</tr>\n",
       "</tbody>\n",
       "</table>\n",
       "</div>"
      ],
      "text/plain": [
       "shape: (20, 2)\n",
       "┌──────────────────────┬───────────┐\n",
       "│ Province/State       ┆ Confirmed │\n",
       "│ ---                  ┆ ---       │\n",
       "│ str                  ┆ i64       │\n",
       "╞══════════════════════╪═══════════╡\n",
       "│ Aragon               ┆ 123905    │\n",
       "├╌╌╌╌╌╌╌╌╌╌╌╌╌╌╌╌╌╌╌╌╌╌┼╌╌╌╌╌╌╌╌╌╌╌┤\n",
       "│ Madrid               ┆ 714616    │\n",
       "├╌╌╌╌╌╌╌╌╌╌╌╌╌╌╌╌╌╌╌╌╌╌┼╌╌╌╌╌╌╌╌╌╌╌┤\n",
       "│ Extremadura          ┆ 75693     │\n",
       "├╌╌╌╌╌╌╌╌╌╌╌╌╌╌╌╌╌╌╌╌╌╌┼╌╌╌╌╌╌╌╌╌╌╌┤\n",
       "│ Pais Vasco           ┆ 197812    │\n",
       "├╌╌╌╌╌╌╌╌╌╌╌╌╌╌╌╌╌╌╌╌╌╌┼╌╌╌╌╌╌╌╌╌╌╌┤\n",
       "│ Ceuta                ┆ 5829      │\n",
       "├╌╌╌╌╌╌╌╌╌╌╌╌╌╌╌╌╌╌╌╌╌╌┼╌╌╌╌╌╌╌╌╌╌╌┤\n",
       "│ Baleares             ┆ 60364     │\n",
       "├╌╌╌╌╌╌╌╌╌╌╌╌╌╌╌╌╌╌╌╌╌╌┼╌╌╌╌╌╌╌╌╌╌╌┤\n",
       "│ ...                  ┆ ...       │\n",
       "├╌╌╌╌╌╌╌╌╌╌╌╌╌╌╌╌╌╌╌╌╌╌┼╌╌╌╌╌╌╌╌╌╌╌┤\n",
       "│ Navarra              ┆ 62232     │\n",
       "├╌╌╌╌╌╌╌╌╌╌╌╌╌╌╌╌╌╌╌╌╌╌┼╌╌╌╌╌╌╌╌╌╌╌┤\n",
       "│ Murcia               ┆ 112926    │\n",
       "├╌╌╌╌╌╌╌╌╌╌╌╌╌╌╌╌╌╌╌╌╌╌┼╌╌╌╌╌╌╌╌╌╌╌┤\n",
       "│ Castilla - La Mancha ┆ 192347    │\n",
       "├╌╌╌╌╌╌╌╌╌╌╌╌╌╌╌╌╌╌╌╌╌╌┼╌╌╌╌╌╌╌╌╌╌╌┤\n",
       "│ Galicia              ┆ 126622    │\n",
       "├╌╌╌╌╌╌╌╌╌╌╌╌╌╌╌╌╌╌╌╌╌╌┼╌╌╌╌╌╌╌╌╌╌╌┤\n",
       "│ C. Valenciana        ┆ 394360    │\n",
       "├╌╌╌╌╌╌╌╌╌╌╌╌╌╌╌╌╌╌╌╌╌╌┼╌╌╌╌╌╌╌╌╌╌╌┤\n",
       "│ Melilla              ┆ 9098      │\n",
       "└──────────────────────┴───────────┘"
      ]
     },
     "execution_count": 90,
     "metadata": {},
     "output_type": "execute_result"
    }
   ],
   "source": [
    "all_cols = [\"Confirmed\", \"Province/State\"]\n",
    "\n",
    "spain = (\n",
    "    rdf.filter(\n",
    "        (pl.col(\"Country/Region\") == \"Spain\")\n",
    "        & (pl.col(\"ObservationDate\") == latest_date)\n",
    "    )  # limit data to data shared by Spain on the latest observation date\n",
    "    .select([pl.col(x) for x in all_cols])  # limit data to columns in all_cols list\n",
    "    .groupby(pl.col(\"Province/State\"))  # group data by province/state\n",
    "    .agg(pl.col(\"Confirmed\").sum())  # get the sum of confirmed cases\n",
    ")\n",
    "spain.collect().fetch()"
   ]
  },
  {
   "cell_type": "markdown",
   "metadata": {},
   "source": [
    "Now we have this data, we can make a donut chart displaying the percentage of cases in each region. To do this, I will simply create a pie chart as previously and then add a white circle over my pie chart to create a donut effect."
   ]
  },
  {
   "cell_type": "code",
   "execution_count": 71,
   "metadata": {},
   "outputs": [
    {
     "data": {
      "image/png": "[encoded data removed]",
      "text/plain": [
       "<Figure size 700x400 with 1 Axes>"
      ]
     },
     "metadata": {},
     "output_type": "display_data"
    }
   ],
   "source": [
    "# get confirmed cases per region as a percentage\n",
    "pie_data = spain.select(\n",
    "    [pl.col(\"Province/State\"), pl.col(\"Confirmed\") * 100 / pl.col(\"Confirmed\").sum()]\n",
    ")\n",
    "\n",
    "# get data and label values as NumPy arrays\n",
    "pie = (\n",
    "    pie_data.select(pl.col(\"Confirmed\"))\n",
    "    .collect()\n",
    "    .fetch()\n",
    "    .to_pandas()[\"Confirmed\"]\n",
    "    .to_numpy()\n",
    ")\n",
    "labels = (\n",
    "    pie_data.select(pl.col(\"Province/State\"))\n",
    "    .collect()\n",
    "    .fetch()\n",
    "    .to_pandas()[\"Province/State\"]\n",
    "    .to_numpy()\n",
    ")\n",
    "\n",
    "# set up figure/axis and call pie function\n",
    "fig, ax = plt.subplots(figsize=(7, 4), subplot_kw=dict(aspect=\"equal\"))\n",
    "wedges, autotexts = plt.pie(pie)\n",
    "\n",
    "# create key with color labels\n",
    "ax.legend(\n",
    "    wedges, labels, title=\"Province\", loc=\"center left\", bbox_to_anchor=(1, 0, 0.5, 1)\n",
    ")\n",
    "\n",
    "ax.set_title(\"Confirmed cases by province in Spain\")  # set title\n",
    "my_circle = plt.Circle((0, 0), 0.5, color=\"white\")  # create a white circle\n",
    "\n",
    "# Get current pie chart figure using gcf() function and add white circle to it\n",
    "fig = plt.gcf()\n",
    "fig.gca().add_artist(my_circle)\n",
    "\n",
    "# Display donut\n",
    "plt.show()"
   ]
  },
  {
   "cell_type": "markdown",
   "metadata": {},
   "source": [
    "For the next example, we will create a waffle chart of confirmed Covid cases by region in belgium. We will start off by performating the same query we did to get cases per regions in Spain, but , of course, for Belgium."
   ]
  },
  {
   "cell_type": "code",
   "execution_count": 74,
   "metadata": {},
   "outputs": [],
   "source": [
    "import seaborn as sns\n",
    "\n",
    "all_cols = [\"Confirmed\", \"Province/State\"]\n",
    "\n",
    "belgium = (\n",
    "    rdf.filter(\n",
    "        (pl.col(\"Country/Region\") == \"Belgium\")\n",
    "        & (pl.col(\"ObservationDate\") == \"2021-05-28\")\n",
    "    )  # limit data to data shared by Belgium on the latest observation date\n",
    "    .select([pl.col(x) for x in all_cols])  # limit data to columns in all_cols list\n",
    "    .groupby(pl.col(\"Province/State\"))  # group data by province/state\n",
    "    .agg([pl.col(\"Confirmed\").sum()])  # get the sum of confirmed cases\n",
    ")\n",
    "\n",
    "square = (\n",
    "    belgium.select(\n",
    "        [\n",
    "            pl.col(\"Province/State\"),\n",
    "            pl.col(\"Confirmed\") * 100 / pl.col(\"Confirmed\").sum(),\n",
    "        ]\n",
    "    )\n",
    "    .collect()\n",
    "    .fetch()\n",
    ")"
   ]
  },
  {
   "cell_type": "markdown",
   "metadata": {},
   "source": [
    "Next, I use squarify "
   ]
  },
  {
   "cell_type": "code",
   "execution_count": 83,
   "metadata": {},
   "outputs": [
    {
     "data": {
      "image/png": "[encoded data removed]",
      "text/plain": [
       "<Figure size 1000x450 with 1 Axes>"
      ]
     },
     "metadata": {},
     "output_type": "display_data"
    }
   ],
   "source": [
    "import squarify\n",
    "\n",
    "# get series with percentage sizes of cases per region\n",
    "sizes = square[\"Confirmed\"]\n",
    "\n",
    "# get series with labels for these percentages\n",
    "label = square[\"Province/State\"]\n",
    "\n",
    "# create figure and define size\n",
    "fig = plt.gcf()\n",
    "fig.set_size_inches(10, 4.5)\n",
    "\n",
    "# use squarify plot to create waffle chart\n",
    "squarify.plot(\n",
    "    sizes=sizes,\n",
    "    label=label,\n",
    "    alpha=0.7,\n",
    "    color=sns.color_palette(\"bright\"),\n",
    "    pad=2,\n",
    "    text_kwargs={\"fontsize\": 10},\n",
    ").set(title=\"Confirmed cases in Belgium by province\")\n",
    "\n",
    "# disable x/y graph axis in output\n",
    "plt.axis(\"off\")\n",
    "\n",
    "# display waffle chart\n",
    "plt.show()"
   ]
  },
  {
   "cell_type": "markdown",
   "metadata": {},
   "source": [
    "## Over time barchart\n",
    "Finally, we can have a look at the evolution of confirmed covid cases over time. Let's take the UK as our example this time."
   ]
  },
  {
   "cell_type": "code",
   "execution_count": 86,
   "metadata": {},
   "outputs": [
    {
     "data": {
      "image/png": "[encoded data removed]",
      "text/plain": [
       "<Figure size 640x480 with 1 Axes>"
      ]
     },
     "metadata": {},
     "output_type": "display_data"
    }
   ],
   "source": [
    "# get UK only dataframe\n",
    "UK = rdf.filter((pl.col(\"Country/Region\") == \"UK\")).collect().fetch()\n",
    "\n",
    "# create a custom python dict to order months correctly\n",
    "custom_dict = {\n",
    "    \"2020: January\": 0,\n",
    "    \"2020: February\": 1,\n",
    "    \"2020: March\": 2,\n",
    "    \"2020: April\": 3,\n",
    "    \"2020: May\": 4,\n",
    "    \"2020: June\": 5,\n",
    "    \"2020: July\": 6,\n",
    "    \"2020: August\": 7,\n",
    "    \"2020: September\": 8,\n",
    "    \"2020: October\": 9,\n",
    "    \"2020: November\": 10,\n",
    "    \"2020: December\": 11,\n",
    "    \"2021: January\": 12,\n",
    "    \"2021: February\": 13,\n",
    "    \"2021: March\": 14,\n",
    "    \"2021: April\": 15,\n",
    "    \"2021: May\": 16,\n",
    "}\n",
    "\n",
    "UK = (\n",
    "    UK.with_column(\n",
    "        pl.when(pl.col(\"ObservationDate\").dt.year() == 2020)\n",
    "        .then(\n",
    "            \"2020: \" + pl.col(\"ObservationDate\").dt.strftime(\"%B\")\n",
    "        )  # replace 2020--mm--dd values with '2020: month'\n",
    "        .otherwise(\n",
    "            \"2021: \" + pl.col(\"ObservationDate\").dt.strftime(\"%B\")\n",
    "        )  # replace 2021--mm--dd values with '2021: month'\n",
    "        .alias(\"Month\")  # store this column in 'Month column'\n",
    "    )\n",
    "    .groupby(\"Month\")  # group by this column\n",
    "    .agg(pl.col(\"Confirmed\").sum())  # get Confirmed cases for the UK by month\n",
    ")\n",
    "\n",
    "# sort values using custom dict to order dates correctly despite using the string representation of month\n",
    "UK = UK.to_pandas().sort_values(by=[\"Month\"], key=lambda x: x.map(custom_dict))\n",
    "\n",
    "# create barplot\n",
    "sns.barplot(data=UK, x=\"Month\", y=\"Confirmed\")\n",
    "\n",
    "# Rotates X-Axis labels by 90 degrees\n",
    "plt.xticks(rotation=90)\n",
    "\n",
    "# show bar chart\n",
    "plt.show()"
   ]
  },
  {
   "cell_type": "markdown",
   "metadata": {},
   "source": [
    "So that brings our demo to an end. All that's left to do is close our connection!"
   ]
  },
  {
   "cell_type": "code",
   "execution_count": null,
   "metadata": {},
   "outputs": [],
   "source": [
    "connection.close()"
   ]
  }
 ],
 "metadata": {
  "kernelspec": {
   "display_name": "Python 3.9.13 ('.venv': venv)",
   "language": "python",
   "name": "python3"
  },
  "language_info": {
   "codemirror_mode": {
    "name": "ipython",
    "version": 3
   },
   "file_extension": ".py",
   "mimetype": "text/x-python",
   "name": "python",
   "nbconvert_exporter": "python",
   "pygments_lexer": "ipython3",
   "version": "3.9.13"
  },
  "orig_nbformat": 4,
  "vscode": {
   "interpreter": {
    "hash": "60a9b1828ecb875c5af17e6120592a2c9a4de3c2557a5f8c6fb574c1e392c466"
   }
  }
 },
 "nbformat": 4,
 "nbformat_minor": 2
}
