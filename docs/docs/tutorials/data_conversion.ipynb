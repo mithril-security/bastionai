{
 "cells": [
  {
   "cell_type": "code",
   "execution_count": 4,
   "metadata": {},
   "outputs": [],
   "source": [
    "from bastionlab import Connection"
   ]
  },
  {
   "cell_type": "code",
   "execution_count": 5,
   "metadata": {},
   "outputs": [],
   "source": [
    "from bastionlab import Identity\n",
    "\n",
    "# Create `Identity` for Data owner.\n",
    "data_owner = Identity.create(\"data_owner\")"
   ]
  },
  {
   "cell_type": "code",
   "execution_count": 1,
   "metadata": {},
   "outputs": [
    {
     "name": "stdout",
     "output_type": "stream",
     "text": [
      "--2022-12-14 10:08:03--  https://raw.githubusercontent.com/datasciencedojo/datasets/master/titanic.csv\n",
      "Resolving raw.githubusercontent.com (raw.githubusercontent.com)... 185.199.111.133, 185.199.108.133, 185.199.109.133, ...\n",
      "Connecting to raw.githubusercontent.com (raw.githubusercontent.com)|185.199.111.133|:443... connected.\n",
      "HTTP request sent, awaiting response... 200 OK\n",
      "Length: 60302 (59K) [text/plain]\n",
      "Saving to: ‘titanic.csv’\n",
      "\n",
      "titanic.csv         100%[===================>]  58.89K  --.-KB/s    in 0.01s   \n",
      "\n",
      "2022-12-14 10:08:03 (4.46 MB/s) - ‘titanic.csv’ saved [60302/60302]\n",
      "\n"
     ]
    }
   ],
   "source": [
    "!wget 'https://raw.githubusercontent.com/datasciencedojo/datasets/master/titanic.csv'"
   ]
  },
  {
   "cell_type": "code",
   "execution_count": 6,
   "metadata": {},
   "outputs": [],
   "source": [
    "import polars as pl\n",
    "\n",
    "df = pl.read_csv(\"titanic.csv\")"
   ]
  },
  {
   "cell_type": "code",
   "execution_count": 7,
   "metadata": {},
   "outputs": [],
   "source": [
    "from bastionlab import Connection\n",
    "\n",
    "connection = Connection(\"localhost\")"
   ]
  },
  {
   "cell_type": "code",
   "execution_count": 8,
   "metadata": {},
   "outputs": [
    {
     "ename": "_InactiveRpcError",
     "evalue": "<_InactiveRpcError of RPC that terminated with:\n\tstatus = StatusCode.PERMISSION_DENIED\n\tdetails = \"\"30e4622d280a9d54ddd9a8c35af02014cf2c6417822174b47f9d7287e4f7f1db\" not authenticated!\"\n\tdebug_error_string = \"{\"created\":\"@1671009090.148421593\",\"description\":\"Error received from peer ipv4:127.0.0.1:50056\",\"file\":\"src/core/lib/surface/call.cc\",\"file_line\":966,\"grpc_message\":\"\"30e4622d280a9d54ddd9a8c35af02014cf2c6417822174b47f9d7287e4f7f1db\" not authenticated!\",\"grpc_status\":7}\"\n>",
     "output_type": "error",
     "traceback": [
      "\u001b[0;31m---------------------------------------------------------------------------\u001b[0m",
      "\u001b[0;31m_InactiveRpcError\u001b[0m                         Traceback (most recent call last)",
      "\u001b[1;32m/home/kbamponsem/Projects/bastionlab/docs/docs/tutorials/data_conversion.ipynb Cell 6\u001b[0m in \u001b[0;36m<cell line: 4>\u001b[0;34m()\u001b[0m\n\u001b[1;32m      <a href='vscode-notebook-cell://wsl%2Bubuntu/home/kbamponsem/Projects/bastionlab/docs/docs/tutorials/data_conversion.ipynb#W5sdnNjb2RlLXJlbW90ZQ%3D%3D?line=0'>1</a>\u001b[0m \u001b[39mfrom\u001b[39;00m \u001b[39mbastionlab\u001b[39;00m\u001b[39m.\u001b[39;00m\u001b[39mpolars\u001b[39;00m\u001b[39m.\u001b[39;00m\u001b[39mpolicy\u001b[39;00m \u001b[39mimport\u001b[39;00m Policy, Aggregation, Log\n\u001b[1;32m      <a href='vscode-notebook-cell://wsl%2Bubuntu/home/kbamponsem/Projects/bastionlab/docs/docs/tutorials/data_conversion.ipynb#W5sdnNjb2RlLXJlbW90ZQ%3D%3D?line=2'>3</a>\u001b[0m policy \u001b[39m=\u001b[39m Policy(safe_zone\u001b[39m=\u001b[39mAggregation(min_agg_size\u001b[39m=\u001b[39m\u001b[39m10\u001b[39m), unsafe_handling\u001b[39m=\u001b[39mLog())\n\u001b[0;32m----> <a href='vscode-notebook-cell://wsl%2Bubuntu/home/kbamponsem/Projects/bastionlab/docs/docs/tutorials/data_conversion.ipynb#W5sdnNjb2RlLXJlbW90ZQ%3D%3D?line=3'>4</a>\u001b[0m connection\u001b[39m.\u001b[39;49mclient\u001b[39m.\u001b[39mpolars\u001b[39m.\u001b[39msend_df(df, policy\u001b[39m=\u001b[39mpolicy, sanitized_columns\u001b[39m=\u001b[39m[\u001b[39m\"\u001b[39m\u001b[39mName\u001b[39m\u001b[39m\"\u001b[39m])\n",
      "File \u001b[0;32m~/base/lib/python3.8/site-packages/bastionlab/client.py:165\u001b[0m, in \u001b[0;36mConnection.client\u001b[0;34m(self)\u001b[0m\n\u001b[1;32m    163\u001b[0m     \u001b[39mreturn\u001b[39;00m \u001b[39mself\u001b[39m\u001b[39m.\u001b[39m_client\n\u001b[1;32m    164\u001b[0m \u001b[39melse\u001b[39;00m:\n\u001b[0;32m--> 165\u001b[0m     \u001b[39mreturn\u001b[39;00m \u001b[39mself\u001b[39;49m\u001b[39m.\u001b[39;49m\u001b[39m__enter__\u001b[39;49m()\n",
      "File \u001b[0;32m~/base/lib/python3.8/site-packages/bastionlab/client.py:196\u001b[0m, in \u001b[0;36mConnection.__enter__\u001b[0;34m(self)\u001b[0m\n\u001b[1;32m    193\u001b[0m connection_options \u001b[39m=\u001b[39m ((\u001b[39m\"\u001b[39m\u001b[39mgrpc.ssl_target_name_override\u001b[39m\u001b[39m\"\u001b[39m, \u001b[39mself\u001b[39m\u001b[39m.\u001b[39mserver_name),)\n\u001b[1;32m    195\u001b[0m \u001b[39m# Verify user by creating session\u001b[39;00m\n\u001b[0;32m--> 196\u001b[0m \u001b[39mself\u001b[39m\u001b[39m.\u001b[39mtoken \u001b[39m=\u001b[39m Connection\u001b[39m.\u001b[39;49m_verify_user(\n\u001b[1;32m    197\u001b[0m     server_target, server_creds, connection_options, \u001b[39mself\u001b[39;49m\u001b[39m.\u001b[39;49midentity\n\u001b[1;32m    198\u001b[0m )\n\u001b[1;32m    200\u001b[0m channel_cred \u001b[39m=\u001b[39m (\n\u001b[1;32m    201\u001b[0m     server_creds\n\u001b[1;32m    202\u001b[0m     \u001b[39mif\u001b[39;00m \u001b[39mself\u001b[39m\u001b[39m.\u001b[39midentity \u001b[39mis\u001b[39;00m \u001b[39mNone\u001b[39;00m\n\u001b[0;32m   (...)\u001b[0m\n\u001b[1;32m    207\u001b[0m     )\n\u001b[1;32m    208\u001b[0m )\n\u001b[1;32m    210\u001b[0m \u001b[39mself\u001b[39m\u001b[39m.\u001b[39mchannel \u001b[39m=\u001b[39m grpc\u001b[39m.\u001b[39msecure_channel(\n\u001b[1;32m    211\u001b[0m     server_target, channel_cred, connection_options\n\u001b[1;32m    212\u001b[0m )\n",
      "File \u001b[0;32m~/base/lib/python3.8/site-packages/bastionlab/client.py:150\u001b[0m, in \u001b[0;36mConnection._verify_user\u001b[0;34m(server_target, server_creds, options, signing_key)\u001b[0m\n\u001b[1;32m    147\u001b[0m     signed \u001b[39m=\u001b[39m signing_key\u001b[39m.\u001b[39msign(to_sign)\n\u001b[1;32m    148\u001b[0m     metadata \u001b[39m+\u001b[39m\u001b[39m=\u001b[39m ((\u001b[39mf\u001b[39m\u001b[39m\"\u001b[39m\u001b[39msignature-\u001b[39m\u001b[39m{\u001b[39;00m(pubkey_hex)\u001b[39m}\u001b[39;00m\u001b[39m-bin\u001b[39m\u001b[39m\"\u001b[39m, signed),)\n\u001b[0;32m--> 150\u001b[0m     token \u001b[39m=\u001b[39m session_stub\u001b[39m.\u001b[39;49mCreateSession(CLIENT_INFO, metadata\u001b[39m=\u001b[39;49mmetadata)\u001b[39m.\u001b[39mtoken\n\u001b[1;32m    152\u001b[0m     \u001b[39mreturn\u001b[39;00m token\n\u001b[1;32m    153\u001b[0m \u001b[39melse\u001b[39;00m:\n",
      "File \u001b[0;32m~/base/lib/python3.8/site-packages/grpc/_channel.py:946\u001b[0m, in \u001b[0;36m_UnaryUnaryMultiCallable.__call__\u001b[0;34m(self, request, timeout, metadata, credentials, wait_for_ready, compression)\u001b[0m\n\u001b[1;32m    937\u001b[0m \u001b[39mdef\u001b[39;00m \u001b[39m__call__\u001b[39m(\u001b[39mself\u001b[39m,\n\u001b[1;32m    938\u001b[0m              request,\n\u001b[1;32m    939\u001b[0m              timeout\u001b[39m=\u001b[39m\u001b[39mNone\u001b[39;00m,\n\u001b[0;32m   (...)\u001b[0m\n\u001b[1;32m    942\u001b[0m              wait_for_ready\u001b[39m=\u001b[39m\u001b[39mNone\u001b[39;00m,\n\u001b[1;32m    943\u001b[0m              compression\u001b[39m=\u001b[39m\u001b[39mNone\u001b[39;00m):\n\u001b[1;32m    944\u001b[0m     state, call, \u001b[39m=\u001b[39m \u001b[39mself\u001b[39m\u001b[39m.\u001b[39m_blocking(request, timeout, metadata, credentials,\n\u001b[1;32m    945\u001b[0m                                   wait_for_ready, compression)\n\u001b[0;32m--> 946\u001b[0m     \u001b[39mreturn\u001b[39;00m _end_unary_response_blocking(state, call, \u001b[39mFalse\u001b[39;49;00m, \u001b[39mNone\u001b[39;49;00m)\n",
      "File \u001b[0;32m~/base/lib/python3.8/site-packages/grpc/_channel.py:849\u001b[0m, in \u001b[0;36m_end_unary_response_blocking\u001b[0;34m(state, call, with_call, deadline)\u001b[0m\n\u001b[1;32m    847\u001b[0m         \u001b[39mreturn\u001b[39;00m state\u001b[39m.\u001b[39mresponse\n\u001b[1;32m    848\u001b[0m \u001b[39melse\u001b[39;00m:\n\u001b[0;32m--> 849\u001b[0m     \u001b[39mraise\u001b[39;00m _InactiveRpcError(state)\n",
      "\u001b[0;31m_InactiveRpcError\u001b[0m: <_InactiveRpcError of RPC that terminated with:\n\tstatus = StatusCode.PERMISSION_DENIED\n\tdetails = \"\"30e4622d280a9d54ddd9a8c35af02014cf2c6417822174b47f9d7287e4f7f1db\" not authenticated!\"\n\tdebug_error_string = \"{\"created\":\"@1671009090.148421593\",\"description\":\"Error received from peer ipv4:127.0.0.1:50056\",\"file\":\"src/core/lib/surface/call.cc\",\"file_line\":966,\"grpc_message\":\"\"30e4622d280a9d54ddd9a8c35af02014cf2c6417822174b47f9d7287e4f7f1db\" not authenticated!\",\"grpc_status\":7}\"\n>"
     ]
    }
   ],
   "source": [
    "from bastionlab.polars.policy import Policy, Aggregation, Log\n",
    "\n",
    "policy = Policy(safe_zone=Aggregation(min_agg_size=10), unsafe_handling=Log())\n",
    "connection.client.polars.send_df(df, policy=policy, sanitized_columns=[\"Name\"])"
   ]
  }
 ],
 "metadata": {
  "kernelspec": {
   "display_name": "base",
   "language": "python",
   "name": "python3"
  },
  "language_info": {
   "codemirror_mode": {
    "name": "ipython",
    "version": 3
   },
   "file_extension": ".py",
   "mimetype": "text/x-python",
   "name": "python",
   "nbconvert_exporter": "python",
   "pygments_lexer": "ipython3",
   "version": "3.8.10"
  },
  "orig_nbformat": 4,
  "vscode": {
   "interpreter": {
    "hash": "cfb725626286d8c8fc5334ffe77697f720dc23e64d3046271825a5556b528e7d"
   }
  }
 },
 "nbformat": 4,
 "nbformat_minor": 2
}
