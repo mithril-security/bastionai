{
 "cells": [
  {
   "attachments": {},
   "cell_type": "markdown",
   "metadata": {},
   "source": [
    "<div id=\"colab_button\">\n",
    "  <h1>Data conversion</h1>\n",
    "  <a target=\"https://colab.research.google.com/github/mithril-security/bastionlab/blob/v0.3.7/docs/docs/tutorials/data_conversion.ipynb\" href=\"LINK COLAB\"> \n",
    "  <img src=\"https://colab.research.google.com/assets/colab-badge.svg\" alt=\"Open In Colab\"/></a>\n",
    "</div>\n",
    "\n",
    "__________________________________________________"
   ]
  },
  {
   "attachments": {},
   "cell_type": "markdown",
   "metadata": {},
   "source": [
    "In order for data scientists to use BastionLab from data exploration to deep learning training and machine learning model fitting, it's important that they are able to convert remote data to their respective representations.\n",
    "\n",
    "This tutorial introduces how you can convert a `RemoteDataFrame` to `RemoteTensor`, using a `RemoteArray` intermediary step, and use them for your deep learning model training. "
   ]
  },
  {
   "attachments": {},
   "cell_type": "markdown",
   "metadata": {},
   "source": [
    "## Pre-requisites\n",
    "___________________________________________\n",
    "\n",
    "### Installation and dataset\n",
    "\n",
    "In order to run this notebook, we need to:\n",
    "- Have [Python3.7](https://www.python.org/downloads/) (or greater) and [Python Pip](https://pypi.org/project/pip/) installed\n",
    "- Install [BastionLab](https://bastionlab.readthedocs.io/en/latest/docs/getting-started/installation/)\n",
    "- Install PyTorch [1.13.1](https://pypi.org/project/torch/)\n",
    "- Download [the dataset](https://www.kaggle.com/competitions/titanic) we will be using in this tutorial.\n",
    "\n",
    "We'll do so by running the code block below. \n",
    "\n",
    ">If you are running this notebook on your machine instead of [Google Colab](https://colab.research.google.com/github/mithril-security/bastionlab/blob/v0.3.6/docs/docs/tutorials/data_conversion.ipynb), you can see our [Installation page](https://bastionlab.readthedocs.io/en/latest/docs/getting-started/installation/) to find the installation method that best suits your needs."
   ]
  },
  {
   "cell_type": "code",
   "execution_count": 1,
   "metadata": {},
   "outputs": [],
   "source": [
    "# pip packages\n",
    "!pip install bastionlab\n",
    "!pip install bastionlab_server\n",
    "!pip install torch\n",
    "\n",
    "# download the dataset\n",
    "!wget 'https://raw.githubusercontent.com/datasciencedojo/datasets/master/titanic.csv'"
   ]
  },
  {
   "attachments": {},
   "cell_type": "markdown",
   "metadata": {},
   "source": [
    "Our dataset is based on the [Titanic dataset](https://www.kaggle.com/c/titanic), one of the most popular ressource used for understanding machine learning, which contains information relating to the passengers aboard the Titanic. "
   ]
  },
  {
   "attachments": {},
   "cell_type": "markdown",
   "metadata": {},
   "source": [
    "### Launch and connect to the server"
   ]
  },
  {
   "cell_type": "code",
   "execution_count": 2,
   "metadata": {},
   "outputs": [],
   "source": [
    "# launch bastionlab_server test package\n",
    "import bastionlab_server\n",
    "\n",
    "srv = bastionlab_server.start()"
   ]
  },
  {
   "attachments": {},
   "cell_type": "markdown",
   "metadata": {},
   "source": [
    ">*Note that the bastionlab_server package we install here was created for testing purposes. You can also install BastionLab server using our Docker image or from source (especially for non-test purposes). Check out our [Installation Tutorial](../getting-started/installation.md) for more details.*"
   ]
  },
  {
   "cell_type": "code",
   "execution_count": 3,
   "metadata": {},
   "outputs": [
    {
     "name": "stderr",
     "output_type": "stream",
     "text": [
      "/home/kbamponsem/base/lib/python3.8/site-packages/tqdm/auto.py:22: TqdmWarning: IProgress not found. Please update jupyter and ipywidgets. See https://ipywidgets.readthedocs.io/en/stable/user_install.html\n",
      "  from .autonotebook import tqdm as notebook_tqdm\n"
     ]
    }
   ],
   "source": [
    "# connect to the server\n",
    "from bastionlab import Connection\n",
    "\n",
    "connection = Connection(\"localhost\")\n",
    "client = connection.client"
   ]
  },
  {
   "attachments": {},
   "cell_type": "markdown",
   "metadata": {},
   "source": [
    "### Upload the dataframe to the server\n",
    "\n",
    "We'll quickly upload the dataset to the server with an open safety policy, since setting up BastionLab is not the focus of this tutorial. It will allows us to demonstrate features without having to approve any data access requests. *You can check out how to define a privacy policy [here](https://bastionlab.readthedocs.io/en/latest/docs/tutorials/defining_policy_privacy/).* \n",
    "\n",
    "We'll also limit the size of the dataset sent to the server, with Polar's `df.limit()` method, to run this tutorial faster and use less ressources - since we are only performing data conversion and not full on data exploration. "
   ]
  },
  {
   "cell_type": "code",
   "execution_count": 4,
   "metadata": {},
   "outputs": [
    {
     "data": {
      "text/plain": [
       "FetchableLazyFrame(identifier=b14b0823-c94b-4019-a56e-72dbb8a95466)"
      ]
     },
     "execution_count": 4,
     "metadata": {},
     "output_type": "execute_result"
    }
   ],
   "source": [
    "import polars as pl\n",
    "from bastionlab.polars.policy import Policy, TrueRule, Log\n",
    "\n",
    "df = pl.read_csv(\"titanic.csv\")\n",
    "policy = Policy(safe_zone=TrueRule(), unsafe_handling=Log(), savable=False)\n",
    "rdf = client.polars.send_df(df.limit(100), policy=policy)\n",
    "\n",
    "rdf"
   ]
  },
  {
   "attachments": {},
   "cell_type": "markdown",
   "metadata": {},
   "source": [
    "## Convert `RemoteDataFrame` to `RemoteArray`\n",
    "----\n",
    "\n",
    "To convert BastionLab's main data exploration object, the `RemoteDataFrame`, to it's AI training's main object `RemoteTensor`, we'll need to go through an intermediary step: the `RemoteArray`. \n",
    "\n",
    "Since [NumPy](https://numpy.org/) library's `array`s are commonly used in machine learning training, we decided to make our user interface and experience similar. What we'll show in this tutorial will be as straightforward as fitting a [Scikit-learn](https://scikit-learn.org/stable/) `LinearRegression` model on a NumPy `array`.\n",
    "```python\n",
    "\n",
    "    lr = LinearRegression()\n",
    "\n",
    "    lr.fit(array)\n",
    "\n",
    "```\n",
    "\n",
    "Except, in BastionLab, `array` will be `RemoteArray`, which are pointers to a `RemoteDataFrame`. When `to_tensor()` will be called, they'll convert the `RemoteDataFrame` to a `RemoteTensor`."
   ]
  },
  {
   "cell_type": "code",
   "execution_count": null,
   "metadata": {
    "tags": [
     "no_execute"
    ]
   },
   "outputs": [
    {
     "ename": "",
     "evalue": "",
     "output_type": "error",
     "traceback": [
      "\u001b[1;31mRunning cells with '/bin/python3' requires ipykernel package.\n",
      "\u001b[1;31mRun the following command to install 'ipykernel' into the Python environment. \n",
      "\u001b[1;31mCommand: '/bin/python3 -m pip install ipykernel -U --user --force-reinstall'"
     ]
    }
   ],
   "source": [
    "# Converting a RemoteDataFrame to a RemoteArray\n",
    "rdf.to_array()"
   ]
  },
  {
   "attachments": {},
   "cell_type": "markdown",
   "metadata": {},
   "source": [
    "Oh but wait. It didn't work! We got an error message: _`TypeError: Utf8 column cannot be converted into RemoteArray`_.\n",
    "\n",
    "This means we need to make sure our `RemoteDataFrame` only has numerical fields (_ints, floats_) before we convert it into a `RemoteArray`. This makes sense because tensors only accept numerical values, and arrays are here to prepare that next conversion step."
   ]
  },
  {
   "cell_type": "code",
   "execution_count": 5,
   "metadata": {},
   "outputs": [],
   "source": [
    "# We use Polar's pl.col() method to convert all values to numerical ones\n",
    "rdf = rdf.select(pl.col([pl.Float64, pl.Float32, pl.Int64, pl.Int32]))"
   ]
  },
  {
   "attachments": {},
   "cell_type": "markdown",
   "metadata": {},
   "source": [
    "Let's try to convert our `RemoteDataFrame` once more to a `RemoteArray`."
   ]
  },
  {
   "cell_type": "code",
   "execution_count": 4,
   "metadata": {
    "tags": [
     "no_execute"
    ]
   },
   "outputs": [
    {
     "ename": "TypeError",
     "evalue": "DataTypes for all columns should be the same",
     "output_type": "error",
     "traceback": [
      "\u001b[0;31m---------------------------------------------------------------------------\u001b[0m",
      "\u001b[0;31mTypeError\u001b[0m                                 Traceback (most recent call last)",
      "Cell \u001b[0;32mIn[4], line 3\u001b[0m\n\u001b[1;32m      1\u001b[0m rdf \u001b[39m=\u001b[39m rdf\u001b[39m.\u001b[39mselect(pl\u001b[39m.\u001b[39mcol([pl\u001b[39m.\u001b[39mFloat64, pl\u001b[39m.\u001b[39mFloat32, pl\u001b[39m.\u001b[39mInt64, pl\u001b[39m.\u001b[39mInt32]))\n\u001b[0;32m----> 3\u001b[0m rdf\u001b[39m.\u001b[39;49mto_array()\n",
      "File \u001b[0;32m~/Projects/bastionlab/client/src/bastionlab/polars/remote_polars.py:324\u001b[0m, in \u001b[0;36mRemoteLazyFrame.to_array\u001b[0;34m(self)\u001b[0m\n\u001b[1;32m    323\u001b[0m \u001b[39mdef\u001b[39;00m \u001b[39mto_array\u001b[39m(\u001b[39mself\u001b[39m: LDF) \u001b[39m-\u001b[39m\u001b[39m>\u001b[39m \u001b[39m\"\u001b[39m\u001b[39mRemoteArray\u001b[39m\u001b[39m\"\u001b[39m:\n\u001b[0;32m--> 324\u001b[0m     \u001b[39mreturn\u001b[39;00m RemoteArray(\u001b[39mself\u001b[39;49m)\n",
      "File \u001b[0;32m~/Projects/bastionlab/client/src/bastionlab/polars/remote_polars.py:1454\u001b[0m, in \u001b[0;36mRemoteArray.__init__\u001b[0;34m(self, rdf)\u001b[0m\n\u001b[1;32m   1451\u001b[0m         \u001b[39mraise\u001b[39;00m \u001b[39mTypeError\u001b[39;00m(\u001b[39m\"\u001b[39m\u001b[39mDataTypes for all columns should be the same\u001b[39m\u001b[39m\"\u001b[39m)\n\u001b[1;32m   1452\u001b[0m     \u001b[39mreturn\u001b[39;00m rdf\u001b[39m.\u001b[39mcollect()\n\u001b[0;32m-> 1454\u001b[0m rdf \u001b[39m=\u001b[39m _verify_schema(rdf)\n\u001b[1;32m   1455\u001b[0m \u001b[39mself\u001b[39m\u001b[39m.\u001b[39m_inner \u001b[39m=\u001b[39m rdf\u001b[39m.\u001b[39m_inner\n\u001b[1;32m   1456\u001b[0m \u001b[39mself\u001b[39m\u001b[39m.\u001b[39m_meta: Metadata \u001b[39m=\u001b[39m rdf\u001b[39m.\u001b[39m_meta\n",
      "File \u001b[0;32m~/Projects/bastionlab/client/src/bastionlab/polars/remote_polars.py:1451\u001b[0m, in \u001b[0;36mRemoteArray.__init__.<locals>._verify_schema\u001b[0;34m(rdf)\u001b[0m\n\u001b[1;32m   1448\u001b[0m     \u001b[39mraise\u001b[39;00m \u001b[39mTypeError\u001b[39;00m(\u001b[39m\"\u001b[39m\u001b[39mUtf8 column cannot be converted into RemoteArray\u001b[39m\u001b[39m\"\u001b[39m)\n\u001b[1;32m   1450\u001b[0m \u001b[39mif\u001b[39;00m \u001b[39mlen\u001b[39m(\u001b[39mset\u001b[39m(dtypes)) \u001b[39m>\u001b[39m \u001b[39m1\u001b[39m:\n\u001b[0;32m-> 1451\u001b[0m     \u001b[39mraise\u001b[39;00m \u001b[39mTypeError\u001b[39;00m(\u001b[39m\"\u001b[39m\u001b[39mDataTypes for all columns should be the same\u001b[39m\u001b[39m\"\u001b[39m)\n\u001b[1;32m   1452\u001b[0m \u001b[39mreturn\u001b[39;00m rdf\u001b[39m.\u001b[39mcollect()\n",
      "\u001b[0;31mTypeError\u001b[0m: DataTypes for all columns should be the same"
     ]
    }
   ],
   "source": [
    "# Converting RemoteDataFrame to RemoteArray\n",
    "rdf.to_array()"
   ]
  },
  {
   "attachments": {},
   "cell_type": "markdown",
   "metadata": {},
   "source": [
    "Again, our `to_array()` method gives out an error! _`TypeError: DataTypes for all columns should be the same`_.\n",
    "\n",
    "This means we need to cast all our columns first before converting them into an array. Here, we'll choose `Float64` to capture all numerical values.\n",
    "\n",
    "> *It is very important that we cast all our columns into a single datatype to make our `RemoteArray` compatible with other libraries and machine learning applications - as arrays are supposed to be a collection of objects of the same type.*"
   ]
  },
  {
   "cell_type": "code",
   "execution_count": 6,
   "metadata": {},
   "outputs": [],
   "source": [
    "# Converting all values of the RemoteDataFrame to Float64\n",
    "rdf = rdf.select(pl.all().cast(pl.Float64))"
   ]
  },
  {
   "attachments": {},
   "cell_type": "markdown",
   "metadata": {},
   "source": [
    "We'll try again to convert `RemoteDataFrame` into `RemoteArray`."
   ]
  },
  {
   "cell_type": "code",
   "execution_count": 7,
   "metadata": {
    "tags": []
   },
   "outputs": [
    {
     "data": {
      "text/plain": [
       "RemoteArray(identifier=66657395-e506-4934-907f-025396635d93"
      ]
     },
     "execution_count": 7,
     "metadata": {},
     "output_type": "execute_result"
    }
   ],
   "source": [
    "# Converting RemoteDataFrame to RemoteArray\n",
    "rdf.to_array()"
   ]
  },
  {
   "attachments": {},
   "cell_type": "markdown",
   "metadata": {},
   "source": [
    "It's a success! "
   ]
  },
  {
   "attachments": {},
   "cell_type": "markdown",
   "metadata": {},
   "source": [
    "## Convert `RemoteArray` to `RemoteTensor`\n",
    "____________________________________________________"
   ]
  },
  {
   "attachments": {},
   "cell_type": "markdown",
   "metadata": {},
   "source": [
    "\n",
    "Now that we converted our `RemoteDataFrame` to a `Remote Array`, we'll convert the `RemoteArray` to a `RemoteTensor` to be able to train our model. This shouldn't run into problems, since the `RemoteArray` step would have already taken care of eventual conversion issues.\n"
   ]
  },
  {
   "cell_type": "code",
   "execution_count": 8,
   "metadata": {},
   "outputs": [],
   "source": [
    "# Converts `RemoteArray` into `RemoteTensor`\n",
    "# (using the middle step of converting to RemoteArray)\n",
    "remote_tensor = rdf.to_array().to_tensor()"
   ]
  },
  {
   "attachments": {},
   "cell_type": "markdown",
   "metadata": {},
   "source": [
    "Once the `RemoteTensor` has been created, we can go ahead and print its available properties, which are `dtype` and `shape`."
   ]
  },
  {
   "cell_type": "code",
   "execution_count": null,
   "metadata": {},
   "outputs": [],
   "source": [
    "print(remote_tensor)"
   ]
  },
  {
   "attachments": {},
   "cell_type": "markdown",
   "metadata": {},
   "source": [
    "We chose to only show you those two properties (the type of the tensor and its shape) to protect the privacy of the data - but still give you the vital information you need to train your model. \n",
    "\n",
    ">*You can refer to our [Covid 19 deep learning](https://github.com/mithril-security/bastionlab/blob/master/docs/docs/how-to-guides/covid_19_deep_learning_cleaning.ipynb) how-to-guide to see how we use `RemoteTensor`s in training a PyTorch Linear Regression model.*"
   ]
  },
  {
   "attachments": {},
   "cell_type": "markdown",
   "metadata": {},
   "source": [
    "### Updating the `dtype` of `RemoteTensor`"
   ]
  },
  {
   "attachments": {},
   "cell_type": "markdown",
   "metadata": {},
   "source": [
    "This is the only method you can use on `RemoteTensor`, because we need to limit access to guarantee the privacy of the data stored. \n",
    "\n",
    "We'll use `to()`, just like with a regular torch tensor, to change the `dtype` of the tensor."
   ]
  },
  {
   "cell_type": "code",
   "execution_count": 10,
   "metadata": {},
   "outputs": [
    {
     "data": {
      "text/plain": [
       "RemoteTensor(identifier=fa80806f-38dc-4923-9035-8d9e94b94526, dtype=torch.int64, shape=torch.Size([100, 7]))"
      ]
     },
     "execution_count": 10,
     "metadata": {},
     "output_type": "execute_result"
    }
   ],
   "source": [
    "import torch\n",
    "\n",
    "# Using the to() method to update the dtype of the RemoteTensor\n",
    "remote_tensor.to(torch.int64)"
   ]
  },
  {
   "cell_type": "code",
   "execution_count": 11,
   "metadata": {},
   "outputs": [
    {
     "name": "stdout",
     "output_type": "stream",
     "text": [
      "RemoteTensor(identifier=fa80806f-38dc-4923-9035-8d9e94b94526, dtype=torch.float64, shape=torch.Size([100, 7]))\n"
     ]
    }
   ],
   "source": [
    "print(remote_tensor)"
   ]
  },
  {
   "attachments": {},
   "cell_type": "markdown",
   "metadata": {},
   "source": [
    "The `dtype` for the RemoteTensor has been updated to `int64`!\n",
    "\n",
    "You now know how to converte RemoteDataframe to RemoteTensor. All that's left to do now is to close your connection to the server and stop the server:"
   ]
  },
  {
   "cell_type": "code",
   "execution_count": null,
   "metadata": {},
   "outputs": [],
   "source": [
    "connection.close()\n",
    "bastionlab_server.stop(srv)"
   ]
  }
 ],
 "metadata": {
  "kernelspec": {
   "display_name": "Python 3",
   "language": "python",
   "name": "python3"
  },
  "language_info": {
   "codemirror_mode": {
    "name": "ipython",
    "version": 3
   },
   "file_extension": ".py",
   "mimetype": "text/x-python",
   "name": "python",
   "nbconvert_exporter": "python",
   "pygments_lexer": "ipython3",
   "version": "3.8.10 (default, Jun 22 2022, 20:18:18) \n[GCC 9.4.0]"
  },
  "orig_nbformat": 4,
  "vscode": {
   "interpreter": {
    "hash": "916dbcbb3f70747c44a77c7bcd40155683ae19c65e1c03b4aa3499c5328201f1"
   }
  }
 },
 "nbformat": 4,
 "nbformat_minor": 2
}
