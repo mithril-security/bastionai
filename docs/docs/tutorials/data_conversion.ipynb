{
 "cells": [
  {
   "cell_type": "code",
   "execution_count": null,
   "metadata": {},
   "outputs": [],
   "source": [
    "from bastionlab import Identity\n",
    "\n",
    "# Create `Identity` for Data owner.\n",
    "data_owner = Identity.create(\"data_owner\")"
   ]
  },
  {
   "cell_type": "code",
   "execution_count": null,
   "metadata": {},
   "outputs": [],
   "source": [
    "!wget 'https://raw.githubusercontent.com/datasciencedojo/datasets/master/titanic.csv'"
   ]
  },
  {
   "cell_type": "code",
   "execution_count": null,
   "metadata": {},
   "outputs": [],
   "source": [
    "!python datagen.py"
   ]
  },
  {
   "cell_type": "code",
   "execution_count": null,
   "metadata": {},
   "outputs": [],
   "source": [
    "!wget https://archive.ics.uci.edu/ml/machine-learning-databases/00228/smsspamcollection.zip\n",
    "!unzip smsspamcollection.zip"
   ]
  },
  {
   "cell_type": "code",
   "execution_count": null,
   "metadata": {},
   "outputs": [],
   "source": [
    "!pip install transformers==0.13.2"
   ]
  },
  {
   "cell_type": "code",
   "execution_count": 1,
   "metadata": {},
   "outputs": [],
   "source": [
    "from tokenizers import Tokenizer\n",
    "from bastionlab.polars.policy import Policy, Aggregation, Log\n",
    "import polars as pl\n",
    "from bastionlab import Connection\n",
    "\n",
    "file_path = \"./SMSSpamCollection\"\n",
    "\n",
    "labels = []\n",
    "texts = []\n",
    "with open(file_path) as f:\n",
    "    for line in f.readlines():\n",
    "        split = line.split(\"\\t\")\n",
    "        labels.append(1 if split[0] == \"spam\" else 0)\n",
    "        texts.append(split[1])\n",
    "df = pl.DataFrame({\"label\": labels, \"text\": texts})\n",
    "\n",
    "connection = Connection(\"localhost\")\n",
    "\n",
    "\n",
    "policy = Policy(safe_zone=Aggregation(min_agg_size=10), unsafe_handling=Log())\n",
    "rdf = connection.client.polars.send_df(\n",
    "    df.limit(int(df.height * 0.8)).limit(64), policy=policy, sanitized_columns=[\"text\"]\n",
    ")\n",
    "test_rdf = connection.client.polars.send_df(\n",
    "    df.tail(int(df.height * 0.2)).limit(64), policy=policy, sanitized_columns=[\"text\"]\n",
    ")\n",
    "\n",
    "\n",
    "tokenizer = Tokenizer.from_pretrained(\"distilbert-base-uncased\")\n",
    "tokenizer.enable_truncation(max_length=32)\n",
    "tokenizer.enable_padding(length=32)\n",
    "\n",
    "train_rds = (\n",
    "    rdf.convert([\"text\"], tokenizer.to_str())\n",
    "    .collect()\n",
    "    .to_dataset([\"text_ids\", \"text_mask\"], \"label\")\n",
    ")\n",
    "test_rds = (\n",
    "    test_rdf.convert([\"text\"], tokenizer.to_str())\n",
    "    .collect()\n",
    "    .to_dataset([\"text_ids\", \"text_mask\"], \"label\")\n",
    ")\n",
    "\n",
    "\n",
    "train_rds._set_test_dataset(test_rds.train_dataset_ref)\n",
    "test_rds.set_train_dataset(train_dataset=train_rds.train_dataset_ref)"
   ]
  },
  {
   "cell_type": "code",
   "execution_count": null,
   "metadata": {},
   "outputs": [],
   "source": [
    "! pip install transformers"
   ]
  },
  {
   "cell_type": "code",
   "execution_count": 2,
   "metadata": {},
   "outputs": [
    {
     "name": "stderr",
     "output_type": "stream",
     "text": [
      "Some weights of the model checkpoint at distilbert-base-uncased were not used when initializing DistilBertForSequenceClassification: ['vocab_projector.weight', 'vocab_projector.bias', 'vocab_layer_norm.bias', 'vocab_layer_norm.weight', 'vocab_transform.weight', 'vocab_transform.bias']\n",
      "- This IS expected if you are initializing DistilBertForSequenceClassification from the checkpoint of a model trained on another task or with another architecture (e.g. initializing a BertForSequenceClassification model from a BertForPreTraining model).\n",
      "- This IS NOT expected if you are initializing DistilBertForSequenceClassification from the checkpoint of a model that you expect to be exactly identical (initializing a BertForSequenceClassification model from a BertForSequenceClassification model).\n",
      "Some weights of DistilBertForSequenceClassification were not initialized from the model checkpoint at distilbert-base-uncased and are newly initialized: ['pre_classifier.bias', 'classifier.bias', 'pre_classifier.weight', 'classifier.weight']\n",
      "You should probably TRAIN this model on a down-stream task to be able to use it for predictions and inference.\n"
     ]
    }
   ],
   "source": [
    "from transformers import DistilBertForSequenceClassification, DistilBertTokenizer\n",
    "from bastionlab.torch.utils import MultipleOutputWrapper\n",
    "\n",
    "model = DistilBertForSequenceClassification.from_pretrained(\n",
    "    \"distilbert-base-uncased\",\n",
    "    num_labels=2,\n",
    "    output_attentions=False,\n",
    "    output_hidden_states=False,\n",
    "    torchscript=True,\n",
    ")\n",
    "model = MultipleOutputWrapper(model, 0)"
   ]
  },
  {
   "cell_type": "code",
   "execution_count": 3,
   "metadata": {},
   "outputs": [
    {
     "name": "stdout",
     "output_type": "stream",
     "text": [
      "[<bastionlab.torch.learner.RemoteDataset object at 0x7f666801cd60>]\n"
     ]
    },
    {
     "data": {
      "text/plain": [
       "[tensor([0, 0, 0, 0, 0, 0, 0, 0, 0, 0, 0, 0, 0, 0, 0, 0, 0, 0, 0, 0, 0, 0, 0, 0,\n",
       "         0, 0, 0, 0, 0, 0, 0, 0]),\n",
       " tensor([0, 0, 0, 0, 0, 0, 0, 0, 0, 0, 0, 0, 0, 0, 0, 0, 0, 0, 0, 0, 0, 0, 0, 0,\n",
       "         0, 0, 0, 0, 0, 0, 0, 0])]"
      ]
     },
     "execution_count": 3,
     "metadata": {},
     "output_type": "execute_result"
    }
   ],
   "source": [
    "remote_datasets = connection.client.torch.list_remote_datasets()\n",
    "print(remote_datasets)\n",
    "\n",
    "remote_datasets[0].trace_input"
   ]
  },
  {
   "cell_type": "code",
   "execution_count": 4,
   "metadata": {},
   "outputs": [
    {
     "name": "stderr",
     "output_type": "stream",
     "text": [
      "Sending DistilBERT: 100%|████████████████████| 268M/268M [00:11<00:00, 24.1MB/s] \n"
     ]
    }
   ],
   "source": [
    "from bastionlab.torch.optimizer_config import Adam\n",
    "remote_learner = connection.client.torch.RemoteLearner(\n",
    "    model,\n",
    "    remote_datasets[0],\n",
    "    max_batch_size=2,\n",
    "    loss=\"cross_entropy\",\n",
    "    optimizer=Adam(lr=5e-5),\n",
    "    model_name=\"DistilBERT\",\n",
    "    expand=False,\n",
    ")"
   ]
  },
  {
   "cell_type": "code",
   "execution_count": 5,
   "metadata": {},
   "outputs": [
    {
     "ename": "GRPCException",
     "evalue": "Internal server error: code=StatusCode.INTERNAL message=Torch error: Internal torch error: unsupported operation: more than one element of the written-to tensor refers to a single memory location. Please clone() the tensor before performing the operation.\nException raised from assert_no_internal_overlap at ../aten/src/ATen/MemoryOverlap.cpp:38 (most recent call first):\nframe #0: c10::Error::Error(c10::SourceLocation, std::__cxx11::basic_string<char, std::char_traits<char>, std::allocator<char> >) + 0x6b (0x7f245903d9cb in /home/kbamponsem/libtorch/lib/libc10.so)\nframe #1: c10::detail::torchCheckFail(char const*, char const*, unsigned int, char const*) + 0xd1 (0x7f2459039501 in /home/kbamponsem/libtorch/lib/libc10.so)\nframe #2: <unknown function> + 0x11f8537 (0x7f245a281537 in /home/kbamponsem/libtorch/lib/libtorch_cpu.so)\nframe #3: at::TensorIteratorBase::compute_mem_overlaps(at::TensorIteratorConfig const&) + 0x83 (0x7f245a2b9e33 in /home/kbamponsem/libtorch/lib/libtorch_cpu.so)\nframe #4: at::TensorIteratorBase::build(at::TensorIteratorConfig&) + 0x53 (0x7f245a2bfc53 in /home/kbamponsem/libtorch/lib/libtorch_cpu.so)\nframe #5: at::TensorIteratorBase::build_borrowing_binary_op(at::TensorBase const&, at::TensorBase const&, at::TensorBase const&) + 0xf7 (0x7f245a2c1447 in /home/kbamponsem/libtorch/lib/libtorch_cpu.so)\nframe #6: at::meta::structured_sub_Tensor::meta(at::Tensor const&, at::Tensor const&, c10::Scalar const&) + 0x6e (0x7f245a48f26e in /home/kbamponsem/libtorch/lib/libtorch_cpu.so)\nframe #7: <unknown function> + 0x2027106 (0x7f245b0b0106 in /home/kbamponsem/libtorch/lib/libtorch_cpu.so)\nframe #8: at::_ops::sub__Tensor::redispatch(c10::DispatchKeySet, at::Tensor&, at::Tensor const&, c10::Scalar const&) + 0x92 (0x7f245afa7622 in /home/kbamponsem/libtorch/lib/libtorch_cpu.so)\nframe #9: <unknown function> + 0x37488d5 (0x7f245c7d18d5 in /home/kbamponsem/libtorch/lib/libtorch_cpu.so)\nframe #10: at::_ops::sub__Tensor::redispatch(c10::DispatchKeySet, at::Tensor&, at::Tensor const&, c10::Scalar const&) + 0x92 (0x7f245afa7622 in /home/kbamponsem/libtorch/lib/libtorch_cpu.so)\nframe #11: <unknown function> + 0x31ac03c (0x7f245c23503c in /home/kbamponsem/libtorch/lib/libtorch_cpu.so)\nframe #12: at::_ops::sub__Tensor::call(at::Tensor&, at::Tensor const&, c10::Scalar const&) + 0x169 (0x7f245afed399 in /home/kbamponsem/libtorch/lib/libtorch_cpu.so)\nframe #13: <unknown function> + 0x6d1db0 (0x55e994926db0 in ./bastionlab)\nframe #14: <unknown function> + 0x6c245f (0x55e99491745f in ./bastionlab)\nframe #15: <unknown function> + 0x393c87 (0x55e9945e8c87 in ./bastionlab)\nframe #16: <unknown function> + 0x390f08 (0x55e9945e5f08 in ./bastionlab)\nframe #17: <unknown function> + 0x39e0b4 (0x55e9945f30b4 in ./bastionlab)\nframe #18: <unknown function> + 0x39e869 (0x55e9945f3869 in ./bastionlab)\nframe #19: <unknown function> + 0x37e2f6 (0x55e9945d32f6 in ./bastionlab)\nframe #20: <unknown function> + 0x352aa5 (0x55e9945a7aa5 in ./bastionlab)\nframe #21: <unknown function> + 0x3692a6 (0x55e9945be2a6 in ./bastionlab)\nframe #22: <unknown function> + 0x182b36b (0x55e995a8036b in ./bastionlab)\nframe #23: <unknown function> + 0x182a9d2 (0x55e995a7f9d2 in ./bastionlab)\nframe #24: <unknown function> + 0x183b3d9 (0x55e995a903d9 in ./bastionlab)\nframe #25: <unknown function> + 0x182a4d0 (0x55e995a7f4d0 in ./bastionlab)\nframe #26: <unknown function> + 0x183eef2 (0x55e995a93ef2 in ./bastionlab)\nframe #27: <unknown function> + 0x1821abc (0x55e995a76abc in ./bastionlab)\nframe #28: <unknown function> + 0x1823e7f (0x55e995a78e7f in ./bastionlab)\nframe #29: <unknown function> + 0x1826dd9 (0x55e995a7bdd9 in ./bastionlab)\nframe #30: <unknown function> + 0x183d7d7 (0x55e995a927d7 in ./bastionlab)\nframe #31: <unknown function> + 0x182cf8e (0x55e995a81f8e in ./bastionlab)\nframe #32: <unknown function> + 0x18c94b3 (0x55e995b1e4b3 in ./bastionlab)\nframe #33: <unknown function> + 0x8609 (0x7f2458f7e609 in /lib/x86_64-linux-gnu/libpthread.so.0)\nframe #34: clone + 0x43 (0x7f2458d4e133 in /lib/x86_64-linux-gnu/libc.so.6)\n",
     "output_type": "error",
     "traceback": [
      "\u001b[0;31m---------------------------------------------------------------------------\u001b[0m",
      "\u001b[0;31m_InactiveRpcError\u001b[0m                         Traceback (most recent call last)",
      "File \u001b[0;32m~/Projects/bastionlab/client/src/bastionlab/errors.py:70\u001b[0m, in \u001b[0;36mGRPCException.map_error\u001b[0;34m(f)\u001b[0m\n\u001b[1;32m     69\u001b[0m \u001b[39mtry\u001b[39;00m:\n\u001b[0;32m---> 70\u001b[0m     \u001b[39mreturn\u001b[39;00m f()\n\u001b[1;32m     71\u001b[0m \u001b[39mexcept\u001b[39;00m _InactiveRpcError \u001b[39mas\u001b[39;00m e:\n",
      "File \u001b[0;32m~/Projects/bastionlab/client/src/bastionlab/torch/client.py:198\u001b[0m, in \u001b[0;36mBastionLabTorch.get_metric.<locals>.<lambda>\u001b[0;34m()\u001b[0m\n\u001b[1;32m    193\u001b[0m \u001b[39m\"\"\"Returns the value of the metric associated with the given `run` reference.\u001b[39;00m\n\u001b[1;32m    194\u001b[0m \n\u001b[1;32m    195\u001b[0m \u001b[39mArgs:\u001b[39;00m\n\u001b[1;32m    196\u001b[0m \u001b[39m    run: BastionAI gRPC protocol reference of the run whose metric is read.\u001b[39;00m\n\u001b[1;32m    197\u001b[0m \u001b[39m\"\"\"\u001b[39;00m\n\u001b[0;32m--> 198\u001b[0m \u001b[39mreturn\u001b[39;00m GRPCException\u001b[39m.\u001b[39mmap_error(\u001b[39mlambda\u001b[39;00m: \u001b[39mself\u001b[39;49m\u001b[39m.\u001b[39;49mstub\u001b[39m.\u001b[39;49mGetMetric(run))\n",
      "File \u001b[0;32m~/base/lib/python3.8/site-packages/grpc/_channel.py:946\u001b[0m, in \u001b[0;36m_UnaryUnaryMultiCallable.__call__\u001b[0;34m(self, request, timeout, metadata, credentials, wait_for_ready, compression)\u001b[0m\n\u001b[1;32m    944\u001b[0m state, call, \u001b[39m=\u001b[39m \u001b[39mself\u001b[39m\u001b[39m.\u001b[39m_blocking(request, timeout, metadata, credentials,\n\u001b[1;32m    945\u001b[0m                               wait_for_ready, compression)\n\u001b[0;32m--> 946\u001b[0m \u001b[39mreturn\u001b[39;00m _end_unary_response_blocking(state, call, \u001b[39mFalse\u001b[39;49;00m, \u001b[39mNone\u001b[39;49;00m)\n",
      "File \u001b[0;32m~/base/lib/python3.8/site-packages/grpc/_channel.py:849\u001b[0m, in \u001b[0;36m_end_unary_response_blocking\u001b[0;34m(state, call, with_call, deadline)\u001b[0m\n\u001b[1;32m    848\u001b[0m \u001b[39melse\u001b[39;00m:\n\u001b[0;32m--> 849\u001b[0m     \u001b[39mraise\u001b[39;00m _InactiveRpcError(state)\n",
      "\u001b[0;31m_InactiveRpcError\u001b[0m: <_InactiveRpcError of RPC that terminated with:\n\tstatus = StatusCode.INTERNAL\n\tdetails = \"Torch error: Internal torch error: unsupported operation: more than one element of the written-to tensor refers to a single memory location. Please clone() the tensor before performing the operation.\nException raised from assert_no_internal_overlap at ../aten/src/ATen/MemoryOverlap.cpp:38 (most recent call first):\nframe #0: c10::Error::Error(c10::SourceLocation, std::__cxx11::basic_string<char, std::char_traits<char>, std::allocator<char> >) + 0x6b (0x7f245903d9cb in /home/kbamponsem/libtorch/lib/libc10.so)\nframe #1: c10::detail::torchCheckFail(char const*, char const*, unsigned int, char const*) + 0xd1 (0x7f2459039501 in /home/kbamponsem/libtorch/lib/libc10.so)\nframe #2: <unknown function> + 0x11f8537 (0x7f245a281537 in /home/kbamponsem/libtorch/lib/libtorch_cpu.so)\nframe #3: at::TensorIteratorBase::compute_mem_overlaps(at::TensorIteratorConfig const&) + 0x83 (0x7f245a2b9e33 in /home/kbamponsem/libtorch/lib/libtorch_cpu.so)\nframe #4: at::TensorIteratorBase::build(at::TensorIteratorConfig&) + 0x53 (0x7f245a2bfc53 in /home/kbamponsem/libtorch/lib/libtorch_cpu.so)\nframe #5: at::TensorIteratorBase::build_borrowing_binary_op(at::TensorBase const&, at::TensorBase const&, at::TensorBase const&) + 0xf7 (0x7f245a2c1447 in /home/kbamponsem/libtorch/lib/libtorch_cpu.so)\nframe #6: at::meta::structured_sub_Tensor::meta(at::Tensor const&, at::Tensor const&, c10::Scalar const&) + 0x6e (0x7f245a48f26e in /home/kbamponsem/libtorch/lib/libtorch_cpu.so)\nframe #7: <unknown function> + 0x2027106 (0x7f245b0b0106 in /home/kbamponsem/libtorch/lib/libtorch_cpu.so)\nframe #8: at::_ops::sub__Tensor::redispatch(c10::DispatchKeySet, at::Tensor&, at::Tensor const&, c10::Scalar const&) + 0x92 (0x7f245afa7622 in /home/kbamponsem/libtorch/lib/libtorch_cpu.so)\nframe #9: <unknown function> + 0x37488d5 (0x7f245c7d18d5 in /home/kbamponsem/libtorch/lib/libtorch_cpu.so)\nframe #10: at::_ops::sub__Tensor::redispatch(c10::DispatchKeySet, at::Tensor&, at::Tensor const&, c10::Scalar const&) + 0x92 (0x7f245afa7622 in /home/kbamponsem/libtorch/lib/libtorch_cpu.so)\nframe #11: <unknown function> + 0x31ac03c (0x7f245c23503c in /home/kbamponsem/libtorch/lib/libtorch_cpu.so)\nframe #12: at::_ops::sub__Tensor::call(at::Tensor&, at::Tensor const&, c10::Scalar const&) + 0x169 (0x7f245afed399 in /home/kbamponsem/libtorch/lib/libtorch_cpu.so)\nframe #13: <unknown function> + 0x6d1db0 (0x55e994926db0 in ./bastionlab)\nframe #14: <unknown function> + 0x6c245f (0x55e99491745f in ./bastionlab)\nframe #15: <unknown function> + 0x393c87 (0x55e9945e8c87 in ./bastionlab)\nframe #16: <unknown function> + 0x390f08 (0x55e9945e5f08 in ./bastionlab)\nframe #17: <unknown function> + 0x39e0b4 (0x55e9945f30b4 in ./bastionlab)\nframe #18: <unknown function> + 0x39e869 (0x55e9945f3869 in ./bastionlab)\nframe #19: <unknown function> + 0x37e2f6 (0x55e9945d32f6 in ./bastionlab)\nframe #20: <unknown function> + 0x352aa5 (0x55e9945a7aa5 in ./bastionlab)\nframe #21: <unknown function> + 0x3692a6 (0x55e9945be2a6 in ./bastionlab)\nframe #22: <unknown function> + 0x182b36b (0x55e995a8036b in ./bastionlab)\nframe #23: <unknown function> + 0x182a9d2 (0x55e995a7f9d2 in ./bastionlab)\nframe #24: <unknown function> + 0x183b3d9 (0x55e995a903d9 in ./bastionlab)\nframe #25: <unknown function> + 0x182a4d0 (0x55e995a7f4d0 in ./bastionlab)\nframe #26: <unknown function> + 0x183eef2 (0x55e995a93ef2 in ./bastionlab)\nframe #27: <unknown function> + 0x1821abc (0x55e995a76abc in ./bastionlab)\nframe #28: <unknown function> + 0x1823e7f (0x55e995a78e7f in ./bastionlab)\nframe #29: <unknown function> + 0x1826dd9 (0x55e995a7bdd9 in ./bastionlab)\nframe #30: <unknown function> + 0x183d7d7 (0x55e995a927d7 in ./bastionlab)\nframe #31: <unknown function> + 0x182cf8e (0x55e995a81f8e in ./bastionlab)\nframe #32: <unknown function> + 0x18c94b3 (0x55e995b1e4b3 in ./bastionlab)\nframe #33: <unknown function> + 0x8609 (0x7f2458f7e609 in /lib/x86_64-linux-gnu/libpthread.so.0)\nframe #34: clone + 0x43 (0x7f2458d4e133 in /lib/x86_64-linux-gnu/libc.so.6)\n\"\n\tdebug_error_string = \"{\"created\":\"@1672216513.302307342\",\"description\":\"Error received from peer ipv4:127.0.0.1:50056\",\"file\":\"src/core/lib/surface/call.cc\",\"file_line\":966,\"grpc_message\":\"Torch error: Internal torch error: unsupported operation: more than one element of the written-to tensor refers to a single memory location. Please clone() the tensor before performing the operation.\\nException raised from assert_no_internal_overlap at ../aten/src/ATen/MemoryOverlap.cpp:38 (most recent call first):\\nframe #0: c10::Error::Error(c10::SourceLocation, std::__cxx11::basic_string<char, std::char_traits<char>, std::allocator<char> >) + 0x6b (0x7f245903d9cb in /home/kbamponsem/libtorch/lib/libc10.so)\\nframe #1: c10::detail::torchCheckFail(char const*, char const*, unsigned int, char const*) + 0xd1 (0x7f2459039501 in /home/kbamponsem/libtorch/lib/libc10.so)\\nframe #2: <unknown function> + 0x11f8537 (0x7f245a281537 in /home/kbamponsem/libtorch/lib/libtorch_cpu.so)\\nframe #3: at::TensorIteratorBase::compute_mem_overlaps(at::TensorIteratorConfig const&) + 0x83 (0x7f245a2b9e33 in /home/kbamponsem/libtorch/lib/libtorch_cpu.so)\\nframe #4: at::TensorIteratorBase::build(at::TensorIteratorConfig&) + 0x53 (0x7f245a2bfc53 in /home/kbamponsem/libtorch/lib/libtorch_cpu.so)\\nframe #5: at::TensorIteratorBase::build_borrowing_binary_op(at::TensorBase const&, at::TensorBase const&, at::TensorBase const&) + 0xf7 (0x7f245a2c1447 in /home/kbamponsem/libtorch/lib/libtorch_cpu.so)\\nframe #6: at::meta::structured_sub_Tensor::meta(at::Tensor const&, at::Tensor const&, c10::Scalar const&) + 0x6e (0x7f245a48f26e in /home/kbamponsem/libtorch/lib/libtorch_cpu.so)\\nframe #7: <unknown function> + 0x2027106 (0x7f245b0b0106 in /home/kbamponsem/libtorch/lib/libtorch_cpu.so)\\nframe #8: at::_ops::sub__Tensor::redispatch(c10::DispatchKeySet, at::Tensor&, at::Tensor const&, c10::Scalar const&) + 0x92 (0x7f245afa7622 in /home/kbamponsem/libtorch/lib/libtorch_cpu.so)\\nframe #9: <unknown function> + 0x37488d5 (0x7f245c7d18d5 in /home/kbamponsem/libtorch/lib/libtorch_cpu.so)\\nframe #10: at::_ops::sub__Tensor::redispatch(c10::DispatchKeySet, at::Tensor&, at::Tensor const&, c10::Scalar const&) + 0x92 (0x7f245afa7622 in /home/kbamponsem/libtorch/lib/libtorch_cpu.so)\\nframe #11: <unknown function> + 0x31ac03c (0x7f245c23503c in /home/kbamponsem/libtorch/lib/libtorch_cpu.so)\\nframe #12: at::_ops::sub__Tensor::call(at::Tensor&, at::Tensor const&, c10::Scalar const&) + 0x169 (0x7f245afed399 in /home/kbamponsem/libtorch/lib/libtorch_cpu.so)\\nframe #13: <unknown function> + 0x6d1db0 (0x55e994926db0 in ./bastionlab)\\nframe #14: <unknown function> + 0x6c245f (0x55e99491745f in ./bastionlab)\\nframe #15: <unknown function> + 0x393c87 (0x55e9945e8c87 in ./bastionlab)\\nframe #16: <unknown function> + 0x390f08 (0x55e9945e5f08 in ./bastionlab)\\nframe #17: <unknown function> + 0x39e0b4 (0x55e9945f30b4 in ./bastionlab)\\nframe #18: <unknown function> + 0x39e869 (0x55e9945f3869 in ./bastionlab)\\nframe #19: <unknown function> + 0x37e2f6 (0x55e9945d32f6 in ./bastionlab)\\nframe #20: <unknown function> + 0x352aa5 (0x55e9945a7aa5 in ./bastionlab)\\nframe #21: <unknown function> + 0x3692a6 (0x55e9945be2a6 in ./bastionlab)\\nframe #22: <unknown function> + 0x182b36b (0x55e995a8036b in ./bastionlab)\\nframe #23: <unknown function> + 0x182a9d2 (0x55e995a7f9d2 in ./bastionlab)\\nframe #24: <unknown function> + 0x183b3d9 (0x55e995a903d9 in ./bastionlab)\\nframe #25: <unknown function> + 0x182a4d0 (0x55e995a7f4d0 in ./bastionlab)\\nframe #26: <unknown function> + 0x183eef2 (0x55e995a93ef2 in ./bastionlab)\\nframe #27: <unknown function> + 0x1821abc (0x55e995a76abc in ./bastionlab)\\nframe #28: <unknown function> + 0x1823e7f (0x55e995a78e7f in ./bastionlab)\\nframe #29: <unknown function> + 0x1826dd9 (0x55e995a7bdd9 in ./bastionlab)\\nframe #30: <unknown function> + 0x183d7d7 (0x55e995a927d7 in ./bastionlab)\\nframe #31: <unknown function> + 0x182cf8e (0x55e995a81f8e in ./bastionlab)\\nframe #32: <unknown function> + 0x18c94b3 (0x55e995b1e4b3 in ./bastionlab)\\nframe #33: <unknown function> + 0x8609 (0x7f2458f7e609 in /lib/x86_64-linux-gnu/libpthread.so.0)\\nframe #34: clone + 0x43 (0x7f2458d4e133 in /lib/x86_64-linux-gnu/libc.so.6)\\n\",\"grpc_status\":13}\"\n>",
      "\nDuring handling of the above exception, another exception occurred:\n",
      "\u001b[0;31mGRPCException\u001b[0m                             Traceback (most recent call last)",
      "\u001b[1;32m/home/kbamponsem/Projects/bastionlab/docs/docs/tutorials/data_conversion.ipynb Cell 11\u001b[0m in \u001b[0;36m<cell line: 1>\u001b[0;34m()\u001b[0m\n\u001b[0;32m----> <a href='vscode-notebook-cell://wsl%2Bubuntu/home/kbamponsem/Projects/bastionlab/docs/docs/tutorials/data_conversion.ipynb#X13sdnNjb2RlLXJlbW90ZQ%3D%3D?line=0'>1</a>\u001b[0m remote_learner\u001b[39m.\u001b[39;49mfit(nb_epochs\u001b[39m=\u001b[39;49m\u001b[39m2\u001b[39;49m, eps\u001b[39m=\u001b[39;49m\u001b[39mNone\u001b[39;49;00m)\n",
      "File \u001b[0;32m~/Projects/bastionlab/client/src/bastionlab/torch/learner.py:467\u001b[0m, in \u001b[0;36mRemoteLearner.fit\u001b[0;34m(self, nb_epochs, eps, batch_size, max_grad_norm, lr, metric_eps, timeout, poll_delay, per_n_epochs_checkpoint, per_n_steps_checkpoint, resume)\u001b[0m\n\u001b[1;32m    441\u001b[0m \u001b[39m\"\"\"Fits the uploaded model to the training dataset with given hyperparameters.\u001b[39;00m\n\u001b[1;32m    442\u001b[0m \n\u001b[1;32m    443\u001b[0m \u001b[39mArgs:\u001b[39;00m\n\u001b[0;32m   (...)\u001b[0m\n\u001b[1;32m    452\u001b[0m \u001b[39m    poll_delay: Delay in seconds between two polling requests for the loss.\u001b[39;00m\n\u001b[1;32m    453\u001b[0m \u001b[39m\"\"\"\u001b[39;00m\n\u001b[1;32m    454\u001b[0m run \u001b[39m=\u001b[39m \u001b[39mself\u001b[39m\u001b[39m.\u001b[39mclient\u001b[39m.\u001b[39mtrain(\n\u001b[1;32m    455\u001b[0m     \u001b[39mself\u001b[39m\u001b[39m.\u001b[39m_train_config(\n\u001b[1;32m    456\u001b[0m         nb_epochs,\n\u001b[0;32m   (...)\u001b[0m\n\u001b[1;32m    465\u001b[0m     )\n\u001b[1;32m    466\u001b[0m )\n\u001b[0;32m--> 467\u001b[0m \u001b[39mself\u001b[39;49m\u001b[39m.\u001b[39;49m_poll_metric(\n\u001b[1;32m    468\u001b[0m     run,\n\u001b[1;32m    469\u001b[0m     name\u001b[39m=\u001b[39;49m\u001b[39mself\u001b[39;49m\u001b[39m.\u001b[39;49mloss,\n\u001b[1;32m    470\u001b[0m     train\u001b[39m=\u001b[39;49m\u001b[39mTrue\u001b[39;49;00m,\n\u001b[1;32m    471\u001b[0m     timeout\u001b[39m=\u001b[39;49m\u001b[39mint\u001b[39;49m(timeout \u001b[39m/\u001b[39;49m poll_delay),\n\u001b[1;32m    472\u001b[0m     poll_delay\u001b[39m=\u001b[39;49mpoll_delay,\n\u001b[1;32m    473\u001b[0m )\n",
      "File \u001b[0;32m~/Projects/bastionlab/client/src/bastionlab/torch/learner.py:371\u001b[0m, in \u001b[0;36mRemoteLearner._poll_metric\u001b[0;34m(self, run, name, train, timeout, poll_delay)\u001b[0m\n\u001b[1;32m    369\u001b[0m             \u001b[39mcontinue\u001b[39;00m\n\u001b[1;32m    370\u001b[0m         \u001b[39melse\u001b[39;00m:\n\u001b[0;32m--> 371\u001b[0m             \u001b[39mraise\u001b[39;00m e\n\u001b[1;32m    372\u001b[0m \u001b[39mif\u001b[39;00m metric \u001b[39mis\u001b[39;00m \u001b[39mNone\u001b[39;00m:\n\u001b[1;32m    373\u001b[0m     \u001b[39mraise\u001b[39;00m \u001b[39mException\u001b[39;00m(\n\u001b[1;32m    374\u001b[0m         \u001b[39mf\u001b[39m\u001b[39m\"\u001b[39m\u001b[39mRun start timeout. Polling has stoped. You may query the server by hand later using: run id is \u001b[39m\u001b[39m{\u001b[39;00mrun\u001b[39m.\u001b[39midentifier\u001b[39m}\u001b[39;00m\u001b[39m\"\u001b[39m\n\u001b[1;32m    375\u001b[0m     )\n",
      "File \u001b[0;32m~/Projects/bastionlab/client/src/bastionlab/torch/learner.py:365\u001b[0m, in \u001b[0;36mRemoteLearner._poll_metric\u001b[0;34m(self, run, name, train, timeout, poll_delay)\u001b[0m\n\u001b[1;32m    363\u001b[0m \u001b[39mtry\u001b[39;00m:\n\u001b[1;32m    364\u001b[0m     sleep(poll_delay)\n\u001b[0;32m--> 365\u001b[0m     metric \u001b[39m=\u001b[39m \u001b[39mself\u001b[39;49m\u001b[39m.\u001b[39;49mclient\u001b[39m.\u001b[39;49mget_metric(run)\n\u001b[1;32m    366\u001b[0m     \u001b[39mbreak\u001b[39;00m\n\u001b[1;32m    367\u001b[0m \u001b[39mexcept\u001b[39;00m GRPCException \u001b[39mas\u001b[39;00m e:\n",
      "File \u001b[0;32m~/Projects/bastionlab/client/src/bastionlab/torch/client.py:198\u001b[0m, in \u001b[0;36mBastionLabTorch.get_metric\u001b[0;34m(self, run)\u001b[0m\n\u001b[1;32m    192\u001b[0m \u001b[39mdef\u001b[39;00m \u001b[39mget_metric\u001b[39m(\u001b[39mself\u001b[39m, run: Reference) \u001b[39m-\u001b[39m\u001b[39m>\u001b[39m Metric:\n\u001b[1;32m    193\u001b[0m     \u001b[39m\"\"\"Returns the value of the metric associated with the given `run` reference.\u001b[39;00m\n\u001b[1;32m    194\u001b[0m \n\u001b[1;32m    195\u001b[0m \u001b[39m    Args:\u001b[39;00m\n\u001b[1;32m    196\u001b[0m \u001b[39m        run: BastionAI gRPC protocol reference of the run whose metric is read.\u001b[39;00m\n\u001b[1;32m    197\u001b[0m \u001b[39m    \"\"\"\u001b[39;00m\n\u001b[0;32m--> 198\u001b[0m     \u001b[39mreturn\u001b[39;00m GRPCException\u001b[39m.\u001b[39;49mmap_error(\u001b[39mlambda\u001b[39;49;00m: \u001b[39mself\u001b[39;49m\u001b[39m.\u001b[39;49mstub\u001b[39m.\u001b[39;49mGetMetric(run))\n",
      "File \u001b[0;32m~/Projects/bastionlab/client/src/bastionlab/errors.py:72\u001b[0m, in \u001b[0;36mGRPCException.map_error\u001b[0;34m(f)\u001b[0m\n\u001b[1;32m     70\u001b[0m     \u001b[39mreturn\u001b[39;00m f()\n\u001b[1;32m     71\u001b[0m \u001b[39mexcept\u001b[39;00m _InactiveRpcError \u001b[39mas\u001b[39;00m e:\n\u001b[0;32m---> 72\u001b[0m     \u001b[39mraise\u001b[39;00m GRPCException(e)\n\u001b[1;32m     73\u001b[0m \u001b[39mexcept\u001b[39;00m _MultiThreadedRendezvous \u001b[39mas\u001b[39;00m e:\n\u001b[1;32m     74\u001b[0m     \u001b[39mraise\u001b[39;00m GRPCException(e)\n",
      "\u001b[0;31mGRPCException\u001b[0m: Internal server error: code=StatusCode.INTERNAL message=Torch error: Internal torch error: unsupported operation: more than one element of the written-to tensor refers to a single memory location. Please clone() the tensor before performing the operation.\nException raised from assert_no_internal_overlap at ../aten/src/ATen/MemoryOverlap.cpp:38 (most recent call first):\nframe #0: c10::Error::Error(c10::SourceLocation, std::__cxx11::basic_string<char, std::char_traits<char>, std::allocator<char> >) + 0x6b (0x7f245903d9cb in /home/kbamponsem/libtorch/lib/libc10.so)\nframe #1: c10::detail::torchCheckFail(char const*, char const*, unsigned int, char const*) + 0xd1 (0x7f2459039501 in /home/kbamponsem/libtorch/lib/libc10.so)\nframe #2: <unknown function> + 0x11f8537 (0x7f245a281537 in /home/kbamponsem/libtorch/lib/libtorch_cpu.so)\nframe #3: at::TensorIteratorBase::compute_mem_overlaps(at::TensorIteratorConfig const&) + 0x83 (0x7f245a2b9e33 in /home/kbamponsem/libtorch/lib/libtorch_cpu.so)\nframe #4: at::TensorIteratorBase::build(at::TensorIteratorConfig&) + 0x53 (0x7f245a2bfc53 in /home/kbamponsem/libtorch/lib/libtorch_cpu.so)\nframe #5: at::TensorIteratorBase::build_borrowing_binary_op(at::TensorBase const&, at::TensorBase const&, at::TensorBase const&) + 0xf7 (0x7f245a2c1447 in /home/kbamponsem/libtorch/lib/libtorch_cpu.so)\nframe #6: at::meta::structured_sub_Tensor::meta(at::Tensor const&, at::Tensor const&, c10::Scalar const&) + 0x6e (0x7f245a48f26e in /home/kbamponsem/libtorch/lib/libtorch_cpu.so)\nframe #7: <unknown function> + 0x2027106 (0x7f245b0b0106 in /home/kbamponsem/libtorch/lib/libtorch_cpu.so)\nframe #8: at::_ops::sub__Tensor::redispatch(c10::DispatchKeySet, at::Tensor&, at::Tensor const&, c10::Scalar const&) + 0x92 (0x7f245afa7622 in /home/kbamponsem/libtorch/lib/libtorch_cpu.so)\nframe #9: <unknown function> + 0x37488d5 (0x7f245c7d18d5 in /home/kbamponsem/libtorch/lib/libtorch_cpu.so)\nframe #10: at::_ops::sub__Tensor::redispatch(c10::DispatchKeySet, at::Tensor&, at::Tensor const&, c10::Scalar const&) + 0x92 (0x7f245afa7622 in /home/kbamponsem/libtorch/lib/libtorch_cpu.so)\nframe #11: <unknown function> + 0x31ac03c (0x7f245c23503c in /home/kbamponsem/libtorch/lib/libtorch_cpu.so)\nframe #12: at::_ops::sub__Tensor::call(at::Tensor&, at::Tensor const&, c10::Scalar const&) + 0x169 (0x7f245afed399 in /home/kbamponsem/libtorch/lib/libtorch_cpu.so)\nframe #13: <unknown function> + 0x6d1db0 (0x55e994926db0 in ./bastionlab)\nframe #14: <unknown function> + 0x6c245f (0x55e99491745f in ./bastionlab)\nframe #15: <unknown function> + 0x393c87 (0x55e9945e8c87 in ./bastionlab)\nframe #16: <unknown function> + 0x390f08 (0x55e9945e5f08 in ./bastionlab)\nframe #17: <unknown function> + 0x39e0b4 (0x55e9945f30b4 in ./bastionlab)\nframe #18: <unknown function> + 0x39e869 (0x55e9945f3869 in ./bastionlab)\nframe #19: <unknown function> + 0x37e2f6 (0x55e9945d32f6 in ./bastionlab)\nframe #20: <unknown function> + 0x352aa5 (0x55e9945a7aa5 in ./bastionlab)\nframe #21: <unknown function> + 0x3692a6 (0x55e9945be2a6 in ./bastionlab)\nframe #22: <unknown function> + 0x182b36b (0x55e995a8036b in ./bastionlab)\nframe #23: <unknown function> + 0x182a9d2 (0x55e995a7f9d2 in ./bastionlab)\nframe #24: <unknown function> + 0x183b3d9 (0x55e995a903d9 in ./bastionlab)\nframe #25: <unknown function> + 0x182a4d0 (0x55e995a7f4d0 in ./bastionlab)\nframe #26: <unknown function> + 0x183eef2 (0x55e995a93ef2 in ./bastionlab)\nframe #27: <unknown function> + 0x1821abc (0x55e995a76abc in ./bastionlab)\nframe #28: <unknown function> + 0x1823e7f (0x55e995a78e7f in ./bastionlab)\nframe #29: <unknown function> + 0x1826dd9 (0x55e995a7bdd9 in ./bastionlab)\nframe #30: <unknown function> + 0x183d7d7 (0x55e995a927d7 in ./bastionlab)\nframe #31: <unknown function> + 0x182cf8e (0x55e995a81f8e in ./bastionlab)\nframe #32: <unknown function> + 0x18c94b3 (0x55e995b1e4b3 in ./bastionlab)\nframe #33: <unknown function> + 0x8609 (0x7f2458f7e609 in /lib/x86_64-linux-gnu/libpthread.so.0)\nframe #34: clone + 0x43 (0x7f2458d4e133 in /lib/x86_64-linux-gnu/libc.so.6)\n"
     ]
    }
   ],
   "source": [
    "remote_learner.fit(nb_epochs=2, eps=None)"
   ]
  }
 ],
 "metadata": {
  "kernelspec": {
   "display_name": "base",
   "language": "python",
   "name": "python3"
  },
  "language_info": {
   "codemirror_mode": {
    "name": "ipython",
    "version": 3
   },
   "file_extension": ".py",
   "mimetype": "text/x-python",
   "name": "python",
   "nbconvert_exporter": "python",
   "pygments_lexer": "ipython3",
   "version": "3.8.10"
  },
  "orig_nbformat": 4,
  "vscode": {
   "interpreter": {
    "hash": "cfb725626286d8c8fc5334ffe77697f720dc23e64d3046271825a5556b528e7d"
   }
  }
 },
 "nbformat": 4,
 "nbformat_minor": 2
}
