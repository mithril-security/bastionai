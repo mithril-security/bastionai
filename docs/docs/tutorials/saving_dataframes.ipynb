{
 "cells": [
  {
   "attachments": {},
   "cell_type": "markdown",
   "metadata": {},
   "source": [
    "# Saving dataframes\n",
    "__________________________________\n",
    "\n",
    "<a target=\"_blank\" href=\"https://colab.research.google.com/github/mithril-security/bastionlab/blob/v0.3.6/docs/docs/tutorials/saving_dataframes.ipynb\">\n",
    "  <p align=\"center\"><img src=\"https://colab.research.google.com/assets/colab-badge.svg\" alt=\"Open In Colab\"/>\n",
    "</a>\n",
    "\n",
    "In this tutorial, we will save a dataframe and then restart the server to test whether the dataframe remains available on the server.\n",
    "\n",
    "## Pre-requisites\n",
    "___________________________________________\n",
    "\n",
    "### Technical requirements\n",
    "\n",
    "To start this tutorial, ensure the following are already installed in your system:\n",
    "- Python3.7 or greater (get the latest version of Python at https://www.python.org/downloads/ or with your operating system’s package manager)\n",
    "- [Python Pip](https://pypi.org/project/pip/) (PyPi), the package manager\n",
    "\n",
    "### Pip packages\n",
    "\n",
    "In order to run this notebook, you will also need to install bastionlab and bastionlab_server packages by running the following code block."
   ]
  },
  {
   "cell_type": "code",
   "execution_count": 28,
   "metadata": {},
   "outputs": [],
   "source": [
    "!pip install polars\n",
    "!pip install bastionlab"
   ]
  },
  {
   "attachments": {},
   "cell_type": "markdown",
   "metadata": {},
   "source": [
    ">*Note that the bastionlab_server package we install here was created for testing purposes. You can alternatively install the BastionLab server using our Docker image or from source. Check out our [Installation Tutorial](../getting-started/installation.md) for more details.*\n",
    "\n",
    "### Dataset\n",
    "\n",
    "Next we will download the dataset that we will be using in this tutorial. This dataset is based on the [Titanic dataset](https://www.kaggle.com/competitions/titanic/data), one of the most popular datasets used for understanding machine learning which contains information relating to the passengers aboard the Titanic. However, it has been modified by data analyst June Tao Ching to contain some values that need cleaning up before we can start running queries."
   ]
  },
  {
   "cell_type": "code",
   "execution_count": 1,
   "metadata": {},
   "outputs": [
    {
     "name": "stdout",
     "output_type": "stream",
     "text": [
      "--2022-12-16 17:47:13--  https://raw.githubusercontent.com/chingjunetao/medium-article/master/simple-guide-to-data-cleaning/modified_titanic_data.csv\n",
      "Resolving raw.githubusercontent.com (raw.githubusercontent.com)... 185.199.111.133, 185.199.110.133, 185.199.108.133, ...\n",
      "Connecting to raw.githubusercontent.com (raw.githubusercontent.com)|185.199.111.133|:443... connected.\n",
      "HTTP request sent, awaiting response... 200 OK\n",
      "Length: 80253 (78K) [text/plain]\n",
      "Saving to: ‘modified_titanic_data.csv’\n",
      "\n",
      "modified_titanic_da 100%[===================>]  78.37K  --.-KB/s    in 0.1s    \n",
      "\n",
      "2022-12-16 17:47:14 (535 KB/s) - ‘modified_titanic_data.csv’ saved [80253/80253]\n",
      "\n"
     ]
    }
   ],
   "source": [
    "!wget 'https://raw.githubusercontent.com/datasciencedojo/datasets/master/titanic.csv'"
   ]
  },
  {
   "attachments": {},
   "cell_type": "markdown",
   "metadata": {},
   "source": [
    ">*You can also get it from source with a free user account at https://www.kaggle.com/competitions/titanic/data)*\n",
    "\n",
    "### Launching the server\n",
    "\n",
    "The next step is to launch the server. The server exposes port `50056` for gRPC communication with clients and uses a default configuration (no authentication, default settings). For the purpose of this tutorial, these settings are sufficient and we won't change them. To launch the server, we use `bastionlab_server`'s `start()` method."
   ]
  },
  {
   "cell_type": "code",
   "execution_count": null,
   "metadata": {},
   "outputs": [],
   "source": [
    "import bastionlab_server\n",
    "\n",
    "srv = bastionlab_server.start()"
   ]
  },
  {
   "attachments": {},
   "cell_type": "markdown",
   "metadata": {},
   "source": [
    "### Uploading our dataset to the server\n",
    "\n",
    "The final step is to connect to our sever to send our dataset.\n",
    "\n",
    "First, we read in the dataset using Polar's `read_csv()` function, which returns a Polar's DataFrame instance containing the dataset.\n",
    "\n",
    "Then, we connect to the server by creating an instance of `Connection()` and supplying the constructor with the host of our docker instance.\n",
    "\n",
    ">*In a typical workflow, the data owner would send a set of keys to the server, so that authorization can be required for all users at the point of connection. **BastionLab offers the authorization feature**, but as it's not the focus of this visualization tutorial, we will not use it. You can refer to the [authentication tutorial](https://bastionlab.readthedocs.io/en/latest/docs/tutorials/authentication/) if you want to set it up.*"
   ]
  },
  {
   "cell_type": "code",
   "execution_count": 1,
   "metadata": {},
   "outputs": [],
   "source": [
    "from bastionlab import Connection\n",
    "import polars as pl\n",
    "\n",
    "df = pl.read_csv(\"modified_titanic_data.csv\")\n",
    "\n",
    "connection = Connection(\"localhost\")\n",
    "client = connection.client"
   ]
  },
  {
   "attachments": {},
   "cell_type": "markdown",
   "metadata": {},
   "source": [
    "Finally, we send the Polar's DataFrame instance to the server using Bastionlab's `polars.send_df()` method which will return a `RemoteLazyFrame` instance, a reference to the DataFrame uploaded which we will be working with throughout this tutorial.\n",
    "\n",
    "For the sake of this tutorial, we specify an unsafe policy which disables all checks. We set the `unsafe_zone` parameter to `TrueRule()` to allow all requests. In this case, the `unsafe_handling` parameter can be anything (as there are no unsafe requests), we set it to `Log()` in the following example.\n",
    "\n",
    ">***Important note - This unsafe policy is not suited for production.***"
   ]
  },
  {
   "cell_type": "code",
   "execution_count": 2,
   "metadata": {},
   "outputs": [
    {
     "data": {
      "text/plain": [
       "FetchableLazyFrame(identifier=36c04b11-90dc-42a9-9d2c-cf69a6643dfc)"
      ]
     },
     "execution_count": 2,
     "metadata": {},
     "output_type": "execute_result"
    }
   ],
   "source": [
    "from bastionlab.polars.policy import Policy, TrueRule, Log\n",
    "\n",
    "policy = Policy(safe_zone=TrueRule(), unsafe_handling=Log())\n",
    "rdf = client.polars.send_df(df, policy=policy, sanitized_columns=[\"Name\"])\n",
    "\n",
    "rdf"
   ]
  },
  {
   "attachments": {},
   "cell_type": "markdown",
   "metadata": {},
   "source": [
    "Lets do a simple operation on the data frame to verify all has been properly set-up:"
   ]
  },
  {
   "cell_type": "code",
   "execution_count": 3,
   "metadata": {},
   "outputs": [],
   "source": [
    "per_class_rates = (\n",
    "    rdf.select([pl.col(\"Pclass\"), pl.col(\"Survived\")])\n",
    "    .groupby(pl.col(\"Pclass\"))\n",
    "    .agg(pl.col(\"Survived\").mean())\n",
    "    .sort(\"Survived\", reverse=True)\n",
    "    .collect()\n",
    ")"
   ]
  },
  {
   "attachments": {},
   "cell_type": "markdown",
   "metadata": {},
   "source": [
    "## Saving the data frame\n",
    "_______________________________________\n",
    "\n",
    "Now we save the resulting dataframe from our previous operation."
   ]
  },
  {
   "cell_type": "code",
   "execution_count": 4,
   "metadata": {},
   "outputs": [
    {
     "name": "stdout",
     "output_type": "stream",
     "text": [
      "cd36cc93-fbc8-4d6f-b006-d704d11ad082\n"
     ]
    }
   ],
   "source": [
    "per_class_rates.save()\n",
    "saved_identifier = per_class_rates.identifier\n",
    "print(saved_identifier)"
   ]
  },
  {
   "cell_type": "markdown",
   "metadata": {},
   "source": [
    "Let us also fetch the rdf so we can compare it to the reloaded dataframe later."
   ]
  },
  {
   "cell_type": "code",
   "execution_count": 5,
   "metadata": {},
   "outputs": [
    {
     "data": {
      "text/html": [
       "<div>\n",
       "<style scoped>\n",
       "    .dataframe tbody tr th:only-of-type {\n",
       "        vertical-align: middle;\n",
       "    }\n",
       "\n",
       "    .dataframe tbody tr th {\n",
       "        vertical-align: top;\n",
       "    }\n",
       "\n",
       "    .dataframe thead th {\n",
       "        text-align: right;\n",
       "    }\n",
       "\n",
       "    .dataframe td {\n",
       "        white-space: pre;\n",
       "    }\n",
       "\n",
       "    .dataframe td {\n",
       "        padding-top: 0;\n",
       "    }\n",
       "\n",
       "    .dataframe td {\n",
       "        padding-bottom: 0;\n",
       "    }\n",
       "</style>\n",
       "<table border=\"1\" class=\"dataframe\" >\n",
       "<small>shape: (3, 2)</small>\n",
       "<thead>\n",
       "<tr>\n",
       "<th>\n",
       "Pclass\n",
       "</th>\n",
       "<th>\n",
       "Survived\n",
       "</th>\n",
       "</tr>\n",
       "<tr>\n",
       "<td>\n",
       "i64\n",
       "</td>\n",
       "<td>\n",
       "f64\n",
       "</td>\n",
       "</tr>\n",
       "</thead>\n",
       "<tbody>\n",
       "<tr>\n",
       "<td>\n",
       "1\n",
       "</td>\n",
       "<td>\n",
       "0.633028\n",
       "</td>\n",
       "</tr>\n",
       "<tr>\n",
       "<td>\n",
       "2\n",
       "</td>\n",
       "<td>\n",
       "0.475676\n",
       "</td>\n",
       "</tr>\n",
       "<tr>\n",
       "<td>\n",
       "3\n",
       "</td>\n",
       "<td>\n",
       "0.24187\n",
       "</td>\n",
       "</tr>\n",
       "</tbody>\n",
       "</table>\n",
       "</div>"
      ],
      "text/plain": [
       "shape: (3, 2)\n",
       "┌────────┬──────────┐\n",
       "│ Pclass ┆ Survived │\n",
       "│ ---    ┆ ---      │\n",
       "│ i64    ┆ f64      │\n",
       "╞════════╪══════════╡\n",
       "│ 1      ┆ 0.633028 │\n",
       "├╌╌╌╌╌╌╌╌┼╌╌╌╌╌╌╌╌╌╌┤\n",
       "│ 2      ┆ 0.475676 │\n",
       "├╌╌╌╌╌╌╌╌┼╌╌╌╌╌╌╌╌╌╌┤\n",
       "│ 3      ┆ 0.24187  │\n",
       "└────────┴──────────┘"
      ]
     },
     "execution_count": 5,
     "metadata": {},
     "output_type": "execute_result"
    }
   ],
   "source": [
    "per_class_rates.fetch()"
   ]
  },
  {
   "attachments": {},
   "cell_type": "markdown",
   "metadata": {},
   "source": [
    "We will now restart the server and check which dataframes persist in the server.\n",
    "\n",
    "## Testing persistence of data frames\n",
    "\n",
    "<b>Terminate the running bastionlab server, then restart it. </b>"
   ]
  },
  {
   "cell_type": "code",
   "execution_count": null,
   "metadata": {},
   "outputs": [],
   "source": [
    "bastionlab_server.stop(srv)\n",
    "srv = bastionlab_server.start()"
   ]
  },
  {
   "attachments": {},
   "cell_type": "markdown",
   "metadata": {},
   "source": [
    "Reconnect to the server and list the available dataframes."
   ]
  },
  {
   "cell_type": "code",
   "execution_count": 6,
   "metadata": {},
   "outputs": [
    {
     "data": {
      "text/plain": [
       "[FetchableLazyFrame(identifier=cd36cc93-fbc8-4d6f-b006-d704d11ad082)]"
      ]
     },
     "execution_count": 6,
     "metadata": {},
     "output_type": "execute_result"
    }
   ],
   "source": [
    "connection = Connection(\"localhost\")\n",
    "client = connection.client\n",
    "\n",
    "client.polars.list_dfs()"
   ]
  },
  {
   "cell_type": "markdown",
   "metadata": {},
   "source": [
    "As you can see, the saved dataframe persists on the server.\n",
    "\n",
    "You can print the dataframe to be sure it's the same one you saved."
   ]
  },
  {
   "cell_type": "code",
   "execution_count": 7,
   "metadata": {},
   "outputs": [
    {
     "data": {
      "text/html": [
       "<div>\n",
       "<style scoped>\n",
       "    .dataframe tbody tr th:only-of-type {\n",
       "        vertical-align: middle;\n",
       "    }\n",
       "\n",
       "    .dataframe tbody tr th {\n",
       "        vertical-align: top;\n",
       "    }\n",
       "\n",
       "    .dataframe thead th {\n",
       "        text-align: right;\n",
       "    }\n",
       "\n",
       "    .dataframe td {\n",
       "        white-space: pre;\n",
       "    }\n",
       "\n",
       "    .dataframe td {\n",
       "        padding-top: 0;\n",
       "    }\n",
       "\n",
       "    .dataframe td {\n",
       "        padding-bottom: 0;\n",
       "    }\n",
       "</style>\n",
       "<table border=\"1\" class=\"dataframe\" >\n",
       "<small>shape: (3, 2)</small>\n",
       "<thead>\n",
       "<tr>\n",
       "<th>\n",
       "Pclass\n",
       "</th>\n",
       "<th>\n",
       "Survived\n",
       "</th>\n",
       "</tr>\n",
       "<tr>\n",
       "<td>\n",
       "i64\n",
       "</td>\n",
       "<td>\n",
       "f64\n",
       "</td>\n",
       "</tr>\n",
       "</thead>\n",
       "<tbody>\n",
       "<tr>\n",
       "<td>\n",
       "1\n",
       "</td>\n",
       "<td>\n",
       "0.633028\n",
       "</td>\n",
       "</tr>\n",
       "<tr>\n",
       "<td>\n",
       "2\n",
       "</td>\n",
       "<td>\n",
       "0.475676\n",
       "</td>\n",
       "</tr>\n",
       "<tr>\n",
       "<td>\n",
       "3\n",
       "</td>\n",
       "<td>\n",
       "0.24187\n",
       "</td>\n",
       "</tr>\n",
       "</tbody>\n",
       "</table>\n",
       "</div>"
      ],
      "text/plain": [
       "shape: (3, 2)\n",
       "┌────────┬──────────┐\n",
       "│ Pclass ┆ Survived │\n",
       "│ ---    ┆ ---      │\n",
       "│ i64    ┆ f64      │\n",
       "╞════════╪══════════╡\n",
       "│ 1      ┆ 0.633028 │\n",
       "├╌╌╌╌╌╌╌╌┼╌╌╌╌╌╌╌╌╌╌┤\n",
       "│ 2      ┆ 0.475676 │\n",
       "├╌╌╌╌╌╌╌╌┼╌╌╌╌╌╌╌╌╌╌┤\n",
       "│ 3      ┆ 0.24187  │\n",
       "└────────┴──────────┘"
      ]
     },
     "execution_count": 7,
     "metadata": {},
     "output_type": "execute_result"
    }
   ],
   "source": [
    "retrieved_rdf = client.polars.get_df(saved_identifier)\n",
    "retrieved_rdf.fetch()"
   ]
  },
  {
   "cell_type": "markdown",
   "metadata": {},
   "source": [
    "Finally, close the connection."
   ]
  },
  {
   "cell_type": "code",
   "execution_count": 8,
   "metadata": {},
   "outputs": [],
   "source": [
    "connection.close()\n",
    "bastionlab_server.stop(srv)"
   ]
  }
 ],
 "metadata": {
  "kernelspec": {
   "display_name": "env",
   "language": "python",
   "name": "python3"
  },
  "language_info": {
   "codemirror_mode": {
    "name": "ipython",
    "version": 3
   },
   "file_extension": ".py",
   "mimetype": "text/x-python",
   "name": "python",
   "nbconvert_exporter": "python",
   "pygments_lexer": "ipython3",
   "version": "3.10.6 (main, Nov 14 2022, 16:10:14) [GCC 11.3.0]"
  },
  "vscode": {
   "interpreter": {
    "hash": "b62e9ff4e56dfa5f055fe055066e5a02d5f9234d63201164ad52aa7acce06a4c"
   }
  }
 },
 "nbformat": 4,
 "nbformat_minor": 2
}
