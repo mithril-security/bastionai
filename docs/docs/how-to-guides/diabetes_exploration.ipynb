{
 "cells": [
  {
   "attachments": {},
   "cell_type": "markdown",
   "metadata": {
    "id": "jdvo0Bjb_G1c"
   },
   "source": [
    "<div id=\"colab_button\">\n",
    "  <h1>Data exploration of diabetes hospital admissions </h1>\n",
    "  <a target=\"_blank\" href=\"https://colab.research.google.com/github/mithril-security/bastionlab/blob/v0.3.7/docs/docs/how-to-guides/diabetes_p1.ipynb\"> \n",
    "  <img src=\"https://colab.research.google.com/assets/colab-badge.svg\" alt=\"Open In Colab\"/></a>\n",
    "</div>\n",
    "______________________________________________________\n",
    "\n",
    "Despite major recent technological breakthroughs in cybersecurity and privacy, secure off-premises data science collaboration has remained out of reach. This is a major problem for the health sector which has so much to gain from the power of data but so much at risk when it comes to patients' highly sensitive records.\n",
    "\n",
    "BastionLab's goal is to make this issue disappear so that remote data science collaborations can happen safely in the medical industry. Its framework lets data owners set a strict access policies on datasets for collaborators and enforces that data scientists can explore or train ML models while never accessing the raw data.\n",
    "\n",
    "In this guide, we will explore a dataset of diabetic patients admitted to hospital in the US over a ten year period. Diabetes is a disease that affects over 10% of the US population and can lead to serious health complications. The dataset contains 51 columns of data, including readmission to hospital, changes to medication and primary, secondary and terciary patient diagnoses.\n",
    "\n",
    "First, we will see how the data owner can upload a dataset to BastionLab and how a data scientist can then connect to BastionLab and **clean the dataset**. Then we'll go on analysing it - showing it is possible to do normal data science work without accessing the data in clear.\n",
    "\n",
    "But before we can do that, let's get everything set up!\n",
    "\n",
    "## Pre-requisites\n",
    "___________________________________________\n",
    "\n",
    "### Installation and dataset\n",
    "\n",
    "In order to run this notebook, we need to:\n",
    "- Ensure we have [Python3.7](https://www.python.org/downloads/) (or greater) and [Python Pip](https://pypi.org/project/pip/) installed\n",
    "- Install [BastionLab](https://bastionlab.readthedocs.io/en/latest/docs/getting-started/installation/) and the [BastionLab server](https://pypi.org/project/bastionlab-server/0.3.7/) pip packages\n",
    "- [Download the dataset](https://drive.google.com/file/d/1NPQoKKG3CdvXTNkHVNYhRQZ8GGiPNlvI/view?usp=share_link) we will be using in this notebook.\n",
    "\n",
    "You can download the BastionLab pip packages and the dataset by running the following code block.\n",
    "\n",
    ">To find out about other ways you can install and run BastionLab, see our [Installation page](https://bastionlab.readthedocs.io/en/latest/docs/getting-started/installation/)."
   ]
  },
  {
   "cell_type": "code",
   "execution_count": null,
   "metadata": {
    "id": "hK-HDaMI_G1j"
   },
   "outputs": [],
   "source": [
    "# installing BastionLab client & server packages\n",
    "!pip install bastionlab\n",
    "!pip install bastionlab_server\n",
    "\n",
    "# dowloading the dataset using Google Drive tool gdown\n",
    "!pip install gdown\n",
    "!pip install --upgrade --no-cache-dir gdown\n",
    "!gdown \"1NPQoKKG3CdvXTNkHVNYhRQZ8GGiPNlvI\""
   ]
  },
  {
   "attachments": {},
   "cell_type": "markdown",
   "metadata": {
    "id": "NJ67chDB_G1l"
   },
   "source": [
    "The dataset we are using for this how-to guide is based on the Diabetes 130-US hospitals, for years 1999-2008. It contains 10 years of information on diabetes admissions from 130 US hospitals. It includes over 50 features representing patient and hospital outcomes.\n",
    "\n",
    ">For more detailed information on the dataset, you can check out the description and full dataset by following this [link](https://archive.ics.uci.edu/ml/datasets/diabetes+130-us+hospitals+for+years+1999-2008).\n",
    "\n",
    "This dataset had already been pre-processed before publication which stopped us from showing you some key data cleaning steps. We made a few modifications to replace some pre-grouped data columns with randomly populated data. You can check out exactly how we did this using the Polars data science library [here](https://colab.research.google.com/drive/174EJvK8u8mGGWb6ypLH9SKaeRnX-pEou?usp=share_link). "
   ]
  },
  {
   "attachments": {},
   "cell_type": "markdown",
   "metadata": {
    "id": "OjL01I5c_G1m"
   },
   "source": [
    "## Data owner setup\n",
    "___________________________________________\n",
    "\n",
    "### Launching the server\n",
    "\n",
    "Let's start by putting ourselves in the shoes of the data owner.\n",
    "\n",
    "But first, let's get the BastionLab server running.\n",
    "\n",
    "In production we recommend this is done using our Docker image, but for testing purposes you can use our `bastionlab_server` package, which removes the need for user authentication."
   ]
  },
  {
   "cell_type": "code",
   "execution_count": 193,
   "metadata": {
    "colab": {
     "base_uri": "https://localhost:8080/"
    },
    "id": "A85GsYOi_G1o",
    "outputId": "97b964bd-61b6-4cc6-e5e7-b9f2a2587bd7"
   },
   "outputs": [
    {
     "name": "stdout",
     "output_type": "stream",
     "text": [
      "BastionLab server (version 0.3.7) already installed\n",
      "Libtorch (version 1.13.1) already installed\n",
      "TLS certificates already generated\n",
      "Bastionlab server is now running on port 50056\n"
     ]
    }
   ],
   "source": [
    "# launch bastionlab_server test package\n",
    "import bastionlab_server\n",
    "\n",
    "srv = bastionlab_server.start()"
   ]
  },
  {
   "cell_type": "markdown",
   "metadata": {
    "id": "IBWNyTnz_G1p"
   },
   "source": [
    ">*For more details on how you can set up the server using our Docker image, check out our [Installation Tutorial](../getting-started/installation.md).*\n",
    "\n",
    "### Connecting to the server\n",
    "Next, we will connect to the server in order to be able to upload the dataset."
   ]
  },
  {
   "cell_type": "code",
   "execution_count": 194,
   "metadata": {
    "id": "6zzV7xrs_G1q"
   },
   "outputs": [],
   "source": [
    "# connecting to the server\n",
    "from bastionlab import Connection\n",
    "\n",
    "connection = Connection(\"localhost\")\n",
    "client = connection.client"
   ]
  },
  {
   "attachments": {},
   "cell_type": "markdown",
   "metadata": {
    "id": "K9DO7gVt_G1r"
   },
   "source": [
    "### Creating a custom privacy policy\n",
    "\n",
    "We can now create a [custom access policy](https://bastionlab.readthedocs.io/en/latest/docs/tutorials/defining_policy_privacy/) for the dataset which determines how much access collaborators will get to the dataset. \n",
    "\n",
    "In this example, we create a policy with the following configuration:\n",
    "\n",
    "->  `Aggregation(min_agg_size=10):` Any data extracted from the dataset should be the result of an aggregation of at least ten rows.\n",
    "\n",
    "->  `unsafe_handling=Reject()`: Any attempted query which breaches this policy will be rejected by the server.\n",
    "\n",
    "->  `savable=True`: The data scientist can save changes made to the dataset in BastionLab (this will create a new dataset - it will not overwrite the original dataset).\n"
   ]
  },
  {
   "cell_type": "code",
   "execution_count": 195,
   "metadata": {
    "id": "mRJjgd1C_G1t"
   },
   "outputs": [],
   "source": [
    "from bastionlab.polars.policy import Policy, Aggregation, Reject\n",
    "\n",
    "# defining the dataset's privacy policy\n",
    "policy = Policy(Aggregation(min_agg_size=10), unsafe_handling=Reject(), savable=True)"
   ]
  },
  {
   "cell_type": "markdown",
   "metadata": {
    "id": "Q7HHSM3e_G1v"
   },
   "source": [
    "### Uploading the dataset\n",
    "\n",
    "Now that the policy has been created, we can upload the dataset to the BastionLab server instance.\n",
    "\n",
    "Firstly, we need to convert our CSV file into a Polars DataFrame by using the Polars `read_csv` function, supplying the path to the CSV file as a string argument.\n",
    "\n",
    "Next, we use BastionLab's `client.polars.send_df` to upload the dataframe with our custom policy.\n",
    "\n",
    "Finally, we save the FetchableLazyFrame using the `save` method with no arguments. We can make a note of the FetchableLazyFrame's identifier to be shared with data scientists to help them to remotely access the FetchableLazyFrame!\n",
    "\n",
    ">Note we need to save FetchableLazyFrames to avoid them being lost when the server is stopped and restarted or crashes."
   ]
  },
  {
   "cell_type": "code",
   "execution_count": 196,
   "metadata": {
    "colab": {
     "base_uri": "https://localhost:8080/"
    },
    "id": "lkMIl0ar_G1w",
    "outputId": "d8505f8e-5853-4adf-97f5-d6105db30761"
   },
   "outputs": [
    {
     "name": "stdout",
     "output_type": "stream",
     "text": [
      "63c8152d-f5af-41ec-b22c-aea51a8465b5\n"
     ]
    }
   ],
   "source": [
    "import polars as pl\n",
    "\n",
    "# converting the dataset into a Polars dataframe\n",
    "df = pl.read_csv(\"updated_diabetes_data.csv\")\n",
    "\n",
    "# uploading the dataframe, the custom privacy policy\n",
    "# and the column we want to forbid to BastionLab's server\n",
    "rdf = client.polars.send_df(df, policy=policy)\n",
    "\n",
    "# saving the FetchableLazyFrame\n",
    "rdf.save()\n",
    "# get and print out a copy of the RDF identifier string\n",
    "ID = rdf.identifier\n",
    "print(ID)"
   ]
  },
  {
   "cell_type": "markdown",
   "metadata": {
    "id": "ywAyp-2y_G1y"
   },
   "source": [
    "`send_df()` will return a FetchableLazyFrame instance, which we will work with directly from now on. \n",
    "\n",
    ">Note that we talk about two types of LazyFrames in BastionLab: `RemoteLazyFrames` and `FetchableLazyFrames`. \n",
    "\n",
    "> In BastionLab, when we run a query, it is not immediately executed. Like with Polar's LazyFrames, pending queries are only executed when we call `collect`. `FetchableLazyFrames` are BastionLab's remote lazy frames when there are no pending queries to run, either because we have just uploaded or got the dataframe using `get_df` or because we have already ran `collect` after our latest query. To display these lazy frames we call the `fetch` method, which will verify that the data frame is safe to display, i.e. is it the result of a safe aggregated query as specified in the privacy policy.\n",
    "\n",
    "> A `RemoteLazyFrame` is just a `FetchableLazyFrame` with pending queries still to run (as they have not yet been `collected`). When we call `collect()` these operations are run server-side and the result of this is our `FetchableLazyFrame`."
   ]
  },
  {
   "cell_type": "markdown",
   "metadata": {
    "id": "YRC1y4uX_G10"
   },
   "source": [
    "Let's finish off by testing what happens if we breach our security policy by trying to display an entire column from our dataset with the `collect().fetch()` methods. \n",
    "\n",
    ">*You can learn more about how to use both of those methods in [our quick tour](https://bastionlab.readthedocs.io/en/latest/docs/quick-tour/quick-tour/#running-queries).*"
   ]
  },
  {
   "cell_type": "code",
   "execution_count": 197,
   "metadata": {
    "colab": {
     "base_uri": "https://localhost:8080/"
    },
    "id": "C7j4vdDd_G10",
    "outputId": "7941b960-a0e4-4e9d-f0a4-13ef5c9ba296"
   },
   "outputs": [
    {
     "name": "stdout",
     "output_type": "stream",
     "text": [
      "\u001b[31mThe query has been rejected by the data owner.\u001b[37m\n"
     ]
    }
   ],
   "source": [
    "rdf.select(\"age\").collect().fetch()"
   ]
  },
  {
   "cell_type": "markdown",
   "metadata": {
    "id": "x1Zu2YQi_G11"
   },
   "source": [
    "Instead of getting back the results of our query, we see an error message: `The query has been rejected by the data owner.`\n",
    "\n",
    "We cannot view the output of the query because it does not aggregate at least 10 rows of data as specified in our privacy policy. It tries to print out individual rows instead!\n",
    "\n",
    "Now that the dataset has been uploaded, it's time for our data scientists to get working... \n",
    "\n",
    "The data owner can now connection their connection to the server."
   ]
  },
  {
   "cell_type": "code",
   "execution_count": 198,
   "metadata": {
    "id": "mcM4pR6D_G11"
   },
   "outputs": [],
   "source": [
    "connection.close()"
   ]
  },
  {
   "attachments": {},
   "cell_type": "markdown",
   "metadata": {
    "id": "HJzNveFG_G13"
   },
   "source": [
    "## Data scientist #1 setup\n",
    "__________________________________________\n",
    "\n",
    "### Connecting to the dataset\n",
    "\n",
    "We'll now jump into the role of the data scientist responsible for cleaning the dataset for this data analysis project.\n",
    "\n",
    "We first need to connect to the `bastion_lab` server and get a FetchableLazyFrame instance of the dataset. We'll use' the `get_df()` method and supply it with the id shared with us by the data owner to do this.\n",
    "\n",
    "We store our FetchableLazyFrame in the `rdf` variable which we'll be working with from here on."
   ]
  },
  {
   "cell_type": "code",
   "execution_count": 199,
   "metadata": {
    "colab": {
     "base_uri": "https://localhost:8080/"
    },
    "id": "TT3mSjII_G13",
    "outputId": "4a463355-2753-40d6-ce62-a2c8fa30c63a"
   },
   "outputs": [
    {
     "data": {
      "text/plain": [
       "FetchableLazyFrame(identifier=63c8152d-f5af-41ec-b22c-aea51a8465b5)"
      ]
     },
     "execution_count": 199,
     "metadata": {},
     "output_type": "execute_result"
    }
   ],
   "source": [
    "connection = Connection(\"localhost\")\n",
    "client = connection.client\n",
    "\n",
    "# selecting the FetchableLazyFrame(s) we'll be working with\n",
    "rdf = client.polars.get_df(ID)\n",
    "rdf"
   ]
  },
  {
   "cell_type": "markdown",
   "metadata": {
    "id": "AEFbeESX_G14"
   },
   "source": [
    "Let's display the dataset's columns to confirm we are connected to the correct one."
   ]
  },
  {
   "cell_type": "code",
   "execution_count": 200,
   "metadata": {
    "colab": {
     "base_uri": "https://localhost:8080/"
    },
    "id": "G-g8rOnj_G15",
    "outputId": "797dedc6-f4c5-4bb7-8830-3c2b8295fbbc"
   },
   "outputs": [
    {
     "name": "stdout",
     "output_type": "stream",
     "text": [
      "['encounter_id', 'patient_nbr', 'race', 'gender', 'age', 'weight', 'admission_type_id', 'discharge_disposition_id', 'admission_source_id', 'time_in_hospital', 'payer_code', 'medical_specialty', 'num_lab_procedures', 'num_procedures', 'num_medications', 'number_outpatient', 'number_emergency', 'number_inpatient', 'diag_1', 'diag_2', 'diag_3', 'number_diagnoses', 'max_glu_serum', 'A1Cresult', 'metformin', 'repaglinide', 'nateglinide', 'chlorpropamide', 'glimepiride', 'acetohexamide', 'glipizide', 'glyburide', 'tolbutamide', 'pioglitazone', 'rosiglitazone', 'acarbose', 'miglitol', 'troglitazone', 'tolazamide', 'examide', 'citoglipton', 'insulin', 'glyburide-metformin', 'glipizide-metformin', 'glimepiride-pioglitazone', 'metformin-rosiglitazone', 'metformin-pioglitazone', 'change', 'diabetesMed', 'readmitted']\n"
     ]
    }
   ],
   "source": [
    "print(rdf.columns)"
   ]
  },
  {
   "cell_type": "markdown",
   "metadata": {
    "id": "H55DTcKn_G15"
   },
   "source": [
    "Everything is as expected! We can now start our data exploration. "
   ]
  },
  {
   "cell_type": "markdown",
   "metadata": {
    "id": "CQC7tfaF_G15"
   },
   "source": [
    "## Data cleaning\n",
    "__________________________________________\n",
    "\n",
    "\n",
    "### Dropping columns\n",
    "You may have noticed, this dataset contains a lot of columns! This is great as it it gives us a wide choice of correlations to explore. However, we will not have time to explore all of them in this analysis! We can therefore drop the columns that we won't be using- either because they are irrelavant, or because they didn't lead us to the most interesting correlations for this analysis!\n",
    "\n",
    "We can do this by using the`drop` method, providing it with a list of the names of columns to be dropped. This is a RemoteLazyFrame method which corresponds directly to the [Polars drop() function](https://pola-rs.github.io/polars/py-polars/html/reference/lazyframe/api/polars.LazyFrame.drop.html#polars.LazyFrame.drop)."
   ]
  },
  {
   "cell_type": "code",
   "execution_count": 201,
   "metadata": {
    "id": "s0NI6rTqOKWN"
   },
   "outputs": [],
   "source": [
    "# list of column names we wish to remove from our RemoteLazyFrame\n",
    "to_drop = [\n",
    "    \"encounter_id\",\n",
    "    \"patient_nbr\",\n",
    "    \"weight\",\n",
    "    \"discharge_disposition_id\",\n",
    "    \"admission_source_id\",\n",
    "    \"time_in_hospital\",\n",
    "    \"payer_code\",\n",
    "    \"medical_specialty\",\n",
    "    \"num_lab_procedures\",\n",
    "    \"num_procedures\",\n",
    "    \"num_medications\",\n",
    "    \"number_outpatient\",\n",
    "    \"number_inpatient\",\n",
    "    \"number_diagnoses\",\n",
    "    \"diabetesMed\",\n",
    "]\n",
    "\n",
    "# replace rdf with our updated RemoteLazyFrame with to_drop columns deleted\n",
    "rdf = rdf.drop(to_drop)"
   ]
  },
  {
   "cell_type": "markdown",
   "metadata": {
    "id": "vabmc_jjOQCo"
   },
   "source": [
    "There are now 36 columns to work with intead of 51- this will make the RemoteLazyFrame a little easier to work with!"
   ]
  },
  {
   "cell_type": "markdown",
   "metadata": {
    "id": "7ausY-PC_G16"
   },
   "source": [
    "\n",
    "### Checking for null values\n",
    "\n",
    "We now want to assess how many null values we have in each column. This will help us to know if we have enough data to draw meaningful conclusions from each column and gives us the chance to fill or delete null values if relevant.\n",
    "\n",
    "However, based on the description of the dataset shared with us by the data owner, we know that some column cells have been filled with '?' instead of being left blank.\n",
    "\n",
    "Before we can get an accurate picture of null values, we first need to replace all these '?' values with null values. We will do this by using [Polars .when().then().otherwise()` functions](https://pola-rs.github.io/polars/py-polars/html/reference/expressions/api/polars.when.html). \n",
    "\n",
    "One final hurdle is that we can only search and replace '?' strings in columns with the 'Utf8' (string) datatype- otherwise an error will be produced. We must therefore firstly grab pl.Utf8 columns only and apply our search and replace operation to these strings!"
   ]
  },
  {
   "cell_type": "code",
   "execution_count": 202,
   "metadata": {
    "id": "F2KwhZB_fTC3"
   },
   "outputs": [],
   "source": [
    "# step one: getting a list of all Utf8/string columns\n",
    "selects = rdf.select(pl.col(pl.Utf8)).columns\n",
    "\n",
    "# step two: we replace all '? cells in these columns with null values\n",
    "rdf = rdf.with_columns(\n",
    "    [\n",
    "        pl.when(pl.col(x) == \"?\").then(None).otherwise(pl.col(x)).keep_name()\n",
    "        for x in selects\n",
    "    ]\n",
    ")"
   ]
  },
  {
   "cell_type": "markdown",
   "metadata": {
    "id": "c1Frpi9GUtdW"
   },
   "source": [
    "In step two, we use the Polars `with_columns` function to add our new columns with null values instead of question marks to our RemoteLazyFrame. By using the `keep_name` function, these columns keep their original column name and therefore replace the original columns in the dataset. We save the result as `rdf`, storing the updated version of the dataset in our `rdf` variable."
   ]
  },
  {
   "cell_type": "markdown",
   "metadata": {
    "id": "vMMX8JZnKitA"
   },
   "source": [
    "Now that this is done, we can go ahead and calculate how many null values each column contains.\n",
    "\n",
    "We do this by iterating over all the columns and getting a percentage of the `sum` of all the value that return `True` to the `is_null` function."
   ]
  },
  {
   "cell_type": "code",
   "execution_count": 203,
   "metadata": {
    "id": "SAqqUz6I_G16"
   },
   "outputs": [],
   "source": [
    "# getting every columns percentage of null values in the RemoteLazyFrame\n",
    "percent_missing = rdf.select(\n",
    "    [\n",
    "        pl.all().is_null().sum() * 100 / pl.all().count(),\n",
    "    ]\n",
    ")"
   ]
  },
  {
   "cell_type": "markdown",
   "metadata": {
    "id": "3uMcNqVZWhdN"
   },
   "source": [
    "We can then view the percentage of null values for each column as a two-column list by using Polars `melt` function to flip the query results from a 2 row by 5 column grid, to a 2 column by 5 row grid. We use the `sort` function to show the columns in order from the column with the highest percentage of null values to the lowest.\n",
    "\n",
    "Finally, we remove any columns with no null values from our output since they are not of interest to us here."
   ]
  },
  {
   "cell_type": "code",
   "execution_count": 204,
   "metadata": {
    "colab": {
     "base_uri": "https://localhost:8080/",
     "height": 285
    },
    "id": "Pzz5qvSJWd2V",
    "outputId": "d0316533-6304-4dce-8357-e0caa0d897da"
   },
   "outputs": [
    {
     "data": {
      "text/html": [
       "<div>\n",
       "<style scoped>\n",
       "    .dataframe tbody tr th:only-of-type {\n",
       "        vertical-align: middle;\n",
       "    }\n",
       "\n",
       "    .dataframe tbody tr th {\n",
       "        vertical-align: top;\n",
       "    }\n",
       "\n",
       "    .dataframe thead th {\n",
       "        text-align: right;\n",
       "    }\n",
       "\n",
       "    .dataframe td {\n",
       "        white-space: pre;\n",
       "    }\n",
       "\n",
       "    .dataframe td {\n",
       "        padding-top: 0;\n",
       "    }\n",
       "\n",
       "    .dataframe td {\n",
       "        padding-bottom: 0;\n",
       "    }\n",
       "\n",
       "    .dataframe td {\n",
       "        line-height: 95%;\n",
       "    }\n",
       "</style>\n",
       "<table border=\"1\" class=\"dataframe\" >\n",
       "<small>shape: (7, 2)</small>\n",
       "<thead>\n",
       "<tr>\n",
       "<th>\n",
       "column name\n",
       "</th>\n",
       "<th>\n",
       "null values (%)\n",
       "</th>\n",
       "</tr>\n",
       "<tr>\n",
       "<td>\n",
       "str\n",
       "</td>\n",
       "<td>\n",
       "f64\n",
       "</td>\n",
       "</tr>\n",
       "</thead>\n",
       "<tbody>\n",
       "<tr>\n",
       "<td>\n",
       "&quot;max_glu_serum&quot;\n",
       "</td>\n",
       "<td>\n",
       "94.746772\n",
       "</td>\n",
       "</tr>\n",
       "<tr>\n",
       "<td>\n",
       "&quot;A1Cresult&quot;\n",
       "</td>\n",
       "<td>\n",
       "83.277322\n",
       "</td>\n",
       "</tr>\n",
       "<tr>\n",
       "<td>\n",
       "&quot;readmitted&quot;\n",
       "</td>\n",
       "<td>\n",
       "53.911916\n",
       "</td>\n",
       "</tr>\n",
       "<tr>\n",
       "<td>\n",
       "&quot;race&quot;\n",
       "</td>\n",
       "<td>\n",
       "2.233555\n",
       "</td>\n",
       "</tr>\n",
       "<tr>\n",
       "<td>\n",
       "&quot;diag_3&quot;\n",
       "</td>\n",
       "<td>\n",
       "1.398306\n",
       "</td>\n",
       "</tr>\n",
       "<tr>\n",
       "<td>\n",
       "&quot;diag_2&quot;\n",
       "</td>\n",
       "<td>\n",
       "0.351787\n",
       "</td>\n",
       "</tr>\n",
       "<tr>\n",
       "<td>\n",
       "&quot;diag_1&quot;\n",
       "</td>\n",
       "<td>\n",
       "0.020636\n",
       "</td>\n",
       "</tr>\n",
       "</tbody>\n",
       "</table>\n",
       "</div>"
      ],
      "text/plain": [
       "shape: (7, 2)\n",
       "┌───────────────┬─────────────────┐\n",
       "│ column name   ┆ null values (%) │\n",
       "│ ---           ┆ ---             │\n",
       "│ str           ┆ f64             │\n",
       "╞═══════════════╪═════════════════╡\n",
       "│ max_glu_serum ┆ 94.746772       │\n",
       "├╌╌╌╌╌╌╌╌╌╌╌╌╌╌╌┼╌╌╌╌╌╌╌╌╌╌╌╌╌╌╌╌╌┤\n",
       "│ A1Cresult     ┆ 83.277322       │\n",
       "├╌╌╌╌╌╌╌╌╌╌╌╌╌╌╌┼╌╌╌╌╌╌╌╌╌╌╌╌╌╌╌╌╌┤\n",
       "│ readmitted    ┆ 53.911916       │\n",
       "├╌╌╌╌╌╌╌╌╌╌╌╌╌╌╌┼╌╌╌╌╌╌╌╌╌╌╌╌╌╌╌╌╌┤\n",
       "│ race          ┆ 2.233555        │\n",
       "├╌╌╌╌╌╌╌╌╌╌╌╌╌╌╌┼╌╌╌╌╌╌╌╌╌╌╌╌╌╌╌╌╌┤\n",
       "│ diag_3        ┆ 1.398306        │\n",
       "├╌╌╌╌╌╌╌╌╌╌╌╌╌╌╌┼╌╌╌╌╌╌╌╌╌╌╌╌╌╌╌╌╌┤\n",
       "│ diag_2        ┆ 0.351787        │\n",
       "├╌╌╌╌╌╌╌╌╌╌╌╌╌╌╌┼╌╌╌╌╌╌╌╌╌╌╌╌╌╌╌╌╌┤\n",
       "│ diag_1        ┆ 0.020636        │\n",
       "└───────────────┴─────────────────┘"
      ]
     },
     "execution_count": 204,
     "metadata": {},
     "output_type": "execute_result"
    }
   ],
   "source": [
    "# melt table to a two-column table with the column name 'column' and corresponding percetage of null values 'null values', sort in descending order and display\n",
    "percent_missing = percent_missing.melt(\n",
    "    variable_name=\"column name\",\n",
    "    value_name=\"null values (%)\",\n",
    ").sort(pl.col(\"null values (%)\"), reverse=True)\n",
    "\n",
    "# filter out columns with no null values and display\n",
    "percent_missing.filter(pl.col(\"null values (%)\") > 0).collect().fetch()"
   ]
  },
  {
   "cell_type": "markdown",
   "metadata": {
    "id": "4n0jnBPyYLjf"
   },
   "source": [
    "There are several strategies for dealing with null values such as deleting these rows from the dataset with the `drop_nulls` method or filling null values with the `fill_null` method. But in our case, we are just happy to have visibility over which columns including null values and to what extent so that we can handle and analyse these columns with this in mind."
   ]
  },
  {
   "cell_type": "markdown",
   "metadata": {
    "id": "-WUugovwve2c"
   },
   "source": [
    "### Grouping data: ICD-9 medical codes\n",
    "Grouping data is going to be the largest and most crucial task in this data cleaning job. This is a dataset with a low of wide-ranging numerical values which need to be grouped so that our data analysts can gain meaningul insights.\n",
    "\n",
    "Let's start with our diagnoses columns: `diag_1`, `diag_2` and `diag_3`.\n",
    "\n",
    "These columns contain the primary, secondary and terciary diagnoses given to patients. These diagnoses are given using [ICD-9 medical codes](https://en.wikipedia.org/wiki/List_of_ICD-9_codes) which are three digit codes ranging from 1 to 1000, as well as E800–E999 codes and V01–V82 code.\n",
    "\n",
    "By grabbing all the unique values in the `diag_1` column and counting them, we can see that we have over 700 different values in this column!"
   ]
  },
  {
   "cell_type": "code",
   "execution_count": 205,
   "metadata": {
    "colab": {
     "base_uri": "https://localhost:8080/",
     "height": 121
    },
    "id": "7pVHpmLWj6_w",
    "outputId": "bdc449f2-0e05-4595-c1fd-8935d6de4722"
   },
   "outputs": [
    {
     "data": {
      "text/html": [
       "<div>\n",
       "<style scoped>\n",
       "    .dataframe tbody tr th:only-of-type {\n",
       "        vertical-align: middle;\n",
       "    }\n",
       "\n",
       "    .dataframe tbody tr th {\n",
       "        vertical-align: top;\n",
       "    }\n",
       "\n",
       "    .dataframe thead th {\n",
       "        text-align: right;\n",
       "    }\n",
       "\n",
       "    .dataframe td {\n",
       "        white-space: pre;\n",
       "    }\n",
       "\n",
       "    .dataframe td {\n",
       "        padding-top: 0;\n",
       "    }\n",
       "\n",
       "    .dataframe td {\n",
       "        padding-bottom: 0;\n",
       "    }\n",
       "\n",
       "    .dataframe td {\n",
       "        line-height: 95%;\n",
       "    }\n",
       "</style>\n",
       "<table border=\"1\" class=\"dataframe\" >\n",
       "<small>shape: (1, 1)</small>\n",
       "<thead>\n",
       "<tr>\n",
       "<th>\n",
       "diag_1\n",
       "</th>\n",
       "</tr>\n",
       "<tr>\n",
       "<td>\n",
       "u32\n",
       "</td>\n",
       "</tr>\n",
       "</thead>\n",
       "<tbody>\n",
       "<tr>\n",
       "<td>\n",
       "717\n",
       "</td>\n",
       "</tr>\n",
       "</tbody>\n",
       "</table>\n",
       "</div>"
      ],
      "text/plain": [
       "shape: (1, 1)\n",
       "┌────────┐\n",
       "│ diag_1 │\n",
       "│ ---    │\n",
       "│ u32    │\n",
       "╞════════╡\n",
       "│ 717    │\n",
       "└────────┘"
      ]
     },
     "execution_count": 205,
     "metadata": {},
     "output_type": "execute_result"
    }
   ],
   "source": [
    "tmp = rdf.select(\"diag_1\").unique()\n",
    "tmp.select(pl.col(\"diag_1\").count()).collect().fetch()"
   ]
  },
  {
   "cell_type": "markdown",
   "metadata": {
    "id": "cPsmfkBpkPCv"
   },
   "source": [
    "Standard groupings of these codes have already been designed. What we want to do is replace the hundreds of unique codes we have in our our diagnoses columns with these groupings!\n",
    "\n",
    "To do this, we will again use Polars `when().then().otherwise()` functions to  perform a find and replace operation. We will use `when()` to check if the codes in each cell are either E or V codes or fall within a certain numerical range.\n",
    "\n",
    "However, these diagnoses columns are currently string columns, since the E and V codes are not entirely numerical. This is problematic since we cannot perform numerical comparisons on these cells and we cannot convert the column type to a numerical one because of these 'E' and 'V' values!\n",
    "\n",
    "We will solve this problem in three steps:\n",
    "\n",
    "1) We will find and replace all E codes with a \"-1\" value and V codes with a \"-2\" value.\n",
    "\n",
    "2) We will `select()` our columns and `cast()` all values in these columns to float values.\n",
    "\n",
    "3) We will perform the find and replace operation to group all ICD-9 codes into their associated group- of which there are 17, plus E codes and V codes."
   ]
  },
  {
   "cell_type": "code",
   "execution_count": 206,
   "metadata": {
    "id": "xPNFpZ7lW8qR"
   },
   "outputs": [],
   "source": [
    "# iterate over the three diagnoses columns\n",
    "for col in [\"diag_1\", \"diag_2\", \"diag_3\"]:\n",
    "    # step one: replace troublesome E and V codes with temporary -1 and -2 codes\n",
    "    rdf = rdf.with_columns(\n",
    "        [\n",
    "            pl.when(\n",
    "                pl.col(col).str.starts_with(\"E\")\n",
    "            )  # use Polars str.starts_with method to identify E codes\n",
    "            .then(\"-1\")\n",
    "            .when(pl.col(col).str.starts_with(\"V\"))\n",
    "            .then(\"-2\")\n",
    "            .otherwise(pl.col(col))\n",
    "            .keep_name()\n",
    "        ]\n",
    "    )\n",
    "\n",
    "    # step two: cast all values in column to float values\n",
    "    rdf = rdf.with_columns([pl.col(col).cast(pl.Float64)])\n",
    "\n",
    "    # step three: replace all codes with their corresponding group\n",
    "    rdf = rdf.with_columns(\n",
    "        [\n",
    "            pl.when(pl.col(col) >= 800)\n",
    "            .then(\"injury and poisoning\")\n",
    "            .when(pl.col(col) >= 780)\n",
    "            .then(\"symptoms, signs & ill-defined\")\n",
    "            .when(pl.col(col) >= 760)\n",
    "            .then(\"perinatal\")\n",
    "            .when(pl.col(col) >= 740)\n",
    "            .then(\"congenital anomalies\")\n",
    "            .when(pl.col(col) >= 710)\n",
    "            .then(\"musculoskeletal & connective tissue\")\n",
    "            .when(pl.col(col) >= 680)\n",
    "            .then(\"skin\")\n",
    "            .when(pl.col(col) >= 630)\n",
    "            .then(\"pregnancy, childbirth and peurperium\")\n",
    "            .when(pl.col(col) >= 580)\n",
    "            .then(\"genitourinary\")\n",
    "            .when(pl.col(col) >= 520)\n",
    "            .then(\"digestive\")\n",
    "            .when(pl.col(col) >= 460)\n",
    "            .then(\"respiratory\")\n",
    "            .when(pl.col(col) >= 390)\n",
    "            .then(\"circulatory\")\n",
    "            .when(pl.col(col) >= 320)\n",
    "            .then(\"nervous system and sense organs\")\n",
    "            .when(pl.col(col) >= 290)\n",
    "            .then(\"mental disorders\")\n",
    "            .when(pl.col(col) >= 280)\n",
    "            .then(\"blood and blood-forming organs\")\n",
    "            .when(pl.col(col) >= 240)\n",
    "            .then(\"neoplasms\")\n",
    "            .when(pl.col(col) >= 140)\n",
    "            .then(\"endocrine, nutritional, metabolic and immunity\")\n",
    "            .when(pl.col(col) >= 1)\n",
    "            .then(\"infectious and parasitic\")\n",
    "            .when(pl.col(col) == -1)\n",
    "            .then(\"E code (injury)\")\n",
    "            .when(pl.col(col) == -2)\n",
    "            .then(\"V code (other)\")\n",
    "            .otherwise(\n",
    "                None\n",
    "            )  # otherwise (null values) keep original value from the column\n",
    "            .alias(\n",
    "                col\n",
    "            )  # give resulting column same name as previously- therefore replacing old columns\n",
    "        ]\n",
    "    )"
   ]
  },
  {
   "cell_type": "markdown",
   "metadata": {
    "id": "P1MquUrNlXDO"
   },
   "source": [
    "By performing the same query as previously to count `diag_1`'s unique values, we see there is now a much more manageable 19 labels in our data column! This will be similar for the `diag_2` and `diag_3` columns."
   ]
  },
  {
   "cell_type": "code",
   "execution_count": 207,
   "metadata": {
    "colab": {
     "base_uri": "https://localhost:8080/",
     "height": 121
    },
    "id": "YfC9CmWWdu0n",
    "outputId": "04223b57-76a5-4108-99ef-20eb5862b907"
   },
   "outputs": [
    {
     "data": {
      "text/html": [
       "<div>\n",
       "<style scoped>\n",
       "    .dataframe tbody tr th:only-of-type {\n",
       "        vertical-align: middle;\n",
       "    }\n",
       "\n",
       "    .dataframe tbody tr th {\n",
       "        vertical-align: top;\n",
       "    }\n",
       "\n",
       "    .dataframe thead th {\n",
       "        text-align: right;\n",
       "    }\n",
       "\n",
       "    .dataframe td {\n",
       "        white-space: pre;\n",
       "    }\n",
       "\n",
       "    .dataframe td {\n",
       "        padding-top: 0;\n",
       "    }\n",
       "\n",
       "    .dataframe td {\n",
       "        padding-bottom: 0;\n",
       "    }\n",
       "\n",
       "    .dataframe td {\n",
       "        line-height: 95%;\n",
       "    }\n",
       "</style>\n",
       "<table border=\"1\" class=\"dataframe\" >\n",
       "<small>shape: (1, 1)</small>\n",
       "<thead>\n",
       "<tr>\n",
       "<th>\n",
       "diag_1\n",
       "</th>\n",
       "</tr>\n",
       "<tr>\n",
       "<td>\n",
       "u32\n",
       "</td>\n",
       "</tr>\n",
       "</thead>\n",
       "<tbody>\n",
       "<tr>\n",
       "<td>\n",
       "19\n",
       "</td>\n",
       "</tr>\n",
       "</tbody>\n",
       "</table>\n",
       "</div>"
      ],
      "text/plain": [
       "shape: (1, 1)\n",
       "┌────────┐\n",
       "│ diag_1 │\n",
       "│ ---    │\n",
       "│ u32    │\n",
       "╞════════╡\n",
       "│ 19     │\n",
       "└────────┘"
      ]
     },
     "execution_count": 207,
     "metadata": {},
     "output_type": "execute_result"
    }
   ],
   "source": [
    "tmp = rdf.select(\"diag_1\").unique()\n",
    "tmp.select(pl.col(\"diag_1\").count()).collect().fetch()"
   ]
  },
  {
   "cell_type": "markdown",
   "metadata": {
    "id": "pKAp3OvKcwuX"
   },
   "source": [
    "We notice in our project brief that there is only 1 E code value in the `diag_1` column, so we will remove this value from our dataset before continuing by using the `filter` function."
   ]
  },
  {
   "cell_type": "code",
   "execution_count": 208,
   "metadata": {
    "id": "yIRH-_QNdEwL"
   },
   "outputs": [],
   "source": [
    "rdf = rdf.filter(pl.col(\"diag_1\") != \"E code (injury)\")"
   ]
  },
  {
   "cell_type": "markdown",
   "metadata": {
    "id": "BvdGu7GmsZVu"
   },
   "source": [
    "### Grouping data: A1C, max glucose levels and readmittance\n",
    "\n",
    "We want to group together data in another three other columns using the same `.then().when().otherwise()` methods.\n",
    "\n",
    "The first two are `A1Cresult`, which contains patients' HbA1c level, and `max_glu_serum`, which contains their blood glucose level. We want to group these into `very high`, `high`, `normal` groups based on levels defined in our project brief.\n",
    "\n",
    "These columns are both currently string columns, so we will also need to convert them to float values in order to perform numerical comparisons on them."
   ]
  },
  {
   "cell_type": "code",
   "execution_count": 209,
   "metadata": {
    "id": "FgyrnPAlsZ0u"
   },
   "outputs": [],
   "source": [
    "# cast `max_glu_serum` and `A1Cresult` columns to float values\n",
    "rdf = rdf.with_columns(\n",
    "    [pl.col(\"max_glu_serum\").cast(pl.Float64), pl.col(\"A1Cresult\").cast(pl.Float64)]\n",
    ")\n",
    "\n",
    "# group values in A1Cresult column\n",
    "rdf = rdf.with_columns(\n",
    "    [\n",
    "        pl.when(pl.col(\"A1Cresult\") >= 8)\n",
    "        .then(\"very high\")\n",
    "        .when(pl.col(\"A1Cresult\") >= 7)\n",
    "        .then(\"high\")\n",
    "        .when(pl.col(\"A1Cresult\") >= 0)\n",
    "        .then(\"normal\")\n",
    "        .otherwise(pl.col(\"A1Cresult\"))\n",
    "        .keep_name()\n",
    "    ]\n",
    ")\n",
    "\n",
    "# group values in max_glu_serum column\n",
    "rdf = rdf.with_columns(\n",
    "    [\n",
    "        pl.when(pl.col(\"max_glu_serum\") >= 300)\n",
    "        .then(\"very high\")\n",
    "        .when(pl.col(\"max_glu_serum\") >= 200)\n",
    "        .then(\"high\")\n",
    "        .when(pl.col(\"max_glu_serum\") >= 0)\n",
    "        .then(\"normal\")\n",
    "        .otherwise(pl.col(\"max_glu_serum\"))\n",
    "        .keep_name()\n",
    "    ]\n",
    ")"
   ]
  },
  {
   "cell_type": "markdown",
   "metadata": {
    "id": "Buu2nja5w6Db"
   },
   "source": [
    "The final column we want to group is the `readmitted` column which records the number of days before any further re-hospitalization linked to the patients' diabetic condition.\n",
    "\n",
    "We will group this column into `short-term` and `long-term` and `n/a` (not applicable) groups.\n",
    "\n",
    "Simiar to in previous examples, we must first convert values in this column from strings to integer values."
   ]
  },
  {
   "cell_type": "code",
   "execution_count": 210,
   "metadata": {
    "id": "9cca9DhSw6We"
   },
   "outputs": [],
   "source": [
    "# cast readmitted column to integer values\n",
    "rdf = rdf.with_columns([pl.col(\"readmitted\").cast(pl.Int64)])\n",
    "\n",
    "# group values\n",
    "rdf = rdf.with_columns(\n",
    "    [\n",
    "        pl.when(pl.col(\"readmitted\") < 31)\n",
    "        .then(\"short-term\")\n",
    "        .when(pl.col(\"readmitted\") >= 31)\n",
    "        .then(\"long-term\")\n",
    "        .otherwise(\"n/a\")\n",
    "        .keep_name()\n",
    "    ]\n",
    ")"
   ]
  },
  {
   "cell_type": "markdown",
   "metadata": {
    "id": "kuwxAGYBoOQJ"
   },
   "source": [
    "### Grouping data: binning ages\n",
    "The next grouping task we will perform is to group ages into intervals of 10 years. We do this both to increase data privacy and to more easily draw correlations linked to broader age groups.\n",
    "\n",
    "We won't need to perform an `when().then().otherwise()` query here since BastionLab has its own `ApplyBins` tool.\n",
    "\n",
    "`ApplyBins` is a PyTorch module and the grouping of numbers takes place in its `forward` function. We can pass PyTorch modules to BastionLab's `apply_udf` function which will apply the `forward` function to any specified columns.\n",
    "\n",
    "All in all, we just three steps to bin our age column data:\n",
    "\n",
    "1) We import `ApplyBins` from `bastionlab.polars.utils`.\n",
    "1) We instantiate our `ApplyBins` PyTorch module class with our bins interval given as the only argument.\n",
    "2) We use `apply_udf`, providing a list of the column we want to modify and the PyTorch module, `ApplyBins`, that we wish to apply to these columns."
   ]
  },
  {
   "cell_type": "code",
   "execution_count": 211,
   "metadata": {
    "id": "2EC3smnWc06Q"
   },
   "outputs": [],
   "source": [
    "from bastionlab.polars.utils import ApplyBins\n",
    "\n",
    "# get an instance of ApplyBins module which will bin data into groups of 10\n",
    "model = ApplyBins(10)\n",
    "\n",
    "# apply bins to \"age\" column\n",
    "rdf = rdf.apply_udf([\"age\"], model)"
   ]
  },
  {
   "cell_type": "markdown",
   "metadata": {
    "id": "1pOQYPYSsVns"
   },
   "source": [
    "> Note, you can create your own custom PyTorch modules and apply them to columns using `apply_udf`. This is BastionLab's way of allowing you to apply custom functions on datasets, whilst restricting what you can do for security reasons. Functionality like `lambda`, `map` and `apply` are blocked by BastionLab as they are too permissive and could be misused."
   ]
  },
  {
   "cell_type": "markdown",
   "metadata": {
    "id": "gYRVmqTitckT"
   },
   "source": [
    "### Adding columns\n",
    "\n",
    "Up until this point we have been using the `.when().then().otherwise()` and `with_columns` methods to make changes to existing columns, but by providing a new column name to the `alias` method, we can create a new column.\n",
    "\n",
    "In the following example, we will create a `is_readmitted` column which will store `False` for all the \"n/a\" values in our original `readmitted` column and `True` for any other values. This will allow us to quickly query whether certain groups of data have been readmitted or not!"
   ]
  },
  {
   "cell_type": "code",
   "execution_count": 212,
   "metadata": {
    "id": "B2JGdBhmteAz"
   },
   "outputs": [],
   "source": [
    "rdf = rdf.with_columns(\n",
    "    [\n",
    "        pl.when(pl.col(\"readmitted\") == \"n/a\")\n",
    "        .then(False)\n",
    "        .otherwise(True)\n",
    "        .alias(\n",
    "            \"is_readmitted\"\n",
    "        )  # ending the .when().then().otherwise() pattern with .alias() allows us to provide a new column name\n",
    "    ]\n",
    ")"
   ]
  },
  {
   "cell_type": "markdown",
   "metadata": {
    "id": "edoL2_uy_G19"
   },
   "source": [
    "### Converting column types\n",
    "\n",
    "We have already seen examples where we have `explicity` converted the datatype of our columns using the `cast` method. Here we will `implicity` convert the datatype by replacing the \"yes\" and \"no\" values in our `change` column, which represent whether a patient's medication has been changed, to a boolean True or False value. \n",
    "\n",
    "The datatype of this column will be changed automatically by this operation as we can see below."
   ]
  },
  {
   "cell_type": "code",
   "execution_count": 213,
   "metadata": {
    "colab": {
     "base_uri": "https://localhost:8080/"
    },
    "id": "fMhSrD8__G19",
    "outputId": "fb2c31c6-c60c-4d2e-e712-30f502d436b0"
   },
   "outputs": [
    {
     "data": {
      "text/plain": [
       "[polars.datatypes.Utf8]"
      ]
     },
     "execution_count": 213,
     "metadata": {},
     "output_type": "execute_result"
    }
   ],
   "source": [
    "# print out initial datatype of \"change\" column\n",
    "\n",
    "rdf.select(\"change\").dtypes"
   ]
  },
  {
   "cell_type": "code",
   "execution_count": 214,
   "metadata": {
    "colab": {
     "base_uri": "https://localhost:8080/"
    },
    "id": "hYWJ9FB70mcM",
    "outputId": "f9ebdad2-98f9-4216-d931-0c868d11a9ab"
   },
   "outputs": [
    {
     "data": {
      "text/plain": [
       "[polars.datatypes.Boolean]"
      ]
     },
     "execution_count": 214,
     "metadata": {},
     "output_type": "execute_result"
    }
   ],
   "source": [
    "# replaces Yes/No values with True/False\n",
    "rdf = rdf.with_columns(\n",
    "    [pl.when(pl.col(\"change\") == \"No\").then(False).otherwise(True).keep_name()]\n",
    ")\n",
    "\n",
    "# print out datatype of column post find and replace operation\n",
    "rdf.select(\"change\").dtypes"
   ]
  },
  {
   "cell_type": "markdown",
   "metadata": {
    "id": "CYS-Mkl1tD8t"
   },
   "source": [
    "### Saving our RemoteLazyFrame and disconnecting\n",
    "\n",
    "Our dataframe is all clean and ready for the next step: data analysis/ visualization. Data scientist #1 is going to be reassigned to another task. They will save their cleaned RemoteLazyFrame and make a note of the identifier to share with data scientist #2.\n",
    "\n",
    "We need to perform `collect()` before saving or getting an identifier for our RemoteLazyFrame since the `save` method and `identifier` attribute are only available for FetchableLazyFrames.\n",
    "\n",
    ">Note, the data owner must have set the `savable` option to `True` when uploading the dataframe for this operation to be possible!"
   ]
  },
  {
   "cell_type": "code",
   "execution_count": 215,
   "metadata": {
    "colab": {
     "base_uri": "https://localhost:8080/",
     "height": 35
    },
    "id": "DWu6ToX53bm9",
    "outputId": "8980b3c6-c49e-4180-a607-50db2cc9f0b1"
   },
   "outputs": [
    {
     "data": {
      "application/vnd.google.colaboratory.intrinsic+json": {
       "type": "string"
      },
      "text/plain": [
       "'57a34384-f881-4059-ae5a-6a7d1483a1ae'"
      ]
     },
     "execution_count": 215,
     "metadata": {},
     "output_type": "execute_result"
    }
   ],
   "source": [
    "rdf.collect().save()\n",
    "saved_identifier = rdf.collect().identifier\n",
    "saved_identifier"
   ]
  },
  {
   "cell_type": "markdown",
   "metadata": {
    "id": "NgkiBinG6DJ2"
   },
   "source": [
    "They can now close their connection to the BastionLab server."
   ]
  },
  {
   "cell_type": "code",
   "execution_count": 216,
   "metadata": {
    "id": "qoiADM1W6OC_"
   },
   "outputs": [],
   "source": [
    "connection.close()"
   ]
  },
  {
   "cell_type": "markdown",
   "metadata": {
    "id": "3Gvx_sK5ypgD"
   },
   "source": [
    "### Part II: data analysis and visualization\n",
    "\n",
    "So data scientist #2 is now ready to begin their analysis of the cleaned dataset. Just like data scientist #1, they will first need to connect to the server and get the FetchableLazyFrame saved by data scientist #1."
   ]
  },
  {
   "cell_type": "code",
   "execution_count": 217,
   "metadata": {
    "colab": {
     "base_uri": "https://localhost:8080/"
    },
    "id": "YXDgnPiayf-b",
    "outputId": "86ba51d8-ae36-4a55-ac36-9734ed1e0e9b"
   },
   "outputs": [
    {
     "data": {
      "text/plain": [
       "FetchableLazyFrame(identifier=57a34384-f881-4059-ae5a-6a7d1483a1ae)"
      ]
     },
     "execution_count": 217,
     "metadata": {},
     "output_type": "execute_result"
    }
   ],
   "source": [
    "# connecting to the server\n",
    "from bastionlab import Connection\n",
    "\n",
    "connection = Connection(\"localhost\")\n",
    "client = connection.client\n",
    "\n",
    "# get the previously saved dataframe\n",
    "rdf = client.polars.get_df(saved_identifier)\n",
    "rdf"
   ]
  },
  {
   "cell_type": "markdown",
   "metadata": {
    "id": "z7-wG7DfzSyI"
   },
   "source": [
    "We can again confirm that the original privacy policy is still in place by running a non-aggreagted query that would violate the policy."
   ]
  },
  {
   "cell_type": "code",
   "execution_count": 218,
   "metadata": {
    "colab": {
     "base_uri": "https://localhost:8080/"
    },
    "id": "X_cUUQwqzw4B",
    "outputId": "423254aa-caca-45d5-ec8b-81dee515e3bd"
   },
   "outputs": [
    {
     "name": "stdout",
     "output_type": "stream",
     "text": [
      "\u001b[31mThe query has been rejected by the data owner.\u001b[37m\n"
     ]
    }
   ],
   "source": [
    "rdf.select(pl.col(\"age\")).collect().fetch()"
   ]
  },
  {
   "cell_type": "markdown",
   "metadata": {
    "id": "NfRexmoN0X9h"
   },
   "source": [
    "Now that we are all set-up, we can dive into the analysis.\n",
    "\n",
    "### Age as a factor in readmission and emergency trips\n",
    "\n",
    "Let's start by visualizing the number of patients who were readmitted to hospital for diabetes-related issues during the study.\n",
    "\n",
    "To do this we group data by `age` and aggregate the `sum` of those who were readmitted. We then generate a barplot for this query."
   ]
  },
  {
   "cell_type": "code",
   "execution_count": 219,
   "metadata": {
    "colab": {
     "base_uri": "https://localhost:8080/",
     "height": 279
    },
    "id": "-5f35-7l_bUG",
    "outputId": "da47e386-065f-4b25-9029-43cad1e3e4fc"
   },
   "outputs": [
    {
     "data": {
      "image/png": "[encoded data removed]",
      "text/plain": [
       "<Figure size 432x288 with 1 Axes>"
      ]
     },
     "metadata": {
      "needs_background": "light"
     },
     "output_type": "display_data"
    }
   ],
   "source": [
    "total_readmitted = rdf.groupby(\"age\").agg(\n",
    "    pl.col(\"is_readmitted\").sum().alias(\"total readmitted\")\n",
    ")\n",
    "total_readmitted.barplot(x=\"age\", y=\"total readmitted\")"
   ]
  },
  {
   "cell_type": "markdown",
   "metadata": {
    "id": "BdRDwT74BOrr"
   },
   "source": [
    "In terms of the number of readmissions, we see a clear trend for readmission cases to increase with age, before dropping down in the 80-90 and 90-100 age groups. This may be due to increased mortality in these age ranges.\n",
    "\n",
    "However, if we take a look at the mean number of cases per age group using `histplot`, we see that it follows the same trend, showing that this trend may not represent a higher risk of readmission for older patients, but rather a much increased number of diabetes patients in older age groups."
   ]
  },
  {
   "cell_type": "code",
   "execution_count": 220,
   "metadata": {
    "colab": {
     "base_uri": "https://localhost:8080/",
     "height": 279
    },
    "id": "DBML4fIUAID2",
    "outputId": "e068d27f-95d9-4230-f8d3-ab4a42920fe3"
   },
   "outputs": [
    {
     "data": {
      "image/png": "[encoded data removed]",
      "text/plain": [
       "<Figure size 432x288 with 1 Axes>"
      ]
     },
     "metadata": {
      "needs_background": "light"
     },
     "output_type": "display_data"
    }
   ],
   "source": [
    "rdf.histplot(x=\"age\")"
   ]
  },
  {
   "cell_type": "markdown",
   "metadata": {
    "id": "xPFiho5eEKNT"
   },
   "source": [
    "If we zoom in on `short-term` and `long-term` readmittance individually and get the percentage of patients in these groups who are readmitted, rather than the count, we get a rather different picture.\n",
    "\n",
    "To get these percentage values, we divide the total number of short-term or long-term values in the readmitted column by the total values in this column.\n",
    "\n",
    "To get the total short-term or long-term values, we use the str.count_match function to fill the readmitted column with True (1) values where the contents of the cell are short-term or long-term respectively and False (0) for any other values. We can use the sum function to count up all of these True values.\n",
    "\n",
    "To get the total values in the readmitted column, we select the column and use count() function.\n",
    "\n",
    "We can then set the column name to whatever we like using the alias function."
   ]
  },
  {
   "cell_type": "code",
   "execution_count": 221,
   "metadata": {
    "colab": {
     "base_uri": "https://localhost:8080/",
     "height": 541
    },
    "id": "KRBIqBXs8pda",
    "outputId": "6f484d34-88f4-460c-9870-737315a2a263"
   },
   "outputs": [
    {
     "data": {
      "image/png": "[encoded data removed]",
      "text/plain": [
       "<Figure size 432x288 with 1 Axes>"
      ]
     },
     "metadata": {
      "needs_background": "light"
     },
     "output_type": "display_data"
    },
    {
     "data": {
      "image/png": "[encoded data removed]",
      "text/plain": [
       "<Figure size 432x288 with 1 Axes>"
      ]
     },
     "metadata": {
      "needs_background": "light"
     },
     "output_type": "display_data"
    }
   ],
   "source": [
    "import matplotlib.pyplot as plt\n",
    "\n",
    "short_term = rdf.groupby(\"age\").agg(\n",
    "    (\n",
    "        pl.col(\"readmitted\").str.count_match(\"short-term\").sum()\n",
    "        / pl.col(\"readmitted\").count()\n",
    "        * 100\n",
    "    ).alias(\"short-term readmitted\")\n",
    ")\n",
    "long_term = rdf.groupby(\"age\").agg(\n",
    "    (\n",
    "        pl.col(\"readmitted\").str.count_match(\"long-term\").sum()\n",
    "        / pl.col(\"readmitted\").count()\n",
    "        * 100\n",
    "    ).alias(\"long-term readmitted\")\n",
    ")\n",
    "\n",
    "short_term.barplot(x=\"age\", y=\"short-term readmitted\")\n",
    "plt.show()\n",
    "long_term.barplot(x=\"age\", y=\"long-term readmitted\")"
   ]
  },
  {
   "cell_type": "markdown",
   "metadata": {
    "id": "nlHmjMozE38p"
   },
   "source": [
    "We see a slight trend of increased long-term readmissions as age increases, but interestingly, a much higher risk of short-term readmission in 20-30 year olds. This could be explained by younger patients perhaps not having yet found the correct treatment or lifestyle to manage their diabetes."
   ]
  },
  {
   "cell_type": "markdown",
   "metadata": {
    "id": "F4c69wn0CjV4"
   },
   "source": [
    "Similarly, if we take a look at the average number of emergency visits in the past year for patients in each age category, the 20-30 group is the most at-risk.\n",
    "\n"
   ]
  },
  {
   "cell_type": "code",
   "execution_count": 222,
   "metadata": {
    "colab": {
     "base_uri": "https://localhost:8080/",
     "height": 281
    },
    "id": "9sg9nYzE_vXu",
    "outputId": "ed0a1a83-9a7d-431d-e257-9a94062a731b"
   },
   "outputs": [
    {
     "data": {
      "image/png": "[encoded data removed]",
      "text/plain": [
       "<Figure size 432x288 with 1 Axes>"
      ]
     },
     "metadata": {
      "needs_background": "light"
     },
     "output_type": "display_data"
    }
   ],
   "source": [
    "rdf.barplot(x=\"age\", y=\"number_emergency\")"
   ]
  },
  {
   "cell_type": "markdown",
   "metadata": {
    "id": "bINBHE7zCuPd"
   },
   "source": [
    "These trends provide actionable insights, where advice or follow-ups with 20-30 year olds could be tailored based on their increased risk of short-term hospital readmission and emergency visits."
   ]
  },
  {
   "cell_type": "markdown",
   "metadata": {
    "id": "UUBMSWbuHxf-"
   },
   "source": [
    "### A1C examinations as a factor in changes to medication and readmittance"
   ]
  },
  {
   "cell_type": "markdown",
   "metadata": {
    "id": "S11nqyg0oufI"
   },
   "source": [
    "Next, let's take a look at the impact of A1C levels being checked during the hospital admission on the likelihood of a patient's medication being changed. The higher the level of A1C, the greater the risk of developing diabetes complications is."
   ]
  },
  {
   "cell_type": "code",
   "execution_count": 223,
   "metadata": {
    "colab": {
     "base_uri": "https://localhost:8080/",
     "height": 203
    },
    "id": "RkJK-DmHhq37",
    "outputId": "d9ed2ec7-4e14-4a64-fdf4-e4b6d2b6fab8"
   },
   "outputs": [
    {
     "data": {
      "text/html": [
       "<div>\n",
       "<style scoped>\n",
       "    .dataframe tbody tr th:only-of-type {\n",
       "        vertical-align: middle;\n",
       "    }\n",
       "\n",
       "    .dataframe tbody tr th {\n",
       "        vertical-align: top;\n",
       "    }\n",
       "\n",
       "    .dataframe thead th {\n",
       "        text-align: right;\n",
       "    }\n",
       "\n",
       "    .dataframe td {\n",
       "        white-space: pre;\n",
       "    }\n",
       "\n",
       "    .dataframe td {\n",
       "        padding-top: 0;\n",
       "    }\n",
       "\n",
       "    .dataframe td {\n",
       "        padding-bottom: 0;\n",
       "    }\n",
       "\n",
       "    .dataframe td {\n",
       "        line-height: 95%;\n",
       "    }\n",
       "</style>\n",
       "<table border=\"1\" class=\"dataframe\" >\n",
       "<small>shape: (4, 2)</small>\n",
       "<thead>\n",
       "<tr>\n",
       "<th>\n",
       "A1Cresult\n",
       "</th>\n",
       "<th>\n",
       "change\n",
       "</th>\n",
       "</tr>\n",
       "<tr>\n",
       "<td>\n",
       "str\n",
       "</td>\n",
       "<td>\n",
       "f64\n",
       "</td>\n",
       "</tr>\n",
       "</thead>\n",
       "<tbody>\n",
       "<tr>\n",
       "<td>\n",
       "&quot;very high&quot;\n",
       "</td>\n",
       "<td>\n",
       "65.067994\n",
       "</td>\n",
       "</tr>\n",
       "<tr>\n",
       "<td>\n",
       "&quot;high&quot;\n",
       "</td>\n",
       "<td>\n",
       "50.738007\n",
       "</td>\n",
       "</tr>\n",
       "<tr>\n",
       "<td>\n",
       "null\n",
       "</td>\n",
       "<td>\n",
       "44.272954\n",
       "</td>\n",
       "</tr>\n",
       "<tr>\n",
       "<td>\n",
       "&quot;normal&quot;\n",
       "</td>\n",
       "<td>\n",
       "44.226143\n",
       "</td>\n",
       "</tr>\n",
       "</tbody>\n",
       "</table>\n",
       "</div>"
      ],
      "text/plain": [
       "shape: (4, 2)\n",
       "┌───────────┬───────────┐\n",
       "│ A1Cresult ┆ change    │\n",
       "│ ---       ┆ ---       │\n",
       "│ str       ┆ f64       │\n",
       "╞═══════════╪═══════════╡\n",
       "│ very high ┆ 65.067994 │\n",
       "├╌╌╌╌╌╌╌╌╌╌╌┼╌╌╌╌╌╌╌╌╌╌╌┤\n",
       "│ high      ┆ 50.738007 │\n",
       "├╌╌╌╌╌╌╌╌╌╌╌┼╌╌╌╌╌╌╌╌╌╌╌┤\n",
       "│ null      ┆ 44.272954 │\n",
       "├╌╌╌╌╌╌╌╌╌╌╌┼╌╌╌╌╌╌╌╌╌╌╌┤\n",
       "│ normal    ┆ 44.226143 │\n",
       "└───────────┴───────────┘"
      ]
     },
     "execution_count": 223,
     "metadata": {},
     "output_type": "execute_result"
    }
   ],
   "source": [
    "# group data by A1C result group\n",
    "ret = rdf.groupby(pl.col(\"A1Cresult\")).agg(\n",
    "    [\n",
    "        # get percentage of patients in each group who changed medication\n",
    "        (pl.col(\"change\").sum() / pl.col(\"change\").count() * 100).alias(\"change\"),\n",
    "    ]\n",
    ")\n",
    "\n",
    "# display as a sorted list\n",
    "ret.sort(pl.col(\"change\"), reverse=True).collect().fetch()"
   ]
  },
  {
   "cell_type": "markdown",
   "metadata": {
    "id": "xX672CJwpAYv"
   },
   "source": [
    "Perhaps as expected, those with a very high or high A1Cresult were more likely to have a medication change. Interestingly, those who do not have their A1C level examined are only as likely to change medication as those with normal A1C levels. This shows doctors are less likely to change medication unless they know that A1C levels are higher than expected via exams.\n",
    "\n",
    "What we now want to know is whether this has an impact on the likelihood of patient readmission in the short and long term."
   ]
  },
  {
   "cell_type": "code",
   "execution_count": 224,
   "metadata": {
    "colab": {
     "base_uri": "https://localhost:8080/",
     "height": 203
    },
    "id": "LFDwp7G2lfqh",
    "outputId": "5290f2dd-74a6-4f82-bcea-b5b3a0a14bec"
   },
   "outputs": [
    {
     "data": {
      "text/html": [
       "<div>\n",
       "<style scoped>\n",
       "    .dataframe tbody tr th:only-of-type {\n",
       "        vertical-align: middle;\n",
       "    }\n",
       "\n",
       "    .dataframe tbody tr th {\n",
       "        vertical-align: top;\n",
       "    }\n",
       "\n",
       "    .dataframe thead th {\n",
       "        text-align: right;\n",
       "    }\n",
       "\n",
       "    .dataframe td {\n",
       "        white-space: pre;\n",
       "    }\n",
       "\n",
       "    .dataframe td {\n",
       "        padding-top: 0;\n",
       "    }\n",
       "\n",
       "    .dataframe td {\n",
       "        padding-bottom: 0;\n",
       "    }\n",
       "\n",
       "    .dataframe td {\n",
       "        line-height: 95%;\n",
       "    }\n",
       "</style>\n",
       "<table border=\"1\" class=\"dataframe\" >\n",
       "<small>shape: (4, 2)</small>\n",
       "<thead>\n",
       "<tr>\n",
       "<th>\n",
       "A1Cresult\n",
       "</th>\n",
       "<th>\n",
       "short-term readmitted\n",
       "</th>\n",
       "</tr>\n",
       "<tr>\n",
       "<td>\n",
       "str\n",
       "</td>\n",
       "<td>\n",
       "f64\n",
       "</td>\n",
       "</tr>\n",
       "</thead>\n",
       "<tbody>\n",
       "<tr>\n",
       "<td>\n",
       "null\n",
       "</td>\n",
       "<td>\n",
       "11.436393\n",
       "</td>\n",
       "</tr>\n",
       "<tr>\n",
       "<td>\n",
       "&quot;high&quot;\n",
       "</td>\n",
       "<td>\n",
       "10.042172\n",
       "</td>\n",
       "</tr>\n",
       "<tr>\n",
       "<td>\n",
       "&quot;very high&quot;\n",
       "</td>\n",
       "<td>\n",
       "9.907722\n",
       "</td>\n",
       "</tr>\n",
       "<tr>\n",
       "<td>\n",
       "&quot;normal&quot;\n",
       "</td>\n",
       "<td>\n",
       "9.703288\n",
       "</td>\n",
       "</tr>\n",
       "</tbody>\n",
       "</table>\n",
       "</div>"
      ],
      "text/plain": [
       "shape: (4, 2)\n",
       "┌───────────┬───────────────────────┐\n",
       "│ A1Cresult ┆ short-term readmitted │\n",
       "│ ---       ┆ ---                   │\n",
       "│ str       ┆ f64                   │\n",
       "╞═══════════╪═══════════════════════╡\n",
       "│ null      ┆ 11.436393             │\n",
       "├╌╌╌╌╌╌╌╌╌╌╌┼╌╌╌╌╌╌╌╌╌╌╌╌╌╌╌╌╌╌╌╌╌╌╌┤\n",
       "│ high      ┆ 10.042172             │\n",
       "├╌╌╌╌╌╌╌╌╌╌╌┼╌╌╌╌╌╌╌╌╌╌╌╌╌╌╌╌╌╌╌╌╌╌╌┤\n",
       "│ very high ┆ 9.907722              │\n",
       "├╌╌╌╌╌╌╌╌╌╌╌┼╌╌╌╌╌╌╌╌╌╌╌╌╌╌╌╌╌╌╌╌╌╌╌┤\n",
       "│ normal    ┆ 9.703288              │\n",
       "└───────────┴───────────────────────┘"
      ]
     },
     "execution_count": 224,
     "metadata": {},
     "output_type": "execute_result"
    }
   ],
   "source": [
    "# percentages of those readmitted within a month of initial hospital visit by A1C result group\n",
    "ret = rdf.groupby(pl.col(\"A1Cresult\")).agg(\n",
    "    [\n",
    "        (\n",
    "            pl.col(\"readmitted\").str.count_match(\"short-term\").sum()\n",
    "            / pl.col(\"readmitted\").count()\n",
    "            * 100\n",
    "        ).alias(\"short-term readmitted\")\n",
    "    ]\n",
    ")\n",
    "ret.sort(pl.col(\"short-term readmitted\"), reverse=True).collect().fetch()"
   ]
  },
  {
   "cell_type": "code",
   "execution_count": 225,
   "metadata": {
    "colab": {
     "base_uri": "https://localhost:8080/",
     "height": 203
    },
    "id": "Y2avSj5hrZRE",
    "outputId": "cd7423ec-1a6a-4fd0-adfc-5b3b74338a5b"
   },
   "outputs": [
    {
     "data": {
      "text/html": [
       "<div>\n",
       "<style scoped>\n",
       "    .dataframe tbody tr th:only-of-type {\n",
       "        vertical-align: middle;\n",
       "    }\n",
       "\n",
       "    .dataframe tbody tr th {\n",
       "        vertical-align: top;\n",
       "    }\n",
       "\n",
       "    .dataframe thead th {\n",
       "        text-align: right;\n",
       "    }\n",
       "\n",
       "    .dataframe td {\n",
       "        white-space: pre;\n",
       "    }\n",
       "\n",
       "    .dataframe td {\n",
       "        padding-top: 0;\n",
       "    }\n",
       "\n",
       "    .dataframe td {\n",
       "        padding-bottom: 0;\n",
       "    }\n",
       "\n",
       "    .dataframe td {\n",
       "        line-height: 95%;\n",
       "    }\n",
       "</style>\n",
       "<table border=\"1\" class=\"dataframe\" >\n",
       "<small>shape: (4, 2)</small>\n",
       "<thead>\n",
       "<tr>\n",
       "<th>\n",
       "A1Cresult\n",
       "</th>\n",
       "<th>\n",
       "long-term readmitted\n",
       "</th>\n",
       "</tr>\n",
       "<tr>\n",
       "<td>\n",
       "str\n",
       "</td>\n",
       "<td>\n",
       "f64\n",
       "</td>\n",
       "</tr>\n",
       "</thead>\n",
       "<tbody>\n",
       "<tr>\n",
       "<td>\n",
       "&quot;very high&quot;\n",
       "</td>\n",
       "<td>\n",
       "35.271977\n",
       "</td>\n",
       "</tr>\n",
       "<tr>\n",
       "<td>\n",
       "null\n",
       "</td>\n",
       "<td>\n",
       "35.085608\n",
       "</td>\n",
       "</tr>\n",
       "<tr>\n",
       "<td>\n",
       "&quot;high&quot;\n",
       "</td>\n",
       "<td>\n",
       "34.106484\n",
       "</td>\n",
       "</tr>\n",
       "<tr>\n",
       "<td>\n",
       "&quot;normal&quot;\n",
       "</td>\n",
       "<td>\n",
       "31.996792\n",
       "</td>\n",
       "</tr>\n",
       "</tbody>\n",
       "</table>\n",
       "</div>"
      ],
      "text/plain": [
       "shape: (4, 2)\n",
       "┌───────────┬──────────────────────┐\n",
       "│ A1Cresult ┆ long-term readmitted │\n",
       "│ ---       ┆ ---                  │\n",
       "│ str       ┆ f64                  │\n",
       "╞═══════════╪══════════════════════╡\n",
       "│ very high ┆ 35.271977            │\n",
       "├╌╌╌╌╌╌╌╌╌╌╌┼╌╌╌╌╌╌╌╌╌╌╌╌╌╌╌╌╌╌╌╌╌╌┤\n",
       "│ null      ┆ 35.085608            │\n",
       "├╌╌╌╌╌╌╌╌╌╌╌┼╌╌╌╌╌╌╌╌╌╌╌╌╌╌╌╌╌╌╌╌╌╌┤\n",
       "│ high      ┆ 34.106484            │\n",
       "├╌╌╌╌╌╌╌╌╌╌╌┼╌╌╌╌╌╌╌╌╌╌╌╌╌╌╌╌╌╌╌╌╌╌┤\n",
       "│ normal    ┆ 31.996792            │\n",
       "└───────────┴──────────────────────┘"
      ]
     },
     "execution_count": 225,
     "metadata": {},
     "output_type": "execute_result"
    }
   ],
   "source": [
    "# percentages of those readmitted in the long-term by A1C result group\n",
    "\n",
    "ret = rdf.groupby(pl.col(\"A1Cresult\")).agg(\n",
    "    [\n",
    "        (\n",
    "            pl.col(\"readmitted\").str.count_match(\"long-term\").sum()\n",
    "            / pl.col(\"readmitted\").count()\n",
    "            * 100\n",
    "        ).alias(\"long-term readmitted\")\n",
    "    ]\n",
    ")\n",
    "ret.sort(pl.col(\"long-term readmitted\"), reverse=True).collect().fetch()"
   ]
  },
  {
   "cell_type": "markdown",
   "metadata": {
    "id": "HmsKOU2bqz6F"
   },
   "source": [
    "We see that patients who did not have their A1C level taken are the most likely to be readmitted in the short-term and almost as likely as their \"very high\" counterparts to be readmitted in the long-term. This suggests that taking patients' A1C levels can help encourage doctors to make changes in medication, which may be a factor in a reduction in hospital readmissions."
   ]
  },
  {
   "cell_type": "markdown",
   "metadata": {
    "id": "TjaMlnbQIWcJ"
   },
   "source": [
    "### Dosage increases and decreases as factors on overall readmission"
   ]
  },
  {
   "cell_type": "markdown",
   "metadata": {
    "id": "4dzRa_RN2_Oq"
   },
   "source": [
    "We will now investigate the likelihood of increases or decreases of specific medications leading to short-term patient readmission.\n",
    "\n",
    "Let's start by getting a list of the medications we want to look at. We will these lists down to drugs with more than 20 results to remove any medication with only a handful of results."
   ]
  },
  {
   "cell_type": "code",
   "execution_count": 226,
   "metadata": {
    "colab": {
     "base_uri": "https://localhost:8080/"
    },
    "id": "eBulsGoG3Z5I",
    "outputId": "9ccbd70d-809d-43f1-9aae-4b41592b2232"
   },
   "outputs": [
    {
     "data": {
      "text/plain": [
       "['metformin',\n",
       " 'repaglinide',\n",
       " 'nateglinide',\n",
       " 'glimepiride',\n",
       " 'glipizide',\n",
       " 'glyburide',\n",
       " 'pioglitazone',\n",
       " 'rosiglitazone',\n",
       " 'insulin']"
      ]
     },
     "execution_count": 226,
     "metadata": {},
     "output_type": "execute_result"
    }
   ],
   "source": [
    "# list of all medications in study\n",
    "all_meds = [\n",
    "    \"metformin\",\n",
    "    \"repaglinide\",\n",
    "    \"nateglinide\",\n",
    "    \"chlorpropamide\",\n",
    "    \"glimepiride\",\n",
    "    \"acetohexamide\",\n",
    "    \"glipizide\",\n",
    "    \"glyburide\",\n",
    "    \"tolbutamide\",\n",
    "    \"pioglitazone\",\n",
    "    \"rosiglitazone\",\n",
    "    \"acarbose\",\n",
    "    \"miglitol\",\n",
    "    \"troglitazone\",\n",
    "    \"tolazamide\",\n",
    "    \"examide\",\n",
    "    \"citoglipton\",\n",
    "    \"insulin\",\n",
    "    \"glyburide-metformin\",\n",
    "    \"glipizide-metformin\",\n",
    "    \"glimepiride-pioglitazone\",\n",
    "    \"metformin-rosiglitazone\",\n",
    "    \"metformin-pioglitazone\",\n",
    "]\n",
    "\n",
    "# get the number of increased doses per medication and flip the output vertically\n",
    "increased_meds = rdf.select(\n",
    "    pl.col(x).str.count_match(\"Up\").sum() for x in all_meds\n",
    ").melt(variable_name=\"medication\", value_name=\"count\")\n",
    "\n",
    "# remove any medications that don't have at least 100 rows of data and get this result as a Polars dataframe\n",
    "increased_meds = increased_meds.filter(pl.col(\"count\") > 20).collect().fetch()\n",
    "\n",
    "# convert output to a list via Pandas API\n",
    "increased_meds = increased_meds.to_pandas()[\"medication\"].tolist()\n",
    "increased_meds"
   ]
  },
  {
   "cell_type": "markdown",
   "metadata": {
    "id": "GFA1-rz29W0X"
   },
   "source": [
    "We now do exactly the same for decreased medications."
   ]
  },
  {
   "cell_type": "code",
   "execution_count": 227,
   "metadata": {
    "colab": {
     "base_uri": "https://localhost:8080/"
    },
    "id": "Ctt-Bg4f9dVH",
    "outputId": "5b122acc-26ea-483b-9008-79b121fab3ed"
   },
   "outputs": [
    {
     "data": {
      "text/plain": [
       "['metformin',\n",
       " 'repaglinide',\n",
       " 'glimepiride',\n",
       " 'glipizide',\n",
       " 'glyburide',\n",
       " 'pioglitazone',\n",
       " 'rosiglitazone',\n",
       " 'insulin']"
      ]
     },
     "execution_count": 227,
     "metadata": {},
     "output_type": "execute_result"
    }
   ],
   "source": [
    "# get the number of increased doses per medication and flip the output vertically\n",
    "decreased_meds = rdf.select(\n",
    "    pl.col(x).str.count_match(\"Down\").sum() for x in all_meds\n",
    ").melt(variable_name=\"medication\", value_name=\"count\")\n",
    "\n",
    "# remove any medications that don't have at least 100 rows of data and get this result as a Polars dataframe\n",
    "decreased_meds = decreased_meds.filter(pl.col(\"count\") > 20).collect().fetch()\n",
    "\n",
    "# convert output to a list via Pandas API\n",
    "decreased_meds = decreased_meds.to_pandas()[\"medication\"].tolist()\n",
    "decreased_meds"
   ]
  },
  {
   "cell_type": "markdown",
   "metadata": {
    "id": "Y_9as5FlqoZV"
   },
   "source": [
    "The next step is to loop over our list of `increased_meds` and get the percentage of patients who were readmitted to hospital within the following month after their dose of the drug was increased. We are able to use the `vstack` function to append each result for each drug into one table.\n",
    "\n",
    "We then simply add a column with the list of medicines in the same order and sort the list from highest to lowest."
   ]
  },
  {
   "cell_type": "code",
   "execution_count": 228,
   "metadata": {
    "colab": {
     "base_uri": "https://localhost:8080/",
     "height": 340
    },
    "id": "aEU6wEvYAhz6",
    "outputId": "e51f858a-8992-4944-fb4c-74834b950207"
   },
   "outputs": [
    {
     "data": {
      "text/html": [
       "<div>\n",
       "<style scoped>\n",
       "    .dataframe tbody tr th:only-of-type {\n",
       "        vertical-align: middle;\n",
       "    }\n",
       "\n",
       "    .dataframe tbody tr th {\n",
       "        vertical-align: top;\n",
       "    }\n",
       "\n",
       "    .dataframe thead th {\n",
       "        text-align: right;\n",
       "    }\n",
       "\n",
       "    .dataframe td {\n",
       "        white-space: pre;\n",
       "    }\n",
       "\n",
       "    .dataframe td {\n",
       "        padding-top: 0;\n",
       "    }\n",
       "\n",
       "    .dataframe td {\n",
       "        padding-bottom: 0;\n",
       "    }\n",
       "\n",
       "    .dataframe td {\n",
       "        line-height: 95%;\n",
       "    }\n",
       "</style>\n",
       "<table border=\"1\" class=\"dataframe\" >\n",
       "<small>shape: (9, 2)</small>\n",
       "<thead>\n",
       "<tr>\n",
       "<th>\n",
       "medication\n",
       "</th>\n",
       "<th>\n",
       "overall readmitted %\n",
       "</th>\n",
       "</tr>\n",
       "<tr>\n",
       "<td>\n",
       "str\n",
       "</td>\n",
       "<td>\n",
       "f64\n",
       "</td>\n",
       "</tr>\n",
       "</thead>\n",
       "<tbody>\n",
       "<tr>\n",
       "<td>\n",
       "&quot;rosiglitazone&quot;\n",
       "</td>\n",
       "<td>\n",
       "39.88764\n",
       "</td>\n",
       "</tr>\n",
       "<tr>\n",
       "<td>\n",
       "&quot;metformin&quot;\n",
       "</td>\n",
       "<td>\n",
       "40.76851\n",
       "</td>\n",
       "</tr>\n",
       "<tr>\n",
       "<td>\n",
       "&quot;glimepiride&quot;\n",
       "</td>\n",
       "<td>\n",
       "42.507645\n",
       "</td>\n",
       "</tr>\n",
       "<tr>\n",
       "<td>\n",
       "&quot;glyburide&quot;\n",
       "</td>\n",
       "<td>\n",
       "44.211823\n",
       "</td>\n",
       "</tr>\n",
       "<tr>\n",
       "<td>\n",
       "&quot;nateglinide&quot;\n",
       "</td>\n",
       "<td>\n",
       "45.833333\n",
       "</td>\n",
       "</tr>\n",
       "<tr>\n",
       "<td>\n",
       "&quot;repaglinide&quot;\n",
       "</td>\n",
       "<td>\n",
       "48.181818\n",
       "</td>\n",
       "</tr>\n",
       "<tr>\n",
       "<td>\n",
       "&quot;glipizide&quot;\n",
       "</td>\n",
       "<td>\n",
       "50.0\n",
       "</td>\n",
       "</tr>\n",
       "<tr>\n",
       "<td>\n",
       "&quot;insulin&quot;\n",
       "</td>\n",
       "<td>\n",
       "51.537646\n",
       "</td>\n",
       "</tr>\n",
       "<tr>\n",
       "<td>\n",
       "&quot;pioglitazone&quot;\n",
       "</td>\n",
       "<td>\n",
       "51.709402\n",
       "</td>\n",
       "</tr>\n",
       "</tbody>\n",
       "</table>\n",
       "</div>"
      ],
      "text/plain": [
       "shape: (9, 2)\n",
       "┌───────────────┬──────────────────────┐\n",
       "│ medication    ┆ overall readmitted % │\n",
       "│ ---           ┆ ---                  │\n",
       "│ str           ┆ f64                  │\n",
       "╞═══════════════╪══════════════════════╡\n",
       "│ rosiglitazone ┆ 39.88764             │\n",
       "├╌╌╌╌╌╌╌╌╌╌╌╌╌╌╌┼╌╌╌╌╌╌╌╌╌╌╌╌╌╌╌╌╌╌╌╌╌╌┤\n",
       "│ metformin     ┆ 40.76851             │\n",
       "├╌╌╌╌╌╌╌╌╌╌╌╌╌╌╌┼╌╌╌╌╌╌╌╌╌╌╌╌╌╌╌╌╌╌╌╌╌╌┤\n",
       "│ glimepiride   ┆ 42.507645            │\n",
       "├╌╌╌╌╌╌╌╌╌╌╌╌╌╌╌┼╌╌╌╌╌╌╌╌╌╌╌╌╌╌╌╌╌╌╌╌╌╌┤\n",
       "│ glyburide     ┆ 44.211823            │\n",
       "├╌╌╌╌╌╌╌╌╌╌╌╌╌╌╌┼╌╌╌╌╌╌╌╌╌╌╌╌╌╌╌╌╌╌╌╌╌╌┤\n",
       "│ ...           ┆ ...                  │\n",
       "├╌╌╌╌╌╌╌╌╌╌╌╌╌╌╌┼╌╌╌╌╌╌╌╌╌╌╌╌╌╌╌╌╌╌╌╌╌╌┤\n",
       "│ repaglinide   ┆ 48.181818            │\n",
       "├╌╌╌╌╌╌╌╌╌╌╌╌╌╌╌┼╌╌╌╌╌╌╌╌╌╌╌╌╌╌╌╌╌╌╌╌╌╌┤\n",
       "│ glipizide     ┆ 50.0                 │\n",
       "├╌╌╌╌╌╌╌╌╌╌╌╌╌╌╌┼╌╌╌╌╌╌╌╌╌╌╌╌╌╌╌╌╌╌╌╌╌╌┤\n",
       "│ insulin       ┆ 51.537646            │\n",
       "├╌╌╌╌╌╌╌╌╌╌╌╌╌╌╌┼╌╌╌╌╌╌╌╌╌╌╌╌╌╌╌╌╌╌╌╌╌╌┤\n",
       "│ pioglitazone  ┆ 51.709402            │\n",
       "└───────────────┴──────────────────────┘"
      ]
     },
     "execution_count": 228,
     "metadata": {},
     "output_type": "execute_result"
    }
   ],
   "source": [
    "# create a null table value for later use\n",
    "table = None\n",
    "\n",
    "# iterate over medications list\n",
    "for drugs in increased_meds:\n",
    "    # filter data down to cases where dosage increased\n",
    "    tmp = rdf.filter(pl.col(drugs) == \"Up\")\n",
    "    # get a RemoteLazyFrame of percentages of patients where each drug is increased were readmitted to hospital during study\n",
    "    percentages = tmp.select(\n",
    "        [\n",
    "            (\n",
    "                pl.col(\"is_readmitted\").sum() / pl.col(\"is_readmitted\").count() * 100\n",
    "            ).alias(\"overall readmitted %\"),\n",
    "        ]\n",
    "    )\n",
    "    # if first iteration, table and data_avilable are assigned percentages and row_count tables\n",
    "    if table == None:\n",
    "        table = percentages\n",
    "    # else we use vstack to add new row of percentages\n",
    "    else:\n",
    "        table = table.vstack(percentages)\n",
    "\n",
    "# convert table to Polars dataframe\n",
    "table = table.collect().fetch()\n",
    "\n",
    "# create and add new column with medication names\n",
    "new_col = pl.Series(\"medication\", increased_meds)\n",
    "table = table.with_columns([new_col])\n",
    "table.select([\"medication\", \"overall readmitted %\"]).sort(\n",
    "    pl.col(\"overall readmitted %\")\n",
    ")"
   ]
  },
  {
   "cell_type": "markdown",
   "metadata": {
    "id": "PtGj-w4OrU_5"
   },
   "source": [
    "This gives us significiant results that merit further exploration with a difference of around 14% between the likelihood of an increased dose of our lowest and highest placed drugs on the list leading to readmission within the course of the study.\n",
    "\n",
    "We can run the same query for a reduction in medication, again leading to significant results."
   ]
  },
  {
   "cell_type": "code",
   "execution_count": 229,
   "metadata": {
    "colab": {
     "base_uri": "https://localhost:8080/",
     "height": 312
    },
    "id": "nnGQB49dhwqE",
    "outputId": "f0f36f25-88fa-452a-a34e-6d65e2d981d2"
   },
   "outputs": [
    {
     "data": {
      "text/html": [
       "<div>\n",
       "<style scoped>\n",
       "    .dataframe tbody tr th:only-of-type {\n",
       "        vertical-align: middle;\n",
       "    }\n",
       "\n",
       "    .dataframe tbody tr th {\n",
       "        vertical-align: top;\n",
       "    }\n",
       "\n",
       "    .dataframe thead th {\n",
       "        text-align: right;\n",
       "    }\n",
       "\n",
       "    .dataframe td {\n",
       "        white-space: pre;\n",
       "    }\n",
       "\n",
       "    .dataframe td {\n",
       "        padding-top: 0;\n",
       "    }\n",
       "\n",
       "    .dataframe td {\n",
       "        padding-bottom: 0;\n",
       "    }\n",
       "\n",
       "    .dataframe td {\n",
       "        line-height: 95%;\n",
       "    }\n",
       "</style>\n",
       "<table border=\"1\" class=\"dataframe\" >\n",
       "<small>shape: (8, 2)</small>\n",
       "<thead>\n",
       "<tr>\n",
       "<th>\n",
       "medication\n",
       "</th>\n",
       "<th>\n",
       "overall readmitted %\n",
       "</th>\n",
       "</tr>\n",
       "<tr>\n",
       "<td>\n",
       "str\n",
       "</td>\n",
       "<td>\n",
       "f64\n",
       "</td>\n",
       "</tr>\n",
       "</thead>\n",
       "<tbody>\n",
       "<tr>\n",
       "<td>\n",
       "&quot;rosiglitazone&quot;\n",
       "</td>\n",
       "<td>\n",
       "31.034483\n",
       "</td>\n",
       "</tr>\n",
       "<tr>\n",
       "<td>\n",
       "&quot;metformin&quot;\n",
       "</td>\n",
       "<td>\n",
       "45.043478\n",
       "</td>\n",
       "</tr>\n",
       "<tr>\n",
       "<td>\n",
       "&quot;glimepiride&quot;\n",
       "</td>\n",
       "<td>\n",
       "47.938144\n",
       "</td>\n",
       "</tr>\n",
       "<tr>\n",
       "<td>\n",
       "&quot;glyburide&quot;\n",
       "</td>\n",
       "<td>\n",
       "48.758865\n",
       "</td>\n",
       "</tr>\n",
       "<tr>\n",
       "<td>\n",
       "&quot;repaglinide&quot;\n",
       "</td>\n",
       "<td>\n",
       "48.888889\n",
       "</td>\n",
       "</tr>\n",
       "<tr>\n",
       "<td>\n",
       "&quot;insulin&quot;\n",
       "</td>\n",
       "<td>\n",
       "52.790964\n",
       "</td>\n",
       "</tr>\n",
       "<tr>\n",
       "<td>\n",
       "&quot;glipizide&quot;\n",
       "</td>\n",
       "<td>\n",
       "52.857143\n",
       "</td>\n",
       "</tr>\n",
       "<tr>\n",
       "<td>\n",
       "&quot;pioglitazone&quot;\n",
       "</td>\n",
       "<td>\n",
       "53.389831\n",
       "</td>\n",
       "</tr>\n",
       "</tbody>\n",
       "</table>\n",
       "</div>"
      ],
      "text/plain": [
       "shape: (8, 2)\n",
       "┌───────────────┬──────────────────────┐\n",
       "│ medication    ┆ overall readmitted % │\n",
       "│ ---           ┆ ---                  │\n",
       "│ str           ┆ f64                  │\n",
       "╞═══════════════╪══════════════════════╡\n",
       "│ rosiglitazone ┆ 31.034483            │\n",
       "├╌╌╌╌╌╌╌╌╌╌╌╌╌╌╌┼╌╌╌╌╌╌╌╌╌╌╌╌╌╌╌╌╌╌╌╌╌╌┤\n",
       "│ metformin     ┆ 45.043478            │\n",
       "├╌╌╌╌╌╌╌╌╌╌╌╌╌╌╌┼╌╌╌╌╌╌╌╌╌╌╌╌╌╌╌╌╌╌╌╌╌╌┤\n",
       "│ glimepiride   ┆ 47.938144            │\n",
       "├╌╌╌╌╌╌╌╌╌╌╌╌╌╌╌┼╌╌╌╌╌╌╌╌╌╌╌╌╌╌╌╌╌╌╌╌╌╌┤\n",
       "│ glyburide     ┆ 48.758865            │\n",
       "├╌╌╌╌╌╌╌╌╌╌╌╌╌╌╌┼╌╌╌╌╌╌╌╌╌╌╌╌╌╌╌╌╌╌╌╌╌╌┤\n",
       "│ repaglinide   ┆ 48.888889            │\n",
       "├╌╌╌╌╌╌╌╌╌╌╌╌╌╌╌┼╌╌╌╌╌╌╌╌╌╌╌╌╌╌╌╌╌╌╌╌╌╌┤\n",
       "│ insulin       ┆ 52.790964            │\n",
       "├╌╌╌╌╌╌╌╌╌╌╌╌╌╌╌┼╌╌╌╌╌╌╌╌╌╌╌╌╌╌╌╌╌╌╌╌╌╌┤\n",
       "│ glipizide     ┆ 52.857143            │\n",
       "├╌╌╌╌╌╌╌╌╌╌╌╌╌╌╌┼╌╌╌╌╌╌╌╌╌╌╌╌╌╌╌╌╌╌╌╌╌╌┤\n",
       "│ pioglitazone  ┆ 53.389831            │\n",
       "└───────────────┴──────────────────────┘"
      ]
     },
     "execution_count": 229,
     "metadata": {},
     "output_type": "execute_result"
    }
   ],
   "source": [
    "# create a null table value for later use\n",
    "table = None\n",
    "\n",
    "# iterate over medications list\n",
    "for drugs in decreased_meds:\n",
    "    # filter data down to cases where dosage increased\n",
    "    tmp = rdf.filter(pl.col(drugs) == \"Down\")\n",
    "    # get a RemoteLazyFrame of percentages of patients where each drug is increased were readmitted to hospital during study\n",
    "    percentages = tmp.select(\n",
    "        [\n",
    "            (\n",
    "                pl.col(\"is_readmitted\").sum() / pl.col(\"is_readmitted\").count() * 100\n",
    "            ).alias(\"overall readmitted %\"),\n",
    "        ]\n",
    "    )\n",
    "    # if first iteration, table and data_avilable are assigned percentages and row_count tables\n",
    "    if table == None:\n",
    "        table = percentages\n",
    "    # else we use vstack to add new row of percentages\n",
    "    else:\n",
    "        table = table.vstack(percentages)\n",
    "\n",
    "table = table.collect().fetch()\n",
    "new_col = pl.Series(\"medication\", decreased_meds)\n",
    "table = table.with_columns([new_col])\n",
    "table.select([\"medication\", \"overall readmitted %\"]).sort(\n",
    "    pl.col(\"overall readmitted %\")\n",
    ")"
   ]
  },
  {
   "cell_type": "markdown",
   "metadata": {
    "id": "DuMXzt7zIHp3"
   },
   "source": [
    "We see that the first four drugs (rosiglitazone, metformin, glimepiride and glyburide) and last four drugs (repaglinide, insulin, glipizide and pioglitazone) in each list are the same, which could suggest that they are more effective overall treatments, regardless of whether they are increased or decreased. \n",
    "\n",
    "However, this could also be explained by these medications being prescribed for milder diabetes or these being the go-to drugs, aka. the bottom four drugs are only prescribed when patients are not responding well to medication. This would need to be considered by the client."
   ]
  },
  {
   "cell_type": "markdown",
   "metadata": {
    "id": "cSU9X1fDvvZQ"
   },
   "source": [
    "### Conclusions\n",
    "\n",
    "This brings us to the end of our data exploration. We gained meaningful insights:\n",
    "\n",
    "    - 20-30 year olds are the most at-risk age group of short-term hospital readmission and emergency visits.\n",
    "    \n",
    "    - The number of hospital admissions per age group increases with age.\n",
    "\n",
    "    - Taking patients' A1C levels may encourage doctors to make changes in medication.\n",
    "    \n",
    "    - Not taking patients' A1C levels may increase the likelihood of hospital readmissions.\n",
    "\n",
    "    - Regardless of dosage increases or decreases, the following medications appear most effective at reducing hospital readmissions: rosiglitazone, metformin, glimepiride and glyburide.\n",
    "\n",
    "    - Regardless of dosage increases or decreases, the following medications appear less effective at reducing hospital readmissions: repaglinide, insulin, glipizide and pioglitazone.\n",
    "\n",
    "\n",
    "This is a rich dataset with many avenues to explore, so feel free to continue exploring!\n",
    "\n",
    "However in our case, that's all we've got time for! Let's close our connection and stop the server. \n",
    "\n",
    "(Leave this next block commented if you want to continue to run queries on the dataset instead!)\n"
   ]
  },
  {
   "cell_type": "code",
   "execution_count": 230,
   "metadata": {
    "id": "xROO5Oxzvev-"
   },
   "outputs": [],
   "source": [
    "# connection.close()\n",
    "# bastionlab_server.stop(srv)"
   ]
  }
 ],
 "metadata": {
  "colab": {
   "provenance": []
  },
  "kernelspec": {
   "display_name": "Python 3",
   "language": "python",
   "name": "python3"
  },
  "language_info": {
   "codemirror_mode": {
    "name": "ipython",
    "version": 3
   },
   "file_extension": ".py",
   "mimetype": "text/x-python",
   "name": "python",
   "nbconvert_exporter": "python",
   "pygments_lexer": "ipython3",
   "version": "3.8.10"
  },
  "orig_nbformat": 4,
  "vscode": {
   "interpreter": {
    "hash": "916dbcbb3f70747c44a77c7bcd40155683ae19c65e1c03b4aa3499c5328201f1"
   }
  }
 },
 "nbformat": 4,
 "nbformat_minor": 0
}
