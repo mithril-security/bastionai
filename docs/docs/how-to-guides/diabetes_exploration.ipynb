{
 "cells": [
  {
   "attachments": {},
   "cell_type": "markdown",
   "metadata": {
    "id": "jdvo0Bjb_G1c"
   },
   "source": [
    "<div id=\"colab_button\">\n",
    "<h1>Explore a dataset of diabetes hospital admissions </h1>\n",
    "<a target=\"_blank\" href=\"https://colab.research.google.com/github/mithril-security/bastionlab/blob/v0.3.7/docs/docs/how-to-guides/diabetes_exploration.ipynb\"> \n",
    "<img src=\"https://colab.research.google.com/assets/colab-badge.svg\" alt=\"Open In Colab\"/></a>\n",
    "</div>\n",
    "______________________________________________________\n",
    "\n",
    "Despite major recent technological breakthroughs in cybersecurity and privacy, secure off-premises data science collaboration has remained out of reach. This is a major problem for the health sector which has so much to gain from the power of data but so much at risk when it comes to patients' highly sensitive records.\n",
    "\n",
    "BastionLab's goal is to make this issue disappear so that remote data science collaborations can happen safely in the medical industry. Its framework lets data owners set a strict access policies on datasets for collaborators and enforces that data scientists can explore or train ML models while never accessing the raw data.\n",
    "\n",
    "In this guide, we will explore a dataset of diabetic patients admitted to hospital in the US over a ten year period. Diabetes is a disease that affects over 10% of the US population and can lead to serious health complications. The dataset contains 51 columns of data, including readmission to hospital, changes to medication and primary, secondary and terciary patient diagnoses.\n",
    "\n",
    "First, we will see how the data owner can upload a dataset to BastionLab and how a data scientist can then connect to BastionLab and **clean the dataset**. Then we'll go on analysing it - showing it is possible to do normal data science work without accessing the data in clear.\n",
    "\n",
    "But before we can do that, let's get everything set up!\n",
    "\n",
    "## Pre-requisites\n",
    "___________________________________________\n",
    "\n",
    "### Installation and dataset\n",
    "\n",
    "In order to run this notebook, we need to:\n",
    "- Ensure we have [Python3.7](https://www.python.org/downloads/) (or greater) and [Python Pip](https://pypi.org/project/pip/) installed.\n",
    "- Install [BastionLab](https://bastionlab.readthedocs.io/en/latest/docs/getting-started/installation/) and the [BastionLab server](https://pypi.org/project/bastionlab-server/0.3.7/) pip packages. \n",
    "\n",
    "<div class=\"admonition important\">\n",
    "<p class=\"admonition-title\"><b>Important: Polars data science library</b></p>\n",
    "<p class=\"\">Among their dependencies is <a href=\"https://www.pola.rs/\"> Polars</a>, a <a href=\"https://pandas.pydata.org/\"> Pandas</a>-like data science library that we use with BastionLab. It works <a href=\"https://towardsdatascience.com/pandas-vs-polars-a-syntax-and-speed-comparison-5aa54e27497e#:~:text=Pandas%20is%20an%20essential%20Python,designed%20to%20process%20data%20faster\">nearly identically</a> to Pandas, but it <a href=\"https://bastionlab.readthedocs.io/en/latest/docs/advanced/benchmarks/polars_benchmarks/\">is much faster</a> <br></p>\n",
    "</div>\n",
    "\n",
    "- [Download the dataset](https://drive.google.com/file/d/1NPQoKKG3CdvXTNkHVNYhRQZ8GGiPNlvI/view?usp=share_link) we will be using in this notebook.\n",
    "\n",
    "You can download the BastionLab pip packages and the dataset by running the following code block.\n",
    "\n",
    ">To find out about other ways you can install and run BastionLab, see our [Installation page](https://bastionlab.readthedocs.io/en/latest/docs/getting-started/installation/)."
   ]
  },
  {
   "cell_type": "code",
   "execution_count": 1,
   "metadata": {
    "id": "hK-HDaMI_G1j"
   },
   "outputs": [
    {
     "name": "stdout",
     "output_type": "stream",
     "text": [
      "Requirement already satisfied: bastionlab in /home/laura/anaconda3/lib/python3.9/site-packages (0.3.7)\n",
      "Requirement already satisfied: pyarrow~=10.0 in /home/laura/anaconda3/lib/python3.9/site-packages (from bastionlab) (10.0.1)\n",
      "Requirement already satisfied: numpy~=1.21 in /home/laura/anaconda3/lib/python3.9/site-packages (from bastionlab) (1.24.2)\n",
      "Requirement already satisfied: seaborn~=0.12.0 in /home/laura/anaconda3/lib/python3.9/site-packages (from bastionlab) (0.12.2)\n",
      "Requirement already satisfied: six~=1.16.0 in /home/laura/anaconda3/lib/python3.9/site-packages (from bastionlab) (1.16.0)\n",
      "Requirement already satisfied: cryptography~=38.0 in /home/laura/anaconda3/lib/python3.9/site-packages (from bastionlab) (38.0.4)\n",
      "Requirement already satisfied: grpcio==1.47.0 in /home/laura/anaconda3/lib/python3.9/site-packages (from bastionlab) (1.47.0)\n",
      "Requirement already satisfied: pyserde~=0.9 in /home/laura/anaconda3/lib/python3.9/site-packages (from bastionlab) (0.9.8)\n",
      "Requirement already satisfied: colorama~=0.4.6 in /home/laura/anaconda3/lib/python3.9/site-packages (from bastionlab) (0.4.6)\n",
      "Requirement already satisfied: tokenizers==0.13.2 in /home/laura/anaconda3/lib/python3.9/site-packages (from bastionlab) (0.13.2)\n",
      "Requirement already satisfied: typing-extensions~=4.4 in /home/laura/anaconda3/lib/python3.9/site-packages (from bastionlab) (4.5.0)\n",
      "Requirement already satisfied: protobuf==3.20.2 in /home/laura/anaconda3/lib/python3.9/site-packages (from bastionlab) (3.20.2)\n",
      "Requirement already satisfied: grpcio-tools==1.47.0 in /home/laura/anaconda3/lib/python3.9/site-packages (from bastionlab) (1.47.0)\n",
      "Requirement already satisfied: torch==1.13.1 in /home/laura/anaconda3/lib/python3.9/site-packages (from bastionlab) (1.13.1)\n",
      "Requirement already satisfied: tqdm~=4.64 in /home/laura/anaconda3/lib/python3.9/site-packages (from bastionlab) (4.64.1)\n",
      "Requirement already satisfied: matplotlib==3.6.3 in /home/laura/anaconda3/lib/python3.9/site-packages (from bastionlab) (3.6.3)\n",
      "Requirement already satisfied: polars==0.14.24 in /home/laura/anaconda3/lib/python3.9/site-packages (from bastionlab) (0.14.24)\n",
      "Requirement already satisfied: setuptools in /home/laura/anaconda3/lib/python3.9/site-packages (from grpcio-tools==1.47.0->bastionlab) (67.3.3)\n",
      "Requirement already satisfied: contourpy>=1.0.1 in /home/laura/anaconda3/lib/python3.9/site-packages (from matplotlib==3.6.3->bastionlab) (1.0.7)\n",
      "Requirement already satisfied: cycler>=0.10 in /home/laura/anaconda3/lib/python3.9/site-packages (from matplotlib==3.6.3->bastionlab) (0.11.0)\n",
      "Requirement already satisfied: pillow>=6.2.0 in /home/laura/anaconda3/lib/python3.9/site-packages (from matplotlib==3.6.3->bastionlab) (9.4.0)\n",
      "Requirement already satisfied: kiwisolver>=1.0.1 in /home/laura/anaconda3/lib/python3.9/site-packages (from matplotlib==3.6.3->bastionlab) (1.4.4)\n",
      "Requirement already satisfied: pyparsing>=2.2.1 in /home/laura/anaconda3/lib/python3.9/site-packages (from matplotlib==3.6.3->bastionlab) (3.0.9)\n",
      "Requirement already satisfied: fonttools>=4.22.0 in /home/laura/anaconda3/lib/python3.9/site-packages (from matplotlib==3.6.3->bastionlab) (4.38.0)\n",
      "Requirement already satisfied: packaging>=20.0 in /home/laura/anaconda3/lib/python3.9/site-packages (from matplotlib==3.6.3->bastionlab) (23.0)\n",
      "Requirement already satisfied: python-dateutil>=2.7 in /home/laura/anaconda3/lib/python3.9/site-packages (from matplotlib==3.6.3->bastionlab) (2.8.2)\n",
      "Requirement already satisfied: nvidia-cuda-runtime-cu11==11.7.99 in /home/laura/anaconda3/lib/python3.9/site-packages (from torch==1.13.1->bastionlab) (11.7.99)\n",
      "Requirement already satisfied: nvidia-cublas-cu11==11.10.3.66 in /home/laura/anaconda3/lib/python3.9/site-packages (from torch==1.13.1->bastionlab) (11.10.3.66)\n",
      "Requirement already satisfied: nvidia-cuda-nvrtc-cu11==11.7.99 in /home/laura/anaconda3/lib/python3.9/site-packages (from torch==1.13.1->bastionlab) (11.7.99)\n",
      "Requirement already satisfied: nvidia-cudnn-cu11==8.5.0.96 in /home/laura/anaconda3/lib/python3.9/site-packages (from torch==1.13.1->bastionlab) (8.5.0.96)\n",
      "Requirement already satisfied: wheel in /home/laura/anaconda3/lib/python3.9/site-packages (from nvidia-cublas-cu11==11.10.3.66->torch==1.13.1->bastionlab) (0.38.4)\n",
      "Requirement already satisfied: cffi>=1.12 in /home/laura/anaconda3/lib/python3.9/site-packages (from cryptography~=38.0->bastionlab) (1.15.1)\n",
      "Requirement already satisfied: casefy in /home/laura/anaconda3/lib/python3.9/site-packages (from pyserde~=0.9->bastionlab) (0.1.7)\n",
      "Requirement already satisfied: typing_inspect>=0.4.0 in /home/laura/anaconda3/lib/python3.9/site-packages (from pyserde~=0.9->bastionlab) (0.8.0)\n",
      "Requirement already satisfied: jinja2 in /home/laura/anaconda3/lib/python3.9/site-packages (from pyserde~=0.9->bastionlab) (3.0.3)\n",
      "Requirement already satisfied: pandas>=0.25 in /home/laura/anaconda3/lib/python3.9/site-packages (from seaborn~=0.12.0->bastionlab) (1.5.3)\n",
      "Requirement already satisfied: pycparser in /home/laura/anaconda3/lib/python3.9/site-packages (from cffi>=1.12->cryptography~=38.0->bastionlab) (2.21)\n",
      "Requirement already satisfied: pytz>=2020.1 in /home/laura/anaconda3/lib/python3.9/site-packages (from pandas>=0.25->seaborn~=0.12.0->bastionlab) (2022.7.1)\n",
      "Requirement already satisfied: mypy-extensions>=0.3.0 in /home/laura/anaconda3/lib/python3.9/site-packages (from typing_inspect>=0.4.0->pyserde~=0.9->bastionlab) (0.4.3)\n",
      "Requirement already satisfied: MarkupSafe>=2.0 in /home/laura/anaconda3/lib/python3.9/site-packages (from jinja2->pyserde~=0.9->bastionlab) (2.0.1)\n",
      "Requirement already satisfied: bastionlab_server in /home/laura/anaconda3/lib/python3.9/site-packages (0.3.7)\n",
      "Requirement already satisfied: gdown in /home/laura/anaconda3/lib/python3.9/site-packages (4.6.4)\n",
      "Requirement already satisfied: filelock in /home/laura/anaconda3/lib/python3.9/site-packages (from gdown) (3.6.0)\n",
      "Requirement already satisfied: six in /home/laura/anaconda3/lib/python3.9/site-packages (from gdown) (1.16.0)\n",
      "Requirement already satisfied: requests[socks] in /home/laura/anaconda3/lib/python3.9/site-packages (from gdown) (2.28.1)\n",
      "Requirement already satisfied: beautifulsoup4 in /home/laura/anaconda3/lib/python3.9/site-packages (from gdown) (4.11.1)\n",
      "Requirement already satisfied: tqdm in /home/laura/anaconda3/lib/python3.9/site-packages (from gdown) (4.64.1)\n",
      "Requirement already satisfied: soupsieve>1.2 in /home/laura/anaconda3/lib/python3.9/site-packages (from beautifulsoup4->gdown) (2.3.1)\n",
      "Requirement already satisfied: charset-normalizer<3,>=2 in /home/laura/anaconda3/lib/python3.9/site-packages (from requests[socks]->gdown) (2.0.4)\n",
      "Requirement already satisfied: certifi>=2017.4.17 in /home/laura/anaconda3/lib/python3.9/site-packages (from requests[socks]->gdown) (2022.9.14)\n",
      "Requirement already satisfied: idna<4,>=2.5 in /home/laura/anaconda3/lib/python3.9/site-packages (from requests[socks]->gdown) (3.3)\n",
      "Requirement already satisfied: urllib3<1.27,>=1.21.1 in /home/laura/anaconda3/lib/python3.9/site-packages (from requests[socks]->gdown) (1.26.11)\n",
      "Requirement already satisfied: PySocks!=1.5.7,>=1.5.6 in /home/laura/anaconda3/lib/python3.9/site-packages (from requests[socks]->gdown) (1.7.1)\n",
      "Requirement already satisfied: gdown in /home/laura/anaconda3/lib/python3.9/site-packages (4.6.4)\n",
      "Requirement already satisfied: six in /home/laura/anaconda3/lib/python3.9/site-packages (from gdown) (1.16.0)\n",
      "Requirement already satisfied: requests[socks] in /home/laura/anaconda3/lib/python3.9/site-packages (from gdown) (2.28.1)\n",
      "Requirement already satisfied: beautifulsoup4 in /home/laura/anaconda3/lib/python3.9/site-packages (from gdown) (4.11.1)\n",
      "Requirement already satisfied: filelock in /home/laura/anaconda3/lib/python3.9/site-packages (from gdown) (3.6.0)\n",
      "Requirement already satisfied: tqdm in /home/laura/anaconda3/lib/python3.9/site-packages (from gdown) (4.64.1)\n",
      "Requirement already satisfied: soupsieve>1.2 in /home/laura/anaconda3/lib/python3.9/site-packages (from beautifulsoup4->gdown) (2.3.1)\n",
      "Requirement already satisfied: urllib3<1.27,>=1.21.1 in /home/laura/anaconda3/lib/python3.9/site-packages (from requests[socks]->gdown) (1.26.11)\n",
      "Requirement already satisfied: certifi>=2017.4.17 in /home/laura/anaconda3/lib/python3.9/site-packages (from requests[socks]->gdown) (2022.9.14)\n",
      "Requirement already satisfied: idna<4,>=2.5 in /home/laura/anaconda3/lib/python3.9/site-packages (from requests[socks]->gdown) (3.3)\n",
      "Requirement already satisfied: charset-normalizer<3,>=2 in /home/laura/anaconda3/lib/python3.9/site-packages (from requests[socks]->gdown) (2.0.4)\n",
      "Requirement already satisfied: PySocks!=1.5.7,>=1.5.6 in /home/laura/anaconda3/lib/python3.9/site-packages (from requests[socks]->gdown) (1.7.1)\n",
      "Downloading...\n",
      "From: https://drive.google.com/uc?id=1NPQoKKG3CdvXTNkHVNYhRQZ8GGiPNlvI\n",
      "To: /home/laura/bl4/docs/docs/how-to-guides/updated_diabetes_data.csv\n",
      "100%|██████████████████████████████████████| 17.8M/17.8M [00:00<00:00, 35.1MB/s]\n"
     ]
    }
   ],
   "source": [
    "# installing BastionLab client & server packages\n",
    "!pip install bastionlab\n",
    "!pip install bastionlab_server\n",
    "\n",
    "# dowloading the dataset using Google Drive tool gdown\n",
    "!pip install gdown\n",
    "!pip install --upgrade --no-cache-dir gdown\n",
    "!gdown \"1NPQoKKG3CdvXTNkHVNYhRQZ8GGiPNlvI\""
   ]
  },
  {
   "attachments": {},
   "cell_type": "markdown",
   "metadata": {
    "id": "NJ67chDB_G1l"
   },
   "source": [
    "The dataset we are using for this how-to guide is based on the Diabetes 130-US hospitals, for years 1999-2008. It contains 10 years of information on diabetes admissions from 130 US hospitals. It includes over 50 features representing patient and hospital outcomes.\n",
    "\n",
    ">For more detailed information on the dataset, you can check out the description and full dataset by following this [link](https://archive.ics.uci.edu/ml/datasets/diabetes+130-us+hospitals+for+years+1999-2008).\n",
    "\n",
    "This dataset had already been pre-processed before publication which stopped us from showing you some key data cleaning steps. We made a few modifications to replace some pre-grouped data columns with randomly populated data. You can check out exactly how we did this using the Polars data science library [here](https://colab.research.google.com/drive/174EJvK8u8mGGWb6ypLH9SKaeRnX-pEou?usp=share_link). "
   ]
  },
  {
   "attachments": {},
   "cell_type": "markdown",
   "metadata": {
    "id": "OjL01I5c_G1m"
   },
   "source": [
    "## Data owner setup\n",
    "___________________________________________\n",
    "\n",
    "### Launching the server\n",
    "\n",
    "Let's start by putting ourselves in the shoes of the data owner. \n",
    "\n",
    "First, we need to get the BastionLab server running.\n",
    "\n",
    "In production we recommend this is done using our Docker image, but for testing purposes you can use our `bastionlab_server` package, which removes the need for user authentication."
   ]
  },
  {
   "cell_type": "code",
   "execution_count": 2,
   "metadata": {
    "colab": {
     "base_uri": "https://localhost:8080/"
    },
    "id": "A85GsYOi_G1o",
    "outputId": "97b964bd-61b6-4cc6-e5e7-b9f2a2587bd7"
   },
   "outputs": [
    {
     "name": "stdout",
     "output_type": "stream",
     "text": [
      "BastionLab server (version 0.3.7) already installed\n",
      "Libtorch (version 1.13.1) already installed\n",
      "TLS certificates already generated\n",
      "Bastionlab server is now running on port 50056\n"
     ]
    }
   ],
   "source": [
    "# launch bastionlab_server test package\n",
    "import bastionlab_server\n",
    "\n",
    "srv = bastionlab_server.start()"
   ]
  },
  {
   "attachments": {},
   "cell_type": "markdown",
   "metadata": {
    "id": "IBWNyTnz_G1p"
   },
   "source": [
    ">*For more details on how you can set up the server using our Docker image, check out our [Installation Tutorial](../getting-started/installation.md).*\n",
    "\n",
    "### Connecting to the server\n",
    "\n",
    "Then we connect to the server to upload the dataset."
   ]
  },
  {
   "cell_type": "code",
   "execution_count": 3,
   "metadata": {
    "id": "6zzV7xrs_G1q"
   },
   "outputs": [],
   "source": [
    "# connecting to the server\n",
    "from bastionlab import Connection\n",
    "\n",
    "connection = Connection(\"localhost\")\n",
    "client = connection.client"
   ]
  },
  {
   "attachments": {},
   "cell_type": "markdown",
   "metadata": {
    "id": "K9DO7gVt_G1r"
   },
   "source": [
    "### Creating a custom privacy policy\n",
    "\n",
    "On to the fun parts!\n",
    "\n",
    "BastionLab's main feature is that it lets you create a [custom access policy](https://bastionlab.readthedocs.io/en/latest/docs/tutorials/defining_policy_privacy/) for the dataset. It will determine how much access collaborators will get, so it needs to be carefuly set up. \n",
    "\n",
    "For this guide, we create a policy with the following configuration:\n",
    "\n",
    "->  `Aggregation(min_agg_size=10):` Any data extracted from the dataset should be the result of an aggregation of at least ten rows.\n",
    "\n",
    "->  `unsafe_handling=Reject()`: Any attempted query which breaches this policy will be rejected by the server.\n",
    "\n",
    "->  `savable=True`: The data scientist can save changes made to the dataset in BastionLab. (This will create a new dataset. It will *not* overwrite the original dataset.)\n"
   ]
  },
  {
   "cell_type": "code",
   "execution_count": 4,
   "metadata": {
    "id": "mRJjgd1C_G1t"
   },
   "outputs": [
    {
     "name": "stderr",
     "output_type": "stream",
     "text": [
      "[2023-02-23T12:14:14Z INFO  bastionlab] Authentication is disabled.\n",
      "[2023-02-23T12:14:14Z INFO  bastionlab] Telemetry is enabled.\n",
      "[2023-02-23T12:14:14Z INFO  bastionlab] BastionLab server listening on 0.0.0.0:50056.\n",
      "[2023-02-23T12:14:14Z INFO  bastionlab] Server ready to take requests\n",
      "Error: transport error\n",
      "\n",
      "Caused by:\n",
      "    0: error creating server listener: Address already in use (os error 98)\n",
      "    1: Address already in use (os error 98)\n"
     ]
    }
   ],
   "source": [
    "from bastionlab.polars.policy import Policy, Aggregation, Reject\n",
    "\n",
    "# defining the dataset's privacy policy\n",
    "policy = Policy(Aggregation(min_agg_size=1), unsafe_handling=Reject(), savable=True)"
   ]
  },
  {
   "attachments": {},
   "cell_type": "markdown",
   "metadata": {
    "id": "Q7HHSM3e_G1v"
   },
   "source": [
    "### Uploading the dataset\n",
    "\n",
    "Now that the policy has been created, we can upload the dataset to the BastionLab server instance.\n",
    "\n",
    "We need to convert our CSV file into a Polars DataFrame by using the Polars `read_csv` function, supplying the path to the CSV file as a string argument.\n",
    "\n",
    "Next, we use BastionLab's `client.polars.send_df` to upload the dataframe with our custom policy.\n",
    "\n",
    "Finally, we save the FetchableLazyFrame using the `save` method with no arguments. We'll need to keep the FetchableLazyFrame's identifier, so we can share it with data scientists to help them remotely access the frame.\n",
    "\n",
    ">We need to save FetchableLazyFrames to avoid them being lost when the server is stopped and restarted or crashes."
   ]
  },
  {
   "cell_type": "code",
   "execution_count": 5,
   "metadata": {
    "colab": {
     "base_uri": "https://localhost:8080/"
    },
    "id": "lkMIl0ar_G1w",
    "outputId": "d8505f8e-5853-4adf-97f5-d6105db30761"
   },
   "outputs": [
    {
     "name": "stdout",
     "output_type": "stream",
     "text": [
      "fa9a68d1-891c-417e-aea6-44bb1dcbf777\n"
     ]
    }
   ],
   "source": [
    "import polars as pl\n",
    "\n",
    "# converting the dataset into a Polars dataframe\n",
    "df = pl.read_csv(\"updated_diabetes_data.csv\")\n",
    "\n",
    "# uploading the dataframe, the custom privacy policy\n",
    "# and the column we want to forbid to BastionLab's server\n",
    "rdf = client.polars.send_df(df, policy=policy)\n",
    "\n",
    "# saving the FetchableLazyFrame\n",
    "rdf.save()\n",
    "# get and print out a copy of the RDF identifier string\n",
    "ID = rdf.identifier\n",
    "print(ID)"
   ]
  },
  {
   "attachments": {},
   "cell_type": "markdown",
   "metadata": {
    "id": "ywAyp-2y_G1y"
   },
   "source": [
    "`send_df()` will return a FetchableLazyFrame instance, which we will work with directly from now on. \n",
    "\n",
    "<div class=\"admonition note\">\n",
    "<p class=\"admonition-title\"><b>Note: Frames in BastionLab</b></p>\n",
    "<p class=\"\">We talk about two types of LazyFrames in BastionLab: `RemoteLazyFrames` and `FetchableLazyFrames`. \n",
    "\n",
    "In BastionLab, when we run a query, it is not immediately executed. Like with Polar's <a href=\"https://pola-rs.github.io/polars/py-polars/html/reference/lazyframe/index.html\">LazyFrames</a>, pending queries are only executed when we call <code>collect</code>. <code>FetchableLazyFrames</code> are BastionLab's remote lazy frames when there are no pending queries to run, either because we have just uploaded or got the dataframe using <code>get_df</code> or because we have already ran <code>collect</code> after our latest query. To display these lazy frames we call the <code>fetch</code> method, which will verify that the data frame is safe to display, i.e. is it the result of a safe aggregated query as specified in the privacy policy.\n",
    "\n",
    "A <code>RemoteLazyFrame</code> is just a <code>FetchableLazyFrame</code> with pending queries still to run (as they have not yet been <code>collected</code>). When we call <code>collect()</code> these operations are run server-side and the result of this is our <code>FetchableLazyFrame</code>. <br></p>\n",
    "</div>\n"
   ]
  },
  {
   "attachments": {},
   "cell_type": "markdown",
   "metadata": {},
   "source": [
    "Let's complete the set up by testing what happens if we breach our security policy! We'll try to display an entire column from our dataset with the `collect().fetch()` methods. \n",
    "\n",
    ">*You can learn more about how to use both of those methods in [our quick tour](https://bastionlab.readthedocs.io/en/latest/docs/quick-tour/quick-tour/#running-queries).*"
   ]
  },
  {
   "cell_type": "code",
   "execution_count": 6,
   "metadata": {
    "colab": {
     "base_uri": "https://localhost:8080/"
    },
    "id": "C7j4vdDd_G10",
    "outputId": "7941b960-a0e4-4e9d-f0a4-13ef5c9ba296"
   },
   "outputs": [
    {
     "data": {
      "text/html": [
       "<div>\n",
       "<style scoped>\n",
       "    .dataframe tbody tr th:only-of-type {\n",
       "        vertical-align: middle;\n",
       "    }\n",
       "\n",
       "    .dataframe tbody tr th {\n",
       "        vertical-align: top;\n",
       "    }\n",
       "\n",
       "    .dataframe thead th {\n",
       "        text-align: right;\n",
       "    }\n",
       "\n",
       "    .dataframe td {\n",
       "        white-space: pre;\n",
       "    }\n",
       "\n",
       "    .dataframe td {\n",
       "        padding-top: 0;\n",
       "    }\n",
       "\n",
       "    .dataframe td {\n",
       "        padding-bottom: 0;\n",
       "    }\n",
       "</style>\n",
       "<table border=\"1\" class=\"dataframe\" >\n",
       "<small>shape: (101766, 1)</small>\n",
       "<thead>\n",
       "<tr>\n",
       "<th>\n",
       "age\n",
       "</th>\n",
       "</tr>\n",
       "<tr>\n",
       "<td>\n",
       "i64\n",
       "</td>\n",
       "</tr>\n",
       "</thead>\n",
       "<tbody>\n",
       "<tr>\n",
       "<td>\n",
       "8\n",
       "</td>\n",
       "</tr>\n",
       "<tr>\n",
       "<td>\n",
       "12\n",
       "</td>\n",
       "</tr>\n",
       "<tr>\n",
       "<td>\n",
       "26\n",
       "</td>\n",
       "</tr>\n",
       "<tr>\n",
       "<td>\n",
       "31\n",
       "</td>\n",
       "</tr>\n",
       "<tr>\n",
       "<td>\n",
       "46\n",
       "</td>\n",
       "</tr>\n",
       "<tr>\n",
       "<td>\n",
       "58\n",
       "</td>\n",
       "</tr>\n",
       "<tr>\n",
       "<td>\n",
       "65\n",
       "</td>\n",
       "</tr>\n",
       "<tr>\n",
       "<td>\n",
       "73\n",
       "</td>\n",
       "</tr>\n",
       "<tr>\n",
       "<td>\n",
       "85\n",
       "</td>\n",
       "</tr>\n",
       "<tr>\n",
       "<td>\n",
       "93\n",
       "</td>\n",
       "</tr>\n",
       "<tr>\n",
       "<td>\n",
       "47\n",
       "</td>\n",
       "</tr>\n",
       "<tr>\n",
       "<td>\n",
       "67\n",
       "</td>\n",
       "</tr>\n",
       "<tr>\n",
       "<td>\n",
       "...\n",
       "</td>\n",
       "</tr>\n",
       "<tr>\n",
       "<td>\n",
       "79\n",
       "</td>\n",
       "</tr>\n",
       "<tr>\n",
       "<td>\n",
       "45\n",
       "</td>\n",
       "</tr>\n",
       "<tr>\n",
       "<td>\n",
       "66\n",
       "</td>\n",
       "</tr>\n",
       "<tr>\n",
       "<td>\n",
       "75\n",
       "</td>\n",
       "</tr>\n",
       "<tr>\n",
       "<td>\n",
       "80\n",
       "</td>\n",
       "</tr>\n",
       "<tr>\n",
       "<td>\n",
       "88\n",
       "</td>\n",
       "</tr>\n",
       "<tr>\n",
       "<td>\n",
       "60\n",
       "</td>\n",
       "</tr>\n",
       "<tr>\n",
       "<td>\n",
       "76\n",
       "</td>\n",
       "</tr>\n",
       "<tr>\n",
       "<td>\n",
       "88\n",
       "</td>\n",
       "</tr>\n",
       "<tr>\n",
       "<td>\n",
       "75\n",
       "</td>\n",
       "</tr>\n",
       "<tr>\n",
       "<td>\n",
       "85\n",
       "</td>\n",
       "</tr>\n",
       "<tr>\n",
       "<td>\n",
       "79\n",
       "</td>\n",
       "</tr>\n",
       "</tbody>\n",
       "</table>\n",
       "</div>"
      ],
      "text/plain": [
       "shape: (101766, 1)\n",
       "┌─────┐\n",
       "│ age │\n",
       "│ --- │\n",
       "│ i64 │\n",
       "╞═════╡\n",
       "│ 8   │\n",
       "├╌╌╌╌╌┤\n",
       "│ 12  │\n",
       "├╌╌╌╌╌┤\n",
       "│ 26  │\n",
       "├╌╌╌╌╌┤\n",
       "│ 31  │\n",
       "├╌╌╌╌╌┤\n",
       "│ ... │\n",
       "├╌╌╌╌╌┤\n",
       "│ 88  │\n",
       "├╌╌╌╌╌┤\n",
       "│ 75  │\n",
       "├╌╌╌╌╌┤\n",
       "│ 85  │\n",
       "├╌╌╌╌╌┤\n",
       "│ 79  │\n",
       "└─────┘"
      ]
     },
     "execution_count": 6,
     "metadata": {},
     "output_type": "execute_result"
    }
   ],
   "source": [
    "rdf.select(\"age\").collect().fetch()"
   ]
  },
  {
   "attachments": {},
   "cell_type": "markdown",
   "metadata": {
    "id": "x1Zu2YQi_G11"
   },
   "source": [
    "Instead of getting back the results of our query, we see an error message: `The query has been rejected by the data owner.`\n",
    "\n",
    "We cannot view the output of the query because it does not aggregate at least 10 rows of data as specified in our privacy policy. It tries to print out individual rows instead!\n",
    "\n",
    "All is working, so now that the dataset has been uploaded, it's time for our data scientists to start their exploration... \n",
    "\n",
    "The data owner can now connection their connection to the server."
   ]
  },
  {
   "cell_type": "code",
   "execution_count": 7,
   "metadata": {
    "id": "mcM4pR6D_G11"
   },
   "outputs": [],
   "source": [
    "connection.close()"
   ]
  },
  {
   "attachments": {},
   "cell_type": "markdown",
   "metadata": {
    "id": "HJzNveFG_G13"
   },
   "source": [
    "## Data scientist setup\n",
    "__________________________________________\n",
    "\n",
    "### Connecting to the dataset\n",
    "\n",
    "We'll now jump into the role of the data scientist responsible for cleaning the dataset for this data analysis project.\n",
    "\n",
    "We (the data scientist) will first need to connect to the `bastion_lab` server and get a `FetchableLazyFrame` instance of the dataset. We'll use' the `get_df()` method and supply it with the id shared with us by the data owner.\n",
    "\n",
    "We store our FetchableLazyFrame in the `rdf` variable which we'll be working with from here on."
   ]
  },
  {
   "cell_type": "code",
   "execution_count": 8,
   "metadata": {
    "colab": {
     "base_uri": "https://localhost:8080/"
    },
    "id": "TT3mSjII_G13",
    "outputId": "4a463355-2753-40d6-ce62-a2c8fa30c63a"
   },
   "outputs": [
    {
     "data": {
      "text/plain": [
       "FetchableLazyFrame(identifier=fa9a68d1-891c-417e-aea6-44bb1dcbf777)"
      ]
     },
     "execution_count": 8,
     "metadata": {},
     "output_type": "execute_result"
    }
   ],
   "source": [
    "connection = Connection(\"localhost\")\n",
    "client = connection.client\n",
    "\n",
    "# selecting the FetchableLazyFrame(s) we'll be working with\n",
    "rdf = client.polars.get_df(ID)\n",
    "rdf"
   ]
  },
  {
   "cell_type": "markdown",
   "metadata": {
    "id": "AEFbeESX_G14"
   },
   "source": [
    "Let's display the dataset's columns to confirm we are connected to the correct one."
   ]
  },
  {
   "cell_type": "code",
   "execution_count": 9,
   "metadata": {
    "colab": {
     "base_uri": "https://localhost:8080/"
    },
    "id": "G-g8rOnj_G15",
    "outputId": "797dedc6-f4c5-4bb7-8830-3c2b8295fbbc"
   },
   "outputs": [
    {
     "name": "stdout",
     "output_type": "stream",
     "text": [
      "['encounter_id', 'patient_nbr', 'race', 'gender', 'age', 'weight', 'admission_type_id', 'discharge_disposition_id', 'admission_source_id', 'time_in_hospital', 'payer_code', 'medical_specialty', 'num_lab_procedures', 'num_procedures', 'num_medications', 'number_outpatient', 'number_emergency', 'number_inpatient', 'diag_1', 'diag_2', 'diag_3', 'number_diagnoses', 'max_glu_serum', 'A1Cresult', 'metformin', 'repaglinide', 'nateglinide', 'chlorpropamide', 'glimepiride', 'acetohexamide', 'glipizide', 'glyburide', 'tolbutamide', 'pioglitazone', 'rosiglitazone', 'acarbose', 'miglitol', 'troglitazone', 'tolazamide', 'examide', 'citoglipton', 'insulin', 'glyburide-metformin', 'glipizide-metformin', 'glimepiride-pioglitazone', 'metformin-rosiglitazone', 'metformin-pioglitazone', 'change', 'diabetesMed', 'readmitted']\n"
     ]
    }
   ],
   "source": [
    "print(rdf.columns)"
   ]
  },
  {
   "cell_type": "markdown",
   "metadata": {
    "id": "H55DTcKn_G15"
   },
   "source": [
    "Everything is as expected! We can now start our data exploration. "
   ]
  },
  {
   "attachments": {},
   "cell_type": "markdown",
   "metadata": {
    "id": "CQC7tfaF_G15"
   },
   "source": [
    "## Data cleaning\n",
    "__________________________________________\n",
    "\n",
    "\n",
    "### Dropping columns\n",
    "\n",
    "You may have noticed that this dataset contains *a lot* of columns! This is great as it it gives us a wide choice of correlations to explore. But we don't want to bore you to death with a 50 pages long tutorial, so we will not explore all of them in this analysis.\n",
    "\n",
    "So we'll drop the columns that we won't be using - either because they are irrelevant, or because they didn't lead us to the most interesting correlations.\n",
    "\n",
    "We can do this by using the `drop()` method and providing it with a list of the names of columns to be dropped. \n",
    "\n",
    ">This is a RemoteLazyFrame method which works the same as the [Polars drop()](https://pola-rs.github.io/polars/py-polars/html/reference/lazyframe/api/polars.LazyFrame.drop.html#polars.LazyFrame.drop) function."
   ]
  },
  {
   "cell_type": "code",
   "execution_count": 10,
   "metadata": {
    "id": "s0NI6rTqOKWN"
   },
   "outputs": [],
   "source": [
    "# list of column names we wish to remove from our RemoteLazyFrame\n",
    "to_drop = [\n",
    "    \"encounter_id\",\n",
    "    \"patient_nbr\",\n",
    "    \"weight\",\n",
    "    \"discharge_disposition_id\",\n",
    "    \"admission_source_id\",\n",
    "    \"time_in_hospital\",\n",
    "    \"payer_code\",\n",
    "    \"medical_specialty\",\n",
    "    \"num_lab_procedures\",\n",
    "    \"num_procedures\",\n",
    "    \"num_medications\",\n",
    "    \"number_outpatient\",\n",
    "    \"number_inpatient\",\n",
    "    \"number_diagnoses\",\n",
    "    \"diabetesMed\",\n",
    "    \"diag_1\",\n",
    "    \"diag_2\",\n",
    "    \"diag_3\",\n",
    "    \"max_glu_serum\",\n",
    "]\n",
    "\n",
    "# replace rdf with our updated RemoteLazyFrame with to_drop columns deleted\n",
    "rdf = rdf.drop(to_drop)"
   ]
  },
  {
   "attachments": {},
   "cell_type": "markdown",
   "metadata": {
    "id": "vabmc_jjOQCo"
   },
   "source": [
    "There are now 36 columns to work with intead of 51! This will make the RemoteLazyFrame a little easier to work with."
   ]
  },
  {
   "attachments": {},
   "cell_type": "markdown",
   "metadata": {
    "id": "7ausY-PC_G16"
   },
   "source": [
    "\n",
    "### Checking for null values\n",
    "\n",
    "Next step: assessing how many null values we have in each column. This will help us know if we have enough data to draw meaningful conclusions from each column. We can also fill or delete null values if relevant.\n",
    "\n",
    "In this particular case, the data owner shared with us a description of the dataset and we know that some column cells have been filled with `?` instead of being left blank.\n",
    "\n",
    "Before we can get an accurate picture of null values, we first need to replace all these `?` values with `null` values. We will do this by using [Polars `.when().then().otherwise()`](https://pola-rs.github.io/polars/py-polars/html/reference/expressions/api/polars.when.html) functions. \n",
    "\n",
    "One final hurdle is that we can only search and replace `?` strings in columns with the `Utf8` (string) datatype - otherwise an error will be produced. This is why we'll grab `pl.Utf8` columns only before we apply our search and replace operation to these strings!\n"
   ]
  },
  {
   "cell_type": "code",
   "execution_count": 11,
   "metadata": {
    "id": "F2KwhZB_fTC3"
   },
   "outputs": [],
   "source": [
    "# step one: getting a list of all Utf8/string columns\n",
    "selects = rdf.select(pl.col(pl.Utf8)).columns\n",
    "\n",
    "# step two: we replace all '?' cells in these columns with null values\n",
    "rdf = rdf.with_columns(\n",
    "    [\n",
    "        pl.when(pl.col(x) == \"?\").then(None).otherwise(pl.col(x)).keep_name()\n",
    "        for x in selects\n",
    "    ]\n",
    ")"
   ]
  },
  {
   "attachments": {},
   "cell_type": "markdown",
   "metadata": {
    "id": "c1Frpi9GUtdW"
   },
   "source": [
    "In step two, we used the `with_columns` function to add our new columns with `null` values, instead of `?` to `rdf`. By using the `keep_name` function, the columns keep their original name and replace the old ones in the dataset. "
   ]
  },
  {
   "attachments": {},
   "cell_type": "markdown",
   "metadata": {
    "id": "vMMX8JZnKitA"
   },
   "source": [
    "Finally, we can go ahead and calculate how many null values each column contains.\n",
    "\n",
    "We do this by iterating over all the columns and getting a percentage of the `sum` of all the values that return `True` to the `is_null` function."
   ]
  },
  {
   "cell_type": "code",
   "execution_count": 12,
   "metadata": {
    "id": "SAqqUz6I_G16"
   },
   "outputs": [],
   "source": [
    "# getting every columns percentage of null values in the RemoteLazyFrame\n",
    "percent_missing = rdf.select(\n",
    "    [\n",
    "        pl.all().is_null().sum() * 100 / pl.all().count(),\n",
    "    ]\n",
    ")"
   ]
  },
  {
   "attachments": {},
   "cell_type": "markdown",
   "metadata": {
    "id": "3uMcNqVZWhdN"
   },
   "source": [
    "We can then view the percentage of null values in each column of our dataset as a two-column table. We'll use [Polars `melt()`](https://pola-rs.github.io/polars/py-polars/html/reference/dataframe/api/polars.DataFrame.melt.html) function to flip the query results from a '2 row / 5 column' table, to a '2 column / 5 row' table. We use the `sort()` function to show the columns in order from the column with the highest percentage of null values to the lowest.\n",
    "\n",
    "Then we print our the table excluding any results where the percentage of null values is `0%`, since these results are not of interest to us."
   ]
  },
  {
   "cell_type": "code",
   "execution_count": 13,
   "metadata": {
    "colab": {
     "base_uri": "https://localhost:8080/",
     "height": 285
    },
    "id": "Pzz5qvSJWd2V",
    "outputId": "d0316533-6304-4dce-8357-e0caa0d897da"
   },
   "outputs": [
    {
     "data": {
      "text/html": [
       "<div>\n",
       "<style scoped>\n",
       "    .dataframe tbody tr th:only-of-type {\n",
       "        vertical-align: middle;\n",
       "    }\n",
       "\n",
       "    .dataframe tbody tr th {\n",
       "        vertical-align: top;\n",
       "    }\n",
       "\n",
       "    .dataframe thead th {\n",
       "        text-align: right;\n",
       "    }\n",
       "\n",
       "    .dataframe td {\n",
       "        white-space: pre;\n",
       "    }\n",
       "\n",
       "    .dataframe td {\n",
       "        padding-top: 0;\n",
       "    }\n",
       "\n",
       "    .dataframe td {\n",
       "        padding-bottom: 0;\n",
       "    }\n",
       "</style>\n",
       "<table border=\"1\" class=\"dataframe\" >\n",
       "<small>shape: (3, 2)</small>\n",
       "<thead>\n",
       "<tr>\n",
       "<th>\n",
       "column name\n",
       "</th>\n",
       "<th>\n",
       "null values (%)\n",
       "</th>\n",
       "</tr>\n",
       "<tr>\n",
       "<td>\n",
       "str\n",
       "</td>\n",
       "<td>\n",
       "f64\n",
       "</td>\n",
       "</tr>\n",
       "</thead>\n",
       "<tbody>\n",
       "<tr>\n",
       "<td>\n",
       "&quot;A1Cresult&quot;\n",
       "</td>\n",
       "<td>\n",
       "83.277322\n",
       "</td>\n",
       "</tr>\n",
       "<tr>\n",
       "<td>\n",
       "&quot;readmitted&quot;\n",
       "</td>\n",
       "<td>\n",
       "53.911916\n",
       "</td>\n",
       "</tr>\n",
       "<tr>\n",
       "<td>\n",
       "&quot;race&quot;\n",
       "</td>\n",
       "<td>\n",
       "2.233555\n",
       "</td>\n",
       "</tr>\n",
       "</tbody>\n",
       "</table>\n",
       "</div>"
      ],
      "text/plain": [
       "shape: (3, 2)\n",
       "┌─────────────┬─────────────────┐\n",
       "│ column name ┆ null values (%) │\n",
       "│ ---         ┆ ---             │\n",
       "│ str         ┆ f64             │\n",
       "╞═════════════╪═════════════════╡\n",
       "│ A1Cresult   ┆ 83.277322       │\n",
       "├╌╌╌╌╌╌╌╌╌╌╌╌╌┼╌╌╌╌╌╌╌╌╌╌╌╌╌╌╌╌╌┤\n",
       "│ readmitted  ┆ 53.911916       │\n",
       "├╌╌╌╌╌╌╌╌╌╌╌╌╌┼╌╌╌╌╌╌╌╌╌╌╌╌╌╌╌╌╌┤\n",
       "│ race        ┆ 2.233555        │\n",
       "└─────────────┴─────────────────┘"
      ]
     },
     "execution_count": 13,
     "metadata": {},
     "output_type": "execute_result"
    }
   ],
   "source": [
    "# melt table to a two-column table with the column name 'column'\n",
    "# and corresponding percetage of null values 'null values', sort\n",
    "# in descending order and display\n",
    "percent_missing = percent_missing.melt(\n",
    "    variable_name=\"column name\",\n",
    "    value_name=\"null values (%)\",\n",
    ").sort(pl.col(\"null values (%)\"), reverse=True)\n",
    "\n",
    "# filter out columns with no null values and display\n",
    "percent_missing.filter(pl.col(\"null values (%)\") > 0).collect().fetch()"
   ]
  },
  {
   "attachments": {},
   "cell_type": "markdown",
   "metadata": {
    "id": "4n0jnBPyYLjf"
   },
   "source": [
    "BastionLab supports various strategies for removing or filling null values from our dataset, but in this case, we don't want to remove the null values from the dataset. We just want to be aware of the amount of null values in each column of our dataset so we can query accordingly."
   ]
  },
  {
   "attachments": {},
   "cell_type": "markdown",
   "metadata": {
    "id": "-WUugovwve2c"
   },
   "source": [
    "### Grouping data\n",
    "\n",
    "Grouping data is going to be the largest and most crucial task in this data cleaning job. \n",
    "\n",
    "This diabetes dataset has a lot of of wide-ranging numerical values. They need to be grouped so that our data analysts can gain meaningul insights from them."
   ]
  },
  {
   "attachments": {},
   "cell_type": "markdown",
   "metadata": {
    "id": "BvdGu7GmsZVu"
   },
   "source": [
    "#### A1C, max glucose levels and readmittance\n",
    "\n",
    "We want to group together data in another three other columns using Polars `.then().when().otherwise()` methods to replace values meeting certain criteria with a new value.\n",
    "\n",
    "The first two are **`A1Cresult`**, which contains patients' **HbA1c** level. We want to group these into `very high`, `high`and `normal` groups based on levels defined in our project brief.\n",
    "\n",
    "These columns are both currently string columns, so we will also need to convert them to float values in order to perform numerical comparisons on them."
   ]
  },
  {
   "cell_type": "code",
   "execution_count": 14,
   "metadata": {
    "id": "FgyrnPAlsZ0u"
   },
   "outputs": [],
   "source": [
    "# cast `A1Cresult` columns to float values\n",
    "rdf = rdf.with_columns(\n",
    "    [pl.col(\"A1Cresult\").cast(pl.Float64)]\n",
    ")\n",
    "\n",
    "# group values in `A1Cresult` column\n",
    "rdf = rdf.with_columns(\n",
    "    [\n",
    "        pl.when(pl.col(\"A1Cresult\") >= 8)\n",
    "        .then(\"very high\")\n",
    "        .when(pl.col(\"A1Cresult\") >= 7)\n",
    "        .then(\"high\")\n",
    "        .when(pl.col(\"A1Cresult\") >= 0)\n",
    "        .then(\"normal\")\n",
    "        .otherwise(pl.col(\"A1Cresult\"))\n",
    "        .keep_name()\n",
    "    ]\n",
    ")"
   ]
  },
  {
   "attachments": {},
   "cell_type": "markdown",
   "metadata": {
    "id": "Buu2nja5w6Db"
   },
   "source": [
    "The final column we want to group is the `readmitted` column which records the number of days before any further re-hospitalization linked to the patients' diabetic condition.\n",
    "\n",
    "We will group this column into `short-term` and `long-term` and `n/a` (not applicable) groups.\n",
    "\n",
    "In the same way as in the previous examples, we must first convert values in this column from strings to integer values."
   ]
  },
  {
   "cell_type": "code",
   "execution_count": 15,
   "metadata": {
    "id": "9cca9DhSw6We"
   },
   "outputs": [],
   "source": [
    "# cast readmitted column to integer values\n",
    "rdf = rdf.with_columns([pl.col(\"readmitted\").cast(pl.Int64)])\n",
    "\n",
    "# group values\n",
    "rdf = rdf.with_columns(\n",
    "    [\n",
    "        pl.when(pl.col(\"readmitted\") < 31)\n",
    "        .then(\"short-term\")\n",
    "        .when(pl.col(\"readmitted\") >= 31)\n",
    "        .then(\"long-term\")\n",
    "        .otherwise(\"n/a\")\n",
    "        .keep_name()\n",
    "    ]\n",
    ")"
   ]
  },
  {
   "attachments": {},
   "cell_type": "markdown",
   "metadata": {
    "id": "kuwxAGYBoOQJ"
   },
   "source": [
    "#### Binning ages\n",
    "The next grouping task we will perform is to group ages into intervals of 10 years. We do this both to increase data privacy and draw correlations linked to broader age groups more easily.\n",
    "\n",
    "We won't need to perform a `when().then().otherwise()` query here because BastionLab has its own `ApplyBins` tool.\n",
    "\n",
    "`ApplyBins` is a PyTorch module and the grouping of numbers takes place in its `forward` function. We can pass PyTorch modules to BastionLab's `apply_udf` function which will apply the `forward` function to any specified columns.\n",
    "\n",
    "All in all, we just need three steps to bin our age column data:\n",
    "\n",
    "1) We import `ApplyBins` from `bastionlab.polars.utils`.\n",
    "1) We instantiate the `ApplyBins` PyTorch module class with our bins interval.\n",
    "2) We use `apply_udf`, providing a list of the column we want to modify, and the PyTorch module `ApplyBins` that we wish to apply to these columns."
   ]
  },
  {
   "cell_type": "code",
   "execution_count": 16,
   "metadata": {
    "id": "2EC3smnWc06Q"
   },
   "outputs": [],
   "source": [
    "from bastionlab.polars.utils import ApplyBins\n",
    "\n",
    "# get an instance of ApplyBins module which will bin data into groups of 10\n",
    "model = ApplyBins(10)\n",
    "\n",
    "# apply bins to \"age\" column\n",
    "rdf = rdf.apply_udf([\"age\"], model)"
   ]
  },
  {
   "attachments": {},
   "cell_type": "markdown",
   "metadata": {
    "id": "1pOQYPYSsVns"
   },
   "source": [
    "> Note, you can create your own custom PyTorch modules and apply them to columns using `apply_udf`. This is BastionLab's way of allowing you to apply custom functions on datasets, while restricting what you can do for security reasons. Functionality like `lambda`, `map` and `apply` are blocked by BastionLab as they are too permissive and could be misused."
   ]
  },
  {
   "attachments": {},
   "cell_type": "markdown",
   "metadata": {
    "id": "gYRVmqTitckT"
   },
   "source": [
    "### Adding columns\n",
    "\n",
    "Up until this point we have been using the `.when().then().otherwise()` and `with_columns` methods to make changes to existing columns. But we can also provide a new column name to the `alias` method to create a new column.\n",
    "\n",
    "In the following example, we will create a `is_readmitted` column which will store `False` for all the `n/a` values in our original `readmitted` column, and `True` for any other values. This will allow us to quickly query whether certain groups of data have been readmitted or not."
   ]
  },
  {
   "cell_type": "code",
   "execution_count": 17,
   "metadata": {
    "id": "B2JGdBhmteAz"
   },
   "outputs": [],
   "source": [
    "rdf = rdf.with_columns(\n",
    "    [\n",
    "        pl.when(pl.col(\"readmitted\") == \"n/a\")\n",
    "        .then(False)\n",
    "        .otherwise(True)\n",
    "        .alias(\n",
    "            \"is_readmitted\"\n",
    "        )  # ending the .when().then().otherwise() pattern with .alias() allows us to provide a new column name\n",
    "    ]\n",
    ")"
   ]
  },
  {
   "attachments": {},
   "cell_type": "markdown",
   "metadata": {
    "id": "edoL2_uy_G19"
   },
   "source": [
    "### Converting column types\n",
    "\n",
    "We have already seen examples where we have explicity converted the datatype of our columns using the `cast` method. Here we will implicity convert the datatype by replacing the `yes` and `no` values in our `change` column (which represent whether a patient's medication has been changed) to a boolean `True` or `False` value. \n",
    "\n",
    "The datatype of this column will be changed automatically by this operation as we can see below."
   ]
  },
  {
   "cell_type": "code",
   "execution_count": 18,
   "metadata": {
    "colab": {
     "base_uri": "https://localhost:8080/"
    },
    "id": "fMhSrD8__G19",
    "outputId": "fb2c31c6-c60c-4d2e-e712-30f502d436b0"
   },
   "outputs": [
    {
     "data": {
      "text/plain": [
       "[polars.datatypes.Utf8]"
      ]
     },
     "execution_count": 18,
     "metadata": {},
     "output_type": "execute_result"
    }
   ],
   "source": [
    "# print out initial datatype of \"change\" column\n",
    "\n",
    "rdf.select(\"change\").dtypes"
   ]
  },
  {
   "cell_type": "code",
   "execution_count": 19,
   "metadata": {
    "colab": {
     "base_uri": "https://localhost:8080/"
    },
    "id": "hYWJ9FB70mcM",
    "outputId": "f9ebdad2-98f9-4216-d931-0c868d11a9ab"
   },
   "outputs": [
    {
     "data": {
      "text/plain": [
       "[polars.datatypes.Boolean]"
      ]
     },
     "execution_count": 19,
     "metadata": {},
     "output_type": "execute_result"
    }
   ],
   "source": [
    "# replaces Yes/No values with True/False\n",
    "rdf = rdf.with_columns(\n",
    "    [pl.when(pl.col(\"change\") == \"No\").then(False).otherwise(True).keep_name()]\n",
    ")\n",
    "\n",
    "# print out datatype of column post find and replace operation\n",
    "rdf.select(\"change\").dtypes"
   ]
  },
  {
   "attachments": {},
   "cell_type": "markdown",
   "metadata": {
    "id": "CYS-Mkl1tD8t"
   },
   "source": [
    "### Saving our RemoteLazyFrame and disconnecting\n",
    "\n",
    "Our dataframe is all clean and ready for the next step: data analysis and visualization. We, Data scientist #1, are going to be reassigned to another task. We will save our cleaned RemoteLazyFrame and make note of the identifier so we can share it with Data scientist #2.\n",
    "\n",
    "We need to perform `collect()` before saving or getting an identifier for our RemoteLazyFrame, because the `save` method and `identifier` attribute are only available for FetchableLazyFrames.\n",
    "\n",
    ">Note, the data owner must have set the `savable` option to `True` when uploading the dataframe for this operation to be possible! But here, we did so we won't run into an issue."
   ]
  },
  {
   "cell_type": "code",
   "execution_count": 20,
   "metadata": {
    "colab": {
     "base_uri": "https://localhost:8080/",
     "height": 35
    },
    "id": "DWu6ToX53bm9",
    "outputId": "8980b3c6-c49e-4180-a607-50db2cc9f0b1"
   },
   "outputs": [
    {
     "data": {
      "text/plain": [
       "'38676d2f-1eae-41af-b34a-7d4fa19a5f5e'"
      ]
     },
     "execution_count": 20,
     "metadata": {},
     "output_type": "execute_result"
    }
   ],
   "source": [
    "rdf.collect().save()\n",
    "saved_identifier = rdf.collect().identifier\n",
    "saved_identifier"
   ]
  },
  {
   "cell_type": "markdown",
   "metadata": {
    "id": "NgkiBinG6DJ2"
   },
   "source": [
    "They can now close their connection to the BastionLab server."
   ]
  },
  {
   "cell_type": "code",
   "execution_count": 21,
   "metadata": {
    "id": "qoiADM1W6OC_"
   },
   "outputs": [],
   "source": [
    "connection.close()"
   ]
  },
  {
   "attachments": {},
   "cell_type": "markdown",
   "metadata": {
    "id": "3Gvx_sK5ypgD"
   },
   "source": [
    "## Data analysis and visualization\n",
    "_________________________________________\n",
    "\n",
    "The dataset is clean and Data scientist #2 is now ready to begin their analysis. Just like Data scientist #1, they will first need to connect to the server and get the FetchableLazyFrame that was previously saved."
   ]
  },
  {
   "cell_type": "code",
   "execution_count": 22,
   "metadata": {
    "colab": {
     "base_uri": "https://localhost:8080/"
    },
    "id": "YXDgnPiayf-b",
    "outputId": "86ba51d8-ae36-4a55-ac36-9734ed1e0e9b"
   },
   "outputs": [
    {
     "data": {
      "text/plain": [
       "FetchableLazyFrame(identifier=38676d2f-1eae-41af-b34a-7d4fa19a5f5e)"
      ]
     },
     "execution_count": 22,
     "metadata": {},
     "output_type": "execute_result"
    }
   ],
   "source": [
    "# connecting to the server\n",
    "from bastionlab import Connection\n",
    "\n",
    "connection = Connection(\"localhost\")\n",
    "client = connection.client\n",
    "\n",
    "# get the previously saved dataframe\n",
    "rdf = client.polars.get_df(saved_identifier)\n",
    "rdf"
   ]
  },
  {
   "attachments": {},
   "cell_type": "markdown",
   "metadata": {
    "id": "z7-wG7DfzSyI"
   },
   "source": [
    "We'll confirm that the original privacy policy is still in place by running a non-aggreagted query that would violate the policy:"
   ]
  },
  {
   "cell_type": "code",
   "execution_count": 23,
   "metadata": {
    "colab": {
     "base_uri": "https://localhost:8080/"
    },
    "id": "X_cUUQwqzw4B",
    "outputId": "423254aa-caca-45d5-ec8b-81dee515e3bd"
   },
   "outputs": [
    {
     "name": "stdout",
     "output_type": "stream",
     "text": [
      "\u001b[31mThe query has been rejected by the data owner.\u001b[37m\n"
     ]
    }
   ],
   "source": [
    "rdf.select(pl.col(\"age\")).collect().fetch()"
   ]
  },
  {
   "attachments": {},
   "cell_type": "markdown",
   "metadata": {
    "id": "NfRexmoN0X9h"
   },
   "source": [
    "We are all set-up, so let's dive into the analysis.\n",
    "\n",
    "### Age as a factor in readmission and emergency trips\n",
    "\n",
    "Let's start by visualizing the number of patients who were readmitted to hospital for diabetes-related issues during the study.\n",
    "\n",
    "To do this we group data by `age` and aggregate the `sum` of those who were readmitted. We'll generate a barplot for this query."
   ]
  },
  {
   "cell_type": "code",
   "execution_count": 24,
   "metadata": {
    "colab": {
     "base_uri": "https://localhost:8080/",
     "height": 279
    },
    "id": "-5f35-7l_bUG",
    "outputId": "da47e386-065f-4b25-9029-43cad1e3e4fc"
   },
   "outputs": [
    {
     "data": {
      "image/png": "[encoded data removed]",
      "text/plain": [
       "<Figure size 640x480 with 1 Axes>"
      ]
     },
     "metadata": {},
     "output_type": "display_data"
    }
   ],
   "source": [
    "total_readmitted = rdf.groupby(\"age\").agg(\n",
    "    pl.col(\"is_readmitted\").sum().alias(\"total readmitted\")\n",
    ")\n",
    "total_readmitted.barplot(x=\"age\", y=\"total readmitted\")"
   ]
  },
  {
   "cell_type": "markdown",
   "metadata": {
    "id": "BdRDwT74BOrr"
   },
   "source": [
    "In terms of the number of readmissions, we see a clear trend: readmission cases increase with age, before dropping down in the 80-90 and 90-100 age groups. This could be due to increased mortality in these age ranges.\n",
    "\n",
    "If we take a look at the mean number of cases per age group using `histplot`, we see that it follows the same trend. But it shows that it may not represent a higher risk of readmission for older patients, rather a much increased number of diabetes patients in older age groups.\n",
    "\n",
    "***# LAST SENTENCE IS UNCLEAR. WHAT DO YOU MEAN?***"
   ]
  },
  {
   "cell_type": "code",
   "execution_count": 25,
   "metadata": {
    "colab": {
     "base_uri": "https://localhost:8080/",
     "height": 279
    },
    "id": "DBML4fIUAID2",
    "outputId": "e068d27f-95d9-4230-f8d3-ab4a42920fe3"
   },
   "outputs": [
    {
     "data": {
      "image/png": "[encoded data removed]",
      "text/plain": [
       "<Figure size 640x480 with 1 Axes>"
      ]
     },
     "metadata": {},
     "output_type": "display_data"
    }
   ],
   "source": [
    "rdf.histplot(x=\"age\")"
   ]
  },
  {
   "attachments": {},
   "cell_type": "markdown",
   "metadata": {
    "id": "xPFiho5eEKNT"
   },
   "source": [
    "If we zoom in on `short-term` and `long-term` readmittance individually and get the percentage of patients in these groups who are readmitted instead of the count, we get a rather different picture.\n",
    "\n",
    "***# SENTENCE IS TOO LONG. Maybe try to use more direct formulations and cut the sentences more so each one says one thing (2 tops)?***\n",
    "\n",
    "To get these percentage values, we divide the total number of short-term or long-term values in the readmitted column by the total values in this column.\n",
    "\n",
    "To get the total short-term or long-term values, we use the str.count_match function to fill the readmitted column with True (1) values where the contents of the cell are short-term or long-term respectively and False (0) for any other values. We can use the sum function to count up all of these True values.\n",
    "\n",
    "To get the total values in the readmitted column, we select the column and use count() function.\n",
    "\n",
    "We can then set the column name to whatever we like using the alias function."
   ]
  },
  {
   "cell_type": "code",
   "execution_count": 26,
   "metadata": {
    "colab": {
     "base_uri": "https://localhost:8080/",
     "height": 541
    },
    "id": "KRBIqBXs8pda",
    "outputId": "6f484d34-88f4-460c-9870-737315a2a263"
   },
   "outputs": [
    {
     "data": {
      "image/png": "[encoded data removed]",
      "text/plain": [
       "<Figure size 640x480 with 1 Axes>"
      ]
     },
     "metadata": {},
     "output_type": "display_data"
    },
    {
     "data": {
      "image/png": "[encoded data removed]",
      "text/plain": [
       "<Figure size 640x480 with 1 Axes>"
      ]
     },
     "metadata": {},
     "output_type": "display_data"
    }
   ],
   "source": [
    "import matplotlib.pyplot as plt\n",
    "\n",
    "short_term = rdf.groupby(\"age\").agg(\n",
    "    (\n",
    "        pl.col(\"readmitted\").str.count_match(\"short-term\").sum()\n",
    "        / pl.col(\"readmitted\").count()\n",
    "        * 100\n",
    "    ).alias(\"short-term readmitted\")\n",
    ")\n",
    "long_term = rdf.groupby(\"age\").agg(\n",
    "    (\n",
    "        pl.col(\"readmitted\").str.count_match(\"long-term\").sum()\n",
    "        / pl.col(\"readmitted\").count()\n",
    "        * 100\n",
    "    ).alias(\"long-term readmitted\")\n",
    ")\n",
    "\n",
    "short_term.barplot(x=\"age\", y=\"short-term readmitted\")\n",
    "plt.show()\n",
    "long_term.barplot(x=\"age\", y=\"long-term readmitted\")"
   ]
  },
  {
   "cell_type": "markdown",
   "metadata": {
    "id": "nlHmjMozE38p"
   },
   "source": [
    "We see a slight trend of increased long-term readmissions as age increases, but interestingly, a much higher risk of short-term readmission in 20-30 year olds. This could be explained by younger patients perhaps not having yet found the correct treatment or lifestyle to manage their diabetes."
   ]
  },
  {
   "cell_type": "markdown",
   "metadata": {
    "id": "F4c69wn0CjV4"
   },
   "source": [
    "Similarly, if we take a look at the average number of emergency visits in the past year for patients in each age category, the 20-30 group is the most at-risk.\n",
    "\n"
   ]
  },
  {
   "cell_type": "code",
   "execution_count": 27,
   "metadata": {
    "colab": {
     "base_uri": "https://localhost:8080/",
     "height": 281
    },
    "id": "9sg9nYzE_vXu",
    "outputId": "ed0a1a83-9a7d-431d-e257-9a94062a731b"
   },
   "outputs": [
    {
     "data": {
      "image/png": "[encoded data removed]",
      "text/plain": [
       "<Figure size 640x480 with 1 Axes>"
      ]
     },
     "metadata": {},
     "output_type": "display_data"
    }
   ],
   "source": [
    "rdf.barplot(x=\"age\", y=\"number_emergency\")"
   ]
  },
  {
   "cell_type": "markdown",
   "metadata": {
    "id": "bINBHE7zCuPd"
   },
   "source": [
    "These trends provide actionable insights, where advice or follow-ups with 20-30 year olds could be tailored based on their increased risk of short-term hospital readmission and emergency visits."
   ]
  },
  {
   "cell_type": "markdown",
   "metadata": {
    "id": "UUBMSWbuHxf-"
   },
   "source": [
    "### A1C examinations as a factor in changes to medication and readmittance"
   ]
  },
  {
   "attachments": {},
   "cell_type": "markdown",
   "metadata": {},
   "source": [
    "High or very high A1C levels can indicate an increased risk of diabetes complications. In this dataset, A1C levels are grouped into \"very high\", \"high\", \"normal\" and \"null\" (not taken).\n",
    "\n",
    "Let's start by using `pieplot` to get a snapshot of the distribution of A1C groups:"
   ]
  },
  {
   "cell_type": "code",
   "execution_count": 76,
   "metadata": {},
   "outputs": [
    {
     "data": {
      "image/png": "[encoded data removed]",
      "text/plain": [
       "<Figure size 700x400 with 1 Axes>"
      ]
     },
     "metadata": {},
     "output_type": "display_data"
    }
   ],
   "source": [
    "rdf.groupby(\"A1Cresult\").agg(pl.count().alias(\"count\")).pieplot(parts=\"count\", labels=\"A1Cresult\", key=\"False\")"
   ]
  },
  {
   "attachments": {},
   "cell_type": "markdown",
   "metadata": {},
   "source": [
    "We see here that in the vast majority of cases, A1C levels were not checked."
   ]
  },
  {
   "attachments": {},
   "cell_type": "markdown",
   "metadata": {
    "id": "S11nqyg0oufI"
   },
   "source": [
    "Next, let's take a look at the impact of A1C levels being checked during the hospital admission on the likelihood of a patient's medication being changed."
   ]
  },
  {
   "cell_type": "code",
   "execution_count": 28,
   "metadata": {
    "colab": {
     "base_uri": "https://localhost:8080/",
     "height": 203
    },
    "id": "RkJK-DmHhq37",
    "outputId": "d9ed2ec7-4e14-4a64-fdf4-e4b6d2b6fab8"
   },
   "outputs": [
    {
     "data": {
      "text/html": [
       "<div>\n",
       "<style scoped>\n",
       "    .dataframe tbody tr th:only-of-type {\n",
       "        vertical-align: middle;\n",
       "    }\n",
       "\n",
       "    .dataframe tbody tr th {\n",
       "        vertical-align: top;\n",
       "    }\n",
       "\n",
       "    .dataframe thead th {\n",
       "        text-align: right;\n",
       "    }\n",
       "\n",
       "    .dataframe td {\n",
       "        white-space: pre;\n",
       "    }\n",
       "\n",
       "    .dataframe td {\n",
       "        padding-top: 0;\n",
       "    }\n",
       "\n",
       "    .dataframe td {\n",
       "        padding-bottom: 0;\n",
       "    }\n",
       "</style>\n",
       "<table border=\"1\" class=\"dataframe\" >\n",
       "<small>shape: (4, 2)</small>\n",
       "<thead>\n",
       "<tr>\n",
       "<th>\n",
       "A1Cresult\n",
       "</th>\n",
       "<th>\n",
       "change\n",
       "</th>\n",
       "</tr>\n",
       "<tr>\n",
       "<td>\n",
       "str\n",
       "</td>\n",
       "<td>\n",
       "f64\n",
       "</td>\n",
       "</tr>\n",
       "</thead>\n",
       "<tbody>\n",
       "<tr>\n",
       "<td>\n",
       "&quot;very high&quot;\n",
       "</td>\n",
       "<td>\n",
       "65.067994\n",
       "</td>\n",
       "</tr>\n",
       "<tr>\n",
       "<td>\n",
       "&quot;high&quot;\n",
       "</td>\n",
       "<td>\n",
       "50.738007\n",
       "</td>\n",
       "</tr>\n",
       "<tr>\n",
       "<td>\n",
       "null\n",
       "</td>\n",
       "<td>\n",
       "44.273611\n",
       "</td>\n",
       "</tr>\n",
       "<tr>\n",
       "<td>\n",
       "&quot;normal&quot;\n",
       "</td>\n",
       "<td>\n",
       "44.226143\n",
       "</td>\n",
       "</tr>\n",
       "</tbody>\n",
       "</table>\n",
       "</div>"
      ],
      "text/plain": [
       "shape: (4, 2)\n",
       "┌───────────┬───────────┐\n",
       "│ A1Cresult ┆ change    │\n",
       "│ ---       ┆ ---       │\n",
       "│ str       ┆ f64       │\n",
       "╞═══════════╪═══════════╡\n",
       "│ very high ┆ 65.067994 │\n",
       "├╌╌╌╌╌╌╌╌╌╌╌┼╌╌╌╌╌╌╌╌╌╌╌┤\n",
       "│ high      ┆ 50.738007 │\n",
       "├╌╌╌╌╌╌╌╌╌╌╌┼╌╌╌╌╌╌╌╌╌╌╌┤\n",
       "│ null      ┆ 44.273611 │\n",
       "├╌╌╌╌╌╌╌╌╌╌╌┼╌╌╌╌╌╌╌╌╌╌╌┤\n",
       "│ normal    ┆ 44.226143 │\n",
       "└───────────┴───────────┘"
      ]
     },
     "execution_count": 28,
     "metadata": {},
     "output_type": "execute_result"
    }
   ],
   "source": [
    "# group data by A1C result group\n",
    "ret = rdf.groupby(pl.col(\"A1Cresult\")).agg(\n",
    "    [\n",
    "        # get percentage of patients in each group who changed medication\n",
    "        (pl.col(\"change\").sum() / pl.col(\"change\").count() * 100).alias(\"change\"),\n",
    "    ]\n",
    ")\n",
    "\n",
    "# display as a sorted list\n",
    "ret.sort(pl.col(\"change\"), reverse=True).collect().fetch()"
   ]
  },
  {
   "cell_type": "markdown",
   "metadata": {
    "id": "xX672CJwpAYv"
   },
   "source": [
    "Perhaps as expected, those with a very high or high A1Cresult were more likely to have a medication change. Interestingly, those who do not have their A1C level examined are only as likely to change medication as those with normal A1C levels. This shows doctors are less likely to change medication unless they know that A1C levels are higher than expected via exams.\n",
    "\n",
    "What we now want to know is whether this has an impact on the likelihood of patient readmission in the short and long term."
   ]
  },
  {
   "cell_type": "code",
   "execution_count": 30,
   "metadata": {
    "colab": {
     "base_uri": "https://localhost:8080/",
     "height": 203
    },
    "id": "LFDwp7G2lfqh",
    "outputId": "5290f2dd-74a6-4f82-bcea-b5b3a0a14bec"
   },
   "outputs": [
    {
     "data": {
      "text/html": [
       "<div>\n",
       "<style scoped>\n",
       "    .dataframe tbody tr th:only-of-type {\n",
       "        vertical-align: middle;\n",
       "    }\n",
       "\n",
       "    .dataframe tbody tr th {\n",
       "        vertical-align: top;\n",
       "    }\n",
       "\n",
       "    .dataframe thead th {\n",
       "        text-align: right;\n",
       "    }\n",
       "\n",
       "    .dataframe td {\n",
       "        white-space: pre;\n",
       "    }\n",
       "\n",
       "    .dataframe td {\n",
       "        padding-top: 0;\n",
       "    }\n",
       "\n",
       "    .dataframe td {\n",
       "        padding-bottom: 0;\n",
       "    }\n",
       "</style>\n",
       "<table border=\"1\" class=\"dataframe\" >\n",
       "<small>shape: (4, 2)</small>\n",
       "<thead>\n",
       "<tr>\n",
       "<th>\n",
       "A1Cresult\n",
       "</th>\n",
       "<th>\n",
       "short-term readmitted\n",
       "</th>\n",
       "</tr>\n",
       "<tr>\n",
       "<td>\n",
       "str\n",
       "</td>\n",
       "<td>\n",
       "f64\n",
       "</td>\n",
       "</tr>\n",
       "</thead>\n",
       "<tbody>\n",
       "<tr>\n",
       "<td>\n",
       "null\n",
       "</td>\n",
       "<td>\n",
       "11.436258\n",
       "</td>\n",
       "</tr>\n",
       "<tr>\n",
       "<td>\n",
       "&quot;high&quot;\n",
       "</td>\n",
       "<td>\n",
       "10.042172\n",
       "</td>\n",
       "</tr>\n",
       "<tr>\n",
       "<td>\n",
       "&quot;very high&quot;\n",
       "</td>\n",
       "<td>\n",
       "9.907722\n",
       "</td>\n",
       "</tr>\n",
       "<tr>\n",
       "<td>\n",
       "&quot;normal&quot;\n",
       "</td>\n",
       "<td>\n",
       "9.703288\n",
       "</td>\n",
       "</tr>\n",
       "</tbody>\n",
       "</table>\n",
       "</div>"
      ],
      "text/plain": [
       "shape: (4, 2)\n",
       "┌───────────┬───────────────────────┐\n",
       "│ A1Cresult ┆ short-term readmitted │\n",
       "│ ---       ┆ ---                   │\n",
       "│ str       ┆ f64                   │\n",
       "╞═══════════╪═══════════════════════╡\n",
       "│ null      ┆ 11.436258             │\n",
       "├╌╌╌╌╌╌╌╌╌╌╌┼╌╌╌╌╌╌╌╌╌╌╌╌╌╌╌╌╌╌╌╌╌╌╌┤\n",
       "│ high      ┆ 10.042172             │\n",
       "├╌╌╌╌╌╌╌╌╌╌╌┼╌╌╌╌╌╌╌╌╌╌╌╌╌╌╌╌╌╌╌╌╌╌╌┤\n",
       "│ very high ┆ 9.907722              │\n",
       "├╌╌╌╌╌╌╌╌╌╌╌┼╌╌╌╌╌╌╌╌╌╌╌╌╌╌╌╌╌╌╌╌╌╌╌┤\n",
       "│ normal    ┆ 9.703288              │\n",
       "└───────────┴───────────────────────┘"
      ]
     },
     "execution_count": 30,
     "metadata": {},
     "output_type": "execute_result"
    }
   ],
   "source": [
    "# percentages of those readmitted within a month of initial hospital visit by A1C result group\n",
    "ret = rdf.groupby(pl.col(\"A1Cresult\")).agg(\n",
    "    [\n",
    "        (\n",
    "            pl.col(\"readmitted\").str.count_match(\"short-term\").sum()\n",
    "            / pl.col(\"readmitted\").count()\n",
    "            * 100\n",
    "        ).alias(\"short-term readmitted\")\n",
    "    ]\n",
    ")\n",
    "ret.sort(pl.col(\"short-term readmitted\"), reverse=True).collect().fetch()"
   ]
  },
  {
   "cell_type": "code",
   "execution_count": 32,
   "metadata": {
    "colab": {
     "base_uri": "https://localhost:8080/",
     "height": 203
    },
    "id": "Y2avSj5hrZRE",
    "outputId": "cd7423ec-1a6a-4fd0-adfc-5b3b74338a5b"
   },
   "outputs": [
    {
     "data": {
      "text/html": [
       "<div>\n",
       "<style scoped>\n",
       "    .dataframe tbody tr th:only-of-type {\n",
       "        vertical-align: middle;\n",
       "    }\n",
       "\n",
       "    .dataframe tbody tr th {\n",
       "        vertical-align: top;\n",
       "    }\n",
       "\n",
       "    .dataframe thead th {\n",
       "        text-align: right;\n",
       "    }\n",
       "\n",
       "    .dataframe td {\n",
       "        white-space: pre;\n",
       "    }\n",
       "\n",
       "    .dataframe td {\n",
       "        padding-top: 0;\n",
       "    }\n",
       "\n",
       "    .dataframe td {\n",
       "        padding-bottom: 0;\n",
       "    }\n",
       "</style>\n",
       "<table border=\"1\" class=\"dataframe\" >\n",
       "<small>shape: (4, 2)</small>\n",
       "<thead>\n",
       "<tr>\n",
       "<th>\n",
       "A1Cresult\n",
       "</th>\n",
       "<th>\n",
       "long-term readmitted\n",
       "</th>\n",
       "</tr>\n",
       "<tr>\n",
       "<td>\n",
       "str\n",
       "</td>\n",
       "<td>\n",
       "f64\n",
       "</td>\n",
       "</tr>\n",
       "</thead>\n",
       "<tbody>\n",
       "<tr>\n",
       "<td>\n",
       "&quot;very high&quot;\n",
       "</td>\n",
       "<td>\n",
       "35.271977\n",
       "</td>\n",
       "</tr>\n",
       "<tr>\n",
       "<td>\n",
       "null\n",
       "</td>\n",
       "<td>\n",
       "35.085194\n",
       "</td>\n",
       "</tr>\n",
       "<tr>\n",
       "<td>\n",
       "&quot;high&quot;\n",
       "</td>\n",
       "<td>\n",
       "34.106484\n",
       "</td>\n",
       "</tr>\n",
       "<tr>\n",
       "<td>\n",
       "&quot;normal&quot;\n",
       "</td>\n",
       "<td>\n",
       "31.996792\n",
       "</td>\n",
       "</tr>\n",
       "</tbody>\n",
       "</table>\n",
       "</div>"
      ],
      "text/plain": [
       "shape: (4, 2)\n",
       "┌───────────┬──────────────────────┐\n",
       "│ A1Cresult ┆ long-term readmitted │\n",
       "│ ---       ┆ ---                  │\n",
       "│ str       ┆ f64                  │\n",
       "╞═══════════╪══════════════════════╡\n",
       "│ very high ┆ 35.271977            │\n",
       "├╌╌╌╌╌╌╌╌╌╌╌┼╌╌╌╌╌╌╌╌╌╌╌╌╌╌╌╌╌╌╌╌╌╌┤\n",
       "│ null      ┆ 35.085194            │\n",
       "├╌╌╌╌╌╌╌╌╌╌╌┼╌╌╌╌╌╌╌╌╌╌╌╌╌╌╌╌╌╌╌╌╌╌┤\n",
       "│ high      ┆ 34.106484            │\n",
       "├╌╌╌╌╌╌╌╌╌╌╌┼╌╌╌╌╌╌╌╌╌╌╌╌╌╌╌╌╌╌╌╌╌╌┤\n",
       "│ normal    ┆ 31.996792            │\n",
       "└───────────┴──────────────────────┘"
      ]
     },
     "execution_count": 32,
     "metadata": {},
     "output_type": "execute_result"
    }
   ],
   "source": [
    "# percentages of those readmitted in the long-term by A1C result group\n",
    "\n",
    "ret = rdf.groupby(pl.col(\"A1Cresult\")).agg(\n",
    "    [\n",
    "        (\n",
    "            pl.col(\"readmitted\").str.count_match(\"long-term\").sum()\n",
    "            / pl.col(\"readmitted\").count()\n",
    "            * 100\n",
    "        ).alias(\"long-term readmitted\")\n",
    "    ]\n",
    ")\n",
    "ret.sort(pl.col(\"long-term readmitted\"), reverse=True).collect().fetch()"
   ]
  },
  {
   "cell_type": "markdown",
   "metadata": {
    "id": "HmsKOU2bqz6F"
   },
   "source": [
    "We see that patients who did not have their A1C level taken are the most likely to be readmitted in the short-term and almost as likely as their \"very high\" counterparts to be readmitted in the long-term. This suggests that taking patients' A1C levels can help encourage doctors to make changes in medication, which may be a factor in a reduction in hospital readmissions."
   ]
  },
  {
   "attachments": {},
   "cell_type": "markdown",
   "metadata": {
    "id": "TjaMlnbQIWcJ"
   },
   "source": [
    "### Medication as factor on overall readmission\n",
    "\n",
    "For the next part of our analysis, we will look at how treatment with different medications led to above or below average patient readmission.\n",
    "\n",
    "Let's start by getting the percentage of all patients in the study who were readmitted to hospital in the short or long-term."
   ]
  },
  {
   "cell_type": "code",
   "execution_count": 34,
   "metadata": {},
   "outputs": [
    {
     "data": {
      "text/html": [
       "<div>\n",
       "<style scoped>\n",
       "    .dataframe tbody tr th:only-of-type {\n",
       "        vertical-align: middle;\n",
       "    }\n",
       "\n",
       "    .dataframe tbody tr th {\n",
       "        vertical-align: top;\n",
       "    }\n",
       "\n",
       "    .dataframe thead th {\n",
       "        text-align: right;\n",
       "    }\n",
       "\n",
       "    .dataframe td {\n",
       "        white-space: pre;\n",
       "    }\n",
       "\n",
       "    .dataframe td {\n",
       "        padding-top: 0;\n",
       "    }\n",
       "\n",
       "    .dataframe td {\n",
       "        padding-bottom: 0;\n",
       "    }\n",
       "</style>\n",
       "<table border=\"1\" class=\"dataframe\" >\n",
       "<small>shape: (1, 1)</small>\n",
       "<thead>\n",
       "<tr>\n",
       "<th>\n",
       "readmitted %\n",
       "</th>\n",
       "</tr>\n",
       "<tr>\n",
       "<td>\n",
       "f64\n",
       "</td>\n",
       "</tr>\n",
       "</thead>\n",
       "<tbody>\n",
       "<tr>\n",
       "<td>\n",
       "46.088084\n",
       "</td>\n",
       "</tr>\n",
       "</tbody>\n",
       "</table>\n",
       "</div>"
      ],
      "text/plain": [
       "shape: (1, 1)\n",
       "┌──────────────┐\n",
       "│ readmitted % │\n",
       "│ ---          │\n",
       "│ f64          │\n",
       "╞══════════════╡\n",
       "│ 46.088084    │\n",
       "└──────────────┘"
      ]
     },
     "execution_count": 34,
     "metadata": {},
     "output_type": "execute_result"
    }
   ],
   "source": [
    "rdf.select((pl.col(\"is_readmitted\").sum() / pl.col(\"is_readmitted\").count() * 100).alias(\"readmitted %\")).collect().fetch()"
   ]
  },
  {
   "attachments": {},
   "cell_type": "markdown",
   "metadata": {},
   "source": [
    "Next let's get the percentage of patients readmitted to hospital for each medication, regardless of whether dosage was increased, decreased or remained the same.\n",
    "\n",
    "Let's start by getting a list of the medications we want to look at. We will narrow this list down to drugs with more than 30 rows of data (\"increased\", \"steady\" or \"decreased\" dosage) to remove any medication with only a handful of results."
   ]
  },
  {
   "cell_type": "code",
   "execution_count": 69,
   "metadata": {
    "colab": {
     "base_uri": "https://localhost:8080/"
    },
    "id": "eBulsGoG3Z5I",
    "outputId": "9ccbd70d-809d-43f1-9aae-4b41592b2232"
   },
   "outputs": [
    {
     "data": {
      "text/plain": [
       "['metformin',\n",
       " 'repaglinide',\n",
       " 'nateglinide',\n",
       " 'chlorpropamide',\n",
       " 'glimepiride',\n",
       " 'glipizide',\n",
       " 'glyburide',\n",
       " 'pioglitazone',\n",
       " 'rosiglitazone',\n",
       " 'acarbose',\n",
       " 'miglitol',\n",
       " 'tolazamide',\n",
       " 'insulin',\n",
       " 'glyburide-metformin']"
      ]
     },
     "execution_count": 69,
     "metadata": {},
     "output_type": "execute_result"
    }
   ],
   "source": [
    "# list of all medications in study\n",
    "all_meds = [\n",
    "    \"metformin\",\n",
    "    \"repaglinide\",\n",
    "    \"nateglinide\",\n",
    "    \"chlorpropamide\",\n",
    "    \"glimepiride\",\n",
    "    \"acetohexamide\",\n",
    "    \"glipizide\",\n",
    "    \"glyburide\",\n",
    "    \"tolbutamide\",\n",
    "    \"pioglitazone\",\n",
    "    \"rosiglitazone\",\n",
    "    \"acarbose\",\n",
    "    \"miglitol\",\n",
    "    \"troglitazone\",\n",
    "    \"tolazamide\",\n",
    "    \"examide\",\n",
    "    \"citoglipton\",\n",
    "    \"insulin\",\n",
    "    \"glyburide-metformin\",\n",
    "    \"glipizide-metformin\",\n",
    "    \"glimepiride-pioglitazone\",\n",
    "    \"metformin-rosiglitazone\",\n",
    "    \"metformin-pioglitazone\",\n",
    "]\n",
    "\n",
    "# get the number of increased, decreased and stable doses per medication and flip the output vertically\n",
    "meds = rdf.select(\n",
    "    pl.col(x).count() - pl.col(x).str.count_match(\"No\").sum() for x in all_meds\n",
    ").melt(variable_name=\"medication\", value_name=\"count\")\n",
    "\n",
    "# remove any medications that don't have at least 100 rows of data and get this result as a Polars dataframe\n",
    "meds = meds.filter(pl.col(\"count\") > 30).collect().fetch()\n",
    "\n",
    "# convert output to a list via Pandas API\n",
    "meds = meds.to_pandas()[\"medication\"].tolist()\n",
    "meds"
   ]
  },
  {
   "attachments": {},
   "cell_type": "markdown",
   "metadata": {
    "id": "Y_9as5FlqoZV"
   },
   "source": [
    "The next step is to loop over our list of `meds`. On each iteration, we filter out any \"no\" values, indicating that a patient did not follow this treatment, and get the percentage of patients who were readmitted to hospital. We are able to use the `vstack` function to append each result for each drug into one table.\n",
    "\n",
    "We then add a column with the list of medicines in the same order and sort the list from lowest to highest percentage of readmissions."
   ]
  },
  {
   "cell_type": "code",
   "execution_count": 70,
   "metadata": {
    "colab": {
     "base_uri": "https://localhost:8080/",
     "height": 340
    },
    "id": "aEU6wEvYAhz6",
    "outputId": "e51f858a-8992-4944-fb4c-74834b950207"
   },
   "outputs": [
    {
     "data": {
      "text/html": [
       "<div>\n",
       "<style scoped>\n",
       "    .dataframe tbody tr th:only-of-type {\n",
       "        vertical-align: middle;\n",
       "    }\n",
       "\n",
       "    .dataframe tbody tr th {\n",
       "        vertical-align: top;\n",
       "    }\n",
       "\n",
       "    .dataframe thead th {\n",
       "        text-align: right;\n",
       "    }\n",
       "\n",
       "    .dataframe td {\n",
       "        white-space: pre;\n",
       "    }\n",
       "\n",
       "    .dataframe td {\n",
       "        padding-top: 0;\n",
       "    }\n",
       "\n",
       "    .dataframe td {\n",
       "        padding-bottom: 0;\n",
       "    }\n",
       "</style>\n",
       "<table border=\"1\" class=\"dataframe\" >\n",
       "<small>shape: (14, 2)</small>\n",
       "<thead>\n",
       "<tr>\n",
       "<th>\n",
       "medication\n",
       "</th>\n",
       "<th>\n",
       "overall readmitted %\n",
       "</th>\n",
       "</tr>\n",
       "<tr>\n",
       "<td>\n",
       "str\n",
       "</td>\n",
       "<td>\n",
       "f64\n",
       "</td>\n",
       "</tr>\n",
       "</thead>\n",
       "<tbody>\n",
       "<tr>\n",
       "<td>\n",
       "&quot;tolazamide&quot;\n",
       "</td>\n",
       "<td>\n",
       "33.333333\n",
       "</td>\n",
       "</tr>\n",
       "<tr>\n",
       "<td>\n",
       "&quot;metformin&quot;\n",
       "</td>\n",
       "<td>\n",
       "43.250951\n",
       "</td>\n",
       "</tr>\n",
       "<tr>\n",
       "<td>\n",
       "&quot;chlorpropamide...\n",
       "</td>\n",
       "<td>\n",
       "45.348837\n",
       "</td>\n",
       "</tr>\n",
       "<tr>\n",
       "<td>\n",
       "&quot;glyburide&quot;\n",
       "</td>\n",
       "<td>\n",
       "45.539906\n",
       "</td>\n",
       "</tr>\n",
       "<tr>\n",
       "<td>\n",
       "&quot;glimepiride&quot;\n",
       "</td>\n",
       "<td>\n",
       "46.946638\n",
       "</td>\n",
       "</tr>\n",
       "<tr>\n",
       "<td>\n",
       "&quot;glyburide-metf...\n",
       "</td>\n",
       "<td>\n",
       "47.592068\n",
       "</td>\n",
       "</tr>\n",
       "<tr>\n",
       "<td>\n",
       "&quot;insulin&quot;\n",
       "</td>\n",
       "<td>\n",
       "48.171304\n",
       "</td>\n",
       "</tr>\n",
       "<tr>\n",
       "<td>\n",
       "&quot;pioglitazone&quot;\n",
       "</td>\n",
       "<td>\n",
       "48.185044\n",
       "</td>\n",
       "</tr>\n",
       "<tr>\n",
       "<td>\n",
       "&quot;rosiglitazone&quot;\n",
       "</td>\n",
       "<td>\n",
       "48.295365\n",
       "</td>\n",
       "</tr>\n",
       "<tr>\n",
       "<td>\n",
       "&quot;nateglinide&quot;\n",
       "</td>\n",
       "<td>\n",
       "48.648649\n",
       "</td>\n",
       "</tr>\n",
       "<tr>\n",
       "<td>\n",
       "&quot;glipizide&quot;\n",
       "</td>\n",
       "<td>\n",
       "48.730884\n",
       "</td>\n",
       "</tr>\n",
       "<tr>\n",
       "<td>\n",
       "&quot;repaglinide&quot;\n",
       "</td>\n",
       "<td>\n",
       "54.905783\n",
       "</td>\n",
       "</tr>\n",
       "<tr>\n",
       "<td>\n",
       "&quot;acarbose&quot;\n",
       "</td>\n",
       "<td>\n",
       "59.415584\n",
       "</td>\n",
       "</tr>\n",
       "<tr>\n",
       "<td>\n",
       "&quot;miglitol&quot;\n",
       "</td>\n",
       "<td>\n",
       "63.157895\n",
       "</td>\n",
       "</tr>\n",
       "</tbody>\n",
       "</table>\n",
       "</div>"
      ],
      "text/plain": [
       "shape: (14, 2)\n",
       "┌────────────────┬──────────────────────┐\n",
       "│ medication     ┆ overall readmitted % │\n",
       "│ ---            ┆ ---                  │\n",
       "│ str            ┆ f64                  │\n",
       "╞════════════════╪══════════════════════╡\n",
       "│ tolazamide     ┆ 33.333333            │\n",
       "├╌╌╌╌╌╌╌╌╌╌╌╌╌╌╌╌┼╌╌╌╌╌╌╌╌╌╌╌╌╌╌╌╌╌╌╌╌╌╌┤\n",
       "│ metformin      ┆ 43.250951            │\n",
       "├╌╌╌╌╌╌╌╌╌╌╌╌╌╌╌╌┼╌╌╌╌╌╌╌╌╌╌╌╌╌╌╌╌╌╌╌╌╌╌┤\n",
       "│ chlorpropamide ┆ 45.348837            │\n",
       "├╌╌╌╌╌╌╌╌╌╌╌╌╌╌╌╌┼╌╌╌╌╌╌╌╌╌╌╌╌╌╌╌╌╌╌╌╌╌╌┤\n",
       "│ glyburide      ┆ 45.539906            │\n",
       "├╌╌╌╌╌╌╌╌╌╌╌╌╌╌╌╌┼╌╌╌╌╌╌╌╌╌╌╌╌╌╌╌╌╌╌╌╌╌╌┤\n",
       "│ ...            ┆ ...                  │\n",
       "├╌╌╌╌╌╌╌╌╌╌╌╌╌╌╌╌┼╌╌╌╌╌╌╌╌╌╌╌╌╌╌╌╌╌╌╌╌╌╌┤\n",
       "│ glipizide      ┆ 48.730884            │\n",
       "├╌╌╌╌╌╌╌╌╌╌╌╌╌╌╌╌┼╌╌╌╌╌╌╌╌╌╌╌╌╌╌╌╌╌╌╌╌╌╌┤\n",
       "│ repaglinide    ┆ 54.905783            │\n",
       "├╌╌╌╌╌╌╌╌╌╌╌╌╌╌╌╌┼╌╌╌╌╌╌╌╌╌╌╌╌╌╌╌╌╌╌╌╌╌╌┤\n",
       "│ acarbose       ┆ 59.415584            │\n",
       "├╌╌╌╌╌╌╌╌╌╌╌╌╌╌╌╌┼╌╌╌╌╌╌╌╌╌╌╌╌╌╌╌╌╌╌╌╌╌╌┤\n",
       "│ miglitol       ┆ 63.157895            │\n",
       "└────────────────┴──────────────────────┘"
      ]
     },
     "execution_count": 70,
     "metadata": {},
     "output_type": "execute_result"
    }
   ],
   "source": [
    "# create a null table value for later use\n",
    "table = None\n",
    "\n",
    "# iterate over medications list\n",
    "for drugs in meds:\n",
    "    # filter data down to cases where dosage was steady, increased or decreased\n",
    "    tmp = rdf.filter(pl.col(drugs) != \"No\").select(\n",
    "        [\n",
    "            (\n",
    "                pl.col(\"is_readmitted\").sum() / pl.col(\"is_readmitted\").count() * 100\n",
    "            ).alias(\"overall readmitted %\"),\n",
    "        ]\n",
    "    )\n",
    "    # if first iteration, table give value of our tmp query, otherwise tmp query appended to end of table\n",
    "    if table == None:\n",
    "        table = tmp\n",
    "    else:\n",
    "        table = table.vstack(tmp)\n",
    "\n",
    "# convert table to Polars dataframe\n",
    "table = table.collect().fetch()\n",
    "\n",
    "# create and add new column with medication names in same order as iteration and disaply results\n",
    "new_col = pl.Series(\"medication\", meds)\n",
    "table.with_columns([new_col]).select([\"medication\", \"overall readmitted %\"]).sort(\n",
    "    pl.col(\"overall readmitted %\")\n",
    ")"
   ]
  },
  {
   "attachments": {},
   "cell_type": "markdown",
   "metadata": {
    "id": "PtGj-w4OrU_5"
   },
   "source": [
    "This gives us significiant results with 12-13% less patients taking `tolazamide` or `tolbutamide` readmitted to hospital than the overall average, while 17% more patients taking `miglitol` were readmitted!\n",
    "\n",
    "There may be medical explanations for this such as certain drugs being linked to more complex cases.\n",
    "\n",
    "We can equally repeat the same process but zoom in just on dosages that were increased (`Up`), `decreased` (`Down`) or `steady` (`Steady`). In this case, let's take a look at dosages that were `decreased`. Feel free to replace the DOSAGE variable with `decreased` or `steady` or the condition to check for short or long-term readmissions only and re-run the cell if you want to take a look at how they compare."
   ]
  },
  {
   "cell_type": "code",
   "execution_count": 66,
   "metadata": {},
   "outputs": [
    {
     "data": {
      "text/plain": [
       "['metformin',\n",
       " 'repaglinide',\n",
       " 'glimepiride',\n",
       " 'glipizide',\n",
       " 'glyburide',\n",
       " 'pioglitazone',\n",
       " 'rosiglitazone',\n",
       " 'insulin']"
      ]
     },
     "execution_count": 66,
     "metadata": {},
     "output_type": "execute_result"
    }
   ],
   "source": [
    "# get the number of decreased doses per medication and flip the output vertically\n",
    "DOSAGE = \"Down\"\n",
    "meds = rdf.select(\n",
    "    pl.col(x).str.count_match(\"Down\").sum() for x in all_meds\n",
    ").melt(variable_name=\"medication\", value_name=\"count\")\n",
    "\n",
    "# remove any medications that don't have at least 100 rows of data and get this result as a Polars dataframe\n",
    "meds = meds.filter(pl.col(\"count\") > 30).collect().fetch()\n",
    "\n",
    "# convert output to a list via Pandas API\n",
    "meds = meds.to_pandas()[\"medication\"].tolist()\n",
    "meds"
   ]
  },
  {
   "cell_type": "code",
   "execution_count": 67,
   "metadata": {
    "colab": {
     "base_uri": "https://localhost:8080/",
     "height": 312
    },
    "id": "nnGQB49dhwqE",
    "outputId": "f0f36f25-88fa-452a-a34e-6d65e2d981d2"
   },
   "outputs": [
    {
     "data": {
      "text/html": [
       "<div>\n",
       "<style scoped>\n",
       "    .dataframe tbody tr th:only-of-type {\n",
       "        vertical-align: middle;\n",
       "    }\n",
       "\n",
       "    .dataframe tbody tr th {\n",
       "        vertical-align: top;\n",
       "    }\n",
       "\n",
       "    .dataframe thead th {\n",
       "        text-align: right;\n",
       "    }\n",
       "\n",
       "    .dataframe td {\n",
       "        white-space: pre;\n",
       "    }\n",
       "\n",
       "    .dataframe td {\n",
       "        padding-top: 0;\n",
       "    }\n",
       "\n",
       "    .dataframe td {\n",
       "        padding-bottom: 0;\n",
       "    }\n",
       "</style>\n",
       "<table border=\"1\" class=\"dataframe\" >\n",
       "<small>shape: (8, 2)</small>\n",
       "<thead>\n",
       "<tr>\n",
       "<th>\n",
       "medication\n",
       "</th>\n",
       "<th>\n",
       "overall readmitted %\n",
       "</th>\n",
       "</tr>\n",
       "<tr>\n",
       "<td>\n",
       "str\n",
       "</td>\n",
       "<td>\n",
       "f64\n",
       "</td>\n",
       "</tr>\n",
       "</thead>\n",
       "<tbody>\n",
       "<tr>\n",
       "<td>\n",
       "&quot;rosiglitazone&quot;\n",
       "</td>\n",
       "<td>\n",
       "31.034483\n",
       "</td>\n",
       "</tr>\n",
       "<tr>\n",
       "<td>\n",
       "&quot;metformin&quot;\n",
       "</td>\n",
       "<td>\n",
       "45.043478\n",
       "</td>\n",
       "</tr>\n",
       "<tr>\n",
       "<td>\n",
       "&quot;glimepiride&quot;\n",
       "</td>\n",
       "<td>\n",
       "47.938144\n",
       "</td>\n",
       "</tr>\n",
       "<tr>\n",
       "<td>\n",
       "&quot;glyburide&quot;\n",
       "</td>\n",
       "<td>\n",
       "48.758865\n",
       "</td>\n",
       "</tr>\n",
       "<tr>\n",
       "<td>\n",
       "&quot;repaglinide&quot;\n",
       "</td>\n",
       "<td>\n",
       "48.888889\n",
       "</td>\n",
       "</tr>\n",
       "<tr>\n",
       "<td>\n",
       "&quot;insulin&quot;\n",
       "</td>\n",
       "<td>\n",
       "52.790964\n",
       "</td>\n",
       "</tr>\n",
       "<tr>\n",
       "<td>\n",
       "&quot;glipizide&quot;\n",
       "</td>\n",
       "<td>\n",
       "52.857143\n",
       "</td>\n",
       "</tr>\n",
       "<tr>\n",
       "<td>\n",
       "&quot;pioglitazone&quot;\n",
       "</td>\n",
       "<td>\n",
       "53.389831\n",
       "</td>\n",
       "</tr>\n",
       "</tbody>\n",
       "</table>\n",
       "</div>"
      ],
      "text/plain": [
       "shape: (8, 2)\n",
       "┌───────────────┬──────────────────────┐\n",
       "│ medication    ┆ overall readmitted % │\n",
       "│ ---           ┆ ---                  │\n",
       "│ str           ┆ f64                  │\n",
       "╞═══════════════╪══════════════════════╡\n",
       "│ rosiglitazone ┆ 31.034483            │\n",
       "├╌╌╌╌╌╌╌╌╌╌╌╌╌╌╌┼╌╌╌╌╌╌╌╌╌╌╌╌╌╌╌╌╌╌╌╌╌╌┤\n",
       "│ metformin     ┆ 45.043478            │\n",
       "├╌╌╌╌╌╌╌╌╌╌╌╌╌╌╌┼╌╌╌╌╌╌╌╌╌╌╌╌╌╌╌╌╌╌╌╌╌╌┤\n",
       "│ glimepiride   ┆ 47.938144            │\n",
       "├╌╌╌╌╌╌╌╌╌╌╌╌╌╌╌┼╌╌╌╌╌╌╌╌╌╌╌╌╌╌╌╌╌╌╌╌╌╌┤\n",
       "│ glyburide     ┆ 48.758865            │\n",
       "├╌╌╌╌╌╌╌╌╌╌╌╌╌╌╌┼╌╌╌╌╌╌╌╌╌╌╌╌╌╌╌╌╌╌╌╌╌╌┤\n",
       "│ repaglinide   ┆ 48.888889            │\n",
       "├╌╌╌╌╌╌╌╌╌╌╌╌╌╌╌┼╌╌╌╌╌╌╌╌╌╌╌╌╌╌╌╌╌╌╌╌╌╌┤\n",
       "│ insulin       ┆ 52.790964            │\n",
       "├╌╌╌╌╌╌╌╌╌╌╌╌╌╌╌┼╌╌╌╌╌╌╌╌╌╌╌╌╌╌╌╌╌╌╌╌╌╌┤\n",
       "│ glipizide     ┆ 52.857143            │\n",
       "├╌╌╌╌╌╌╌╌╌╌╌╌╌╌╌┼╌╌╌╌╌╌╌╌╌╌╌╌╌╌╌╌╌╌╌╌╌╌┤\n",
       "│ pioglitazone  ┆ 53.389831            │\n",
       "└───────────────┴──────────────────────┘"
      ]
     },
     "execution_count": 67,
     "metadata": {},
     "output_type": "execute_result"
    }
   ],
   "source": [
    "# create a null table value for later use\n",
    "table = None\n",
    "\n",
    "# iterate over medications list\n",
    "for drugs in meds:\n",
    "    # filter data down to cases where dosage increased\n",
    "    tmp = rdf.filter(pl.col(drugs) == DOSAGE)\n",
    "    # get a RemoteLazyFrame of percentages of patients where each drug is increased were readmitted to hospital during study\n",
    "    percentages = tmp.select(\n",
    "        [\n",
    "            (\n",
    "                pl.col(\"is_readmitted\").sum() / pl.col(\"is_readmitted\").count() * 100\n",
    "            ).alias(\"overall readmitted %\"),\n",
    "        ]\n",
    "    )\n",
    "    # if first iteration, table and data_avilable are assigned percentages and row_count tables\n",
    "    if table == None:\n",
    "        table = percentages\n",
    "    # else we use vstack to add new row of percentages\n",
    "    else:\n",
    "        table = table.vstack(percentages)\n",
    "\n",
    "table = table.collect().fetch()\n",
    "new_col = pl.Series(\"medication\", meds)\n",
    "table = table.with_columns([new_col])\n",
    "table.select([\"medication\", \"overall readmitted %\"]).sort(\n",
    "    pl.col(\"overall readmitted %\")\n",
    ")"
   ]
  },
  {
   "attachments": {},
   "cell_type": "markdown",
   "metadata": {
    "id": "DuMXzt7zIHp3"
   },
   "source": [
    "Here we see that patients with a decreased dosage of `rosiglitazone` were readmitted at a rate well below avergae. Meanwhile, patients who decreased their dosage of `insulin`, `glipizide` or `pioglitazone` were all at least 6% more likely to be readmitted to hospital.\n",
    "\n",
    "These results could helpe us to flag medications which are riskier to decrease or encourage us to decrease the dosages of others."
   ]
  },
  {
   "attachments": {},
   "cell_type": "markdown",
   "metadata": {
    "id": "cSU9X1fDvvZQ"
   },
   "source": [
    "### Conclusions\n",
    "\n",
    "This brings us to the end of our data exploration. We gained meaningful insights:\n",
    "\n",
    "- 20-30 year olds are the most at-risk age group of short-term hospital readmission and emergency visits.\n",
    "    \n",
    "- The number of hospital admissions per age group increases with age.\n",
    "\n",
    "- Taking patients' A1C levels may encourage doctors to make changes in medication.\n",
    "    \n",
    "- Not taking patients' A1C levels may increase the likelihood of hospital readmissions.\n",
    "\n",
    "- Patients following a treatment of `tolazamide` or `tolbutamide` were readmitted at a well below avergae rate, while those taking `miglitol` were readmitted at a rate well above average.\n",
    "\n",
    "- Patients with a decreased dose of `rosiglitazone` were readmitted well below the average rate of readmission, while those with with a decreased dose of `insulin`, `glipizide` or `pioglitazone` readmitted at a significantly above average rate.\n",
    "\n",
    "\n",
    "This is a rich dataset with many avenues to explore, so feel free to continue exploring!\n",
    "\n",
    "However in our case, that's all we've got time for! Let's close our connection and stop the server. \n",
    "\n",
    "(Leave this next block commented if you want to continue to run queries on the dataset instead!)\n"
   ]
  },
  {
   "cell_type": "code",
   "execution_count": null,
   "metadata": {
    "id": "xROO5Oxzvev-"
   },
   "outputs": [],
   "source": [
    "# connection.close()\n",
    "# bastionlab_server.stop(srv)"
   ]
  }
 ],
 "metadata": {
  "colab": {
   "provenance": []
  },
  "kernelspec": {
   "display_name": "Python 3",
   "language": "python",
   "name": "python3"
  },
  "language_info": {
   "codemirror_mode": {
    "name": "ipython",
    "version": 3
   },
   "file_extension": ".py",
   "mimetype": "text/x-python",
   "name": "python",
   "nbconvert_exporter": "python",
   "pygments_lexer": "ipython3",
   "version": "3.8.10"
  },
  "orig_nbformat": 4,
  "vscode": {
   "interpreter": {
    "hash": "916dbcbb3f70747c44a77c7bcd40155683ae19c65e1c03b4aa3499c5328201f1"
   }
  }
 },
 "nbformat": 4,
 "nbformat_minor": 0
}
