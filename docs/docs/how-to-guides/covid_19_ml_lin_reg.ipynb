{
 "cells": [
  {
   "attachments": {},
   "cell_type": "markdown",
   "metadata": {},
   "source": [
    "# Building a machine learning model with a Covid-19 dataset\n",
    "\n",
    "AI models are very good at preventing accidents or diagnosing medical conditions. They can analyse pixels systematically in ways our eyes can't and avoid many human errors. But for them to be trained at all, they need massive amounts of data that are often very sensitive since they hold lots of private informations (*name, age, sex, adress, previous medical conditions...*). \n",
    "\n",
    "Take the Covid-19 crisis for example: many collaborations couldn't happen because of privacy concerns despite the general urgency.\n",
    "\n",
    "This is where BastionLab comes in. Our framework offers tools to share datasets and train AI models with security garantees. It lets data scientists handle datasets remotely and train ML models without ever having access to the full data in clear.\n",
    "\n",
    "In this notebook, we'll use a **real-world Covid-19 dataset** to show you how you could **clean datasets**, **run queries** and **visualize data** with BastionLab and Torch. \n",
    "\n",
    "## Pre-requisites\n",
    "___________________________________________\n",
    "\n",
    "### Installation and dataset\n",
    "\n",
    "In order to run this notebook, we need to:\n",
    "- Have [Python3.7](https://www.python.org/downloads/) (or greater) and [Python Pip](https://pypi.org/project/pip/) installed\n",
    "- Install [BastionLab](https://bastionlab.readthedocs.io/en/latest/docs/getting-started/installation/)\n",
    "- Download [the dataset](https://raw.githubusercontent.com/rinbaruah/COVID_preconditions_Kaggle/master/Data/covid.csv) we will be using in this tutorial.\n",
    "\n",
    "We'll do so by running the code block below. \n",
    "\n",
    ">You can see our [Installation page](https://bastionlab.readthedocs.io/en/latest/docs/getting-started/installation/) to find the installation method that best suits your needs."
   ]
  },
  {
   "cell_type": "code",
   "execution_count": 1,
   "metadata": {},
   "outputs": [],
   "source": [
    "# # pip packages\n",
    "# !pip install bastionlab\n",
    "# !pip install bastionlab_server\n",
    "\n",
    "# # download the dataset\n",
    "# !wget 'https://raw.githubusercontent.com/rinbaruah/COVID_preconditions_Kaggle/master/Data/covid.csv'"
   ]
  },
  {
   "attachments": {},
   "cell_type": "markdown",
   "metadata": {},
   "source": [
    "This dataset collects data on outcomes of Covid cases based on various pre-conditions such as asthma and diabetes. This is a version of a huge dataset provided by the Mexican government based on the population of Mexico, so the insights gained from it may not be valid for other geographical areas in the world."
   ]
  },
  {
   "attachments": {},
   "cell_type": "markdown",
   "metadata": {},
   "source": [
    "### Launch and connect to the server"
   ]
  },
  {
   "cell_type": "code",
   "execution_count": 2,
   "metadata": {},
   "outputs": [],
   "source": [
    "# # launch bastionlab_server test package\n",
    "# import bastionlab_server\n",
    "\n",
    "# srv = bastionlab_server.start()"
   ]
  },
  {
   "attachments": {},
   "cell_type": "markdown",
   "metadata": {},
   "source": [
    ">*Note that the bastionlab_server package we install here was created for testing purposes. You can also install BastionLab server using our Docker image or from source (especially for non-test purposes). Check out our [Installation Tutorial](../getting-started/installation.md) for more details.*"
   ]
  },
  {
   "cell_type": "code",
   "execution_count": 3,
   "metadata": {},
   "outputs": [
    {
     "name": "stderr",
     "output_type": "stream",
     "text": [
      "/home/kbamponsem/base/lib/python3.8/site-packages/tqdm/auto.py:22: TqdmWarning: IProgress not found. Please update jupyter and ipywidgets. See https://ipywidgets.readthedocs.io/en/stable/user_install.html\n",
      "  from .autonotebook import tqdm as notebook_tqdm\n"
     ]
    }
   ],
   "source": [
    "# connect to the server\n",
    "from bastionlab import Connection\n",
    "\n",
    "connection = Connection(\"localhost\")\n",
    "client = connection.client"
   ]
  },
  {
   "attachments": {},
   "cell_type": "markdown",
   "metadata": {},
   "source": [
    "### Upload the dataframe to the server"
   ]
  },
  {
   "attachments": {},
   "cell_type": "markdown",
   "metadata": {},
   "source": [
    "We'll quickly upload the dataset to the server with an open safety policy, since setting up BastionLab is not the focus of this tutorial. It will allows us to demonstrate features without having to approve any data access requests. You can check out how to define a safe privacy policy [here](https://bastionlab.readthedocs.io/en/latest/docs/tutorials/defining_policy_privacy/)."
   ]
  },
  {
   "cell_type": "code",
   "execution_count": 4,
   "metadata": {},
   "outputs": [
    {
     "data": {
      "text/plain": [
       "FetchableLazyFrame(identifier=01a46f98-8e57-4030-a7d8-f03e8da486f3)"
      ]
     },
     "execution_count": 4,
     "metadata": {},
     "output_type": "execute_result"
    }
   ],
   "source": [
    "import polars as pl\n",
    "from bastionlab.polars.policy import Policy, TrueRule, Log\n",
    "\n",
    "df = pl.read_csv(\"covid.csv\")\n",
    "\n",
    "policy = Policy(safe_zone=TrueRule(), unsafe_handling=Log(), savable=True)\n",
    "rdf = client.polars.send_df(df, policy=policy, sanitized_columns=[\"Name\"])\n",
    "\n",
    "rdf"
   ]
  },
  {
   "attachments": {},
   "cell_type": "markdown",
   "metadata": {},
   "source": [
    "<div class=\"warning\">\n",
    "<b>This policy is not suitable for production.</b> Please note that we <i>only</i> use it for demonstration purposes, to avoid having to approve any data access requests in the tutorial. <br></div> <br>\n",
    "\n",
    "We'll check that we're properly connected and that we have the authorizations by running a simple query:"
   ]
  },
  {
   "cell_type": "code",
   "execution_count": 5,
   "metadata": {},
   "outputs": [
    {
     "data": {
      "text/plain": [
       "{'id': polars.datatypes.Utf8,\n",
       " 'sex': polars.datatypes.Int64,\n",
       " 'patient_type': polars.datatypes.Int64,\n",
       " 'entry_date': polars.datatypes.Utf8,\n",
       " 'date_symptoms': polars.datatypes.Utf8,\n",
       " 'date_died': polars.datatypes.Utf8,\n",
       " 'intubed': polars.datatypes.Int64,\n",
       " 'pneumonia': polars.datatypes.Int64,\n",
       " 'age': polars.datatypes.Int64,\n",
       " 'pregnancy': polars.datatypes.Int64,\n",
       " 'diabetes': polars.datatypes.Int64,\n",
       " 'copd': polars.datatypes.Int64,\n",
       " 'asthma': polars.datatypes.Int64,\n",
       " 'inmsupr': polars.datatypes.Int64,\n",
       " 'hypertension': polars.datatypes.Int64,\n",
       " 'other_disease': polars.datatypes.Int64,\n",
       " 'cardiovascular': polars.datatypes.Int64,\n",
       " 'obesity': polars.datatypes.Int64,\n",
       " 'renal_chronic': polars.datatypes.Int64,\n",
       " 'tobacco': polars.datatypes.Int64,\n",
       " 'contact_other_covid': polars.datatypes.Int64,\n",
       " 'covid_res': polars.datatypes.Int64,\n",
       " 'icu': polars.datatypes.Int64}"
      ]
     },
     "execution_count": 5,
     "metadata": {},
     "output_type": "execute_result"
    }
   ],
   "source": [
    "rdf.schema"
   ]
  },
  {
   "attachments": {},
   "cell_type": "markdown",
   "metadata": {},
   "source": [
    "## Data cleaning\n",
    "_______________________________________________________________\n",
    "\n",
    "Let's start by preparing our dataset.\n",
    "\n",
    "### Dropping columns\n",
    "\n",
    "Firstly let's use the `drop` method to remove the columns we don't need for our training model: `entry_date`, `date_symptoms`, `date_died`, `patient_type`, `sex`, `id` and `date`."
   ]
  },
  {
   "cell_type": "code",
   "execution_count": 6,
   "metadata": {},
   "outputs": [],
   "source": [
    "# Dropping columns that don't influence our model\n",
    "rdf = rdf.drop(\n",
    "    [\"entry_date\", \"date_symptoms\", \"date_died\", \"patient_type\", \"sex\", \"id\", \"date\"]\n",
    ")"
   ]
  },
  {
   "attachments": {},
   "cell_type": "markdown",
   "metadata": {},
   "source": [
    "## Checking dtypes\n",
    "\n",
    "We want to make sure that all categorical columns like `diabetes` have an integer dtype. These are columns that contain either `2` to represent true, the patient did have diabetes, `1` to represent false, the patient didn't have diabetes or `97`, `98` or `99` which are used to represent `unknown`. Any continuous value such as `age` should be represented by a float.\n",
    "\n",
    "By printing out the schema of our RemoteLazyFrame, we see that `age` is an integer value."
   ]
  },
  {
   "cell_type": "code",
   "execution_count": 7,
   "metadata": {},
   "outputs": [
    {
     "data": {
      "text/plain": [
       "{'intubed': polars.datatypes.Int64,\n",
       " 'pneumonia': polars.datatypes.Int64,\n",
       " 'age': polars.datatypes.Int64,\n",
       " 'pregnancy': polars.datatypes.Int64,\n",
       " 'diabetes': polars.datatypes.Int64,\n",
       " 'copd': polars.datatypes.Int64,\n",
       " 'asthma': polars.datatypes.Int64,\n",
       " 'inmsupr': polars.datatypes.Int64,\n",
       " 'hypertension': polars.datatypes.Int64,\n",
       " 'other_disease': polars.datatypes.Int64,\n",
       " 'cardiovascular': polars.datatypes.Int64,\n",
       " 'obesity': polars.datatypes.Int64,\n",
       " 'renal_chronic': polars.datatypes.Int64,\n",
       " 'tobacco': polars.datatypes.Int64,\n",
       " 'contact_other_covid': polars.datatypes.Int64,\n",
       " 'covid_res': polars.datatypes.Int64,\n",
       " 'icu': polars.datatypes.Int64}"
      ]
     },
     "execution_count": 7,
     "metadata": {},
     "output_type": "execute_result"
    }
   ],
   "source": [
    "rdf.schema"
   ]
  },
  {
   "attachments": {},
   "cell_type": "markdown",
   "metadata": {},
   "source": [
    "### Handling null/unknown values\n",
    "\n",
    "In the case of this dataset, we don't have null values as such, but we do have the use of `97`, `98` and `99` to signify \"unknown\" in our categorical columns.\n",
    "\n",
    "To decide the best strategy for handling these values, let's first get a sense of the scale of these unknown values!\n",
    "\n",
    "Firstly, we will store the names of all these categorical columns in a list. Then we will get the sum of values in these columns which are 97,98 or 99 by using Polars `is_between` function. We will get a percentage of this value against the total values in the columns."
   ]
  },
  {
   "cell_type": "code",
   "execution_count": 8,
   "metadata": {},
   "outputs": [
    {
     "data": {
      "text/html": [
       "<div>\n",
       "<style scoped>\n",
       "    .dataframe tbody tr th:only-of-type {\n",
       "        vertical-align: middle;\n",
       "    }\n",
       "\n",
       "    .dataframe tbody tr th {\n",
       "        vertical-align: top;\n",
       "    }\n",
       "\n",
       "    .dataframe thead th {\n",
       "        text-align: right;\n",
       "    }\n",
       "\n",
       "    .dataframe td {\n",
       "        white-space: pre;\n",
       "    }\n",
       "\n",
       "    .dataframe td {\n",
       "        padding-top: 0;\n",
       "    }\n",
       "\n",
       "    .dataframe td {\n",
       "        padding-bottom: 0;\n",
       "    }\n",
       "</style>\n",
       "<table border=\"1\" class=\"dataframe\" >\n",
       "<small>shape: (1, 17)</small>\n",
       "<thead>\n",
       "<tr>\n",
       "<th>\n",
       "intubed\n",
       "</th>\n",
       "<th>\n",
       "pneumonia\n",
       "</th>\n",
       "<th>\n",
       "age\n",
       "</th>\n",
       "<th>\n",
       "pregnancy\n",
       "</th>\n",
       "<th>\n",
       "diabetes\n",
       "</th>\n",
       "<th>\n",
       "copd\n",
       "</th>\n",
       "<th>\n",
       "asthma\n",
       "</th>\n",
       "<th>\n",
       "inmsupr\n",
       "</th>\n",
       "<th>\n",
       "hypertension\n",
       "</th>\n",
       "<th>\n",
       "other_disease\n",
       "</th>\n",
       "<th>\n",
       "cardiovascular\n",
       "</th>\n",
       "<th>\n",
       "obesity\n",
       "</th>\n",
       "<th>\n",
       "renal_chronic\n",
       "</th>\n",
       "<th>\n",
       "tobacco\n",
       "</th>\n",
       "<th>\n",
       "contact_other_covid\n",
       "</th>\n",
       "<th>\n",
       "covid_res\n",
       "</th>\n",
       "<th>\n",
       "icu\n",
       "</th>\n",
       "</tr>\n",
       "<tr>\n",
       "<td>\n",
       "f64\n",
       "</td>\n",
       "<td>\n",
       "f64\n",
       "</td>\n",
       "<td>\n",
       "f64\n",
       "</td>\n",
       "<td>\n",
       "f64\n",
       "</td>\n",
       "<td>\n",
       "f64\n",
       "</td>\n",
       "<td>\n",
       "f64\n",
       "</td>\n",
       "<td>\n",
       "f64\n",
       "</td>\n",
       "<td>\n",
       "f64\n",
       "</td>\n",
       "<td>\n",
       "f64\n",
       "</td>\n",
       "<td>\n",
       "f64\n",
       "</td>\n",
       "<td>\n",
       "f64\n",
       "</td>\n",
       "<td>\n",
       "f64\n",
       "</td>\n",
       "<td>\n",
       "f64\n",
       "</td>\n",
       "<td>\n",
       "f64\n",
       "</td>\n",
       "<td>\n",
       "f64\n",
       "</td>\n",
       "<td>\n",
       "f64\n",
       "</td>\n",
       "<td>\n",
       "f64\n",
       "</td>\n",
       "</tr>\n",
       "</thead>\n",
       "<tbody>\n",
       "<tr>\n",
       "<td>\n",
       "78.505371\n",
       "</td>\n",
       "<td>\n",
       "0.001941\n",
       "</td>\n",
       "<td>\n",
       "0.036534\n",
       "</td>\n",
       "<td>\n",
       "50.952697\n",
       "</td>\n",
       "<td>\n",
       "0.349628\n",
       "</td>\n",
       "<td>\n",
       "0.308682\n",
       "</td>\n",
       "<td>\n",
       "0.309212\n",
       "</td>\n",
       "<td>\n",
       "0.349452\n",
       "</td>\n",
       "<td>\n",
       "0.321919\n",
       "</td>\n",
       "<td>\n",
       "0.458523\n",
       "</td>\n",
       "<td>\n",
       "0.321566\n",
       "</td>\n",
       "<td>\n",
       "0.31433\n",
       "</td>\n",
       "<td>\n",
       "0.316271\n",
       "</td>\n",
       "<td>\n",
       "0.336568\n",
       "</td>\n",
       "<td>\n",
       "30.891349\n",
       "</td>\n",
       "<td>\n",
       "0.0\n",
       "</td>\n",
       "<td>\n",
       "78.505547\n",
       "</td>\n",
       "</tr>\n",
       "</tbody>\n",
       "</table>\n",
       "</div>"
      ],
      "text/plain": [
       "shape: (1, 17)\n",
       "┌───────────┬─────────┬──────────┬───────────┬─────┬──────────┬────────────┬───────────┬───────────┐\n",
       "│ intubed   ┆ pneumon ┆ age      ┆ pregnancy ┆ ... ┆ tobacco  ┆ contact_ot ┆ covid_res ┆ icu       │\n",
       "│ ---       ┆ ia      ┆ ---      ┆ ---       ┆     ┆ ---      ┆ her_covid  ┆ ---       ┆ ---       │\n",
       "│ f64       ┆ ---     ┆ f64      ┆ f64       ┆     ┆ f64      ┆ ---        ┆ f64       ┆ f64       │\n",
       "│           ┆ f64     ┆          ┆           ┆     ┆          ┆ f64        ┆           ┆           │\n",
       "╞═══════════╪═════════╪══════════╪═══════════╪═════╪══════════╪════════════╪═══════════╪═══════════╡\n",
       "│ 78.505371 ┆ 0.00194 ┆ 0.036534 ┆ 50.952697 ┆ ... ┆ 0.336568 ┆ 30.891349  ┆ 0.0       ┆ 78.505547 │\n",
       "│           ┆ 1       ┆          ┆           ┆     ┆          ┆            ┆           ┆           │\n",
       "└───────────┴─────────┴──────────┴───────────┴─────┴──────────┴────────────┴───────────┴───────────┘"
      ]
     },
     "execution_count": 8,
     "metadata": {},
     "output_type": "execute_result"
    }
   ],
   "source": [
    "# Get percentage of values in column between 96 and 100\n",
    "percent_missing = rdf.select(\n",
    "    pl.col(x).is_between(96, 100).sum().alias(x) * 100 / pl.col(x).count()\n",
    "    for x in rdf.column_names\n",
    ")\n",
    "percent_missing.collect().fetch()"
   ]
  },
  {
   "attachments": {},
   "cell_type": "markdown",
   "metadata": {},
   "source": [
    "Since the `intubed`, `pregnancy`, `icu` and `contact_other_covid` columns contain significant amounts of \"unknown\" values, we will `drop` them from our model."
   ]
  },
  {
   "cell_type": "code",
   "execution_count": 9,
   "metadata": {},
   "outputs": [],
   "source": [
    "rdf = rdf.drop([\"intubed\", \"pregnancy\", \"contact_other_covid\", \"icu\"])"
   ]
  },
  {
   "attachments": {},
   "cell_type": "markdown",
   "metadata": {},
   "source": [
    "Next we will delete any rows which have a value which is not `1` or `2` for our categorical columns, essentially deleting all of these unknown 97, 98 and 99 values, whilst  also ensuring there are no other unexpected values."
   ]
  },
  {
   "cell_type": "code",
   "execution_count": 10,
   "metadata": {},
   "outputs": [],
   "source": [
    "rdf = rdf.filter(\n",
    "    pl.col(\n",
    "        [x for x in list(filter(lambda a: a != \"age\", rdf.column_names))]\n",
    "    ).is_between(0, 3)\n",
    ")"
   ]
  },
  {
   "attachments": {},
   "cell_type": "markdown",
   "metadata": {},
   "source": [
    "### View dataset size and columns\n",
    "\n",
    "So now we have finished cleaning our dataset, we can take a look again at some information about our dataset so we can confirm our dataset is still sufficiently large for training our model."
   ]
  },
  {
   "cell_type": "code",
   "execution_count": 11,
   "metadata": {},
   "outputs": [
    {
     "data": {
      "text/plain": [
       "{'pneumonia': polars.datatypes.Int64,\n",
       " 'age': polars.datatypes.Int64,\n",
       " 'diabetes': polars.datatypes.Int64,\n",
       " 'copd': polars.datatypes.Int64,\n",
       " 'asthma': polars.datatypes.Int64,\n",
       " 'inmsupr': polars.datatypes.Int64,\n",
       " 'hypertension': polars.datatypes.Int64,\n",
       " 'other_disease': polars.datatypes.Int64,\n",
       " 'cardiovascular': polars.datatypes.Int64,\n",
       " 'obesity': polars.datatypes.Int64,\n",
       " 'renal_chronic': polars.datatypes.Int64,\n",
       " 'tobacco': polars.datatypes.Int64,\n",
       " 'covid_res': polars.datatypes.Int64}"
      ]
     },
     "execution_count": 11,
     "metadata": {},
     "output_type": "execute_result"
    }
   ],
   "source": [
    "rdf.schema"
   ]
  },
  {
   "cell_type": "code",
   "execution_count": 12,
   "metadata": {},
   "outputs": [
    {
     "data": {
      "text/html": [
       "<div>\n",
       "<style scoped>\n",
       "    .dataframe tbody tr th:only-of-type {\n",
       "        vertical-align: middle;\n",
       "    }\n",
       "\n",
       "    .dataframe tbody tr th {\n",
       "        vertical-align: top;\n",
       "    }\n",
       "\n",
       "    .dataframe thead th {\n",
       "        text-align: right;\n",
       "    }\n",
       "\n",
       "    .dataframe td {\n",
       "        white-space: pre;\n",
       "    }\n",
       "\n",
       "    .dataframe td {\n",
       "        padding-top: 0;\n",
       "    }\n",
       "\n",
       "    .dataframe td {\n",
       "        padding-bottom: 0;\n",
       "    }\n",
       "</style>\n",
       "<table border=\"1\" class=\"dataframe\" >\n",
       "<small>shape: (1, 13)</small>\n",
       "<thead>\n",
       "<tr>\n",
       "<th>\n",
       "pneumonia\n",
       "</th>\n",
       "<th>\n",
       "age\n",
       "</th>\n",
       "<th>\n",
       "diabetes\n",
       "</th>\n",
       "<th>\n",
       "copd\n",
       "</th>\n",
       "<th>\n",
       "asthma\n",
       "</th>\n",
       "<th>\n",
       "inmsupr\n",
       "</th>\n",
       "<th>\n",
       "hypertension\n",
       "</th>\n",
       "<th>\n",
       "other_disease\n",
       "</th>\n",
       "<th>\n",
       "cardiovascular\n",
       "</th>\n",
       "<th>\n",
       "obesity\n",
       "</th>\n",
       "<th>\n",
       "renal_chronic\n",
       "</th>\n",
       "<th>\n",
       "tobacco\n",
       "</th>\n",
       "<th>\n",
       "covid_res\n",
       "</th>\n",
       "</tr>\n",
       "<tr>\n",
       "<td>\n",
       "u32\n",
       "</td>\n",
       "<td>\n",
       "u32\n",
       "</td>\n",
       "<td>\n",
       "u32\n",
       "</td>\n",
       "<td>\n",
       "u32\n",
       "</td>\n",
       "<td>\n",
       "u32\n",
       "</td>\n",
       "<td>\n",
       "u32\n",
       "</td>\n",
       "<td>\n",
       "u32\n",
       "</td>\n",
       "<td>\n",
       "u32\n",
       "</td>\n",
       "<td>\n",
       "u32\n",
       "</td>\n",
       "<td>\n",
       "u32\n",
       "</td>\n",
       "<td>\n",
       "u32\n",
       "</td>\n",
       "<td>\n",
       "u32\n",
       "</td>\n",
       "<td>\n",
       "u32\n",
       "</td>\n",
       "</tr>\n",
       "</thead>\n",
       "<tbody>\n",
       "<tr>\n",
       "<td>\n",
       "496291\n",
       "</td>\n",
       "<td>\n",
       "496291\n",
       "</td>\n",
       "<td>\n",
       "496291\n",
       "</td>\n",
       "<td>\n",
       "496291\n",
       "</td>\n",
       "<td>\n",
       "496291\n",
       "</td>\n",
       "<td>\n",
       "496291\n",
       "</td>\n",
       "<td>\n",
       "496291\n",
       "</td>\n",
       "<td>\n",
       "496291\n",
       "</td>\n",
       "<td>\n",
       "496291\n",
       "</td>\n",
       "<td>\n",
       "496291\n",
       "</td>\n",
       "<td>\n",
       "496291\n",
       "</td>\n",
       "<td>\n",
       "496291\n",
       "</td>\n",
       "<td>\n",
       "496291\n",
       "</td>\n",
       "</tr>\n",
       "</tbody>\n",
       "</table>\n",
       "</div>"
      ],
      "text/plain": [
       "shape: (1, 13)\n",
       "┌───────────┬────────┬──────────┬────────┬─────┬─────────┬───────────────┬─────────┬───────────┐\n",
       "│ pneumonia ┆ age    ┆ diabetes ┆ copd   ┆ ... ┆ obesity ┆ renal_chronic ┆ tobacco ┆ covid_res │\n",
       "│ ---       ┆ ---    ┆ ---      ┆ ---    ┆     ┆ ---     ┆ ---           ┆ ---     ┆ ---       │\n",
       "│ u32       ┆ u32    ┆ u32      ┆ u32    ┆     ┆ u32     ┆ u32           ┆ u32     ┆ u32       │\n",
       "╞═══════════╪════════╪══════════╪════════╪═════╪═════════╪═══════════════╪═════════╪═══════════╡\n",
       "│ 496291    ┆ 496291 ┆ 496291   ┆ 496291 ┆ ... ┆ 496291  ┆ 496291        ┆ 496291  ┆ 496291    │\n",
       "└───────────┴────────┴──────────┴────────┴─────┴─────────┴───────────────┴─────────┴───────────┘"
      ]
     },
     "execution_count": 12,
     "metadata": {},
     "output_type": "execute_result"
    }
   ],
   "source": [
    "# get percentage of values in column between 96 and 100\n",
    "size = rdf.select(pl.col(x).count().alias(x) for x in rdf.column_names)\n",
    "size.collect().fetch()"
   ]
  },
  {
   "attachments": {},
   "cell_type": "markdown",
   "metadata": {},
   "source": [
    "### Transform label column to binary data"
   ]
  },
  {
   "attachments": {},
   "cell_type": "markdown",
   "metadata": {},
   "source": [
    "In the original dataset, the label column used (2) for covid present and (1) for covid absent. The code below transforms this to a binary space (1) for covid present and (0) for covid absent."
   ]
  },
  {
   "cell_type": "code",
   "execution_count": 13,
   "metadata": {},
   "outputs": [],
   "source": [
    "label = \"covid_res\"\n",
    "rdf = rdf.with_column(pl.when(pl.col(label) == 2).then(1).otherwise(0).alias(label))"
   ]
  },
  {
   "attachments": {},
   "cell_type": "markdown",
   "metadata": {},
   "source": [
    "Here, collect is called to run all the data pre-processing applied to the RemoteDataFrame"
   ]
  },
  {
   "cell_type": "code",
   "execution_count": 14,
   "metadata": {},
   "outputs": [],
   "source": [
    "rdf = rdf.collect()"
   ]
  },
  {
   "attachments": {},
   "cell_type": "markdown",
   "metadata": {},
   "source": [
    "## Data conversion: from DataFrame to Dataset"
   ]
  },
  {
   "attachments": {},
   "cell_type": "markdown",
   "metadata": {},
   "source": [
    "Now that our data is clean, let's convert the Covid dataset to a trainable dataset on BastionLab. "
   ]
  },
  {
   "attachments": {},
   "cell_type": "markdown",
   "metadata": {},
   "source": [
    "Here, the Covid dataset is split into train and test dataset using `train_test_split` method. \n",
    "The split is (80-train set, 20-test_set)."
   ]
  },
  {
   "cell_type": "code",
   "execution_count": 15,
   "metadata": {},
   "outputs": [],
   "source": [
    "from bastionlab.polars import train_test_split\n",
    "\n",
    "# The RemoteDataFrame is shuffled and split into training and testing dataset.\n",
    "train_rdf, test_rdf = train_test_split(\n",
    "    rdf,\n",
    "    test_size=0.2,\n",
    "    shuffle=True,\n",
    ")"
   ]
  },
  {
   "attachments": {},
   "cell_type": "markdown",
   "metadata": {},
   "source": [
    "### RemoteDataFrame to RemoteArray conversion"
   ]
  },
  {
   "attachments": {},
   "cell_type": "markdown",
   "metadata": {},
   "source": [
    "Below, both the train and test input RemoteDataFrames need to be converted to `RemoteArrays`s. This is done because machine learning models only accept arrays (`ndarrays`)."
   ]
  },
  {
   "cell_type": "code",
   "execution_count": 16,
   "metadata": {},
   "outputs": [],
   "source": [
    "label = \"covid_res\"\n",
    "\n",
    "# Get all columns of the RemoteDataFrame and filter out the label column\n",
    "cols = list(filter(lambda a: a != label, rdf.column_names))\n",
    "\n",
    "# Transform RemoteDataFrame to RemoteTensor\n",
    "train_X = train_rdf.select(cols).to_array()\n",
    "test_X = test_rdf.select(cols).to_array()"
   ]
  },
  {
   "attachments": {},
   "cell_type": "markdown",
   "metadata": {},
   "source": [
    "The train and test label RemoteDataFrames are also converted to RemoteArrays."
   ]
  },
  {
   "cell_type": "code",
   "execution_count": 17,
   "metadata": {},
   "outputs": [],
   "source": [
    "train_y = train_rdf.select(label).to_array()\n",
    "test_y = test_rdf.select(label).to_array()"
   ]
  },
  {
   "attachments": {},
   "cell_type": "markdown",
   "metadata": {},
   "source": [
    "## Training a machine learning model with BastionLab\n",
    "\n",
    "In this section, a simple linear regression model is fitted over the remote covid dataset.\n",
    "\n",
    "The input data has 13 features (age, asthma, etch) and outputs 2 features (1-covid present, 0-covid absent)."
   ]
  },
  {
   "cell_type": "code",
   "execution_count": 18,
   "metadata": {},
   "outputs": [
    {
     "data": {
      "text/plain": [
       "FittedModel(identifier=627d7930-3914-44fd-a97f-9819cdb1d21f)\n",
       "  └── LinearRegression(fit_intercept=True)"
      ]
     },
     "execution_count": 18,
     "metadata": {},
     "output_type": "execute_result"
    }
   ],
   "source": [
    "from bastionlab.linfa.trainers import LinearRegression\n",
    "\n",
    "\n",
    "lr = LinearRegression()\n",
    "\n",
    "lr.fit(train_set=train_X, target_set=train_y)"
   ]
  },
  {
   "attachments": {},
   "cell_type": "markdown",
   "metadata": {},
   "source": [
    "In order to validate our linear regression model, we use `cross_validate` using the `mean_absolute_error` parameter, which compares the predicted outputs to the targets in the original dataset."
   ]
  },
  {
   "cell_type": "code",
   "execution_count": 19,
   "metadata": {},
   "outputs": [
    {
     "data": {
      "text/html": [
       "<div>\n",
       "<style scoped>\n",
       "    .dataframe tbody tr th:only-of-type {\n",
       "        vertical-align: middle;\n",
       "    }\n",
       "\n",
       "    .dataframe tbody tr th {\n",
       "        vertical-align: top;\n",
       "    }\n",
       "\n",
       "    .dataframe thead th {\n",
       "        text-align: right;\n",
       "    }\n",
       "\n",
       "    .dataframe td {\n",
       "        white-space: pre;\n",
       "    }\n",
       "\n",
       "    .dataframe td {\n",
       "        padding-top: 0;\n",
       "    }\n",
       "\n",
       "    .dataframe td {\n",
       "        padding-bottom: 0;\n",
       "    }\n",
       "</style>\n",
       "<table border=\"1\" class=\"dataframe\" >\n",
       "<small>shape: (1, 1)</small>\n",
       "<thead>\n",
       "<tr>\n",
       "<th>\n",
       "mean_absolute_error\n",
       "</th>\n",
       "</tr>\n",
       "<tr>\n",
       "<td>\n",
       "f64\n",
       "</td>\n",
       "</tr>\n",
       "</thead>\n",
       "<tbody>\n",
       "<tr>\n",
       "<td>\n",
       "0.465553\n",
       "</td>\n",
       "</tr>\n",
       "</tbody>\n",
       "</table>\n",
       "</div>"
      ],
      "text/plain": [
       "shape: (1, 1)\n",
       "┌─────────────────────┐\n",
       "│ mean_absolute_error │\n",
       "│ ---                 │\n",
       "│ f64                 │\n",
       "╞═════════════════════╡\n",
       "│ 0.465553            │\n",
       "└─────────────────────┘"
      ]
     },
     "execution_count": 19,
     "metadata": {},
     "output_type": "execute_result"
    }
   ],
   "source": [
    "from bastionlab.linfa import cross_validate\n",
    "\n",
    "cross_validate(\n",
    "    lr, lr.predict(train_X), train_y, cv=5, scoring=\"mean_absolute_error\"\n",
    ").fetch()"
   ]
  },
  {
   "cell_type": "code",
   "execution_count": 20,
   "metadata": {},
   "outputs": [],
   "source": [
    "connection.close()"
   ]
  }
 ],
 "metadata": {
  "kernelspec": {
   "display_name": "base",
   "language": "python",
   "name": "python3"
  },
  "language_info": {
   "codemirror_mode": {
    "name": "ipython",
    "version": 3
   },
   "file_extension": ".py",
   "mimetype": "text/x-python",
   "name": "python",
   "nbconvert_exporter": "python",
   "pygments_lexer": "ipython3",
   "version": "3.8.10"
  },
  "orig_nbformat": 4,
  "vscode": {
   "interpreter": {
    "hash": "cfb725626286d8c8fc5334ffe77697f720dc23e64d3046271825a5556b528e7d"
   }
  }
 },
 "nbformat": 4,
 "nbformat_minor": 2
}
