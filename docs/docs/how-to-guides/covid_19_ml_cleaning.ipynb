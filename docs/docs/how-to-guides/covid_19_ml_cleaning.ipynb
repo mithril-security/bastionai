{
 "cells": [
  {
   "attachments": {},
   "cell_type": "markdown",
   "metadata": {},
   "source": [
    "# Building a machine learning model with a Covid-19 dataset\n",
    "\n",
    "***#Rework that part (note to self)***\n",
    "\n",
    "AI models can play a vital role in diagnosing and better understanding medical issues and have the potential to save lives.  However, data owners with sensitive medical data, such as hospitals with datasets of patients' data, have often been left unable to share this data with other parties because of data privacy concerns. BastionLab offers the tools needed to share datasets and train and share AI models while offering security guaranties. Data scientists are able to handle datasets remotely and train ML models without ever having access to the full data in clear.\n",
    "\n",
    "In this notebook, we'll use a real-world Covid-19 dataset to show you how you could clean datasets, run queries and visualize data - without needing access to the data in clear.\n",
    "\n",
    "## Pre-requisites\n",
    "___________________________________________\n",
    "\n",
    "### Installation and dataset\n",
    "\n",
    "In order to run this notebook, we need to:\n",
    "- Have [Python3.7](https://www.python.org/downloads/) (or greater) and [Python Pip](https://pypi.org/project/pip/) installed\n",
    "- Install [BastionLab](https://bastionlab.readthedocs.io/en/latest/docs/getting-started/installation/)\n",
    "- Download [the dataset](https://raw.githubusercontent.com/rinbaruah/COVID_preconditions_Kaggle/master/Data/covid.csv) we will be using in this tutorial.\n",
    "\n",
    "We'll do so by running the code block below. \n",
    "\n",
    ">You can see our [Installation page](https://bastionlab.readthedocs.io/en/latest/docs/getting-started/installation/) to find the installation method that best suits your needs."
   ]
  },
  {
   "cell_type": "code",
   "execution_count": null,
   "metadata": {},
   "outputs": [
    {
     "ename": "",
     "evalue": "",
     "output_type": "error",
     "traceback": [
      "\u001b[1;31mRunning cells with '/bin/python3' requires ipykernel package.\n",
      "\u001b[1;31mRun the following command to install 'ipykernel' into the Python environment. \n",
      "\u001b[1;31mCommand: '/bin/python3 -m pip install ipykernel -U --user --force-reinstall'"
     ]
    }
   ],
   "source": [
    "# pip packages\n",
    "!pip install bastionlab\n",
    "!pip install bastionlab_server\n",
    "\n",
    "# download the dataset\n",
    "!wget 'https://raw.githubusercontent.com/rinbaruah/COVID_preconditions_Kaggle/master/Data/covid.csv'"
   ]
  },
  {
   "attachments": {},
   "cell_type": "markdown",
   "metadata": {},
   "source": [
    "This dataset collects data on outcomes of Covid cases based on various pre-conditions such as asthma and diabetes. This is a version of a huge dataset provided by the Mexican government based on the population of Mexico, so the insights gained from it may not be valid for other geographical areas in the world."
   ]
  },
  {
   "attachments": {},
   "cell_type": "markdown",
   "metadata": {},
   "source": [
    "### Launch and connect to the server"
   ]
  },
  {
   "cell_type": "code",
   "execution_count": null,
   "metadata": {},
   "outputs": [],
   "source": [
    "# launch bastionlab_server test package\n",
    "import bastionlab_server\n",
    "\n",
    "srv = bastionlab_server.start()"
   ]
  },
  {
   "attachments": {},
   "cell_type": "markdown",
   "metadata": {},
   "source": [
    ">*Note that the bastionlab_server package we install here was created for testing purposes. You can also install BastionLab server using our Docker image or from source (especially for non-test purposes). Check out our [Installation Tutorial](../getting-started/installation.md) for more details.*"
   ]
  },
  {
   "cell_type": "code",
   "execution_count": 3,
   "metadata": {},
   "outputs": [],
   "source": [
    "# connect to the server\n",
    "from bastionlab import Connection\n",
    "\n",
    "connection = Connection(\"localhost\")\n",
    "client = connection.client"
   ]
  },
  {
   "attachments": {},
   "cell_type": "markdown",
   "metadata": {},
   "source": [
    "### Upload the dataframe to the server"
   ]
  },
  {
   "attachments": {},
   "cell_type": "markdown",
   "metadata": {},
   "source": [
    "We'll quickly upload the dataset to the server with an open safety policy, since setting up BastionLab is not the focus of this tutorial. It will allows us to demonstrate features without having to approve any data access requests. You can check out how to define a safe privacy policy [here](https://bastionlab.readthedocs.io/en/latest/docs/tutorials/defining_policy_privacy/)."
   ]
  },
  {
   "cell_type": "code",
   "execution_count": 6,
   "metadata": {},
   "outputs": [],
   "source": [
    "import polars as pl\n",
    "from bastionlab.polars.policy import Policy, TrueRule, Log\n",
    "\n",
    "df = pl.read_csv(\"covid.csv\")\n",
    "\n",
    "policy = Policy(safe_zone=TrueRule(), unsafe_handling=Log(), savable=True)\n",
    "rdf = client.polars.send_df(df, policy=policy, sanitized_columns=[\"Name\"])\n",
    "\n",
    "rdf"
   ]
  },
  {
   "attachments": {},
   "cell_type": "markdown",
   "metadata": {},
   "source": [
    "<div class=\"warning\">\n",
    "<b>This policy is not suitable for production.</b> Please note that we <i>only</i> use it for demonstration purposes, to avoid having to approve any data access requests in the tutorial. <br></div> <br>\n",
    "\n",
    "We'll check that we're properly connected and that we have the authorizations by running a simple query:"
   ]
  },
  {
   "cell_type": "code",
   "execution_count": 7,
   "metadata": {},
   "outputs": [
    {
     "data": {
      "text/plain": [
       "{'id': polars.datatypes.Utf8,\n",
       " 'sex': polars.datatypes.Int64,\n",
       " 'patient_type': polars.datatypes.Int64,\n",
       " 'entry_date': polars.datatypes.Utf8,\n",
       " 'date_symptoms': polars.datatypes.Utf8,\n",
       " 'date_died': polars.datatypes.Utf8,\n",
       " 'intubed': polars.datatypes.Int64,\n",
       " 'pneumonia': polars.datatypes.Int64,\n",
       " 'age': polars.datatypes.Int64,\n",
       " 'pregnancy': polars.datatypes.Int64,\n",
       " 'diabetes': polars.datatypes.Int64,\n",
       " 'copd': polars.datatypes.Int64,\n",
       " 'asthma': polars.datatypes.Int64,\n",
       " 'inmsupr': polars.datatypes.Int64,\n",
       " 'hypertension': polars.datatypes.Int64,\n",
       " 'other_disease': polars.datatypes.Int64,\n",
       " 'cardiovascular': polars.datatypes.Int64,\n",
       " 'obesity': polars.datatypes.Int64,\n",
       " 'renal_chronic': polars.datatypes.Int64,\n",
       " 'tobacco': polars.datatypes.Int64,\n",
       " 'contact_other_covid': polars.datatypes.Int64,\n",
       " 'covid_res': polars.datatypes.Int64,\n",
       " 'icu': polars.datatypes.Int64}"
      ]
     },
     "execution_count": 7,
     "metadata": {},
     "output_type": "execute_result"
    }
   ],
   "source": [
    "rdf.schema"
   ]
  },
  {
   "attachments": {},
   "cell_type": "markdown",
   "metadata": {},
   "source": [
    "## Data cleaning\n",
    "_______________________________________________________________\n",
    "\n",
    "Let's start by preparing our dataset.\n",
    "\n",
    "### Column dtypes\n",
    "\n",
    "There are a few column dtypes that we'll want to change here. \n",
    "\n",
    "First, all the data columns (`'entry_date'`, `'date_symptoms'` and `'date_died'`) are `Utf8` (unicode) values. We can change the dtype of these to Polars `Date` type which allows us to access the day, month and year values individually and sort dates more easily.\n",
    "\n",
    "To do this, we'll use the `with_columns` method to replace our current date columns with a new version where the dates are converted to a `pl.Date`. We'll set `rdf` to equal the output of this function and then check that the schema attribute has updated as expected."
   ]
  },
  {
   "cell_type": "code",
   "execution_count": 8,
   "metadata": {},
   "outputs": [
    {
     "data": {
      "text/plain": [
       "{'id': polars.datatypes.Utf8,\n",
       " 'sex': polars.datatypes.Int64,\n",
       " 'patient_type': polars.datatypes.Int64,\n",
       " 'entry_date': polars.datatypes.Date,\n",
       " 'date_symptoms': polars.datatypes.Date,\n",
       " 'date_died': polars.datatypes.Date,\n",
       " 'intubed': polars.datatypes.Int64,\n",
       " 'pneumonia': polars.datatypes.Int64,\n",
       " 'age': polars.datatypes.Int64,\n",
       " 'pregnancy': polars.datatypes.Int64,\n",
       " 'diabetes': polars.datatypes.Int64,\n",
       " 'copd': polars.datatypes.Int64,\n",
       " 'asthma': polars.datatypes.Int64,\n",
       " 'inmsupr': polars.datatypes.Int64,\n",
       " 'hypertension': polars.datatypes.Int64,\n",
       " 'other_disease': polars.datatypes.Int64,\n",
       " 'cardiovascular': polars.datatypes.Int64,\n",
       " 'obesity': polars.datatypes.Int64,\n",
       " 'renal_chronic': polars.datatypes.Int64,\n",
       " 'tobacco': polars.datatypes.Int64,\n",
       " 'contact_other_covid': polars.datatypes.Int64,\n",
       " 'covid_res': polars.datatypes.Int64,\n",
       " 'icu': polars.datatypes.Int64}"
      ]
     },
     "execution_count": 8,
     "metadata": {},
     "output_type": "execute_result"
    }
   ],
   "source": [
    "# Converting our Utf8 type by using Pythong strptime() to create a datetime object\n",
    "rdf = rdf.with_columns(\n",
    "    [\n",
    "        pl.col(\"entry_date\").str.strptime(pl.Date, fmt=\"%d-%m-%Y\", strict=False),\n",
    "        pl.col(\"date_symptoms\").str.strptime(pl.Date, fmt=\"%d-%m-%Y\", strict=False),\n",
    "        pl.col(\"date_died\").str.strptime(pl.Date, fmt=\"%d-%m-%Y\", strict=False),\n",
    "    ]\n",
    ")\n",
    "\n",
    "# Testing that we get the expected result\n",
    "rdf.schema"
   ]
  },
  {
   "attachments": {},
   "cell_type": "markdown",
   "metadata": {},
   "source": [
    "### Replacing values\n",
    "\n",
    "The next thing we'd like clarify is the `'sex'` column. \n",
    "\n",
    "It uses the integer `1` for females and `2` for males. We want to change this to `'female'` for females, `'male'` for males and `'unknown'` for any other values.\n",
    "\n",
    "We can do this by using the `with_column` method with a `when.then.otherwise` clause which acts as a 'find and replace' tool. Then we set the `.alias` to `\"sex\"`, which will replace our current `'sex'` column with the updated one.\n",
    "\n",
    "When we print out the `schema`, we can see this has changed the dtype of the column to `Utf8`."
   ]
  },
  {
   "cell_type": "code",
   "execution_count": 9,
   "metadata": {},
   "outputs": [
    {
     "data": {
      "text/plain": [
       "{'id': polars.datatypes.Utf8,\n",
       " 'sex': polars.datatypes.Utf8,\n",
       " 'patient_type': polars.datatypes.Int64,\n",
       " 'entry_date': polars.datatypes.Date,\n",
       " 'date_symptoms': polars.datatypes.Date,\n",
       " 'date_died': polars.datatypes.Date,\n",
       " 'intubed': polars.datatypes.Int64,\n",
       " 'pneumonia': polars.datatypes.Int64,\n",
       " 'age': polars.datatypes.Int64,\n",
       " 'pregnancy': polars.datatypes.Int64,\n",
       " 'diabetes': polars.datatypes.Int64,\n",
       " 'copd': polars.datatypes.Int64,\n",
       " 'asthma': polars.datatypes.Int64,\n",
       " 'inmsupr': polars.datatypes.Int64,\n",
       " 'hypertension': polars.datatypes.Int64,\n",
       " 'other_disease': polars.datatypes.Int64,\n",
       " 'cardiovascular': polars.datatypes.Int64,\n",
       " 'obesity': polars.datatypes.Int64,\n",
       " 'renal_chronic': polars.datatypes.Int64,\n",
       " 'tobacco': polars.datatypes.Int64,\n",
       " 'contact_other_covid': polars.datatypes.Int64,\n",
       " 'covid_res': polars.datatypes.Int64,\n",
       " 'icu': polars.datatypes.Int64}"
      ]
     },
     "execution_count": 9,
     "metadata": {},
     "output_type": "execute_result"
    }
   ],
   "source": [
    "# Replacing '2' and '1' values by 'male' and 'female' and write \n",
    "# 'unknown' everywhere else. .alias replaces the current column with\n",
    "# the modified one. \n",
    "rdf = rdf.with_column(\n",
    "    pl.when(pl.col(\"sex\") == 2)\n",
    "    .then(\"male\")\n",
    "    .when(pl.col(\"sex\") == 1)\n",
    "    .then(\"female\")\n",
    "    .otherwise(\"unknown\")\n",
    "    .alias(\"sex\")\n",
    ")\n",
    "\n",
    "# Testing that we get the expected result\n",
    "rdf.schema"
   ]
  },
  {
   "attachments": {},
   "cell_type": "markdown",
   "metadata": {},
   "source": [
    "We have a similar issue with the `'patient_type'` column. It use the integer `1` for outpatients and `2` for inpatients. We can change this to `'out_patient'` and `'in_patient'` using the same method as previously."
   ]
  },
  {
   "cell_type": "code",
   "execution_count": 10,
   "metadata": {},
   "outputs": [
    {
     "data": {
      "text/plain": [
       "{'id': polars.datatypes.Utf8,\n",
       " 'sex': polars.datatypes.Utf8,\n",
       " 'patient_type': polars.datatypes.Utf8,\n",
       " 'entry_date': polars.datatypes.Date,\n",
       " 'date_symptoms': polars.datatypes.Date,\n",
       " 'date_died': polars.datatypes.Date,\n",
       " 'intubed': polars.datatypes.Int64,\n",
       " 'pneumonia': polars.datatypes.Int64,\n",
       " 'age': polars.datatypes.Int64,\n",
       " 'pregnancy': polars.datatypes.Int64,\n",
       " 'diabetes': polars.datatypes.Int64,\n",
       " 'copd': polars.datatypes.Int64,\n",
       " 'asthma': polars.datatypes.Int64,\n",
       " 'inmsupr': polars.datatypes.Int64,\n",
       " 'hypertension': polars.datatypes.Int64,\n",
       " 'other_disease': polars.datatypes.Int64,\n",
       " 'cardiovascular': polars.datatypes.Int64,\n",
       " 'obesity': polars.datatypes.Int64,\n",
       " 'renal_chronic': polars.datatypes.Int64,\n",
       " 'tobacco': polars.datatypes.Int64,\n",
       " 'contact_other_covid': polars.datatypes.Int64,\n",
       " 'covid_res': polars.datatypes.Int64,\n",
       " 'icu': polars.datatypes.Int64}"
      ]
     },
     "execution_count": 10,
     "metadata": {},
     "output_type": "execute_result"
    }
   ],
   "source": [
    "# Replacing patient type column integers by strings for clarity\n",
    "rdf = rdf.with_column(\n",
    "    pl.when(pl.col(\"patient_type\") == 2)\n",
    "    .then(\"in_patient\")\n",
    "    .when(pl.col(\"patient_type\") == 1)\n",
    "    .then(\"out_patient\")\n",
    "    .otherwise(\"unknown\")\n",
    "    .alias(\"patient_type\")\n",
    ")\n",
    "\n",
    "# Testing that we get the expected result\n",
    "rdf.schema"
   ]
  },
  {
   "attachments": {},
   "cell_type": "markdown",
   "metadata": {},
   "source": [
    "In all the columns refering to pre-conditions, `2` is used for `False` and `1` is used for `True`. We can replace `2` with `0` which is the more standard numerical equivalent to `False` in computer science.\n",
    "\n",
    "We'll do this by using the same logic as previously - but we'll use a `for` loop to iterate over all the columns we want to apply this query to."
   ]
  },
  {
   "cell_type": "code",
   "execution_count": 11,
   "metadata": {},
   "outputs": [
    {
     "data": {
      "text/plain": [
       "{'id': polars.datatypes.Utf8,\n",
       " 'sex': polars.datatypes.Utf8,\n",
       " 'patient_type': polars.datatypes.Utf8,\n",
       " 'entry_date': polars.datatypes.Date,\n",
       " 'date_symptoms': polars.datatypes.Date,\n",
       " 'date_died': polars.datatypes.Date,\n",
       " 'intubed': polars.datatypes.Int64,\n",
       " 'pneumonia': polars.datatypes.Int64,\n",
       " 'age': polars.datatypes.Int64,\n",
       " 'pregnancy': polars.datatypes.Int64,\n",
       " 'diabetes': polars.datatypes.Int64,\n",
       " 'copd': polars.datatypes.Int64,\n",
       " 'asthma': polars.datatypes.Int64,\n",
       " 'inmsupr': polars.datatypes.Int64,\n",
       " 'hypertension': polars.datatypes.Int64,\n",
       " 'other_disease': polars.datatypes.Int64,\n",
       " 'cardiovascular': polars.datatypes.Int64,\n",
       " 'obesity': polars.datatypes.Int64,\n",
       " 'renal_chronic': polars.datatypes.Int64,\n",
       " 'tobacco': polars.datatypes.Int64,\n",
       " 'contact_other_covid': polars.datatypes.Int64,\n",
       " 'covid_res': polars.datatypes.Int64,\n",
       " 'icu': polars.datatypes.Int64}"
      ]
     },
     "execution_count": 11,
     "metadata": {},
     "output_type": "execute_result"
    }
   ],
   "source": [
    "# Using a for loop to iterate over all the columns we want to change\n",
    "for x in [\n",
    "    \"intubed\",\n",
    "    \"pneumonia\",\n",
    "    \"pregnancy\",\n",
    "    \"diabetes\",\n",
    "    \"copd\",\n",
    "    \"asthma\",\n",
    "    \"inmsupr\",\n",
    "    \"hypertension\",\n",
    "    \"other_disease\",\n",
    "    \"cardiovascular\",\n",
    "    \"obesity\",\n",
    "    \"renal_chronic\",\n",
    "    \"covid_res\",\n",
    "    \"icu\",\n",
    "]:\n",
    "    rdf = rdf.with_columns(pl.when(pl.col(x) == 2).then(0).otherwise(1).alias(x))\n",
    "\n",
    "# Testing the result is as expected\n",
    "rdf.schema"
   ]
  },
  {
   "attachments": {},
   "cell_type": "markdown",
   "metadata": {},
   "source": [
    "### Null values\n",
    "\n",
    "Now, let's see where we might have problems with missing values in our dataset. \n",
    "\n",
    "We'll calculate what percentage of values are missing from each column by taking the sum of `is_null()` values in each column, multiplying them by 100 and dividing them by the total rows of that same column."
   ]
  },
  {
   "cell_type": "code",
   "execution_count": 12,
   "metadata": {},
   "outputs": [
    {
     "data": {
      "text/html": [
       "<div>\n",
       "<style scoped>\n",
       "    .dataframe tbody tr th:only-of-type {\n",
       "        vertical-align: middle;\n",
       "    }\n",
       "\n",
       "    .dataframe tbody tr th {\n",
       "        vertical-align: top;\n",
       "    }\n",
       "\n",
       "    .dataframe thead th {\n",
       "        text-align: right;\n",
       "    }\n",
       "\n",
       "    .dataframe td {\n",
       "        white-space: pre;\n",
       "    }\n",
       "\n",
       "    .dataframe td {\n",
       "        padding-top: 0;\n",
       "    }\n",
       "\n",
       "    .dataframe td {\n",
       "        padding-bottom: 0;\n",
       "    }\n",
       "</style>\n",
       "<table border=\"1\" class=\"dataframe\" >\n",
       "<small>shape: (1, 23)</small>\n",
       "<thead>\n",
       "<tr>\n",
       "<th>\n",
       "id\n",
       "</th>\n",
       "<th>\n",
       "sex\n",
       "</th>\n",
       "<th>\n",
       "patient_type\n",
       "</th>\n",
       "<th>\n",
       "entry_date\n",
       "</th>\n",
       "<th>\n",
       "date_symptoms\n",
       "</th>\n",
       "<th>\n",
       "date_died\n",
       "</th>\n",
       "<th>\n",
       "intubed\n",
       "</th>\n",
       "<th>\n",
       "pneumonia\n",
       "</th>\n",
       "<th>\n",
       "age\n",
       "</th>\n",
       "<th>\n",
       "pregnancy\n",
       "</th>\n",
       "<th>\n",
       "diabetes\n",
       "</th>\n",
       "<th>\n",
       "copd\n",
       "</th>\n",
       "<th>\n",
       "asthma\n",
       "</th>\n",
       "<th>\n",
       "inmsupr\n",
       "</th>\n",
       "<th>\n",
       "hypertension\n",
       "</th>\n",
       "<th>\n",
       "other_disease\n",
       "</th>\n",
       "<th>\n",
       "cardiovascular\n",
       "</th>\n",
       "<th>\n",
       "obesity\n",
       "</th>\n",
       "<th>\n",
       "renal_chronic\n",
       "</th>\n",
       "<th>\n",
       "tobacco\n",
       "</th>\n",
       "<th>\n",
       "contact_other_covid\n",
       "</th>\n",
       "<th>\n",
       "covid_res\n",
       "</th>\n",
       "<th>\n",
       "icu\n",
       "</th>\n",
       "</tr>\n",
       "<tr>\n",
       "<td>\n",
       "f64\n",
       "</td>\n",
       "<td>\n",
       "f64\n",
       "</td>\n",
       "<td>\n",
       "f64\n",
       "</td>\n",
       "<td>\n",
       "f64\n",
       "</td>\n",
       "<td>\n",
       "f64\n",
       "</td>\n",
       "<td>\n",
       "f64\n",
       "</td>\n",
       "<td>\n",
       "f64\n",
       "</td>\n",
       "<td>\n",
       "f64\n",
       "</td>\n",
       "<td>\n",
       "f64\n",
       "</td>\n",
       "<td>\n",
       "f64\n",
       "</td>\n",
       "<td>\n",
       "f64\n",
       "</td>\n",
       "<td>\n",
       "f64\n",
       "</td>\n",
       "<td>\n",
       "f64\n",
       "</td>\n",
       "<td>\n",
       "f64\n",
       "</td>\n",
       "<td>\n",
       "f64\n",
       "</td>\n",
       "<td>\n",
       "f64\n",
       "</td>\n",
       "<td>\n",
       "f64\n",
       "</td>\n",
       "<td>\n",
       "f64\n",
       "</td>\n",
       "<td>\n",
       "f64\n",
       "</td>\n",
       "<td>\n",
       "f64\n",
       "</td>\n",
       "<td>\n",
       "f64\n",
       "</td>\n",
       "<td>\n",
       "f64\n",
       "</td>\n",
       "<td>\n",
       "f64\n",
       "</td>\n",
       "</tr>\n",
       "</thead>\n",
       "<tbody>\n",
       "<tr>\n",
       "<td>\n",
       "0.0\n",
       "</td>\n",
       "<td>\n",
       "0.0\n",
       "</td>\n",
       "<td>\n",
       "0.0\n",
       "</td>\n",
       "<td>\n",
       "0.0\n",
       "</td>\n",
       "<td>\n",
       "0.0\n",
       "</td>\n",
       "<td>\n",
       "89.0625\n",
       "</td>\n",
       "<td>\n",
       "0.0\n",
       "</td>\n",
       "<td>\n",
       "0.0\n",
       "</td>\n",
       "<td>\n",
       "0.0\n",
       "</td>\n",
       "<td>\n",
       "0.0\n",
       "</td>\n",
       "<td>\n",
       "0.0\n",
       "</td>\n",
       "<td>\n",
       "0.0\n",
       "</td>\n",
       "<td>\n",
       "0.0\n",
       "</td>\n",
       "<td>\n",
       "0.0\n",
       "</td>\n",
       "<td>\n",
       "0.0\n",
       "</td>\n",
       "<td>\n",
       "0.0\n",
       "</td>\n",
       "<td>\n",
       "0.0\n",
       "</td>\n",
       "<td>\n",
       "0.0\n",
       "</td>\n",
       "<td>\n",
       "0.0\n",
       "</td>\n",
       "<td>\n",
       "0.0\n",
       "</td>\n",
       "<td>\n",
       "0.0\n",
       "</td>\n",
       "<td>\n",
       "0.0\n",
       "</td>\n",
       "<td>\n",
       "0.0\n",
       "</td>\n",
       "</tr>\n",
       "</tbody>\n",
       "</table>\n",
       "</div>"
      ],
      "text/plain": [
       "shape: (1, 23)\n",
       "┌─────┬─────┬──────────────┬────────────┬─────┬─────────┬─────────────────────┬───────────┬─────┐\n",
       "│ id  ┆ sex ┆ patient_type ┆ entry_date ┆ ... ┆ tobacco ┆ contact_other_covid ┆ covid_res ┆ icu │\n",
       "│ --- ┆ --- ┆ ---          ┆ ---        ┆     ┆ ---     ┆ ---                 ┆ ---       ┆ --- │\n",
       "│ f64 ┆ f64 ┆ f64          ┆ f64        ┆     ┆ f64     ┆ f64                 ┆ f64       ┆ f64 │\n",
       "╞═════╪═════╪══════════════╪════════════╪═════╪═════════╪═════════════════════╪═══════════╪═════╡\n",
       "│ 0.0 ┆ 0.0 ┆ 0.0          ┆ 0.0        ┆ ... ┆ 0.0     ┆ 0.0                 ┆ 0.0       ┆ 0.0 │\n",
       "└─────┴─────┴──────────────┴────────────┴─────┴─────────┴─────────────────────┴───────────┴─────┘"
      ]
     },
     "execution_count": 12,
     "metadata": {},
     "output_type": "execute_result"
    }
   ],
   "source": [
    "# Calculating the percentage of missing values from each column\n",
    "percent_missing = rdf.select(\n",
    "    pl.col(x).is_null().sum() * 100 / pl.col(x).count() for x in rdf.column_names\n",
    ")\n",
    "\n",
    "# Fetching the resulting RemoteDataFrame\n",
    "percent_missing.collect().fetch()"
   ]
  },
  {
   "attachments": {},
   "cell_type": "markdown",
   "metadata": {},
   "source": [
    "There are acutally no `null` values, except in the `'date_died'` column! \n",
    "\n",
    "This is weird. Taking a look at our `.csv` file, we see that this is because `null` values in the integer columns have been given the value `97`, `98` and `99`. We can replace these with `-1` for more clarity."
   ]
  },
  {
   "cell_type": "code",
   "execution_count": 13,
   "metadata": {},
   "outputs": [],
   "source": [
    "# Using a for loop to select all the column we want to change\n",
    "for x in [\n",
    "    \"intubed\",\n",
    "    \"pneumonia\",\n",
    "    \"pregnancy\",\n",
    "    \"diabetes\",\n",
    "    \"copd\",\n",
    "    \"asthma\",\n",
    "    \"inmsupr\",\n",
    "    \"hypertension\",\n",
    "    \"other_disease\",\n",
    "    \"cardiovascular\",\n",
    "    \"obesity\",\n",
    "    \"renal_chronic\",\n",
    "    \"covid_res\",\n",
    "    \"icu\",\n",
    "]:\n",
    "    rdf = rdf.with_columns(\n",
    "        pl.when(pl.col(x) == 97)\n",
    "        .then(-1)\n",
    "        .when(pl.col(x) == 98)\n",
    "        .then(-1)\n",
    "        .when(pl.col(x) == 99)\n",
    "        .then(-1)\n",
    "        .otherwise(pl.col(x))\n",
    "        .alias(x)\n",
    "    )"
   ]
  },
  {
   "attachments": {},
   "cell_type": "markdown",
   "metadata": {},
   "source": [
    "The `null` values in the `date_died` column correspond to dates that were originally stored as `9999-99-99` to indicate when patients did not die. They couldn't be converted to the `pl.Date` format since they do not pass parsing rules. \n",
    "\n",
    "One option would be to add a new fake date to point out these cases, but we will leave them as `null` for now, to clearly indicate that these patients didn't die."
   ]
  },
  {
   "attachments": {},
   "cell_type": "markdown",
   "metadata": {},
   "source": [
    "### Dropping columns\n",
    "\n",
    "This is our last cleaning step: we will drop the `'id'` column since we have no use for it in our training model."
   ]
  },
  {
   "cell_type": "code",
   "execution_count": 14,
   "metadata": {},
   "outputs": [],
   "source": [
    "# Deleting the 'id' column\n",
    "rdf = rdf.drop(\"id\")"
   ]
  },
  {
   "attachments": {},
   "cell_type": "markdown",
   "metadata": {},
   "source": [
    "Also, unconcerned columns (`date_died`, `entry_date`, `date_symptoms`) are removed from the RemoteDataFrame using `drop`.\n",
    "\n",
    "***# ????***"
   ]
  },
  {
   "cell_type": "code",
   "execution_count": 15,
   "metadata": {},
   "outputs": [],
   "source": [
    "rdf = rdf.drop(\n",
    "    [\"entry_date\", \"date_symptoms\", \"date_died\", \"patient_type\", \"sex\", \"id\"]\n",
    ").collect()"
   ]
  },
  {
   "attachments": {},
   "cell_type": "markdown",
   "metadata": {},
   "source": [
    "## Data conversion: from DataFrame to Dataset"
   ]
  },
  {
   "attachments": {},
   "cell_type": "markdown",
   "metadata": {},
   "source": [
    "Now that our data is clean, let's convert the Covid dataset to a trainable dataset on BastionLab. \n",
    "\n",
    "Our first step will be to transform all the columns so they can be individually converted into tensors. We'll make them into `RemoteSeries`, a pointer to a column in the `RemoteDataFrame`. \n",
    "\n",
    "***# You talk about this, but where to we do it?***"
   ]
  },
  {
   "cell_type": "code",
   "execution_count": 16,
   "metadata": {},
   "outputs": [],
   "source": [
    "from bastionlab.polars import train_test_split\n",
    "\n",
    "# The RemoteDataFrame is shuffled and split into training and testing dataset.\n",
    "train_rdf, test_rdf = train_test_split(\n",
    "    rdf,\n",
    "    test_size=0.2,\n",
    "    shuffle=True,\n",
    ")"
   ]
  },
  {
   "cell_type": "code",
   "execution_count": 17,
   "metadata": {},
   "outputs": [],
   "source": [
    "import torch\n",
    "from bastionlab.torch.remote_torch import RemoteDataset\n",
    "\n",
    "# Get all columns of the RemoteDataFrame\n",
    "cols = rdf.column_names\n",
    "\n",
    "# Transform RemoteDataFrame to RemoteTensor\n",
    "train_inputs = train_rdf.columns(cols).to_tensor()\n",
    "test_inputs = test_rdf.columns(cols).to_tensor()\n",
    "\n",
    "# Cast RemoteTensor from `int64` to `float32`\n",
    "train_inputs = train_inputs.to(torch.float32)\n",
    "test_inputs = train_inputs.to(torch.float32)\n",
    "\n",
    "label = \"covid_res\"\n",
    "\n",
    "# The label tensor is selected from the remote_tensors storage\n",
    "train_label = train_rdf.column(label).to_tensor()\n",
    "test_label = test_rdf.column(label).to_tensor()\n",
    "\n",
    "train_dataset = RemoteDataset(inputs=[train_inputs], label=train_label)\n",
    "test_dataset = RemoteDataset(inputs=[test_inputs], label=test_label)"
   ]
  },
  {
   "cell_type": "code",
   "execution_count": 18,
   "metadata": {},
   "outputs": [],
   "source": [
    "import torch\n",
    "from torch.nn import Module, Linear\n",
    "\n",
    "# A simple LinearRegression model is created to train on the Covid Dataset\n",
    "# (which has 17 features features and 2 output features\n",
    "# [1-`has_covid`, 0-`does_not_have_covid`])\n",
    "class LinearRegression(Module):\n",
    "    def __init__(self) -> None:\n",
    "        super().__init__()\n",
    "        self.layer1 = Linear(17, 2)\n",
    "\n",
    "    def forward(self, tensor):\n",
    "        return self.layer1(tensor)\n",
    "\n",
    "\n",
    "# An instance of our Covid LinearRegression model is created\n",
    "model = LinearRegression()"
   ]
  },
  {
   "cell_type": "code",
   "execution_count": 19,
   "metadata": {},
   "outputs": [
    {
     "name": "stderr",
     "output_type": "stream",
     "text": [
      "Sending LinearRegression: 100%|████████████████████| 3.28k/3.28k [00:00<00:00, 1.49MB/s]\n"
     ]
    }
   ],
   "source": [
    "from bastionlab.torch.optimizer_config import Adam\n",
    "\n",
    "# The model is uploaded to the BastionLab Torch service.\n",
    "remote_learner = connection.client.torch.RemoteLearner(\n",
    "    model,\n",
    "    train_dataset,\n",
    "    max_batch_size=2,\n",
    "    loss=\"cross_entropy\",\n",
    "    optimizer=Adam(lr=5e-5),\n",
    "    model_name=\"LinearRegression\",\n",
    ")"
   ]
  },
  {
   "cell_type": "code",
   "execution_count": 20,
   "metadata": {},
   "outputs": [
    {
     "name": "stderr",
     "output_type": "stream",
     "text": [
      "Epoch 1/1 - train: 100%|████████████████████| 25/25 [00:00<00:00, 121.06batch/s, cross_entropy=10.0000 (+/- 563.7264)]  \n"
     ]
    }
   ],
   "source": [
    "# The linear regression model is trained on the dataset here.\n",
    "remote_learner.fit(nb_epochs=1)"
   ]
  },
  {
   "cell_type": "code",
   "execution_count": 21,
   "metadata": {},
   "outputs": [
    {
     "name": "stderr",
     "output_type": "stream",
     "text": [
      "Epoch 1/1 - test: 100%|████████████████████| 25/25 [00:00<00:00, 121.06batch/s, cross_entropy=0.0000 (+/- 563.7264)]  \n"
     ]
    }
   ],
   "source": [
    "# The linear regression model is validated with the `test_dataset`\n",
    "remote_learner.test(test_dataset)"
   ]
  },
  {
   "cell_type": "code",
   "execution_count": 22,
   "metadata": {},
   "outputs": [
    {
     "data": {
      "text/plain": [
       "LinearRegression(\n",
       "  (layer1): Linear(in_features=17, out_features=2, bias=True)\n",
       ")"
      ]
     },
     "execution_count": 22,
     "metadata": {},
     "output_type": "execute_result"
    }
   ],
   "source": [
    "# The trained is fetched from the BastionLab Torch service.\n",
    "remote_learner.get_model()"
   ]
  },
  {
   "attachments": {},
   "cell_type": "markdown",
   "metadata": {},
   "source": [
    "Our deep learning model has been trained with privacy garantees! All that's left to do is close our connection:"
   ]
  },
  {
   "cell_type": "code",
   "execution_count": 23,
   "metadata": {},
   "outputs": [],
   "source": [
    "connection.close()"
   ]
  }
 ],
 "metadata": {
  "kernelspec": {
   "display_name": "Python 3",
   "language": "python",
   "name": "python3"
  },
  "language_info": {
   "codemirror_mode": {
    "name": "ipython",
    "version": 3
   },
   "file_extension": ".py",
   "mimetype": "text/x-python",
   "name": "python",
   "nbconvert_exporter": "python",
   "pygments_lexer": "ipython3",
   "version": "3.8.10 (default, Jun 22 2022, 20:18:18) \n[GCC 9.4.0]"
  },
  "orig_nbformat": 4,
  "vscode": {
   "interpreter": {
    "hash": "916dbcbb3f70747c44a77c7bcd40155683ae19c65e1c03b4aa3499c5328201f1"
   }
  }
 },
 "nbformat": 4,
 "nbformat_minor": 2
}
