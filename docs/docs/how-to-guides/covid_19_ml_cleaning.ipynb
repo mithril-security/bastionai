{
 "cells": [
  {
   "attachments": {},
   "cell_type": "markdown",
   "metadata": {},
   "source": [
    "# Building a deep learning model with a Covid-19 dataset\n",
    "\n",
    "AI models are very good at preventing accidents or diagnosing medical conditions. They can analyse pixels systematically in ways our eyes can't and avoid many human errors. But for them to be trained at all, they need massive amounts of data that are often very sensitive since they hold lots of private informations (*name, age, sex, adress, previous medical conditions...*). \n",
    "\n",
    "Take the Covid-19 crisis for example: many collaborations couldn't happen because of privacy concerns despite the general urgency.\n",
    "\n",
    "This is where BastionLab comes in. Our framework offers tools to share datasets and train AI models with security garantees. It lets data scientists handle datasets remotely and train ML models without ever having access to the full data in clear.\n",
    "\n",
    "In this notebook, we'll use a **real-world Covid-19 dataset** to show you how you could **clean datasets**, **run queries** and **visualize data** with BastionLab and Torch. \n",
    "\n",
    "## Pre-requisites\n",
    "___________________________________________\n",
    "\n",
    "### Installation and dataset\n",
    "\n",
    "In order to run this notebook, we need to:\n",
    "- Have [Python3.7](https://www.python.org/downloads/) (or greater) and [Python Pip](https://pypi.org/project/pip/) installed\n",
    "- Install [BastionLab](https://bastionlab.readthedocs.io/en/latest/docs/getting-started/installation/)\n",
    "- Download [the dataset](https://raw.githubusercontent.com/rinbaruah/COVID_preconditions_Kaggle/master/Data/covid.csv) we will be using in this tutorial.\n",
    "\n",
    "We'll do so by running the code block below. \n",
    "\n",
    ">You can see our [Installation page](https://bastionlab.readthedocs.io/en/latest/docs/getting-started/installation/) to find the installation method that best suits your needs."
   ]
  },
  {
   "cell_type": "code",
   "execution_count": null,
   "metadata": {},
   "outputs": [],
   "source": [
    "# pip packages\n",
    "!pip install bastionlab\n",
    "!pip install bastionlab_server\n",
    "\n",
    "# download the dataset\n",
    "!wget 'https://raw.githubusercontent.com/rinbaruah/COVID_preconditions_Kaggle/master/Data/covid.csv'"
   ]
  },
  {
   "attachments": {},
   "cell_type": "markdown",
   "metadata": {},
   "source": [
    "This dataset collects data on outcomes of Covid cases based on various pre-conditions such as asthma and diabetes. This is a version of a huge dataset provided by the Mexican government based on the population of Mexico, so the insights gained from it may not be valid for other geographical areas in the world."
   ]
  },
  {
   "attachments": {},
   "cell_type": "markdown",
   "metadata": {},
   "source": [
    "### Launch and connect to the server"
   ]
  },
  {
   "cell_type": "code",
   "execution_count": 269,
   "metadata": {},
   "outputs": [
    {
     "name": "stdout",
     "output_type": "stream",
     "text": [
      "BastionLab server (version 0.3.5) already installed\n",
      "Libtorch (version 1.12.1) already installed\n",
      "TLS certificates already generated\n",
      "Bastionlab server is now running on port 50056\n"
     ]
    }
   ],
   "source": [
    "# launch bastionlab_server test package\n",
    "import bastionlab_server\n",
    "\n",
    "srv = bastionlab_server.start()"
   ]
  },
  {
   "attachments": {},
   "cell_type": "markdown",
   "metadata": {},
   "source": [
    ">*Note that the bastionlab_server package we install here was created for testing purposes. You can also install BastionLab server using our Docker image or from source (especially for non-test purposes). Check out our [Installation Tutorial](../getting-started/installation.md) for more details.*"
   ]
  },
  {
   "cell_type": "code",
   "execution_count": 270,
   "metadata": {},
   "outputs": [],
   "source": [
    "# connect to the server\n",
    "from bastionlab import Connection\n",
    "\n",
    "connection = Connection(\"localhost\")\n",
    "client = connection.client"
   ]
  },
  {
   "attachments": {},
   "cell_type": "markdown",
   "metadata": {},
   "source": [
    "### Upload the dataframe to the server"
   ]
  },
  {
   "attachments": {},
   "cell_type": "markdown",
   "metadata": {},
   "source": [
    "We'll quickly upload the dataset to the server with an open safety policy, since setting up BastionLab is not the focus of this tutorial. It will allows us to demonstrate features without having to approve any data access requests. You can check out how to define a safe privacy policy [here](https://bastionlab.readthedocs.io/en/latest/docs/tutorials/defining_policy_privacy/)."
   ]
  },
  {
   "cell_type": "code",
   "execution_count": null,
   "metadata": {},
   "outputs": [],
   "source": [
    "import polars as pl\n",
    "from bastionlab.polars.policy import Policy, TrueRule, Log\n",
    "\n",
    "df = pl.read_csv(\"covid.csv\")\n",
    "\n",
    "policy = Policy(safe_zone=TrueRule(), unsafe_handling=Log(), savable=True)\n",
    "rdf = client.polars.send_df(df, policy=policy, sanitized_columns=[\"Name\"])\n",
    "\n",
    "rdf"
   ]
  },
  {
   "attachments": {},
   "cell_type": "markdown",
   "metadata": {},
   "source": [
    "<div class=\"warning\">\n",
    "<b>This policy is not suitable for production.</b> Please note that we <i>only</i> use it for demonstration purposes, to avoid having to approve any data access requests in the tutorial. <br></div> <br>\n",
    "\n",
    "We'll check that we're properly connected and that we have the authorizations by running a simple query:"
   ]
  },
  {
   "cell_type": "code",
   "execution_count": 272,
   "metadata": {},
   "outputs": [
    {
     "data": {
      "text/plain": [
       "{'id': polars.datatypes.Utf8,\n",
       " 'sex': polars.datatypes.Int64,\n",
       " 'patient_type': polars.datatypes.Int64,\n",
       " 'entry_date': polars.datatypes.Utf8,\n",
       " 'date_symptoms': polars.datatypes.Utf8,\n",
       " 'date_died': polars.datatypes.Utf8,\n",
       " 'intubed': polars.datatypes.Int64,\n",
       " 'pneumonia': polars.datatypes.Int64,\n",
       " 'age': polars.datatypes.Int64,\n",
       " 'pregnancy': polars.datatypes.Int64,\n",
       " 'diabetes': polars.datatypes.Int64,\n",
       " 'copd': polars.datatypes.Int64,\n",
       " 'asthma': polars.datatypes.Int64,\n",
       " 'inmsupr': polars.datatypes.Int64,\n",
       " 'hypertension': polars.datatypes.Int64,\n",
       " 'other_disease': polars.datatypes.Int64,\n",
       " 'cardiovascular': polars.datatypes.Int64,\n",
       " 'obesity': polars.datatypes.Int64,\n",
       " 'renal_chronic': polars.datatypes.Int64,\n",
       " 'tobacco': polars.datatypes.Int64,\n",
       " 'contact_other_covid': polars.datatypes.Int64,\n",
       " 'covid_res': polars.datatypes.Int64,\n",
       " 'icu': polars.datatypes.Int64}"
      ]
     },
     "execution_count": 272,
     "metadata": {},
     "output_type": "execute_result"
    }
   ],
   "source": [
    "rdf.schema"
   ]
  },
  {
   "attachments": {},
   "cell_type": "markdown",
   "metadata": {},
   "source": [
    "## Data cleaning\n",
    "_______________________________________________________________\n",
    "\n",
    "Let's start by preparing our dataset.\n",
    "\n",
    "### Dropping columns\n",
    "\n",
    "Firstly let's use the `drop` method to remove the columns we don't need for our training model: `entry_date`, `date_symptoms`, `date_died`, `patient_type`, `sex`, `id` and `date`."
   ]
  },
  {
   "cell_type": "code",
   "execution_count": 273,
   "metadata": {},
   "outputs": [],
   "source": [
    "# Dropping columns that don't help our model inference\n",
    "rdf = rdf.drop(\n",
    "    [\"entry_date\", \"date_symptoms\", \"date_died\", \"patient_type\", \"sex\", \"id\", \"date\"]\n",
    ")"
   ]
  },
  {
   "attachments": {},
   "cell_type": "markdown",
   "metadata": {},
   "source": [
    "## Checking dtypes\n",
    "\n",
    "We want to make sure that all categorical columns like `diabetes` have an integer dtype. These are columns that contain either `2` to represent true, the patient did have diabetes, `1` to represent false, the patient didn't have diabetes or `97`, `98` or `99` which are used to represent `unknown`. Any continuous value such as `age` should be represented by a float.\n",
    "\n",
    "By printing out the schema of our RemoteLazyFrame, we see that `age` is an integer value."
   ]
  },
  {
   "cell_type": "code",
   "execution_count": 274,
   "metadata": {},
   "outputs": [
    {
     "data": {
      "text/plain": [
       "{'intubed': polars.datatypes.Int64,\n",
       " 'pneumonia': polars.datatypes.Int64,\n",
       " 'age': polars.datatypes.Int64,\n",
       " 'pregnancy': polars.datatypes.Int64,\n",
       " 'diabetes': polars.datatypes.Int64,\n",
       " 'copd': polars.datatypes.Int64,\n",
       " 'asthma': polars.datatypes.Int64,\n",
       " 'inmsupr': polars.datatypes.Int64,\n",
       " 'hypertension': polars.datatypes.Int64,\n",
       " 'other_disease': polars.datatypes.Int64,\n",
       " 'cardiovascular': polars.datatypes.Int64,\n",
       " 'obesity': polars.datatypes.Int64,\n",
       " 'renal_chronic': polars.datatypes.Int64,\n",
       " 'tobacco': polars.datatypes.Int64,\n",
       " 'contact_other_covid': polars.datatypes.Int64,\n",
       " 'covid_res': polars.datatypes.Int64,\n",
       " 'icu': polars.datatypes.Int64}"
      ]
     },
     "execution_count": 274,
     "metadata": {},
     "output_type": "execute_result"
    }
   ],
   "source": [
    "rdf.schema"
   ]
  },
  {
   "attachments": {},
   "cell_type": "markdown",
   "metadata": {},
   "source": [
    "We will convert the age column t to a float value using Polars `cast` method."
   ]
  },
  {
   "cell_type": "code",
   "execution_count": 275,
   "metadata": {},
   "outputs": [],
   "source": [
    "rdf = rdf.with_column(pl.col(\"age\").cast(pl.Float64, strict=False))"
   ]
  },
  {
   "attachments": {},
   "cell_type": "markdown",
   "metadata": {},
   "source": [
    "### Handling null/unknown values\n",
    "\n",
    "In the case of this dataset, we don't have null values as such, but we do have the use of `97`, `98` and `99` to signify \"unknown\" in our categorical columns.\n",
    "\n",
    "To decide the best strategy for handling these values, let's first get a sense of the scale of these unknown values!\n",
    "\n",
    "Firstly, we will store the names of all these categorical columns in a list. Then we will get the sum of values in these columns which are 97,98 or 99 by using Polars `is_between` function. We will get a percentage of this value against the total values in the columns."
   ]
  },
  {
   "cell_type": "code",
   "execution_count": 276,
   "metadata": {},
   "outputs": [
    {
     "data": {
      "text/html": [
       "<div>\n",
       "<style scoped>\n",
       "    .dataframe tbody tr th:only-of-type {\n",
       "        vertical-align: middle;\n",
       "    }\n",
       "\n",
       "    .dataframe tbody tr th {\n",
       "        vertical-align: top;\n",
       "    }\n",
       "\n",
       "    .dataframe thead th {\n",
       "        text-align: right;\n",
       "    }\n",
       "\n",
       "    .dataframe td {\n",
       "        white-space: pre;\n",
       "    }\n",
       "\n",
       "    .dataframe td {\n",
       "        padding-top: 0;\n",
       "    }\n",
       "\n",
       "    .dataframe td {\n",
       "        padding-bottom: 0;\n",
       "    }\n",
       "</style>\n",
       "<table border=\"1\" class=\"dataframe\" >\n",
       "<small>shape: (1, 16)</small>\n",
       "<thead>\n",
       "<tr>\n",
       "<th>\n",
       "intubed\n",
       "</th>\n",
       "<th>\n",
       "pneumonia\n",
       "</th>\n",
       "<th>\n",
       "pregnancy\n",
       "</th>\n",
       "<th>\n",
       "diabetes\n",
       "</th>\n",
       "<th>\n",
       "copd\n",
       "</th>\n",
       "<th>\n",
       "asthma\n",
       "</th>\n",
       "<th>\n",
       "inmsupr\n",
       "</th>\n",
       "<th>\n",
       "hypertension\n",
       "</th>\n",
       "<th>\n",
       "other_disease\n",
       "</th>\n",
       "<th>\n",
       "cardiovascular\n",
       "</th>\n",
       "<th>\n",
       "obesity\n",
       "</th>\n",
       "<th>\n",
       "renal_chronic\n",
       "</th>\n",
       "<th>\n",
       "tobacco\n",
       "</th>\n",
       "<th>\n",
       "contact_other_covid\n",
       "</th>\n",
       "<th>\n",
       "covid_res\n",
       "</th>\n",
       "<th>\n",
       "icu\n",
       "</th>\n",
       "</tr>\n",
       "<tr>\n",
       "<td>\n",
       "f64\n",
       "</td>\n",
       "<td>\n",
       "f64\n",
       "</td>\n",
       "<td>\n",
       "f64\n",
       "</td>\n",
       "<td>\n",
       "f64\n",
       "</td>\n",
       "<td>\n",
       "f64\n",
       "</td>\n",
       "<td>\n",
       "f64\n",
       "</td>\n",
       "<td>\n",
       "f64\n",
       "</td>\n",
       "<td>\n",
       "f64\n",
       "</td>\n",
       "<td>\n",
       "f64\n",
       "</td>\n",
       "<td>\n",
       "f64\n",
       "</td>\n",
       "<td>\n",
       "f64\n",
       "</td>\n",
       "<td>\n",
       "f64\n",
       "</td>\n",
       "<td>\n",
       "f64\n",
       "</td>\n",
       "<td>\n",
       "f64\n",
       "</td>\n",
       "<td>\n",
       "f64\n",
       "</td>\n",
       "<td>\n",
       "f64\n",
       "</td>\n",
       "</tr>\n",
       "</thead>\n",
       "<tbody>\n",
       "<tr>\n",
       "<td>\n",
       "78.505371\n",
       "</td>\n",
       "<td>\n",
       "0.001941\n",
       "</td>\n",
       "<td>\n",
       "50.952697\n",
       "</td>\n",
       "<td>\n",
       "0.349628\n",
       "</td>\n",
       "<td>\n",
       "0.308682\n",
       "</td>\n",
       "<td>\n",
       "0.309212\n",
       "</td>\n",
       "<td>\n",
       "0.349452\n",
       "</td>\n",
       "<td>\n",
       "0.321919\n",
       "</td>\n",
       "<td>\n",
       "0.458523\n",
       "</td>\n",
       "<td>\n",
       "0.321566\n",
       "</td>\n",
       "<td>\n",
       "0.31433\n",
       "</td>\n",
       "<td>\n",
       "0.316271\n",
       "</td>\n",
       "<td>\n",
       "0.336568\n",
       "</td>\n",
       "<td>\n",
       "30.891349\n",
       "</td>\n",
       "<td>\n",
       "0.0\n",
       "</td>\n",
       "<td>\n",
       "78.505547\n",
       "</td>\n",
       "</tr>\n",
       "</tbody>\n",
       "</table>\n",
       "</div>"
      ],
      "text/plain": [
       "shape: (1, 16)\n",
       "┌───────────┬─────────┬───────────┬──────────┬─────┬──────────┬────────────┬───────────┬───────────┐\n",
       "│ intubed   ┆ pneumon ┆ pregnancy ┆ diabetes ┆ ... ┆ tobacco  ┆ contact_ot ┆ covid_res ┆ icu       │\n",
       "│ ---       ┆ ia      ┆ ---       ┆ ---      ┆     ┆ ---      ┆ her_covid  ┆ ---       ┆ ---       │\n",
       "│ f64       ┆ ---     ┆ f64       ┆ f64      ┆     ┆ f64      ┆ ---        ┆ f64       ┆ f64       │\n",
       "│           ┆ f64     ┆           ┆          ┆     ┆          ┆ f64        ┆           ┆           │\n",
       "╞═══════════╪═════════╪═══════════╪══════════╪═════╪══════════╪════════════╪═══════════╪═══════════╡\n",
       "│ 78.505371 ┆ 0.00194 ┆ 50.952697 ┆ 0.349628 ┆ ... ┆ 0.336568 ┆ 30.891349  ┆ 0.0       ┆ 78.505547 │\n",
       "│           ┆ 1       ┆           ┆          ┆     ┆          ┆            ┆           ┆           │\n",
       "└───────────┴─────────┴───────────┴──────────┴─────┴──────────┴────────────┴───────────┴───────────┘"
      ]
     },
     "execution_count": 276,
     "metadata": {},
     "output_type": "execute_result"
    }
   ],
   "source": [
    "#Get list of all int64 columns\n",
    "int_cols = []\n",
    "for x in rdf.columns:\n",
    "    if rdf.schema[x] == pl.datatypes.Int64:\n",
    "        int_cols.append(x)\n",
    "\n",
    "#get percentage of values in column between 96 and 100\n",
    "percent_missing = rdf.select(\n",
    "        pl.col(x).is_between(96,100).sum().alias(x) * 100 / pl.col(x).count() for x in int_cols\n",
    ")\n",
    "percent_missing.collect().fetch()"
   ]
  },
  {
   "attachments": {},
   "cell_type": "markdown",
   "metadata": {},
   "source": [
    "Since the `intubed`, `pregnancy`, `icu` and `contact_other_covid` columns contain significant amounts of \"unknown\" values, we will `drop` them from our model."
   ]
  },
  {
   "cell_type": "code",
   "execution_count": 277,
   "metadata": {},
   "outputs": [],
   "source": [
    "rdf = rdf.drop(\n",
    "    [\"intubed\", \"pregnancy\", \"contact_other_covid\", \"icu\"]\n",
    ")"
   ]
  },
  {
   "attachments": {},
   "cell_type": "markdown",
   "metadata": {},
   "source": [
    "Next we will delete any rows which have a value which is not `1` or `2` for our categorical columns, essentially deleting all of these unknown 97, 98 and 99 values, whilst  also ensuring there are no other unexpected values."
   ]
  },
  {
   "cell_type": "code",
   "execution_count": 288,
   "metadata": {},
   "outputs": [],
   "source": [
    "int_cols = []\n",
    "for x in rdf.columns:\n",
    "    if rdf.schema[x] == pl.datatypes.Int64:\n",
    "        int_cols.append(x)\n",
    "\n",
    "rdf = rdf.filter(pl.col([x for x in int_cols]).is_between(0, 3))"
   ]
  },
  {
   "attachments": {},
   "cell_type": "markdown",
   "metadata": {},
   "source": [
    "### View dataset size and columns\n",
    "\n",
    "So now we have finished cleaning our dataset, we can take a look again at some information about our dataset so we can confirm our dataset is still sufficiently large for training our model."
   ]
  },
  {
   "cell_type": "code",
   "execution_count": 299,
   "metadata": {},
   "outputs": [
    {
     "data": {
      "text/plain": [
       "{'pneumonia': polars.datatypes.Int64,\n",
       " 'age': polars.datatypes.Float64,\n",
       " 'diabetes': polars.datatypes.Int64,\n",
       " 'copd': polars.datatypes.Int64,\n",
       " 'asthma': polars.datatypes.Int64,\n",
       " 'inmsupr': polars.datatypes.Int64,\n",
       " 'hypertension': polars.datatypes.Int64,\n",
       " 'other_disease': polars.datatypes.Int64,\n",
       " 'cardiovascular': polars.datatypes.Int64,\n",
       " 'obesity': polars.datatypes.Int64,\n",
       " 'renal_chronic': polars.datatypes.Int64,\n",
       " 'tobacco': polars.datatypes.Int64,\n",
       " 'covid_res': polars.datatypes.Int64}"
      ]
     },
     "execution_count": 299,
     "metadata": {},
     "output_type": "execute_result"
    }
   ],
   "source": [
    "rdf.schema"
   ]
  },
  {
   "cell_type": "code",
   "execution_count": 302,
   "metadata": {},
   "outputs": [
    {
     "data": {
      "text/html": [
       "<div>\n",
       "<style scoped>\n",
       "    .dataframe tbody tr th:only-of-type {\n",
       "        vertical-align: middle;\n",
       "    }\n",
       "\n",
       "    .dataframe tbody tr th {\n",
       "        vertical-align: top;\n",
       "    }\n",
       "\n",
       "    .dataframe thead th {\n",
       "        text-align: right;\n",
       "    }\n",
       "\n",
       "    .dataframe td {\n",
       "        white-space: pre;\n",
       "    }\n",
       "\n",
       "    .dataframe td {\n",
       "        padding-top: 0;\n",
       "    }\n",
       "\n",
       "    .dataframe td {\n",
       "        padding-bottom: 0;\n",
       "    }\n",
       "</style>\n",
       "<table border=\"1\" class=\"dataframe\" >\n",
       "<small>shape: (1, 13)</small>\n",
       "<thead>\n",
       "<tr>\n",
       "<th>\n",
       "pneumonia\n",
       "</th>\n",
       "<th>\n",
       "age\n",
       "</th>\n",
       "<th>\n",
       "diabetes\n",
       "</th>\n",
       "<th>\n",
       "copd\n",
       "</th>\n",
       "<th>\n",
       "asthma\n",
       "</th>\n",
       "<th>\n",
       "inmsupr\n",
       "</th>\n",
       "<th>\n",
       "hypertension\n",
       "</th>\n",
       "<th>\n",
       "other_disease\n",
       "</th>\n",
       "<th>\n",
       "cardiovascular\n",
       "</th>\n",
       "<th>\n",
       "obesity\n",
       "</th>\n",
       "<th>\n",
       "renal_chronic\n",
       "</th>\n",
       "<th>\n",
       "tobacco\n",
       "</th>\n",
       "<th>\n",
       "covid_res\n",
       "</th>\n",
       "</tr>\n",
       "<tr>\n",
       "<td>\n",
       "u32\n",
       "</td>\n",
       "<td>\n",
       "u32\n",
       "</td>\n",
       "<td>\n",
       "u32\n",
       "</td>\n",
       "<td>\n",
       "u32\n",
       "</td>\n",
       "<td>\n",
       "u32\n",
       "</td>\n",
       "<td>\n",
       "u32\n",
       "</td>\n",
       "<td>\n",
       "u32\n",
       "</td>\n",
       "<td>\n",
       "u32\n",
       "</td>\n",
       "<td>\n",
       "u32\n",
       "</td>\n",
       "<td>\n",
       "u32\n",
       "</td>\n",
       "<td>\n",
       "u32\n",
       "</td>\n",
       "<td>\n",
       "u32\n",
       "</td>\n",
       "<td>\n",
       "u32\n",
       "</td>\n",
       "</tr>\n",
       "</thead>\n",
       "<tbody>\n",
       "<tr>\n",
       "<td>\n",
       "496291\n",
       "</td>\n",
       "<td>\n",
       "496291\n",
       "</td>\n",
       "<td>\n",
       "496291\n",
       "</td>\n",
       "<td>\n",
       "496291\n",
       "</td>\n",
       "<td>\n",
       "496291\n",
       "</td>\n",
       "<td>\n",
       "496291\n",
       "</td>\n",
       "<td>\n",
       "496291\n",
       "</td>\n",
       "<td>\n",
       "496291\n",
       "</td>\n",
       "<td>\n",
       "496291\n",
       "</td>\n",
       "<td>\n",
       "496291\n",
       "</td>\n",
       "<td>\n",
       "496291\n",
       "</td>\n",
       "<td>\n",
       "496291\n",
       "</td>\n",
       "<td>\n",
       "496291\n",
       "</td>\n",
       "</tr>\n",
       "</tbody>\n",
       "</table>\n",
       "</div>"
      ],
      "text/plain": [
       "shape: (1, 13)\n",
       "┌───────────┬────────┬──────────┬────────┬─────┬─────────┬───────────────┬─────────┬───────────┐\n",
       "│ pneumonia ┆ age    ┆ diabetes ┆ copd   ┆ ... ┆ obesity ┆ renal_chronic ┆ tobacco ┆ covid_res │\n",
       "│ ---       ┆ ---    ┆ ---      ┆ ---    ┆     ┆ ---     ┆ ---           ┆ ---     ┆ ---       │\n",
       "│ u32       ┆ u32    ┆ u32      ┆ u32    ┆     ┆ u32     ┆ u32           ┆ u32     ┆ u32       │\n",
       "╞═══════════╪════════╪══════════╪════════╪═════╪═════════╪═══════════════╪═════════╪═══════════╡\n",
       "│ 496291    ┆ 496291 ┆ 496291   ┆ 496291 ┆ ... ┆ 496291  ┆ 496291        ┆ 496291  ┆ 496291    │\n",
       "└───────────┴────────┴──────────┴────────┴─────┴─────────┴───────────────┴─────────┴───────────┘"
      ]
     },
     "execution_count": 302,
     "metadata": {},
     "output_type": "execute_result"
    }
   ],
   "source": [
    "#get percentage of values in column between 96 and 100\n",
    "size = rdf.select(\n",
    "        pl.col(x).count().alias(x) for x in rdf.columns\n",
    ")\n",
    "size.collect().fetch()"
   ]
  },
  {
   "attachments": {},
   "cell_type": "markdown",
   "metadata": {},
   "source": [
    "## Data conversion: from DataFrame to Dataset"
   ]
  },
  {
   "attachments": {},
   "cell_type": "markdown",
   "metadata": {},
   "source": [
    "Now that our data is clean, let's convert the Covid dataset to a trainable dataset on BastionLab. \n",
    "\n",
    "Our first step will be to transform all the columns so they can be individually converted into tensors. We'll make them into `RemoteSeries`, a pointer to a column in the `RemoteDataFrame`. \n",
    "\n",
    "***# You talk about this, but where to we do it?***\n",
    "\n",
    "***# And then what's the next code block?***"
   ]
  },
  {
   "cell_type": "code",
   "execution_count": null,
   "metadata": {},
   "outputs": [],
   "source": [
    "from bastionlab.polars import train_test_split\n",
    "\n",
    "# The RemoteDataFrame is shuffled and split into training and testing dataset.\n",
    "train_rdf, test_rdf = train_test_split(\n",
    "    rdf,\n",
    "    test_size=0.2,\n",
    "    shuffle=True,\n",
    ")"
   ]
  },
  {
   "attachments": {},
   "cell_type": "markdown",
   "metadata": {},
   "source": [
    "***# What are we doing here?***"
   ]
  },
  {
   "cell_type": "code",
   "execution_count": null,
   "metadata": {},
   "outputs": [],
   "source": [
    "import torch\n",
    "from bastionlab.torch.remote_torch import RemoteDataset\n",
    "\n",
    "# Get all columns of the RemoteDataFrame\n",
    "cols = rdf.column_names\n",
    "\n",
    "# Transform RemoteDataFrame to RemoteTensor\n",
    "train_inputs = train_rdf.columns(cols).to_tensor()\n",
    "test_inputs = test_rdf.columns(cols).to_tensor()\n",
    "\n",
    "# Cast RemoteTensor from `int64` to `float32`\n",
    "train_inputs = train_inputs.to(torch.float32)\n",
    "test_inputs = train_inputs.to(torch.float32)\n",
    "\n",
    "label = \"covid_res\"\n",
    "\n",
    "# The label tensor is selected from the remote_tensors storage\n",
    "train_label = train_rdf.column(label).to_tensor()\n",
    "test_label = test_rdf.column(label).to_tensor()\n",
    "\n",
    "train_dataset = RemoteDataset(inputs=[train_inputs], label=train_label)\n",
    "test_dataset = RemoteDataset(inputs=[test_inputs], label=test_label)"
   ]
  },
  {
   "attachments": {},
   "cell_type": "markdown",
   "metadata": {},
   "source": [
    "***# Here we're demonstrating?***"
   ]
  },
  {
   "cell_type": "code",
   "execution_count": null,
   "metadata": {},
   "outputs": [],
   "source": [
    "import torch\n",
    "from torch.nn import Module, Linear\n",
    "\n",
    "# A simple LinearRegression model is created to train on the Covid Dataset\n",
    "# (which has 17 features features and 2 output features\n",
    "# [1-`has_covid`, 0-`does_not_have_covid`])\n",
    "class LinearRegression(Module):\n",
    "    def __init__(self) -> None:\n",
    "        super().__init__()\n",
    "        self.layer1 = Linear(17, 2)\n",
    "\n",
    "    def forward(self, tensor):\n",
    "        return self.layer1(tensor)\n",
    "\n",
    "\n",
    "# An instance of our Covid LinearRegression model is created\n",
    "model = LinearRegression()"
   ]
  },
  {
   "attachments": {},
   "cell_type": "markdown",
   "metadata": {},
   "source": [
    "***# Here we need some text to say that we're explaining how to upload it to BastionLab Torch service and how we're doing it (method, arguments etc)***"
   ]
  },
  {
   "cell_type": "code",
   "execution_count": null,
   "metadata": {},
   "outputs": [
    {
     "name": "stderr",
     "output_type": "stream",
     "text": [
      "Sending LinearRegression: 100%|████████████████████| 3.28k/3.28k [00:00<00:00, 1.49MB/s]\n"
     ]
    }
   ],
   "source": [
    "from bastionlab.torch.optimizer_config import Adam\n",
    "\n",
    "# The model is uploaded to the BastionLab Torch service.\n",
    "remote_learner = connection.client.torch.RemoteLearner(\n",
    "    model,\n",
    "    train_dataset,\n",
    "    max_batch_size=2,\n",
    "    loss=\"cross_entropy\",\n",
    "    optimizer=Adam(lr=5e-5),\n",
    "    model_name=\"LinearRegression\",\n",
    ")"
   ]
  },
  {
   "attachments": {},
   "cell_type": "markdown",
   "metadata": {},
   "source": [
    "***# 'here' being where?***"
   ]
  },
  {
   "cell_type": "code",
   "execution_count": null,
   "metadata": {},
   "outputs": [
    {
     "name": "stderr",
     "output_type": "stream",
     "text": [
      "Epoch 1/1 - train: 100%|████████████████████| 25/25 [00:00<00:00, 121.06batch/s, cross_entropy=10.0000 (+/- 563.7264)]  \n"
     ]
    }
   ],
   "source": [
    "# The linear regression model is trained on the dataset here.\n",
    "remote_learner.fit(nb_epochs=1)"
   ]
  },
  {
   "attachments": {},
   "cell_type": "markdown",
   "metadata": {},
   "source": [
    "***# Ok but needs explanations***"
   ]
  },
  {
   "cell_type": "code",
   "execution_count": null,
   "metadata": {},
   "outputs": [
    {
     "name": "stderr",
     "output_type": "stream",
     "text": [
      "Epoch 1/1 - test: 100%|████████████████████| 25/25 [00:00<00:00, 121.06batch/s, cross_entropy=0.0000 (+/- 563.7264)]  \n"
     ]
    }
   ],
   "source": [
    "# The linear regression model is validated with the `test_dataset`\n",
    "remote_learner.test(test_dataset)"
   ]
  },
  {
   "attachments": {},
   "cell_type": "markdown",
   "metadata": {},
   "source": [
    "***# same here, let's introduce what we're doing ^^***"
   ]
  },
  {
   "cell_type": "code",
   "execution_count": null,
   "metadata": {},
   "outputs": [
    {
     "data": {
      "text/plain": [
       "LinearRegression(\n",
       "  (layer1): Linear(in_features=17, out_features=2, bias=True)\n",
       ")"
      ]
     },
     "execution_count": 22,
     "metadata": {},
     "output_type": "execute_result"
    }
   ],
   "source": [
    "# The trained model is fetched from the BastionLab Torch service.\n",
    "remote_learner.get_model()"
   ]
  },
  {
   "attachments": {},
   "cell_type": "markdown",
   "metadata": {},
   "source": [
    "Our deep learning model has been trained with privacy garantees! All that's left to do is close our connection:"
   ]
  },
  {
   "cell_type": "code",
   "execution_count": null,
   "metadata": {},
   "outputs": [],
   "source": [
    "connection.close()"
   ]
  }
 ],
 "metadata": {
  "kernelspec": {
   "display_name": "base",
   "language": "python",
   "name": "python3"
  },
  "language_info": {
   "codemirror_mode": {
    "name": "ipython",
    "version": 3
   },
   "file_extension": ".py",
   "mimetype": "text/x-python",
   "name": "python",
   "nbconvert_exporter": "python",
   "pygments_lexer": "ipython3",
   "version": "3.9.13"
  },
  "orig_nbformat": 4,
  "vscode": {
   "interpreter": {
    "hash": "d130ca42b532f14c740c9405384e6a25814bad609bad1a40b3b3f26954036080"
   }
  }
 },
 "nbformat": 4,
 "nbformat_minor": 2
}
