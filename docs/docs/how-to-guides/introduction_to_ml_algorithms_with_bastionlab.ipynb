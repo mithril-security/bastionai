{
 "cells": [
  {
   "attachments": {},
   "cell_type": "markdown",
   "metadata": {},
   "source": [
    "<div id=\"colab_button\">\n",
    "  <h1>Introduction to Machine Learning Algorithms with BastionLab</h1>\n",
    "  <a target=\"_blank\" href=\"https://colab.research.google.com/github/mithril-security/bastionlab/blob/v0.3.7/docs/docs/how-to-guides/introduction_to_ml_algorithms_with_bastionlab.ipynb\"> \n",
    "  <img src=\"https://colab.research.google.com/assets/colab-badge.svg\" alt=\"Open In Colab\"/></a>\n",
    "</div>\n",
    "______________________________________________________"
   ]
  },
  {
   "attachments": {},
   "cell_type": "markdown",
   "metadata": {},
   "source": [
    "Machine learning is a subfield of artificial intelligence that focuses on the development of algorithms that can make predictions or decisions based on data. ML allows us to harness the growing quantity of data around us to create smart and powerful AI applications, such as improving the accuracy of the diagnosis of illnesses or detecting cyber attacks.\n",
    "\n",
    "Working with machine learning algorithms is a key part of BastionLab's offer, allowing users to train and deploy models using popular machine learning algorithms. What sets BastionLab apart from other softwares that facilitate ML training and deployment is its unique privacy features, allowing data owners to keep their datasets safe throughout the ML pipeline.\n",
    "\n",
    "In this Jupyter notebook, we will explore four popular machine learning algorithms, their applications, and how to implement them using BastionLab.\n",
    "\n",
    "The four algorithms we will cover are:\n",
    "\n",
    "1. Linear Regression - for predicting continuous values\n",
    "2. Gaussian Naive Bayes - for classification problems with continuous features\n",
    "3. Logistic Regression - for binary and multi-class classification problems\n",
    "4. Decision Trees - for classification and regression problems\n",
    "\n",
    "So without further ado, let's start exploring these machine learning algorithms!"
   ]
  },
  {
   "attachments": {},
   "cell_type": "markdown",
   "metadata": {},
   "source": [
    "## Table of Contents\n",
    "----------\n",
    "1. [Pre-requisites](#pre-requisites)\n",
    "2. [Setting up and connecting to server](#Setting-up-and-connecting-to-server)\n",
    "3. [Uploading and preparing the datasets](#Uploading-and-preparing-the-datasets)\n",
    "4. [Linear Regression](#linear-regression)\n",
    "5. [Gaussian Naive Bayes](#gaussian-naive-bayes)\n",
    "6. [Logistic Regression](#logistic-regression)\n",
    "    - [Binomial Logistic Regression](#binomial-logistic-regression)\n",
    "    - [Multinomial Logistic Regression](#multinomial-logistic-regression)\n",
    "7. [Decision Trees](#decision-trees)\n"
   ]
  },
  {
   "attachments": {},
   "cell_type": "markdown",
   "metadata": {},
   "source": [
    "## Pre-requisites\n",
    "\n",
    "________________________________________________\n",
    "### Installation\n",
    "\n",
    "In order to run this notebook, we need to:\n",
    "- Have [Python3.7](https://www.python.org/downloads/) (or greater) and [Python Pip](https://pypi.org/project/pip/) installed\n",
    "- Install [BastionLab](https://bastionlab.readthedocs.io/en/latest/docs/getting-started/installation/)\n",
    "- Install [Numpy](https://pypi.org/project/numpy)\n",
    "- Install [scikit-learn](https://pypi.org/project/scikit-learn)\n",
    "\n",
    "We can install the latter three packages by running the code block below. \n",
    "\n",
    ">You can see our [Installation page](https://bastionlab.readthedocs.io/en/latest/docs/getting-started/installation/) to find the installation method that best suits your needs."
   ]
  },
  {
   "cell_type": "code",
   "execution_count": null,
   "metadata": {},
   "outputs": [],
   "source": [
    "!pip install bastionlab\n",
    "!pip install bastionlab_server\n",
    "!pip install numpy\n",
    "!pip install scikit-learn"
   ]
  },
  {
   "attachments": {},
   "cell_type": "markdown",
   "metadata": {},
   "source": [
    "## Setting up and connecting to server\n",
    "---------------------------------------------------------------"
   ]
  },
  {
   "attachments": {},
   "cell_type": "markdown",
   "metadata": {},
   "source": [
    "### Launching the server\n",
    "\n",
    "First things first: we need to launch the BastionLab server. \n",
    "\n",
    "In production we recommend this is done using our Docker image, but for testing purposes you can use our `bastionlab_server` package, which removes the need for user authentication."
   ]
  },
  {
   "cell_type": "code",
   "execution_count": 67,
   "metadata": {},
   "outputs": [],
   "source": [
    "# launch bastionlab_server test package\n",
    "import bastionlab_server\n",
    "\n",
    "srv = bastionlab_server.start()"
   ]
  },
  {
   "attachments": {},
   "cell_type": "markdown",
   "metadata": {},
   "source": [
    ">*For more details on how you can set up the server using our Docker image, check out our [Installation Tutorial](../getting-started/installation.md).*\n",
    "\n",
    "### Connecting to the server\n",
    "Next, we will connect to the server using the following snipped of code."
   ]
  },
  {
   "cell_type": "code",
   "execution_count": 68,
   "metadata": {},
   "outputs": [],
   "source": [
    "from bastionlab import Connection\n",
    "\n",
    "# connect to server instance\n",
    "connection = Connection(\"localhost\")"
   ]
  },
  {
   "attachments": {},
   "cell_type": "markdown",
   "metadata": {},
   "source": [
    "<div class=\"admonition warning\">\n",
    "    Please note that the above connection created is an insecure connection. You can refer to the <a href=\"https://github.com/mithril-security/bastionlab/blob/master/docs/docs/tutorials/authentication.ipynb\">Authentication tutorial</a> to learn about setting up secure connections to the BastionLab server.\n",
    "</div>"
   ]
  },
  {
   "attachments": {},
   "cell_type": "markdown",
   "metadata": {},
   "source": [
    "## Uploading and preparing the datasets\n",
    "------------------------------------------------------------------"
   ]
  },
  {
   "attachments": {},
   "cell_type": "markdown",
   "metadata": {},
   "source": [
    "**Step 1: Importing Libraries**\n",
    "\n",
    "The first thing we need to do is import all the required libraries for this tutorial. We will be using sklearn's `datasets` submodule and `Polars` for loading and uploading our dataset, BastionLab's `Polars` submodule for dataset preprocessing and BastionLab Linfa's `model` and `metrics` submodules in order to build, train and evaluate our model."
   ]
  },
  {
   "cell_type": "code",
   "execution_count": 69,
   "metadata": {},
   "outputs": [],
   "source": [
    "# imports for data loading and uploading to BastionLa\n",
    "from sklearn import datasets\n",
    "import polars as pl\n",
    "\n",
    "# imports for dataset preprocessing\n",
    "from bastionlab.polars import train_test_split\n",
    "\n",
    "# imports for training and evaluating model\n",
    "from bastionlab.linfa import models, metrics"
   ]
  },
  {
   "attachments": {},
   "cell_type": "markdown",
   "metadata": {},
   "source": [
    "**Step 2: Loading Datasets**\n",
    "\n",
    "We will be using two datasets to demonstrate the different machine learning algorithms.\n",
    "\n",
    "The first dataset is the California Housing dataset, a popular dataset used in machine learning and statistics. It contains data collected in the 1990 California public census including information on housing prices, demographics, and geography for each block group in California. The dataset contains 20,640 observations and 8 attributes, including the median house value, median income and housing occupancy rate.\n",
    "\n",
    "The second dataset is the Iris dataset, a popular dataset used for classification tasks. It contains 150 samples belonging to one of three iris flower species (Iris setosa, Iris virginica and Iris versicolor). The datasets contains information about four features: sepal length, sepal width, petal length, and petal width. \n",
    "\n",
    "Both of these datasets can be loaded using built-in methods in sklearn's `datasets` submodule. We can load the California Housing dataset using the `fetch_california_housing()` method and the Iris dataset using the `load_iris()` method."
   ]
  },
  {
   "cell_type": "code",
   "execution_count": 70,
   "metadata": {},
   "outputs": [],
   "source": [
    "# load datasets from sklearn\n",
    "california = datasets.fetch_california_housing()\n",
    "iris = datasets.load_iris()"
   ]
  },
  {
   "attachments": {},
   "cell_type": "markdown",
   "metadata": {},
   "source": [
    "These method return objects to us with `data` and `target` attributes containing Numpy ndarrays with the features matrix and target vector data. The returned object also contains some additional metadata attributes."
   ]
  },
  {
   "cell_type": "code",
   "execution_count": 71,
   "metadata": {},
   "outputs": [],
   "source": [
    "# collect feature matrix `X` (the input data) and target vector `Y` (the output data/labels)\n",
    "iris_data = iris.data\n",
    "iris_target = iris.target\n",
    "\n",
    "california_data = california.data\n",
    "california_target = california.target"
   ]
  },
  {
   "attachments": {},
   "cell_type": "markdown",
   "metadata": {},
   "source": [
    "**Step 3: Uploading datasets to BastionLab**\n",
    "\n",
    "We are now ready to send our data to BastionLab. But first we need to convert our datasets into `Polars DataFrames` which is the required dataset format for BastionLab's `send_df` method used to upload datasets.\n",
    "\n",
    "To convert our Iris and California Housing `X` and `Y` data, we use the Polars DataFrame constructor and supply it with our Numpy ndarray format of the datasets."
   ]
  },
  {
   "cell_type": "code",
   "execution_count": 72,
   "metadata": {},
   "outputs": [],
   "source": [
    "# Convert input and target data to a Polars DataFrames\n",
    "california_data = pl.DataFrame(california_data)\n",
    "california_target = pl.DataFrame(california_target)\n",
    "\n",
    "iris_data = pl.DataFrame(iris_data)\n",
    "iris_target = pl.DataFrame(iris_target)"
   ]
  },
  {
   "attachments": {},
   "cell_type": "markdown",
   "metadata": {},
   "source": [
    "We can now upload the datasets to BastionLab."
   ]
  },
  {
   "cell_type": "code",
   "execution_count": 73,
   "metadata": {},
   "outputs": [],
   "source": [
    "# upload our inputs and target datasets\n",
    "remote_cal_data = connection.client.polars.send_df(california_data)\n",
    "remote_cal_target = connection.client.polars.send_df(california_target)\n",
    "\n",
    "remote_iris_data = connection.client.polars.send_df(iris_data)\n",
    "remote_iris_target = connection.client.polars.send_df(iris_target)"
   ]
  },
  {
   "attachments": {},
   "cell_type": "markdown",
   "metadata": {},
   "source": [
    "The server returns a `FetchableLazyFrame` for all our uploaded dataframes. This is a reference to the remote DataFrames which can be used as if it were locally available."
   ]
  },
  {
   "attachments": {},
   "cell_type": "markdown",
   "metadata": {},
   "source": [
    "**Step 4: Data Preparation**\n",
    "\n",
    "First of all, in one of the up-coming sections we will use the Iris dataset to illustrate a binary classification problem. However, the Iris dataset is currently a multi-class classification problem with data grouped into one of three Iris species grouping (represented by 0, 1 and 2). We need to create a modified version of the target data which has just two possible outcomes indicating whether the input data relates to the Iris setosa group (0) or not (1).\n",
    "\n",
    "To do this, we need to take our `FetchableLazyFrame` instance of the Iris target data `remote_iris_target` and use Polars `.when().then().otherwise()` methods to replace all non-zero data with 1.\n",
    "\n",
    "We will store this in a `bi_iris_target` variable."
   ]
  },
  {
   "cell_type": "code",
   "execution_count": 74,
   "metadata": {},
   "outputs": [],
   "source": [
    "# change training and testing output data to have two possible outcomes\n",
    "bi_iris_target = remote_iris_target.select(\n",
    "    pl.when(pl.all() == 0).then(0).otherwise(1)  # all non 0 data becomes 1\n",
    ").collect()"
   ]
  },
  {
   "attachments": {},
   "cell_type": "markdown",
   "metadata": {},
   "source": [
    "Now that we have all the datasets we need for this tutorial, we need to prepare the data and split our `X` and `Y` datasets into testing and training datasets.\n",
    "\n",
    "But first, we need to convert out remote datasets into remote arrays using BastionLab's `to_array` method. To avoid having duplicate remote arrays and datasets, the FetchableLazyFrames are automatically deleted by the server when we use the `to_array()` method, leaving us with the remote array copy of our datasets only."
   ]
  },
  {
   "cell_type": "code",
   "execution_count": 75,
   "metadata": {},
   "outputs": [],
   "source": [
    "# convert all required datasets to arrays\n",
    "cal_remote_X = remote_cal_data.to_array()\n",
    "cal_remote_Y = remote_cal_target.to_array()\n",
    "\n",
    "iris_remote_X = remote_iris_data.to_array()\n",
    "iris_remote_Y = remote_iris_target.to_array()\n",
    "\n",
    "iris_bi_Y = bi_iris_target.to_array()"
   ]
  },
  {
   "attachments": {},
   "cell_type": "markdown",
   "metadata": {},
   "source": [
    "<div class=\"admonition important\">\n",
    "    To learn more about this method, checkout our <a href=\"#\">data conversion tutorial</a>\n",
    "</div>\n",
    "\n",
    "Now that we have converted our remote dataframes into remote arrays, we can split our data into training and testing sets using BastionLab's `train_test_split` method, which is similar to sklearn's method of the same name.\n",
    "\n",
    "Note how we create three training/testing sets: one for the California Housing dataset, one for the default Iris dataset and a final one for the Iris dataset which uses our modified binary classification output data."
   ]
  },
  {
   "cell_type": "code",
   "execution_count": 76,
   "metadata": {},
   "outputs": [],
   "source": [
    "# split data into training and testing sets\n",
    "cal_x_train, cal_x_test, cal_y_train, cal_y_test = train_test_split(\n",
    "    cal_remote_X,\n",
    "    cal_remote_Y,\n",
    "    test_size=0.3,\n",
    "    shuffle=True,\n",
    ")\n",
    "\n",
    "iris_x_train, iris_x_test, iris_y_train, iris_y_test = train_test_split(\n",
    "    iris_remote_X,\n",
    "    iris_remote_Y,\n",
    "    test_size=0.3,\n",
    "    shuffle=True,\n",
    ")\n",
    "\n",
    "bi_iris_x_train, bi_iris_x_test, bi_iris_y_train, bi_iris_y_test = train_test_split(\n",
    "    iris_remote_X,\n",
    "    iris_bi_Y,\n",
    "    test_size=0.3,\n",
    "    shuffle=True,\n",
    ")"
   ]
  },
  {
   "attachments": {},
   "cell_type": "markdown",
   "metadata": {},
   "source": [
    "By setting the `test_size` to 0.3, we allocate 30% of our datasets for validation to check our model's performance.\n",
    "\n",
    "By setting `shuffle` to `True`, we ensure that the data is assigned to the testing and training datasets randomly.\n",
    "\n",
    "The `train_test_split` method returns our training and testing X and Y data (input and target data) as remote arrays."
   ]
  },
  {
   "attachments": {},
   "cell_type": "markdown",
   "metadata": {},
   "source": [
    "Now that we have our testing and training sets for the Iris and California Housing datasets set up in BastionLab, we are ready to explore how we can use them to test and train models using the different machine learning algorithms covered in this tutorial. Let's start with Linear Regression!"
   ]
  },
  {
   "attachments": {},
   "cell_type": "markdown",
   "metadata": {},
   "source": [
    "## Linear Regression\n",
    "------------------------------------------------------------------\n",
    "\n",
    "### Overview\n",
    "Linear Regression is a supervised learning algorithm used for predicting a continuous outcome variable (also known as the response variable) based on one or more predictor variables. In other words, it is a technique for modeling the relationship between a dependent variable (Y) and one or more independent variables (X).\n",
    "\n",
    "The goal of Linear Regression is to find the best-fit line or hyperplane that describes the relationship between the independent and dependent variables. This line or hyperplane is defined by a set of coefficients that determine the slope and intercept of the line or hyperplane."
   ]
  },
  {
   "attachments": {},
   "cell_type": "markdown",
   "metadata": {},
   "source": [
    "### Applications\n",
    "\n",
    "Linear Regression is widely used across various fields such as finance, economics, healthcare, and social sciences. Some of its applications include:\n",
    "\n",
    "* Predicting stock prices\n",
    "* Forecasting sales revenue\n",
    "* Estimating the impact of a marketing campaign on sales\n",
    "* Predicting the price of a house based on its features such as size, location, etc."
   ]
  },
  {
   "attachments": {},
   "cell_type": "markdown",
   "metadata": {},
   "source": [
    "### Walk-through\n",
    "\n",
    "We will now see how we can use the California Housing dataset we uploaded to BastionLab to build and run the Linear Regression model to predict housing prices.\n",
    "\n",
    "**Training and testing a model using Linear Regression**\n",
    "\n",
    "We will start by creating a Linear Regression model object, train it and then run it on out test input data. "
   ]
  },
  {
   "cell_type": "code",
   "execution_count": 77,
   "metadata": {},
   "outputs": [],
   "source": [
    "# Creating the model object\n",
    "lr = models.LinearRegression()\n",
    "\n",
    "# Training the model\n",
    "lr.fit(cal_x_train, cal_y_train)\n",
    "\n",
    "# Predicting the target values for the test set\n",
    "y_pred = lr.predict(cal_x_test)"
   ]
  },
  {
   "attachments": {},
   "cell_type": "markdown",
   "metadata": {},
   "source": [
    "We use the `LinearRegression()` constructor to get an instance of the linear regression model.\n",
    "\n",
    "We use the `fit` method with our training datasets to train the model.\n",
    "\n",
    "Finally, we use the `predict` method to predict the target values for out test input data. Predicted values are returned to us as a `FetchableLazyFrame`."
   ]
  },
  {
   "attachments": {},
   "cell_type": "markdown",
   "metadata": {},
   "source": [
    "**Model Evaluation**\n",
    "\n",
    "We can evaluate our model using various different metrics, with the following methods available in BastionLab: SimpleValidationRequest, R2Score, MeanAbsoluteError, MeanSquaredError, MeanSquaredLogError, MedianAbsoluteError, MaxError, ExplainedVariance, Accuracy, F1Score, Mcc, ClassificationMetric and RegressionMetric.\n",
    "\n",
    "In this example, we will use the Mean Squared Error (MSE) metric to evaluate our data. MSE is one of the the most popular evaluation metrics for linear regression models.\n",
    "\n",
    "To evaluate our test data using MSE, we use BastionLab's `mean_squared_error`, supplying it with the original target data and the values predicted by our model. Note that we need to convert our `y_pred` `FetchableLazyFrame` into a Remote Array."
   ]
  },
  {
   "cell_type": "code",
   "execution_count": 78,
   "metadata": {},
   "outputs": [
    {
     "data": {
      "text/plain": [
       "FetchableLazyFrame(identifier=33cbbb25-f815-48c6-b252-e68966d9cec1)"
      ]
     },
     "execution_count": 78,
     "metadata": {},
     "output_type": "execute_result"
    }
   ],
   "source": [
    "mse = metrics.mean_squared_error(cal_y_test, y_pred.to_array())\n",
    "mse"
   ]
  },
  {
   "attachments": {},
   "cell_type": "markdown",
   "metadata": {},
   "source": [
    "The function returns our MSE score as a `FetchableLazyFrame`. To view the results, we need to run `fetch` on this FetchableLazyFrame."
   ]
  },
  {
   "cell_type": "code",
   "execution_count": 79,
   "metadata": {},
   "outputs": [
    {
     "data": {
      "text/html": [
       "<div>\n",
       "<style scoped>\n",
       "    .dataframe tbody tr th:only-of-type {\n",
       "        vertical-align: middle;\n",
       "    }\n",
       "\n",
       "    .dataframe tbody tr th {\n",
       "        vertical-align: top;\n",
       "    }\n",
       "\n",
       "    .dataframe thead th {\n",
       "        text-align: right;\n",
       "    }\n",
       "\n",
       "    .dataframe td {\n",
       "        white-space: pre;\n",
       "    }\n",
       "\n",
       "    .dataframe td {\n",
       "        padding-top: 0;\n",
       "    }\n",
       "\n",
       "    .dataframe td {\n",
       "        padding-bottom: 0;\n",
       "    }\n",
       "</style>\n",
       "<table border=\"1\" class=\"dataframe\" >\n",
       "<small>shape: (1, 1)</small>\n",
       "<thead>\n",
       "<tr>\n",
       "<th>\n",
       "mean_squared_error\n",
       "</th>\n",
       "</tr>\n",
       "<tr>\n",
       "<td>\n",
       "f64\n",
       "</td>\n",
       "</tr>\n",
       "</thead>\n",
       "<tbody>\n",
       "<tr>\n",
       "<td>\n",
       "0.539783\n",
       "</td>\n",
       "</tr>\n",
       "</tbody>\n",
       "</table>\n",
       "</div>"
      ],
      "text/plain": [
       "shape: (1, 1)\n",
       "┌────────────────────┐\n",
       "│ mean_squared_error │\n",
       "│ ---                │\n",
       "│ f64                │\n",
       "╞════════════════════╡\n",
       "│ 0.539783           │\n",
       "└────────────────────┘"
      ]
     },
     "execution_count": 79,
     "metadata": {},
     "output_type": "execute_result"
    }
   ],
   "source": [
    "mse.fetch()"
   ]
  },
  {
   "attachments": {},
   "cell_type": "markdown",
   "metadata": {},
   "source": [
    "We get a MSE score of around 0.54. With MSE scores, the closer to 0 the better the model. A perfect model would return an MSE of 0."
   ]
  },
  {
   "attachments": {},
   "cell_type": "markdown",
   "metadata": {},
   "source": [
    "### Conclusion\n",
    "\n",
    "We have seen how to train and evaluate a Linear Regression model to predict housing prices.\n",
    "\n",
    "Let's now move onto the next ML algorithm we are going to explore today, Gaussian Naive Bayes."
   ]
  },
  {
   "attachments": {},
   "cell_type": "markdown",
   "metadata": {},
   "source": [
    "## Gaussian Naive Bayes\n",
    "------------------------------------------------------------------------\n",
    "\n",
    "### Overview\n",
    "\n",
    "Gaussian Naive Bayes is a probabilistic algorithm used in machine learning for classification tasks. It is based on the Bayes theorem and assumes that the features are independent of each other, which means that the presence of one feature does not affect the probability of the presence of another feature.\n",
    "\n",
    "Gaussian Naive Bayes is particularly useful when the number of features is large and the number of training examples is small. It is a simple yet effective algorithm that has been successfully used in many applications, including text classification, spam filtering, and image recognition.\n",
    "\n",
    "### Walk-through\n",
    "\n",
    "Let's take a look at how we can use create an ML model to correctly identify species of Iris flowers using the Gaussian Naive Bayes ML algorithm. For this example, we will be using the Iris testing and training datasets we uploaded to BastionLab at the start of this tutorial."
   ]
  },
  {
   "attachments": {},
   "cell_type": "markdown",
   "metadata": {},
   "source": [
    "**Training and Predicting**\n",
    "\n",
    "We first get an instance of the Gaussian Naive Bayes model using the GaussianNB class from BastionLab Linfa. We then fit the model to the training data and use it to predict the labels of the testing data."
   ]
  },
  {
   "cell_type": "code",
   "execution_count": 80,
   "metadata": {},
   "outputs": [],
   "source": [
    "# Creating the model object\n",
    "gnb = models.GaussianNB()\n",
    "\n",
    "# Training the model\n",
    "gnb.fit(iris_x_train, iris_y_train)\n",
    "\n",
    "# Predicting the target values for the test set\n",
    "y_pred = gnb.predict(iris_x_test)"
   ]
  },
  {
   "attachments": {},
   "cell_type": "markdown",
   "metadata": {},
   "source": [
    "We save the `FetchableLazyFrame` we get back containing our model's predicted outputs as `y_pred`."
   ]
  },
  {
   "attachments": {},
   "cell_type": "markdown",
   "metadata": {},
   "source": [
    "**Evaluating the model**\n",
    "\n",
    "We will now evaluate the performance of our model using the accuracy score metric, which gives us the percentage of correctly classified instances.\n",
    "\n",
    "To do this we use the `accuracy_score` method, providing it with out test Y dataset and our predicted values converted to a Remote Array."
   ]
  },
  {
   "cell_type": "code",
   "execution_count": 81,
   "metadata": {},
   "outputs": [
    {
     "name": "stdout",
     "output_type": "stream",
     "text": [
      "Accuracy: FetchableLazyFrame(identifier=2904860c-a42e-4d38-a2a7-c87212d730ec)\n"
     ]
    }
   ],
   "source": [
    "accuracy = metrics.accuracy_score(iris_y_test, y_pred.to_array())\n",
    "print(\"Accuracy:\", accuracy)"
   ]
  },
  {
   "attachments": {},
   "cell_type": "markdown",
   "metadata": {},
   "source": [
    "> Note that results of metrics are returned as a `RemoteDataFrame`, so we have to call `fetch` to see the results as a plain Polars DataFrame."
   ]
  },
  {
   "cell_type": "code",
   "execution_count": 82,
   "metadata": {},
   "outputs": [
    {
     "name": "stdout",
     "output_type": "stream",
     "text": [
      "shape: (1, 1)\n",
      "┌────────────────────┐\n",
      "│ accuracy(accuracy) │\n",
      "│ ---                │\n",
      "│ f64                │\n",
      "╞════════════════════╡\n",
      "│ 0.934783           │\n",
      "└────────────────────┘\n"
     ]
    }
   ],
   "source": [
    "print(accuracy.fetch())"
   ]
  },
  {
   "attachments": {},
   "cell_type": "markdown",
   "metadata": {},
   "source": [
    "We see that our model predicted species of flowers with around a 93% level of accuracy."
   ]
  },
  {
   "attachments": {},
   "cell_type": "markdown",
   "metadata": {},
   "source": [
    "### Conclusion\n",
    "\n",
    "We have seen how we can use Gaussian Naive Bayes for classification tasks using the Iris dataset. We were able to train a model which identifies species of Iris flowers and evaluated its performance using the accuracy score.\n",
    "\n",
    "Next up, let's take a look at how we can create a Logistic Regression model in BastionLab."
   ]
  },
  {
   "attachments": {},
   "cell_type": "markdown",
   "metadata": {},
   "source": [
    "## Logistic Regression\n",
    "------------------------------------------------------------------\n",
    "\n",
    "Logistic Regression is a widely used statistical method for analyzing a dataset in which there are one or more independent variables that determine an outcome. It is used for binary and multi-class classification problems. In this section, we will explore binomial and multinomial logistic regression, their applications, and how to implement them BastionLab.\n",
    "  \n",
    "We will start with binomial logistic regression and then move on to multinomial logistic regression.\n",
    "\n",
    "We will use the Iris dataset for this section which we have already uploaded to the BastionLab server.\n",
    "\n",
    "Let's get started!"
   ]
  },
  {
   "attachments": {},
   "cell_type": "markdown",
   "metadata": {},
   "source": [
    "### Binomial Logistic Regression\n",
    "\n",
    "#### Overview\n",
    "\n",
    "Binomial logistic regression is a statistical method used to model the relationship between a binary target variable and one or more independent variables. It is used in classification tasks where the target variable has only two possible outcomes.\n",
    "\n",
    "#### Applications\n",
    "Binomial logistic regression is widely used across various fields. It could be used to predict the likelihood of a patient having a disease based on their symptoms or the likelihood of a customer purchasing a product based on their demographic information.\n",
    "\n",
    "#### Walk-through\n",
    "\n",
    "For this walk-through, we will use our Iris dataset specially modified to contain two possible output groups, indicating if a flower belongs to the Iris setosa group (0) or not (1). Our aim is to create a model using Logistic Regression to predict whether our input data relates to a Iris setosa flower or not."
   ]
  },
  {
   "attachments": {},
   "cell_type": "markdown",
   "metadata": {},
   "source": [
    "**Training and running the model**\n",
    "\n",
    "We start by getting our instance of our Logistic Regression model and train and test our model."
   ]
  },
  {
   "cell_type": "code",
   "execution_count": 83,
   "metadata": {},
   "outputs": [],
   "source": [
    "# Creating the model object\n",
    "lr = models.LogisticRegression()\n",
    "\n",
    "# Training the model\n",
    "lr.fit(bi_iris_x_train, bi_iris_y_train)\n",
    "\n",
    "# Predicting the target values for the test set\n",
    "y_pred = lr.predict(bi_iris_x_test)"
   ]
  },
  {
   "attachments": {},
   "cell_type": "markdown",
   "metadata": {},
   "source": [
    "The `predict` method gives us back a `FetchableLazyFame` containing our predicted labels."
   ]
  },
  {
   "attachments": {},
   "cell_type": "markdown",
   "metadata": {},
   "source": [
    "**Model Evaluation**\n",
    "\n",
    "We can then evaluate the model using an accuracy score, which gives us a decimal value represented what percentage of predictions were correct. We must provide the `accuracy_score` method with both our test target data and our predicted data as a Remote Array."
   ]
  },
  {
   "cell_type": "code",
   "execution_count": 84,
   "metadata": {},
   "outputs": [
    {
     "name": "stdout",
     "output_type": "stream",
     "text": [
      "FetchableLazyFrame(identifier=076938e7-5cea-4fb0-b009-b92da860a78d)\n"
     ]
    }
   ],
   "source": [
    "accuracy = metrics.accuracy_score(bi_iris_y_test, y_pred.to_array())\n",
    "print(accuracy)"
   ]
  },
  {
   "attachments": {},
   "cell_type": "markdown",
   "metadata": {},
   "source": [
    "Our accuracy score is returned to us as `FetchableLazyFrame`. We must use the `fetch()` method to be able to view the results."
   ]
  },
  {
   "cell_type": "code",
   "execution_count": 85,
   "metadata": {},
   "outputs": [
    {
     "name": "stdout",
     "output_type": "stream",
     "text": [
      "shape: (1, 1)\n",
      "┌────────────────────┐\n",
      "│ accuracy(accuracy) │\n",
      "│ ---                │\n",
      "│ f64                │\n",
      "╞════════════════════╡\n",
      "│ 0.478261           │\n",
      "└────────────────────┘\n"
     ]
    }
   ],
   "source": [
    "print(accuracy.fetch())"
   ]
  },
  {
   "attachments": {},
   "cell_type": "markdown",
   "metadata": {},
   "source": [
    "We see that our model was 47% accurate in predicting whether input data related to an Iris setosa flower or not."
   ]
  },
  {
   "attachments": {},
   "cell_type": "markdown",
   "metadata": {},
   "source": [
    "### Multinomial Logistic Regression\n",
    "\n",
    "#### Overview\n",
    "In the previous example, we saw how logistic Regression can be used for binary classification problems. However, it can be extended to handle multi-class classification problems using the Multinomial Logistic Regression algorithm. The idea behind this algorithm is to train a separate binary logistic regression model for each class, where the output of each model is the probability of the input belonging to that class. The class with the highest probability is then selected as the predicted class."
   ]
  },
  {
   "attachments": {},
   "cell_type": "markdown",
   "metadata": {},
   "source": [
    "**Building the model**\n",
    "\n",
    "We will again be using the Iris dataset for this example. However, we will no longer be using the specially modified version of the dataset which split predictions into two groups only that we used in the binomial example.\n",
    "\n",
    "When we create out Logistic Regression class instance, we will need to specify we want a model for multi-class classification by setting the `multi_class` option to `multinomial`.\n",
    "\n",
    "We then set the `max_iter` option to 1000, which sets the maximum number of iterations for our model to 1000."
   ]
  },
  {
   "cell_type": "code",
   "execution_count": 86,
   "metadata": {},
   "outputs": [],
   "source": [
    "# Creating the model object\n",
    "lr = models.LogisticRegression(multi_class=\"multinomial\", max_iter=1000)"
   ]
  },
  {
   "attachments": {},
   "cell_type": "markdown",
   "metadata": {},
   "source": [
    "Now that we have our model object, we can train our model using the standard Iris training data and then get our predicted labels for our test input data."
   ]
  },
  {
   "cell_type": "code",
   "execution_count": 87,
   "metadata": {},
   "outputs": [],
   "source": [
    "# Training the model\n",
    "lr.fit(iris_x_train, iris_y_train)\n",
    "\n",
    "# Predicting the target values for the test set\n",
    "y_pred = lr.predict(iris_x_test)"
   ]
  },
  {
   "attachments": {},
   "cell_type": "markdown",
   "metadata": {},
   "source": [
    "**Model Evaluation**\n",
    "\n",
    "Finally, we can evaluate the model using an accuracy score metric, which tells us what percentage of predictions were correct. \n",
    "\n",
    "We must provide the `accuracy_score` method with both our test target data and our predicted data as Remote Arrays."
   ]
  },
  {
   "cell_type": "code",
   "execution_count": 88,
   "metadata": {},
   "outputs": [
    {
     "name": "stdout",
     "output_type": "stream",
     "text": [
      "FetchableLazyFrame(identifier=06f9a77c-99b0-4566-b880-4f5315cc5c11)\n"
     ]
    }
   ],
   "source": [
    "accuracy = metrics.accuracy_score(iris_y_test, y_pred.to_array())\n",
    "print(accuracy)"
   ]
  },
  {
   "attachments": {},
   "cell_type": "markdown",
   "metadata": {},
   "source": [
    "> Note that results of metrics are returned as a `RemoteDataFrame`, so we need to call `fetch` to see the results as a plain Polars DataFrame."
   ]
  },
  {
   "cell_type": "code",
   "execution_count": 89,
   "metadata": {},
   "outputs": [
    {
     "name": "stdout",
     "output_type": "stream",
     "text": [
      "shape: (1, 1)\n",
      "┌────────────────────┐\n",
      "│ accuracy(accuracy) │\n",
      "│ ---                │\n",
      "│ f64                │\n",
      "╞════════════════════╡\n",
      "│ 0.956522           │\n",
      "└────────────────────┘\n"
     ]
    }
   ],
   "source": [
    "accuracy = accuracy.fetch()\n",
    "print(accuracy)"
   ]
  },
  {
   "attachments": {},
   "cell_type": "markdown",
   "metadata": {},
   "source": [
    "We see that our model was about 95% accurate in predicting what type of Iris flower our input data related to."
   ]
  },
  {
   "attachments": {},
   "cell_type": "markdown",
   "metadata": {},
   "source": [
    "#### Conclusion\n",
    "\n",
    "In this section of the tutorial, we have seen how we can use binomial logistic regression with binary classification problems and multinomial logistic regression with multi-class classification problems."
   ]
  },
  {
   "attachments": {},
   "cell_type": "markdown",
   "metadata": {},
   "source": [
    "## Decision Trees\n",
    "\n",
    "### Overview\n",
    "The final machine learning algorithm we are going to explore is decision trees, a supervised machine learning algorithm used for both classification and regression tasks. It works by recursively splitting the data into subsets based on the values of the features and predicting the target variable based on the subset it belongs to.\n",
    "\n",
    "### Applications\n",
    "The decision trees algorithm is widely used in various fields such as finance, medicine, and marketing.\n",
    "\n",
    "### Walk-through\n",
    "\n",
    "In this section, we will demonstrate how to create a ML model using the Decision Trees algorithm to predict the type of Iris flower our input data corresponds to. We will again be using the Iris dataset for this example.\n",
    "\n",
    "As in the previous examples, we start by initializing an instance of our model's class. We then use the `fit` and `predict` methods to train our model and then use the model to get predictions for our test data."
   ]
  },
  {
   "attachments": {},
   "cell_type": "markdown",
   "metadata": {},
   "source": [
    "**Training and running the model**"
   ]
  },
  {
   "cell_type": "code",
   "execution_count": 94,
   "metadata": {},
   "outputs": [],
   "source": [
    "# Creating the model object\n",
    "dtc = models.DecisionTreeClassifier()\n",
    "\n",
    "# Training the model\n",
    "dtc.fit(iris_x_train, iris_y_train)\n",
    "\n",
    "# Predicting the target values for the test set\n",
    "y_pred = dtc.predict(iris_x_test)"
   ]
  },
  {
   "attachments": {},
   "cell_type": "markdown",
   "metadata": {},
   "source": [
    "**Step 6: Model Evaluation**\n",
    "\n",
    "Now we can evaluate the model using the accuracy score metric, which indicates what percentage of the model's predictions were correct based on our test data.\n",
    "\n",
    "We must send our test target data and our predicted data as Remote Arrays. To convert out predicted data from a `FetchableLazyFrame` to a Remote Array, we use BastionLab's `to_array()` method."
   ]
  },
  {
   "cell_type": "code",
   "execution_count": 95,
   "metadata": {},
   "outputs": [
    {
     "name": "stdout",
     "output_type": "stream",
     "text": [
      "FetchableLazyFrame(identifier=d9a13e6b-bf33-4f28-8654-c9cfaedcadac)\n"
     ]
    }
   ],
   "source": [
    "# get accuracy score of our model\n",
    "accuracy = metrics.accuracy_score(iris_y_test, y_pred.to_array())\n",
    "print(accuracy)"
   ]
  },
  {
   "attachments": {},
   "cell_type": "markdown",
   "metadata": {},
   "source": [
    "> Note that results of metrics are returned as a `RemoteDataFrame` and so, you would have to call `fetch` to see the results as a plain Polars DataFrame."
   ]
  },
  {
   "cell_type": "code",
   "execution_count": 96,
   "metadata": {},
   "outputs": [
    {
     "name": "stdout",
     "output_type": "stream",
     "text": [
      "shape: (1, 1)\n",
      "┌────────────────────┐\n",
      "│ accuracy(accuracy) │\n",
      "│ ---                │\n",
      "│ f64                │\n",
      "╞════════════════════╡\n",
      "│ 0.891304           │\n",
      "└────────────────────┘\n"
     ]
    }
   ],
   "source": [
    "# display accuracy results\n",
    "print(accuracy.fetch())"
   ]
  },
  {
   "attachments": {},
   "cell_type": "markdown",
   "metadata": {},
   "source": [
    "We see that our Decision Trees model was 89% accurate in identifying the type of Iris flower our input data corresponded to.\n",
    "\n",
    "### Conclusion\n",
    "\n",
    "We have now seen how we can select and use the Decision Trees Classifier model in BastionLab. We were able to train a model which was 100% accurate in identifying species of Iris flowers."
   ]
  },
  {
   "attachments": {},
   "cell_type": "markdown",
   "metadata": {},
   "source": [
    "## Conclusions\n",
    "------------------------------------------------------------------\n",
    "\n",
    "In this tutorial, we have zoomed in on five machine learning algorithms available in BastionLab and seen how we can implement them for various classifying or predictive tasks. There are many more machine learning algorithms and evaluating metrics to explore, so feel free to experiment with the models and metrics available in the BastionLab Linfa submodule."
   ]
  }
 ],
 "metadata": {
  "kernelspec": {
   "display_name": ".venv",
   "language": "python",
   "name": "python3"
  },
  "language_info": {
   "codemirror_mode": {
    "name": "ipython",
    "version": 3
   },
   "file_extension": ".py",
   "mimetype": "text/x-python",
   "name": "python",
   "nbconvert_exporter": "python",
   "pygments_lexer": "ipython3",
   "version": "3.9.13"
  },
  "orig_nbformat": 4,
  "vscode": {
   "interpreter": {
    "hash": "59ddfbf641a892a32521b7a5e13e78d6d7d30d99a8ba692cb7ed0e595686b0db"
   }
  }
 },
 "nbformat": 4,
 "nbformat_minor": 2
}
