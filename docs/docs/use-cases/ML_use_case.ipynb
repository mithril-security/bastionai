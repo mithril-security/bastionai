{
 "cells": [
  {
   "attachments": {},
   "cell_type": "markdown",
   "metadata": {},
   "source": [
    "# Building a machine learning model with a Covid-19 dataset\n",
    "\n",
    "AI models can play a vital role in diagnosing and better understanding medical issues and have the potential to save lives.  However, data owners with sensitive medical data, such as hospitals with datasets of patients' data, have often been left unable to share this data with other parties because of data privacy concerns. BastionLab offers the tools needed to share datasets and train and share AI models whilst offering security guaranties. Data scientists are able to handle datasets remotely and train ML models without ever having access to the full data in clear.\n",
    "\n",
    "In this tutorial, we are going to walk you through some examples of the ways in which you can clean datasets, run queries and visualize data, without needing access to the data in clear. We will be taking a real-world Covid-19 dataset as our example and handling it remotely via our RemoteLazyFrame instance.\n",
    "\n",
    "## Pre-requisites\n",
    "\n",
    "### Technical Requirements\n",
    "\n",
    "To start this tutorial, ensure the following are already installed in your system:\n",
    "- Python3.7 or greater (get the latest version of Python at https://www.python.org/downloads/ or with your operating system’s package manager)\n",
    "- [Python Pip](https://pypi.org/project/pip/) (PyPi), the package manager\n",
    "\n",
    "## Pip packages and dataset\n",
    "\n",
    "In order to run this notebook, you will also need to install Polars, Bastionlab which you can do by running the code block below."
   ]
  },
  {
   "cell_type": "code",
   "execution_count": 167,
   "metadata": {},
   "outputs": [],
   "source": [
    "#! pip install bastionlab"
   ]
  },
  {
   "attachments": {},
   "cell_type": "markdown",
   "metadata": {},
   "source": [
    "Finally, you will need to download the dataset by running the code block below. This dataset collects data on outcomes of Covid cases based on various pre-conditions such as asthma and diabetes. This is a version of a huge dataset provided by the Mexican government based on the population of Mexico and therefore insights gained may not be valid for other geographical areas in the world."
   ]
  },
  {
   "cell_type": "code",
   "execution_count": 168,
   "metadata": {},
   "outputs": [],
   "source": [
    "#!wget https://raw.githubusercontent.com/rinbaruah/COVID_preconditions_Kaggle/master/Data/covid.csv"
   ]
  },
  {
   "attachments": {},
   "cell_type": "markdown",
   "metadata": {},
   "source": [
    "## Getting set-up\n"
   ]
  },
  {
   "attachments": {},
   "cell_type": "markdown",
   "metadata": {},
   "source": [
    "Next, we'll install and launch the server. For testing purposes, BastionLab server has been packaged as a pip wheel. In this tutorial, we will use this package to quickly set up a test server."
   ]
  },
  {
   "cell_type": "code",
   "execution_count": 169,
   "metadata": {},
   "outputs": [],
   "source": [
    "#!pip install bastionlab_server"
   ]
  },
  {
   "attachments": {},
   "cell_type": "markdown",
   "metadata": {},
   "source": [
    "The server exposes port 50056 for gRPC communication with clients and uses a default configuration (no authentication, default settings). For the purpose of this example, these settings are sufficient and we won't change them.\n",
    "\n",
    "To run the server, we use the utility function provided by the bastionlab_server package."
   ]
  },
  {
   "cell_type": "code",
   "execution_count": 170,
   "metadata": {},
   "outputs": [
    {
     "name": "stdout",
     "output_type": "stream",
     "text": [
      "BastionLab server (version 0.3.5) already installed\n",
      "Libtorch (version 1.12.1) already installed\n",
      "TLS certificates already generated\n",
      "Bastionlab server is now running on port 50056\n"
     ]
    }
   ],
   "source": [
    "import bastionlab_server\n",
    "\n",
    "srv = bastionlab_server.start()"
   ]
  },
  {
   "attachments": {},
   "cell_type": "markdown",
   "metadata": {},
   "source": [
    "Now that's all done, we can finally connect to our server, send over our CSV file and start analysing our data!\n",
    "\n",
    "Firstly, we read in the dataset using Polar's read_csv() function, which returns a Polar's DataFrame instance containing the dataset.\n",
    "Secondly, we connect to the server using Bastionlab's Connection() method."
   ]
  },
  {
   "cell_type": "code",
   "execution_count": 171,
   "metadata": {},
   "outputs": [],
   "source": [
    "from bastionlab import Connection\n",
    "import polars as pl\n",
    "\n",
    "df = pl.read_csv(\"covid.csv\")\n",
    "\n",
    "connection = Connection(\"localhost\", 50056)"
   ]
  },
  {
   "attachments": {},
   "cell_type": "markdown",
   "metadata": {},
   "source": [
    "Finally, we send the Polar's DataFrame instance to the server using Bastionlab's send_df() method which will return a RemoteLazyFrame instance, a reference to the DataFrame uploaded which we will be working with throughout this tutorial. For the sake of this tutorial, we specify an unsafe policy which disables the need for the data owner to approve any requests that don't pass our data safety rules. This is purely done so that we can focus on demonstrating data cleaning and analysis in BastionLab without having to worry about approving any data access requests.\n",
    "\n",
    "We then create a custom policy which disables all data request/query checks. We do this creating a policy where the `safe_zone` parameter to `TrueRule()` to allow all requests. In this case, the `unsafe_handling` parameter can be anything (as there are no unsafe requests), we set it to `Log()` in the following example. Note that this is purely done so that we can focus on demonstrating our visualization functions in this tutorial, but this policy is not suited for production."
   ]
  },
  {
   "cell_type": "code",
   "execution_count": 172,
   "metadata": {},
   "outputs": [
    {
     "name": "stderr",
     "output_type": "stream",
     "text": [
      "[2022-12-15T11:14:35Z INFO  bastionlab] Authentication is disabled.\n",
      "[2022-12-15T11:14:35Z INFO  bastionlab] Telemetry is enabled.\n",
      "[2022-12-15T11:14:35Z INFO  bastionlab] BastionLab server listening on 0.0.0.0:50056.\n",
      "[2022-12-15T11:14:35Z INFO  bastionlab] Server ready to take requests\n",
      "Error: transport error\n",
      "\n",
      "Caused by:\n",
      "    0: error creating server listener: Address already in use (os error 98)\n",
      "    1: Address already in use (os error 98)\n"
     ]
    },
    {
     "name": "stdout",
     "output_type": "stream",
     "text": [
      "{\"safe_zone\":\"True\",\"unsafe_handling\":\"Log\"}\n"
     ]
    },
    {
     "name": "stderr",
     "output_type": "stream",
     "text": [
      "[2022-12-15T11:14:40Z INFO  bastionlab_polars] Succesfully sent dataframe 60f8e17d-ad60-4e4c-b069-8c2b59530ac7 to server\n"
     ]
    }
   ],
   "source": [
    "from bastionlab.polars.policy import Policy, TrueRule, Log\n",
    "\n",
    "policy = Policy(safe_zone=TrueRule(), unsafe_handling=Log())\n",
    "rdf = connection.client.polars.send_df(df, policy=policy)"
   ]
  },
  {
   "attachments": {},
   "cell_type": "markdown",
   "metadata": {},
   "source": [
    "We can now see a schema with all the RemoteLazyFrame's column names and types by displaying rdf's schema attribute."
   ]
  },
  {
   "cell_type": "code",
   "execution_count": 173,
   "metadata": {},
   "outputs": [
    {
     "data": {
      "text/plain": [
       "{'id': polars.datatypes.Utf8,\n",
       " 'sex': polars.datatypes.Int64,\n",
       " 'patient_type': polars.datatypes.Int64,\n",
       " 'entry_date': polars.datatypes.Utf8,\n",
       " 'date_symptoms': polars.datatypes.Utf8,\n",
       " 'date_died': polars.datatypes.Utf8,\n",
       " 'intubed': polars.datatypes.Int64,\n",
       " 'pneumonia': polars.datatypes.Int64,\n",
       " 'age': polars.datatypes.Int64,\n",
       " 'pregnancy': polars.datatypes.Int64,\n",
       " 'diabetes': polars.datatypes.Int64,\n",
       " 'copd': polars.datatypes.Int64,\n",
       " 'asthma': polars.datatypes.Int64,\n",
       " 'inmsupr': polars.datatypes.Int64,\n",
       " 'hypertension': polars.datatypes.Int64,\n",
       " 'other_disease': polars.datatypes.Int64,\n",
       " 'cardiovascular': polars.datatypes.Int64,\n",
       " 'obesity': polars.datatypes.Int64,\n",
       " 'renal_chronic': polars.datatypes.Int64,\n",
       " 'tobacco': polars.datatypes.Int64,\n",
       " 'contact_other_covid': polars.datatypes.Int64,\n",
       " 'covid_res': polars.datatypes.Int64,\n",
       " 'icu': polars.datatypes.Int64}"
      ]
     },
     "execution_count": 173,
     "metadata": {},
     "output_type": "execute_result"
    }
   ],
   "source": [
    "rdf.schema"
   ]
  },
  {
   "attachments": {},
   "cell_type": "markdown",
   "metadata": {},
   "source": [
    "# Data cleaning: Column dtypes\n",
    "\n",
    "There are a few column dtypes that we might want to change here. \n",
    "\n",
    "Firstly, all the data columns ('entry_date', 'date_symptoms' and 'date_died') are Utf8 values. We can change the dtype of these to Polars Date type which allows us to access the day, month and year values individually and sort dates more easily if needed.\n",
    "\n",
    "To do this, I use the with_columns method to replace our current date columns with a new version where the dates are converted to a pl.Date. I set rdf to equal the output of this function and then check the schema attribute has updated as expected."
   ]
  },
  {
   "cell_type": "code",
   "execution_count": 174,
   "metadata": {},
   "outputs": [
    {
     "data": {
      "text/plain": [
       "{'id': polars.datatypes.Utf8,\n",
       " 'sex': polars.datatypes.Int64,\n",
       " 'patient_type': polars.datatypes.Int64,\n",
       " 'entry_date': polars.datatypes.Date,\n",
       " 'date_symptoms': polars.datatypes.Date,\n",
       " 'date_died': polars.datatypes.Date,\n",
       " 'intubed': polars.datatypes.Int64,\n",
       " 'pneumonia': polars.datatypes.Int64,\n",
       " 'age': polars.datatypes.Int64,\n",
       " 'pregnancy': polars.datatypes.Int64,\n",
       " 'diabetes': polars.datatypes.Int64,\n",
       " 'copd': polars.datatypes.Int64,\n",
       " 'asthma': polars.datatypes.Int64,\n",
       " 'inmsupr': polars.datatypes.Int64,\n",
       " 'hypertension': polars.datatypes.Int64,\n",
       " 'other_disease': polars.datatypes.Int64,\n",
       " 'cardiovascular': polars.datatypes.Int64,\n",
       " 'obesity': polars.datatypes.Int64,\n",
       " 'renal_chronic': polars.datatypes.Int64,\n",
       " 'tobacco': polars.datatypes.Int64,\n",
       " 'contact_other_covid': polars.datatypes.Int64,\n",
       " 'covid_res': polars.datatypes.Int64,\n",
       " 'icu': polars.datatypes.Int64}"
      ]
     },
     "execution_count": 174,
     "metadata": {},
     "output_type": "execute_result"
    }
   ],
   "source": [
    "rdf = rdf.with_columns(\n",
    "    [\n",
    "        pl.col(\"entry_date\").str.strptime(pl.Date, fmt=\"%d-%m-%Y\", strict=False),\n",
    "        pl.col(\"date_symptoms\").str.strptime(pl.Date, fmt=\"%d-%m-%Y\", strict=False),\n",
    "        pl.col(\"date_died\").str.strptime(pl.Date, fmt=\"%d-%m-%Y\", strict=False),\n",
    "    ]\n",
    ")\n",
    "rdf.schema"
   ]
  },
  {
   "attachments": {},
   "cell_type": "markdown",
   "metadata": {},
   "source": [
    "## Replacing values\n",
    "\n",
    "The next thing I'd like to look at is the 'sex' column. This column uses the integer 1 for females and 2 for males. We can change this to 'female' for females, 'male' for males and 'unknown' for any other values.\n",
    "\n",
    "We do this by using the with_column method with a when.then.otherwise clause which acts as a find and replace tool. We set the .alias to \"sex\" which will then replace our current 'sex' column with our new updated one.\n",
    "\n",
    "When we print out the schema, we can see this has changed the dtype of the column to Utf8."
   ]
  },
  {
   "cell_type": "code",
   "execution_count": 175,
   "metadata": {},
   "outputs": [
    {
     "data": {
      "text/plain": [
       "{'id': polars.datatypes.Utf8,\n",
       " 'sex': polars.datatypes.Utf8,\n",
       " 'patient_type': polars.datatypes.Int64,\n",
       " 'entry_date': polars.datatypes.Date,\n",
       " 'date_symptoms': polars.datatypes.Date,\n",
       " 'date_died': polars.datatypes.Date,\n",
       " 'intubed': polars.datatypes.Int64,\n",
       " 'pneumonia': polars.datatypes.Int64,\n",
       " 'age': polars.datatypes.Int64,\n",
       " 'pregnancy': polars.datatypes.Int64,\n",
       " 'diabetes': polars.datatypes.Int64,\n",
       " 'copd': polars.datatypes.Int64,\n",
       " 'asthma': polars.datatypes.Int64,\n",
       " 'inmsupr': polars.datatypes.Int64,\n",
       " 'hypertension': polars.datatypes.Int64,\n",
       " 'other_disease': polars.datatypes.Int64,\n",
       " 'cardiovascular': polars.datatypes.Int64,\n",
       " 'obesity': polars.datatypes.Int64,\n",
       " 'renal_chronic': polars.datatypes.Int64,\n",
       " 'tobacco': polars.datatypes.Int64,\n",
       " 'contact_other_covid': polars.datatypes.Int64,\n",
       " 'covid_res': polars.datatypes.Int64,\n",
       " 'icu': polars.datatypes.Int64}"
      ]
     },
     "execution_count": 175,
     "metadata": {},
     "output_type": "execute_result"
    }
   ],
   "source": [
    "rdf = rdf.with_column(\n",
    "    pl.when(pl.col(\"sex\") == 2)\n",
    "    .then(\"male\")\n",
    "    .when(pl.col(\"sex\") == 1)\n",
    "    .then(\"female\")\n",
    "    .otherwise(\"unknown\")\n",
    "    .alias(\"sex\")\n",
    ")\n",
    "rdf.schema"
   ]
  },
  {
   "attachments": {},
   "cell_type": "markdown",
   "metadata": {},
   "source": [
    "Similarly, the 'patient_type' column use the integer 1 for outpatients and 2 for inpatients. We can change this to 'outpatient' and 'inpatient' using the same method as previous."
   ]
  },
  {
   "cell_type": "code",
   "execution_count": 176,
   "metadata": {},
   "outputs": [
    {
     "data": {
      "text/plain": [
       "{'id': polars.datatypes.Utf8,\n",
       " 'sex': polars.datatypes.Utf8,\n",
       " 'patient_type': polars.datatypes.Utf8,\n",
       " 'entry_date': polars.datatypes.Date,\n",
       " 'date_symptoms': polars.datatypes.Date,\n",
       " 'date_died': polars.datatypes.Date,\n",
       " 'intubed': polars.datatypes.Int64,\n",
       " 'pneumonia': polars.datatypes.Int64,\n",
       " 'age': polars.datatypes.Int64,\n",
       " 'pregnancy': polars.datatypes.Int64,\n",
       " 'diabetes': polars.datatypes.Int64,\n",
       " 'copd': polars.datatypes.Int64,\n",
       " 'asthma': polars.datatypes.Int64,\n",
       " 'inmsupr': polars.datatypes.Int64,\n",
       " 'hypertension': polars.datatypes.Int64,\n",
       " 'other_disease': polars.datatypes.Int64,\n",
       " 'cardiovascular': polars.datatypes.Int64,\n",
       " 'obesity': polars.datatypes.Int64,\n",
       " 'renal_chronic': polars.datatypes.Int64,\n",
       " 'tobacco': polars.datatypes.Int64,\n",
       " 'contact_other_covid': polars.datatypes.Int64,\n",
       " 'covid_res': polars.datatypes.Int64,\n",
       " 'icu': polars.datatypes.Int64}"
      ]
     },
     "execution_count": 176,
     "metadata": {},
     "output_type": "execute_result"
    }
   ],
   "source": [
    "rdf = rdf.with_column(\n",
    "    pl.when(pl.col(\"patient_type\") == 2)\n",
    "    .then(\"inpatiente\")\n",
    "    .when(pl.col(\"patient_type\") == 1)\n",
    "    .then(\"outpatient\")\n",
    "    .otherwise(\"unknown\")\n",
    "    .alias(\"patient_type\")\n",
    ")\n",
    "rdf.schema"
   ]
  },
  {
   "attachments": {},
   "cell_type": "markdown",
   "metadata": {},
   "source": [
    "Finally for all our columns refering to pre-conditions, 2 is used to mean False and 1 is used to mean True. We can replace 2 with 0 which is the more standard numerical equivalent to False in computer science. We will do this using the same logic as in the previous query but I use a for loop to iterate over all the columns I want to apply this query to."
   ]
  },
  {
   "cell_type": "code",
   "execution_count": 177,
   "metadata": {},
   "outputs": [],
   "source": [
    "for x in [\n",
    "    \"intubed\",\n",
    "    \"pneumonia\",\n",
    "    \"pregnancy\",\n",
    "    \"diabetes\",\n",
    "    \"copd\",\n",
    "    \"asthma\",\n",
    "    \"inmsupr\",\n",
    "    \"hypertension\",\n",
    "    \"other_disease\",\n",
    "    \"cardiovascular\",\n",
    "    \"obesity\",\n",
    "    \"renal_chronic\",\n",
    "    \"covid_res\",\n",
    "    \"icu\",\n",
    "]:\n",
    "    rdf = rdf.with_columns(\n",
    "        pl.when(pl.col(x) == 2).then(0).otherwise(pl.col(x)).alias(x)\n",
    "    )"
   ]
  },
  {
   "attachments": {},
   "cell_type": "markdown",
   "metadata": {},
   "source": [
    "# Data cleaning: Null values\n",
    "\n",
    "Firstly, we want to see where we might have problems with missing values in our dataset, so we will calculate what percentage of values are missing from each column by taking the sum of is_null() values in each column, multiplying them by 100 and dividing them by the total rows of that same column."
   ]
  },
  {
   "cell_type": "code",
   "execution_count": 178,
   "metadata": {},
   "outputs": [
    {
     "name": "stderr",
     "output_type": "stream",
     "text": [
      "[2022-12-15T11:14:41Z INFO  bastionlab_polars] Succesfully ran query on 45dbced6-c0dd-4eaf-8b4a-5a37b7006c8f\n"
     ]
    },
    {
     "data": {
      "text/html": [
       "<div>\n",
       "<style scoped>\n",
       "    .dataframe tbody tr th:only-of-type {\n",
       "        vertical-align: middle;\n",
       "    }\n",
       "\n",
       "    .dataframe tbody tr th {\n",
       "        vertical-align: top;\n",
       "    }\n",
       "\n",
       "    .dataframe thead th {\n",
       "        text-align: right;\n",
       "    }\n",
       "\n",
       "    .dataframe td {\n",
       "        white-space: pre;\n",
       "    }\n",
       "\n",
       "    .dataframe td {\n",
       "        padding-top: 0;\n",
       "    }\n",
       "\n",
       "    .dataframe td {\n",
       "        padding-bottom: 0;\n",
       "    }\n",
       "</style>\n",
       "<table border=\"1\" class=\"dataframe\" >\n",
       "<small>shape: (1, 23)</small>\n",
       "<thead>\n",
       "<tr>\n",
       "<th>\n",
       "id\n",
       "</th>\n",
       "<th>\n",
       "sex\n",
       "</th>\n",
       "<th>\n",
       "patient_type\n",
       "</th>\n",
       "<th>\n",
       "entry_date\n",
       "</th>\n",
       "<th>\n",
       "date_symptoms\n",
       "</th>\n",
       "<th>\n",
       "date_died\n",
       "</th>\n",
       "<th>\n",
       "intubed\n",
       "</th>\n",
       "<th>\n",
       "pneumonia\n",
       "</th>\n",
       "<th>\n",
       "age\n",
       "</th>\n",
       "<th>\n",
       "pregnancy\n",
       "</th>\n",
       "<th>\n",
       "diabetes\n",
       "</th>\n",
       "<th>\n",
       "copd\n",
       "</th>\n",
       "<th>\n",
       "asthma\n",
       "</th>\n",
       "<th>\n",
       "inmsupr\n",
       "</th>\n",
       "<th>\n",
       "hypertension\n",
       "</th>\n",
       "<th>\n",
       "other_disease\n",
       "</th>\n",
       "<th>\n",
       "cardiovascular\n",
       "</th>\n",
       "<th>\n",
       "obesity\n",
       "</th>\n",
       "<th>\n",
       "renal_chronic\n",
       "</th>\n",
       "<th>\n",
       "tobacco\n",
       "</th>\n",
       "<th>\n",
       "contact_other_covid\n",
       "</th>\n",
       "<th>\n",
       "covid_res\n",
       "</th>\n",
       "<th>\n",
       "icu\n",
       "</th>\n",
       "</tr>\n",
       "<tr>\n",
       "<td>\n",
       "f64\n",
       "</td>\n",
       "<td>\n",
       "f64\n",
       "</td>\n",
       "<td>\n",
       "f64\n",
       "</td>\n",
       "<td>\n",
       "f64\n",
       "</td>\n",
       "<td>\n",
       "f64\n",
       "</td>\n",
       "<td>\n",
       "f64\n",
       "</td>\n",
       "<td>\n",
       "f64\n",
       "</td>\n",
       "<td>\n",
       "f64\n",
       "</td>\n",
       "<td>\n",
       "f64\n",
       "</td>\n",
       "<td>\n",
       "f64\n",
       "</td>\n",
       "<td>\n",
       "f64\n",
       "</td>\n",
       "<td>\n",
       "f64\n",
       "</td>\n",
       "<td>\n",
       "f64\n",
       "</td>\n",
       "<td>\n",
       "f64\n",
       "</td>\n",
       "<td>\n",
       "f64\n",
       "</td>\n",
       "<td>\n",
       "f64\n",
       "</td>\n",
       "<td>\n",
       "f64\n",
       "</td>\n",
       "<td>\n",
       "f64\n",
       "</td>\n",
       "<td>\n",
       "f64\n",
       "</td>\n",
       "<td>\n",
       "f64\n",
       "</td>\n",
       "<td>\n",
       "f64\n",
       "</td>\n",
       "<td>\n",
       "f64\n",
       "</td>\n",
       "<td>\n",
       "f64\n",
       "</td>\n",
       "</tr>\n",
       "</thead>\n",
       "<tbody>\n",
       "<tr>\n",
       "<td>\n",
       "0.0\n",
       "</td>\n",
       "<td>\n",
       "0.0\n",
       "</td>\n",
       "<td>\n",
       "0.0\n",
       "</td>\n",
       "<td>\n",
       "0.0\n",
       "</td>\n",
       "<td>\n",
       "0.0\n",
       "</td>\n",
       "<td>\n",
       "93.615271\n",
       "</td>\n",
       "<td>\n",
       "0.0\n",
       "</td>\n",
       "<td>\n",
       "0.0\n",
       "</td>\n",
       "<td>\n",
       "0.0\n",
       "</td>\n",
       "<td>\n",
       "0.0\n",
       "</td>\n",
       "<td>\n",
       "0.0\n",
       "</td>\n",
       "<td>\n",
       "0.0\n",
       "</td>\n",
       "<td>\n",
       "0.0\n",
       "</td>\n",
       "<td>\n",
       "0.0\n",
       "</td>\n",
       "<td>\n",
       "0.0\n",
       "</td>\n",
       "<td>\n",
       "0.0\n",
       "</td>\n",
       "<td>\n",
       "0.0\n",
       "</td>\n",
       "<td>\n",
       "0.0\n",
       "</td>\n",
       "<td>\n",
       "0.0\n",
       "</td>\n",
       "<td>\n",
       "0.0\n",
       "</td>\n",
       "<td>\n",
       "0.0\n",
       "</td>\n",
       "<td>\n",
       "0.0\n",
       "</td>\n",
       "<td>\n",
       "0.0\n",
       "</td>\n",
       "</tr>\n",
       "</tbody>\n",
       "</table>\n",
       "</div>"
      ],
      "text/plain": [
       "shape: (1, 23)\n",
       "┌─────┬─────┬──────────────┬────────────┬─────┬─────────┬─────────────────────┬───────────┬─────┐\n",
       "│ id  ┆ sex ┆ patient_type ┆ entry_date ┆ ... ┆ tobacco ┆ contact_other_covid ┆ covid_res ┆ icu │\n",
       "│ --- ┆ --- ┆ ---          ┆ ---        ┆     ┆ ---     ┆ ---                 ┆ ---       ┆ --- │\n",
       "│ f64 ┆ f64 ┆ f64          ┆ f64        ┆     ┆ f64     ┆ f64                 ┆ f64       ┆ f64 │\n",
       "╞═════╪═════╪══════════════╪════════════╪═════╪═════════╪═════════════════════╪═══════════╪═════╡\n",
       "│ 0.0 ┆ 0.0 ┆ 0.0          ┆ 0.0        ┆ ... ┆ 0.0     ┆ 0.0                 ┆ 0.0       ┆ 0.0 │\n",
       "└─────┴─────┴──────────────┴────────────┴─────┴─────────┴─────────────────────┴───────────┴─────┘"
      ]
     },
     "execution_count": 178,
     "metadata": {},
     "output_type": "execute_result"
    }
   ],
   "source": [
    "percent_missing = rdf.select(\n",
    "    pl.col(x).is_null().sum() * 100 / pl.col(x).count() for x in rdf.columns\n",
    ")\n",
    "percent_missing.collect().fetch()"
   ]
  },
  {
   "attachments": {},
   "cell_type": "markdown",
   "metadata": {},
   "source": [
    "We discover that there are acutally no Null values apart from in the 'date_died' column. If we take a look at our .csv file, we see that this is because Null values in our integer columns have been given the value '97', '98' or '99'. We can replace these with 'unknown' for clarity."
   ]
  },
  {
   "cell_type": "code",
   "execution_count": 180,
   "metadata": {},
   "outputs": [],
   "source": [
    "for x in [\n",
    "    \"intubed\",\n",
    "    \"pneumonia\",\n",
    "    \"pregnancy\",\n",
    "    \"diabetes\",\n",
    "    \"copd\",\n",
    "    \"asthma\",\n",
    "    \"inmsupr\",\n",
    "    \"hypertension\",\n",
    "    \"other_disease\",\n",
    "    \"cardiovascular\",\n",
    "    \"obesity\",\n",
    "    \"renal_chronic\",\n",
    "    \"covid_res\",\n",
    "    \"icu\",\n",
    "]:\n",
    "    rdf = rdf.with_columns(\n",
    "        pl.when(pl.col(x) == 97)\n",
    "        .then(\"n/a\")\n",
    "        .when(pl.col(x) == 98)\n",
    "        .then(\"n/a\")\n",
    "        .when(pl.col(x) == 99)\n",
    "        .then(\"n/a\")\n",
    "        .otherwise(pl.col(x))\n",
    "        .alias(x)\n",
    "    )"
   ]
  },
  {
   "attachments": {},
   "cell_type": "markdown",
   "metadata": {},
   "source": [
    "The Null values in the date_died column correspond to dates that were originally stored as 9999-99-99 to indicate where patients did not die and which could not be converted to the pl.Date format since they do not pass parsing rules. One option would be to add a new false date to indicate these cases, but we will leave these as Null for now to clearly indicate that these patients do not have a date of death."
   ]
  },
  {
   "attachments": {},
   "cell_type": "markdown",
   "metadata": {},
   "source": [
    "## Dropping columns\n",
    "\n",
    "And the very last thing we will do is drop the 'id' column since we have no use for our training model."
   ]
  },
  {
   "cell_type": "code",
   "execution_count": 182,
   "metadata": {},
   "outputs": [],
   "source": [
    "rdf = rdf.drop(\"id\")"
   ]
  },
  {
   "cell_type": "markdown",
   "metadata": {},
   "source": []
  },
  {
   "cell_type": "markdown",
   "metadata": {},
   "source": [
    "So that brings our demo to an end. All that's left to do is close our connection!"
   ]
  },
  {
   "cell_type": "code",
   "execution_count": 183,
   "metadata": {},
   "outputs": [],
   "source": [
    "connection.close()"
   ]
  }
 ],
 "metadata": {
  "kernelspec": {
   "display_name": "base",
   "language": "python",
   "name": "python3"
  },
  "language_info": {
   "codemirror_mode": {
    "name": "ipython",
    "version": 3
   },
   "file_extension": ".py",
   "mimetype": "text/x-python",
   "name": "python",
   "nbconvert_exporter": "python",
   "pygments_lexer": "ipython3",
   "version": "3.9.13"
  },
  "orig_nbformat": 4,
  "vscode": {
   "interpreter": {
    "hash": "d130ca42b532f14c740c9405384e6a25814bad609bad1a40b3b3f26954036080"
   }
  }
 },
 "nbformat": 4,
 "nbformat_minor": 2
}
