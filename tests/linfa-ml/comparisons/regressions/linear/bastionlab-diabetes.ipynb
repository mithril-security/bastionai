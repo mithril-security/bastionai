{
 "cells": [
  {
   "cell_type": "code",
   "execution_count": null,
   "metadata": {},
   "outputs": [],
   "source": [
    "# ! pip install bastionlab polars"
   ]
  },
  {
   "cell_type": "code",
   "execution_count": 2,
   "metadata": {},
   "outputs": [
    {
     "name": "stdout",
     "output_type": "stream",
     "text": [
      "--2023-01-04 15:03:55--  https://github.com/scikit-learn/scikit-learn/raw/98cf537f5c538fdbc9d27b851cf03ce7611b8a48/sklearn/datasets/data/diabetes_data_raw.csv.gz\n",
      "Resolving github.com (github.com)... 140.82.121.4\n",
      "Connecting to github.com (github.com)|140.82.121.4|:443... connected.\n",
      "HTTP request sent, awaiting response... 302 Found\n",
      "Location: https://raw.githubusercontent.com/scikit-learn/scikit-learn/98cf537f5c538fdbc9d27b851cf03ce7611b8a48/sklearn/datasets/data/diabetes_data_raw.csv.gz [following]\n",
      "--2023-01-04 15:03:55--  https://raw.githubusercontent.com/scikit-learn/scikit-learn/98cf537f5c538fdbc9d27b851cf03ce7611b8a48/sklearn/datasets/data/diabetes_data_raw.csv.gz\n",
      "Resolving raw.githubusercontent.com (raw.githubusercontent.com)... 185.199.109.133, 185.199.110.133, 185.199.111.133, ...\n",
      "Connecting to raw.githubusercontent.com (raw.githubusercontent.com)|185.199.109.133|:443... connected.\n",
      "HTTP request sent, awaiting response... 200 OK\n",
      "Length: 7105 (6.9K) [application/octet-stream]\n",
      "Saving to: ‘diabetes_train.csv.gz’\n",
      "\n",
      "diabetes_train.csv. 100%[===================>]   6.94K  --.-KB/s    in 0s      \n",
      "\n",
      "2023-01-04 15:03:55 (84.7 MB/s) - ‘diabetes_train.csv.gz’ saved [7105/7105]\n",
      "\n",
      "--2023-01-04 15:03:55--  https://github.com/scikit-learn/scikit-learn/raw/98cf537f5c538fdbc9d27b851cf03ce7611b8a48/sklearn/datasets/data/diabetes_target.csv.gz\n",
      "Resolving github.com (github.com)... 140.82.121.4\n",
      "Connecting to github.com (github.com)|140.82.121.4|:443... connected.\n",
      "HTTP request sent, awaiting response... 302 Found\n",
      "Location: https://raw.githubusercontent.com/scikit-learn/scikit-learn/98cf537f5c538fdbc9d27b851cf03ce7611b8a48/sklearn/datasets/data/diabetes_target.csv.gz [following]\n",
      "--2023-01-04 15:03:55--  https://raw.githubusercontent.com/scikit-learn/scikit-learn/98cf537f5c538fdbc9d27b851cf03ce7611b8a48/sklearn/datasets/data/diabetes_target.csv.gz\n",
      "Resolving raw.githubusercontent.com (raw.githubusercontent.com)... 185.199.109.133, 185.199.110.133, 185.199.111.133, ...\n",
      "Connecting to raw.githubusercontent.com (raw.githubusercontent.com)|185.199.109.133|:443... connected.\n",
      "HTTP request sent, awaiting response... 200 OK\n",
      "Length: 1050 (1.0K) [application/octet-stream]\n",
      "Saving to: ‘diabetes_target.csv.gz’\n",
      "\n",
      "diabetes_target.csv 100%[===================>]   1.03K  --.-KB/s    in 0s      \n",
      "\n",
      "2023-01-04 15:03:55 (95.8 MB/s) - ‘diabetes_target.csv.gz’ saved [1050/1050]\n",
      "\n"
     ]
    }
   ],
   "source": [
    "!wget -O diabetes_train.csv.gz https://github.com/scikit-learn/scikit-learn/raw/98cf537f5c538fdbc9d27b851cf03ce7611b8a48/sklearn/datasets/data/diabetes_data_raw.csv.gz\n",
    "!wget -O diabetes_target.csv.gz https://github.com/scikit-learn/scikit-learn/raw/98cf537f5c538fdbc9d27b851cf03ce7611b8a48/sklearn/datasets/data/diabetes_target.csv.gz\n",
    "!gzip -d diabetes_train.csv.gz\n",
    "!gzip -d diabetes_target.csv.gz"
   ]
  },
  {
   "cell_type": "code",
   "execution_count": 14,
   "metadata": {},
   "outputs": [],
   "source": [
    "from bastionlab import Connection, Identity\n",
    "import polars as pl\n",
    "\n",
    "connection = Connection(\"localhost\")"
   ]
  },
  {
   "cell_type": "code",
   "execution_count": 15,
   "metadata": {},
   "outputs": [],
   "source": [
    "# load dataset\n",
    "train_df = pl.read_csv(\n",
    "    \"diabetes_train.csv\",\n",
    "    sep=\" \",\n",
    "    has_header=False,\n",
    "    new_columns=[\"age\", \"sex\", \"bmi\", \"bp\", \"s1\", \"s2\", \"s3\", \"s4\", \"s5\", \"s6\"],\n",
    ")\n",
    "target_df = pl.read_csv(\n",
    "    \"diabetes_target.csv\",\n",
    "    has_header=False,\n",
    "    new_columns=[\"target\"],\n",
    ")"
   ]
  },
  {
   "cell_type": "code",
   "execution_count": 16,
   "metadata": {},
   "outputs": [],
   "source": [
    "from bastionlab.polars.policy import Policy, Aggregation, Log\n",
    "\n",
    "policy = Policy(\n",
    "    safe_zone=Aggregation(min_agg_size=10), unsafe_handling=Log(), savable=False\n",
    ")\n",
    "train_rdf = connection.client.polars.send_df(train_df)\n",
    "target_rdf = connection.client.polars.send_df(target_df)"
   ]
  },
  {
   "cell_type": "code",
   "execution_count": 19,
   "metadata": {},
   "outputs": [
    {
     "name": "stdout",
     "output_type": "stream",
     "text": [
      "shape: (10, 1)\n",
      "┌──────────┐\n",
      "│ column_0 │\n",
      "│ ---      │\n",
      "│ f64      │\n",
      "╞══════════╡\n",
      "│ 60.0     │\n",
      "├╌╌╌╌╌╌╌╌╌╌┤\n",
      "│ 2.0      │\n",
      "├╌╌╌╌╌╌╌╌╌╌┤\n",
      "│ 28.2     │\n",
      "├╌╌╌╌╌╌╌╌╌╌┤\n",
      "│ 112.0    │\n",
      "├╌╌╌╌╌╌╌╌╌╌┤\n",
      "│ ...      │\n",
      "├╌╌╌╌╌╌╌╌╌╌┤\n",
      "│ 42.0     │\n",
      "├╌╌╌╌╌╌╌╌╌╌┤\n",
      "│ 4.0      │\n",
      "├╌╌╌╌╌╌╌╌╌╌┤\n",
      "│ 4.9836   │\n",
      "├╌╌╌╌╌╌╌╌╌╌┤\n",
      "│ 93.0     │\n",
      "└──────────┘\n",
      "\u001b[33mWarning: non privacy-preserving queries necessitate data owner's approval.\n",
      "Reason: Cannot fetch a result DataFrame that does not aggregate at least 10 rows of DataFrame 16bd3d29-6c16-4930-828e-794790492179.\n",
      "\n",
      "A notification has been sent to the data owner. The request will be pending until the data owner accepts or denies it or until timeout seconds elapse.\u001b[37m\n"
     ]
    },
    {
     "ename": "KeyboardInterrupt",
     "evalue": "",
     "output_type": "error",
     "traceback": [
      "\u001b[0;31m---------------------------------------------------------------------------\u001b[0m",
      "\u001b[0;31mKeyboardInterrupt\u001b[0m                         Traceback (most recent call last)",
      "Cell \u001b[0;32mIn[19], line 25\u001b[0m\n\u001b[1;32m     21\u001b[0m \u001b[39mprint\u001b[39m(pl\u001b[39m.\u001b[39mDataFrame([\u001b[39m60\u001b[39m, \u001b[39m2\u001b[39m, \u001b[39m28.2\u001b[39m, \u001b[39m112.0\u001b[39m, \u001b[39m185\u001b[39m, \u001b[39m113.8\u001b[39m, \u001b[39m42.0\u001b[39m, \u001b[39m4.0\u001b[39m, \u001b[39m4.9836\u001b[39m, \u001b[39m93\u001b[39m]))\n\u001b[1;32m     23\u001b[0m y_pred \u001b[39m=\u001b[39m lr\u001b[39m.\u001b[39mpredict(test_X)\n\u001b[0;32m---> 25\u001b[0m result \u001b[39m=\u001b[39m pl\u001b[39m.\u001b[39mDataFrame({\u001b[39m\"\u001b[39m\u001b[39mActual\u001b[39m\u001b[39m\"\u001b[39m: test_Y\u001b[39m.\u001b[39;49mcollect()\u001b[39m.\u001b[39;49mfetch()\u001b[39m.\u001b[39mto_series(), \u001b[39m\"\u001b[39m\u001b[39mPredict\u001b[39m\u001b[39m\"\u001b[39m: y_pred\u001b[39m.\u001b[39mto_series()})\n\u001b[1;32m     26\u001b[0m result\n",
      "File \u001b[0;32m~/Projects/bastionlab/client/src/bastionlab/polars/remote_polars.py:1061\u001b[0m, in \u001b[0;36mFetchableLazyFrame.fetch\u001b[0;34m(self)\u001b[0m\n\u001b[1;32m   1056\u001b[0m \u001b[39mdef\u001b[39;00m \u001b[39mfetch\u001b[39m(\u001b[39mself\u001b[39m) \u001b[39m-\u001b[39m\u001b[39m>\u001b[39m pl\u001b[39m.\u001b[39mDataFrame:\n\u001b[1;32m   1057\u001b[0m     \u001b[39m\"\"\"Fetches your FetchableLazyFrame and returns it as a Polars DataFrame\u001b[39;00m\n\u001b[1;32m   1058\u001b[0m \u001b[39m    Returns:\u001b[39;00m\n\u001b[1;32m   1059\u001b[0m \u001b[39m        Polars.DataFrame: returns a Polars DataFrame instance of your FetchableLazyFrame\u001b[39;00m\n\u001b[1;32m   1060\u001b[0m \u001b[39m    \"\"\"\u001b[39;00m\n\u001b[0;32m-> 1061\u001b[0m     \u001b[39mreturn\u001b[39;00m \u001b[39mself\u001b[39;49m\u001b[39m.\u001b[39;49m_meta\u001b[39m.\u001b[39;49m_client\u001b[39m.\u001b[39;49m_fetch_df(\u001b[39mself\u001b[39;49m\u001b[39m.\u001b[39;49m_identifier)\n",
      "File \u001b[0;32m~/Projects/bastionlab/client/src/bastionlab/polars/client.py:122\u001b[0m, in \u001b[0;36mBastionLabPolars._fetch_df\u001b[0;34m(self, ref)\u001b[0m\n\u001b[1;32m    119\u001b[0m \u001b[39mself\u001b[39m\u001b[39m.\u001b[39mclient\u001b[39m.\u001b[39mrefresh_session_if_needed()\n\u001b[1;32m    121\u001b[0m \u001b[39mtry\u001b[39;00m:\n\u001b[0;32m--> 122\u001b[0m     joined_bytes \u001b[39m=\u001b[39m GRPCException\u001b[39m.\u001b[39;49mmap_error(inner)\n\u001b[1;32m    123\u001b[0m     \u001b[39mreturn\u001b[39;00m deserialize_dataframe(joined_bytes)\n\u001b[1;32m    124\u001b[0m \u001b[39mexcept\u001b[39;00m GRPCException \u001b[39mas\u001b[39;00m e:\n",
      "File \u001b[0;32m~/Projects/bastionlab/client/src/bastionlab/errors.py:70\u001b[0m, in \u001b[0;36mGRPCException.map_error\u001b[0;34m(f)\u001b[0m\n\u001b[1;32m     57\u001b[0m \u001b[39m\"\"\"\u001b[39;00m\n\u001b[1;32m     58\u001b[0m \u001b[39mMap gRPC errors to `GRPCException` exceptions.\u001b[39;00m\n\u001b[1;32m     59\u001b[0m \n\u001b[0;32m   (...)\u001b[0m\n\u001b[1;32m     67\u001b[0m \u001b[39m    GRPCException: if `f` raised a gRPC error.\u001b[39;00m\n\u001b[1;32m     68\u001b[0m \u001b[39m\"\"\"\u001b[39;00m\n\u001b[1;32m     69\u001b[0m \u001b[39mtry\u001b[39;00m:\n\u001b[0;32m---> 70\u001b[0m     \u001b[39mreturn\u001b[39;00m f()\n\u001b[1;32m     71\u001b[0m \u001b[39mexcept\u001b[39;00m _InactiveRpcError \u001b[39mas\u001b[39;00m e:\n\u001b[1;32m     72\u001b[0m     \u001b[39mraise\u001b[39;00m GRPCException(e)\n",
      "File \u001b[0;32m~/Projects/bastionlab/client/src/bastionlab/polars/client.py:92\u001b[0m, in \u001b[0;36mBastionLabPolars._fetch_df.<locals>.inner\u001b[0;34m()\u001b[0m\n\u001b[1;32m     89\u001b[0m joined_bytes \u001b[39m=\u001b[39m \u001b[39mb\u001b[39m\u001b[39m\"\u001b[39m\u001b[39m\"\u001b[39m\n\u001b[1;32m     90\u001b[0m blocked \u001b[39m=\u001b[39m \u001b[39mFalse\u001b[39;00m\n\u001b[0;32m---> 92\u001b[0m \u001b[39mfor\u001b[39;00m b \u001b[39min\u001b[39;00m \u001b[39mself\u001b[39m\u001b[39m.\u001b[39mstub\u001b[39m.\u001b[39mFetchDataFrame(ReferenceRequest(identifier\u001b[39m=\u001b[39mref)):\n\u001b[1;32m     93\u001b[0m     \u001b[39mif\u001b[39;00m blocked:\n\u001b[1;32m     94\u001b[0m         blocked \u001b[39m=\u001b[39m \u001b[39mFalse\u001b[39;00m\n",
      "File \u001b[0;32m~/base/lib/python3.8/site-packages/grpc/_channel.py:426\u001b[0m, in \u001b[0;36m_Rendezvous.__next__\u001b[0;34m(self)\u001b[0m\n\u001b[1;32m    425\u001b[0m \u001b[39mdef\u001b[39;00m \u001b[39m__next__\u001b[39m(\u001b[39mself\u001b[39m):\n\u001b[0;32m--> 426\u001b[0m     \u001b[39mreturn\u001b[39;00m \u001b[39mself\u001b[39;49m\u001b[39m.\u001b[39;49m_next()\n",
      "File \u001b[0;32m~/base/lib/python3.8/site-packages/grpc/_channel.py:817\u001b[0m, in \u001b[0;36m_MultiThreadedRendezvous._next\u001b[0;34m(self)\u001b[0m\n\u001b[1;32m    811\u001b[0m \u001b[39mdef\u001b[39;00m \u001b[39m_response_ready\u001b[39m():\n\u001b[1;32m    812\u001b[0m     \u001b[39mreturn\u001b[39;00m (\u001b[39mself\u001b[39m\u001b[39m.\u001b[39m_state\u001b[39m.\u001b[39mresponse \u001b[39mis\u001b[39;00m \u001b[39mnot\u001b[39;00m \u001b[39mNone\u001b[39;00m \u001b[39mor\u001b[39;00m\n\u001b[1;32m    813\u001b[0m             (cygrpc\u001b[39m.\u001b[39mOperationType\u001b[39m.\u001b[39mreceive_message\n\u001b[1;32m    814\u001b[0m              \u001b[39mnot\u001b[39;00m \u001b[39min\u001b[39;00m \u001b[39mself\u001b[39m\u001b[39m.\u001b[39m_state\u001b[39m.\u001b[39mdue \u001b[39mand\u001b[39;00m\n\u001b[1;32m    815\u001b[0m              \u001b[39mself\u001b[39m\u001b[39m.\u001b[39m_state\u001b[39m.\u001b[39mcode \u001b[39mis\u001b[39;00m \u001b[39mnot\u001b[39;00m \u001b[39mNone\u001b[39;00m))\n\u001b[0;32m--> 817\u001b[0m _common\u001b[39m.\u001b[39;49mwait(\u001b[39mself\u001b[39;49m\u001b[39m.\u001b[39;49m_state\u001b[39m.\u001b[39;49mcondition\u001b[39m.\u001b[39;49mwait, _response_ready)\n\u001b[1;32m    818\u001b[0m \u001b[39mif\u001b[39;00m \u001b[39mself\u001b[39m\u001b[39m.\u001b[39m_state\u001b[39m.\u001b[39mresponse \u001b[39mis\u001b[39;00m \u001b[39mnot\u001b[39;00m \u001b[39mNone\u001b[39;00m:\n\u001b[1;32m    819\u001b[0m     response \u001b[39m=\u001b[39m \u001b[39mself\u001b[39m\u001b[39m.\u001b[39m_state\u001b[39m.\u001b[39mresponse\n",
      "File \u001b[0;32m~/base/lib/python3.8/site-packages/grpc/_common.py:141\u001b[0m, in \u001b[0;36mwait\u001b[0;34m(wait_fn, wait_complete_fn, timeout, spin_cb)\u001b[0m\n\u001b[1;32m    139\u001b[0m \u001b[39mif\u001b[39;00m timeout \u001b[39mis\u001b[39;00m \u001b[39mNone\u001b[39;00m:\n\u001b[1;32m    140\u001b[0m     \u001b[39mwhile\u001b[39;00m \u001b[39mnot\u001b[39;00m wait_complete_fn():\n\u001b[0;32m--> 141\u001b[0m         _wait_once(wait_fn, MAXIMUM_WAIT_TIMEOUT, spin_cb)\n\u001b[1;32m    142\u001b[0m \u001b[39melse\u001b[39;00m:\n\u001b[1;32m    143\u001b[0m     end \u001b[39m=\u001b[39m time\u001b[39m.\u001b[39mtime() \u001b[39m+\u001b[39m timeout\n",
      "File \u001b[0;32m~/base/lib/python3.8/site-packages/grpc/_common.py:106\u001b[0m, in \u001b[0;36m_wait_once\u001b[0;34m(wait_fn, timeout, spin_cb)\u001b[0m\n\u001b[1;32m    105\u001b[0m \u001b[39mdef\u001b[39;00m \u001b[39m_wait_once\u001b[39m(wait_fn, timeout, spin_cb):\n\u001b[0;32m--> 106\u001b[0m     wait_fn(timeout\u001b[39m=\u001b[39;49mtimeout)\n\u001b[1;32m    107\u001b[0m     \u001b[39mif\u001b[39;00m spin_cb \u001b[39mis\u001b[39;00m \u001b[39mnot\u001b[39;00m \u001b[39mNone\u001b[39;00m:\n\u001b[1;32m    108\u001b[0m         spin_cb()\n",
      "File \u001b[0;32m/usr/lib/python3.8/threading.py:306\u001b[0m, in \u001b[0;36mCondition.wait\u001b[0;34m(self, timeout)\u001b[0m\n\u001b[1;32m    304\u001b[0m \u001b[39melse\u001b[39;00m:\n\u001b[1;32m    305\u001b[0m     \u001b[39mif\u001b[39;00m timeout \u001b[39m>\u001b[39m \u001b[39m0\u001b[39m:\n\u001b[0;32m--> 306\u001b[0m         gotit \u001b[39m=\u001b[39m waiter\u001b[39m.\u001b[39;49macquire(\u001b[39mTrue\u001b[39;49;00m, timeout)\n\u001b[1;32m    307\u001b[0m     \u001b[39melse\u001b[39;00m:\n\u001b[1;32m    308\u001b[0m         gotit \u001b[39m=\u001b[39m waiter\u001b[39m.\u001b[39macquire(\u001b[39mFalse\u001b[39;00m)\n",
      "\u001b[0;31mKeyboardInterrupt\u001b[0m: "
     ]
    }
   ],
   "source": [
    "# Perform linear regression on `diabetes` dataset.\n",
    "from bastionlab.linfa.trainers import LinearRegression\n",
    "from bastionlab.polars import train_test_split\n",
    "\n",
    "train_X, test_X, train_Y, test_Y = train_test_split(\n",
    "    train_rdf, target_rdf, test_size=0.2, shuffle=True\n",
    ")\n",
    "\n",
    "\n",
    "train_X = train_X.to_array()\n",
    "train_Y = train_Y.to_array()\n",
    "\n",
    "lr = LinearRegression()\n",
    "\n",
    "lr.fit(train_X, train_Y)\n",
    "\n",
    "y_pred = lr.predict(test_X)\n",
    "\n",
    "result = pl.DataFrame(\n",
    "    {\"Actual\": test_Y.collect().fetch().to_series(), \"Predict\": y_pred.to_series()}\n",
    ")\n",
    "result"
   ]
  }
 ],
 "metadata": {
  "kernelspec": {
   "display_name": "Python 3.8.10 ('base')",
   "language": "python",
   "name": "python3"
  },
  "language_info": {
   "codemirror_mode": {
    "name": "ipython",
    "version": 3
   },
   "file_extension": ".py",
   "mimetype": "text/x-python",
   "name": "python",
   "nbconvert_exporter": "python",
   "pygments_lexer": "ipython3",
   "version": "3.8.10"
  },
  "orig_nbformat": 4,
  "vscode": {
   "interpreter": {
    "hash": "cfb725626286d8c8fc5334ffe77697f720dc23e64d3046271825a5556b528e7d"
   }
  }
 },
 "nbformat": 4,
 "nbformat_minor": 2
}
