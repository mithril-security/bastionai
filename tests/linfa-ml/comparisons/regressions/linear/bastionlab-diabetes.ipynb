{
 "cells": [
  {
   "cell_type": "code",
   "execution_count": 1,
   "metadata": {},
   "outputs": [],
   "source": [
    "# ! pip install bastionlab polars"
   ]
  },
  {
   "cell_type": "code",
   "execution_count": 2,
   "metadata": {},
   "outputs": [],
   "source": [
    "# !wget -O diabetes_train.csv.gz https://github.com/scikit-learn/scikit-learn/raw/98cf537f5c538fdbc9d27b851cf03ce7611b8a48/sklearn/datasets/data/diabetes_data_raw.csv.gz\n",
    "# !wget -O diabetes_target.csv.gz https://github.com/scikit-learn/scikit-learn/raw/98cf537f5c538fdbc9d27b851cf03ce7611b8a48/sklearn/datasets/data/diabetes_target.csv.gz\n",
    "# !gzip -d diabetes_train.csv.gz\n",
    "# !gzip -d diabetes_target.csv.gz"
   ]
  },
  {
   "cell_type": "code",
   "execution_count": 3,
   "metadata": {},
   "outputs": [],
   "source": [
    "from bastionlab import Connection\n",
    "import polars as pl\n",
    "\n",
    "connection = Connection(\"localhost\")"
   ]
  },
  {
   "cell_type": "code",
   "execution_count": 4,
   "metadata": {},
   "outputs": [],
   "source": [
    "# load dataset\n",
    "train_df = pl.read_csv(\n",
    "    \"diabetes_train.csv\",\n",
    "    sep=\" \",\n",
    "    has_header=False,\n",
    "    new_columns=[\"age\", \"sex\", \"bmi\", \"bp\", \"s1\", \"s2\", \"s3\", \"s4\", \"s5\", \"s6\"],\n",
    ")\n",
    "target_df = pl.read_csv(\n",
    "    \"diabetes_target.csv\",\n",
    "    has_header=False,\n",
    "    new_columns=[\"target\"],\n",
    ")"
   ]
  },
  {
   "cell_type": "code",
   "execution_count": 5,
   "metadata": {},
   "outputs": [
    {
     "name": "stderr",
     "output_type": "stream",
     "text": [
      "/home/kbamponsem/base/lib/python3.8/site-packages/tqdm/auto.py:22: TqdmWarning: IProgress not found. Please update jupyter and ipywidgets. See https://ipywidgets.readthedocs.io/en/stable/user_install.html\n",
      "  from .autonotebook import tqdm as notebook_tqdm\n"
     ]
    }
   ],
   "source": [
    "from bastionlab.polars.policy import Policy, TrueRule, Log\n",
    "\n",
    "policy = Policy(\n",
    "    safe_zone=TrueRule(), unsafe_handling=Log(), savable=False\n",
    ")\n",
    "train_rdf = connection.client.polars.send_df(train_df, policy)\n",
    "target_rdf = connection.client.polars.send_df(target_df, policy)"
   ]
  },
  {
   "cell_type": "code",
   "execution_count": 6,
   "metadata": {},
   "outputs": [
    {
     "name": "stdout",
     "output_type": "stream",
     "text": [
      "shape: (442, 10)\n",
      "┌──────┬─────┬──────┬───────┬─────┬──────┬──────┬────────┬───────┐\n",
      "│ age  ┆ sex ┆ bmi  ┆ bp    ┆ ... ┆ s3   ┆ s4   ┆ s5     ┆ s6    │\n",
      "│ ---  ┆ --- ┆ ---  ┆ ---   ┆     ┆ ---  ┆ ---  ┆ ---    ┆ ---   │\n",
      "│ f64  ┆ f64 ┆ f64  ┆ f64   ┆     ┆ f64  ┆ f64  ┆ f64    ┆ f64   │\n",
      "╞══════╪═════╪══════╪═══════╪═════╪══════╪══════╪════════╪═══════╡\n",
      "│ 59.0 ┆ 2.0 ┆ 32.1 ┆ 101.0 ┆ ... ┆ 38.0 ┆ 4.0  ┆ 4.8598 ┆ 87.0  │\n",
      "├╌╌╌╌╌╌┼╌╌╌╌╌┼╌╌╌╌╌╌┼╌╌╌╌╌╌╌┼╌╌╌╌╌┼╌╌╌╌╌╌┼╌╌╌╌╌╌┼╌╌╌╌╌╌╌╌┼╌╌╌╌╌╌╌┤\n",
      "│ 48.0 ┆ 1.0 ┆ 21.6 ┆ 87.0  ┆ ... ┆ 70.0 ┆ 3.0  ┆ 3.8918 ┆ 69.0  │\n",
      "├╌╌╌╌╌╌┼╌╌╌╌╌┼╌╌╌╌╌╌┼╌╌╌╌╌╌╌┼╌╌╌╌╌┼╌╌╌╌╌╌┼╌╌╌╌╌╌┼╌╌╌╌╌╌╌╌┼╌╌╌╌╌╌╌┤\n",
      "│ 72.0 ┆ 2.0 ┆ 30.5 ┆ 93.0  ┆ ... ┆ 41.0 ┆ 4.0  ┆ 4.6728 ┆ 85.0  │\n",
      "├╌╌╌╌╌╌┼╌╌╌╌╌┼╌╌╌╌╌╌┼╌╌╌╌╌╌╌┼╌╌╌╌╌┼╌╌╌╌╌╌┼╌╌╌╌╌╌┼╌╌╌╌╌╌╌╌┼╌╌╌╌╌╌╌┤\n",
      "│ 24.0 ┆ 1.0 ┆ 25.3 ┆ 84.0  ┆ ... ┆ 40.0 ┆ 5.0  ┆ 4.8903 ┆ 89.0  │\n",
      "├╌╌╌╌╌╌┼╌╌╌╌╌┼╌╌╌╌╌╌┼╌╌╌╌╌╌╌┼╌╌╌╌╌┼╌╌╌╌╌╌┼╌╌╌╌╌╌┼╌╌╌╌╌╌╌╌┼╌╌╌╌╌╌╌┤\n",
      "│ ...  ┆ ... ┆ ...  ┆ ...   ┆ ... ┆ ...  ┆ ...  ┆ ...    ┆ ...   │\n",
      "├╌╌╌╌╌╌┼╌╌╌╌╌┼╌╌╌╌╌╌┼╌╌╌╌╌╌╌┼╌╌╌╌╌┼╌╌╌╌╌╌┼╌╌╌╌╌╌┼╌╌╌╌╌╌╌╌┼╌╌╌╌╌╌╌┤\n",
      "│ 47.0 ┆ 2.0 ┆ 24.9 ┆ 75.0  ┆ ... ┆ 42.0 ┆ 5.0  ┆ 4.4427 ┆ 102.0 │\n",
      "├╌╌╌╌╌╌┼╌╌╌╌╌┼╌╌╌╌╌╌┼╌╌╌╌╌╌╌┼╌╌╌╌╌┼╌╌╌╌╌╌┼╌╌╌╌╌╌┼╌╌╌╌╌╌╌╌┼╌╌╌╌╌╌╌┤\n",
      "│ 60.0 ┆ 2.0 ┆ 24.9 ┆ 99.67 ┆ ... ┆ 43.0 ┆ 3.77 ┆ 4.1271 ┆ 95.0  │\n",
      "├╌╌╌╌╌╌┼╌╌╌╌╌┼╌╌╌╌╌╌┼╌╌╌╌╌╌╌┼╌╌╌╌╌┼╌╌╌╌╌╌┼╌╌╌╌╌╌┼╌╌╌╌╌╌╌╌┼╌╌╌╌╌╌╌┤\n",
      "│ 36.0 ┆ 1.0 ┆ 30.0 ┆ 95.0  ┆ ... ┆ 42.0 ┆ 4.79 ┆ 5.1299 ┆ 85.0  │\n",
      "├╌╌╌╌╌╌┼╌╌╌╌╌┼╌╌╌╌╌╌┼╌╌╌╌╌╌╌┼╌╌╌╌╌┼╌╌╌╌╌╌┼╌╌╌╌╌╌┼╌╌╌╌╌╌╌╌┼╌╌╌╌╌╌╌┤\n",
      "│ 36.0 ┆ 1.0 ┆ 19.6 ┆ 71.0  ┆ ... ┆ 97.0 ┆ 3.0  ┆ 4.5951 ┆ 92.0  │\n",
      "└──────┴─────┴──────┴───────┴─────┴──────┴──────┴────────┴───────┘\n"
     ]
    },
    {
     "ename": "_InactiveRpcError",
     "evalue": "<_InactiveRpcError of RPC that terminated with:\n\tstatus = StatusCode.NOT_FOUND\n\tdetails = \"Could not find dataframe: identifier=e0928d54-6f0e-4bf6-aa35-02ad419b5927\"\n\tdebug_error_string = \"{\"created\":\"@1676546211.789169287\",\"description\":\"Error received from peer ipv4:127.0.0.1:50056\",\"file\":\"src/core/lib/surface/call.cc\",\"file_line\":966,\"grpc_message\":\"Could not find dataframe: identifier=e0928d54-6f0e-4bf6-aa35-02ad419b5927\",\"grpc_status\":5}\"\n>",
     "output_type": "error",
     "traceback": [
      "\u001b[0;31m---------------------------------------------------------------------------\u001b[0m",
      "\u001b[0;31m_InactiveRpcError\u001b[0m                         Traceback (most recent call last)",
      "Cell \u001b[0;32mIn[6], line 18\u001b[0m\n\u001b[1;32m     12\u001b[0m train_X, test_X, train_Y, test_Y \u001b[39m=\u001b[39m train_test_split(\n\u001b[1;32m     13\u001b[0m     train_array, target_array, test_size\u001b[39m=\u001b[39m\u001b[39m0.2\u001b[39m, shuffle\u001b[39m=\u001b[39m\u001b[39mTrue\u001b[39;00m\n\u001b[1;32m     14\u001b[0m )\n\u001b[1;32m     16\u001b[0m lr \u001b[39m=\u001b[39m LinearRegression()\n\u001b[0;32m---> 18\u001b[0m lr\u001b[39m.\u001b[39;49mfit(train_X, train_Y)\n",
      "File \u001b[0;32m~/Projects/bastionlab/client/src/bastionlab/linfa/trainers.py:54\u001b[0m, in \u001b[0;36mLinearRegression.fit\u001b[0;34m(self, train_set, target_set)\u001b[0m\n\u001b[1;32m     53\u001b[0m \u001b[39mdef\u001b[39;00m \u001b[39mfit\u001b[39m(\u001b[39mself\u001b[39m, train_set: \u001b[39m\"\u001b[39m\u001b[39mRemoteArray\u001b[39m\u001b[39m\"\u001b[39m, target_set: \u001b[39m\"\u001b[39m\u001b[39mRemoteArray\u001b[39m\u001b[39m\"\u001b[39m):\n\u001b[0;32m---> 54\u001b[0m     \u001b[39mreturn\u001b[39;00m \u001b[39msuper\u001b[39;49m()\u001b[39m.\u001b[39;49mfit(train_set, target_set)\n",
      "File \u001b[0;32m~/Projects/bastionlab/client/src/bastionlab/linfa/trainers.py:23\u001b[0m, in \u001b[0;36mTrainer.fit\u001b[0;34m(self, train_set, target_set)\u001b[0m\n\u001b[1;32m     21\u001b[0m \u001b[39mdef\u001b[39;00m \u001b[39mfit\u001b[39m(\u001b[39mself\u001b[39m, train_set: \u001b[39m\"\u001b[39m\u001b[39mRemoteArray\u001b[39m\u001b[39m\"\u001b[39m, target_set: \u001b[39m\"\u001b[39m\u001b[39mRemoteArray\u001b[39m\u001b[39m\"\u001b[39m):\n\u001b[1;32m     22\u001b[0m     client \u001b[39m=\u001b[39m train_set\u001b[39m.\u001b[39m_client\u001b[39m.\u001b[39mlinfa\n\u001b[0;32m---> 23\u001b[0m     model \u001b[39m=\u001b[39m client\u001b[39m.\u001b[39;49m_train(train_set, target_set, \u001b[39mself\u001b[39;49m)\n\u001b[1;32m     24\u001b[0m     \u001b[39mself\u001b[39m\u001b[39m.\u001b[39midentifier \u001b[39m=\u001b[39m model\u001b[39m.\u001b[39midentifier\n\u001b[1;32m     25\u001b[0m     \u001b[39mreturn\u001b[39;00m model\n",
      "File \u001b[0;32m~/Projects/bastionlab/client/src/bastionlab/linfa/client.py:37\u001b[0m, in \u001b[0;36mBastionLabLinfa._train\u001b[0;34m(self, records, target, trainer)\u001b[0m\n\u001b[1;32m     29\u001b[0m \u001b[39mdef\u001b[39;00m \u001b[39m_train\u001b[39m(\n\u001b[1;32m     30\u001b[0m     \u001b[39mself\u001b[39m,\n\u001b[1;32m     31\u001b[0m     records: \u001b[39m\"\u001b[39m\u001b[39mRemoteArray\u001b[39m\u001b[39m\"\u001b[39m,\n\u001b[1;32m     32\u001b[0m     target: \u001b[39m\"\u001b[39m\u001b[39mRemoteArray\u001b[39m\u001b[39m\"\u001b[39m,\n\u001b[1;32m     33\u001b[0m     trainer: \u001b[39m\"\u001b[39m\u001b[39mTrainer\u001b[39m\u001b[39m\"\u001b[39m,\n\u001b[1;32m     34\u001b[0m ) \u001b[39m-\u001b[39m\u001b[39m>\u001b[39m \u001b[39m\"\u001b[39m\u001b[39mFittedModel\u001b[39m\u001b[39m\"\u001b[39m:\n\u001b[1;32m     35\u001b[0m     \u001b[39mfrom\u001b[39;00m \u001b[39m.\u001b[39;00m\u001b[39mremote_linfa\u001b[39;00m \u001b[39mimport\u001b[39;00m FittedModel\n\u001b[0;32m---> 37\u001b[0m     res \u001b[39m=\u001b[39m \u001b[39mself\u001b[39;49m\u001b[39m.\u001b[39;49mstub\u001b[39m.\u001b[39;49mTrain(\n\u001b[1;32m     38\u001b[0m         TrainingRequest(\n\u001b[1;32m     39\u001b[0m             records\u001b[39m=\u001b[39;49mrecords\u001b[39m.\u001b[39;49midentifier,\n\u001b[1;32m     40\u001b[0m             target\u001b[39m=\u001b[39;49mtarget\u001b[39m.\u001b[39;49midentifier,\n\u001b[1;32m     41\u001b[0m             trainer\u001b[39m=\u001b[39;49mLinfaTrainer(\u001b[39m*\u001b[39;49m\u001b[39m*\u001b[39;49mtrainer\u001b[39m.\u001b[39;49mto_msg_dict()),\n\u001b[1;32m     42\u001b[0m         )\n\u001b[1;32m     43\u001b[0m     )\n\u001b[1;32m     44\u001b[0m     \u001b[39mreturn\u001b[39;00m FittedModel\u001b[39m.\u001b[39m_from_reference(res, trainer)\n",
      "File \u001b[0;32m~/base/lib/python3.8/site-packages/grpc/_channel.py:946\u001b[0m, in \u001b[0;36m_UnaryUnaryMultiCallable.__call__\u001b[0;34m(self, request, timeout, metadata, credentials, wait_for_ready, compression)\u001b[0m\n\u001b[1;32m    937\u001b[0m \u001b[39mdef\u001b[39;00m \u001b[39m__call__\u001b[39m(\u001b[39mself\u001b[39m,\n\u001b[1;32m    938\u001b[0m              request,\n\u001b[1;32m    939\u001b[0m              timeout\u001b[39m=\u001b[39m\u001b[39mNone\u001b[39;00m,\n\u001b[0;32m   (...)\u001b[0m\n\u001b[1;32m    942\u001b[0m              wait_for_ready\u001b[39m=\u001b[39m\u001b[39mNone\u001b[39;00m,\n\u001b[1;32m    943\u001b[0m              compression\u001b[39m=\u001b[39m\u001b[39mNone\u001b[39;00m):\n\u001b[1;32m    944\u001b[0m     state, call, \u001b[39m=\u001b[39m \u001b[39mself\u001b[39m\u001b[39m.\u001b[39m_blocking(request, timeout, metadata, credentials,\n\u001b[1;32m    945\u001b[0m                                   wait_for_ready, compression)\n\u001b[0;32m--> 946\u001b[0m     \u001b[39mreturn\u001b[39;00m _end_unary_response_blocking(state, call, \u001b[39mFalse\u001b[39;49;00m, \u001b[39mNone\u001b[39;49;00m)\n",
      "File \u001b[0;32m~/base/lib/python3.8/site-packages/grpc/_channel.py:849\u001b[0m, in \u001b[0;36m_end_unary_response_blocking\u001b[0;34m(state, call, with_call, deadline)\u001b[0m\n\u001b[1;32m    847\u001b[0m         \u001b[39mreturn\u001b[39;00m state\u001b[39m.\u001b[39mresponse\n\u001b[1;32m    848\u001b[0m \u001b[39melse\u001b[39;00m:\n\u001b[0;32m--> 849\u001b[0m     \u001b[39mraise\u001b[39;00m _InactiveRpcError(state)\n",
      "\u001b[0;31m_InactiveRpcError\u001b[0m: <_InactiveRpcError of RPC that terminated with:\n\tstatus = StatusCode.NOT_FOUND\n\tdetails = \"Could not find dataframe: identifier=e0928d54-6f0e-4bf6-aa35-02ad419b5927\"\n\tdebug_error_string = \"{\"created\":\"@1676546211.789169287\",\"description\":\"Error received from peer ipv4:127.0.0.1:50056\",\"file\":\"src/core/lib/surface/call.cc\",\"file_line\":966,\"grpc_message\":\"Could not find dataframe: identifier=e0928d54-6f0e-4bf6-aa35-02ad419b5927\",\"grpc_status\":5}\"\n>"
     ]
    }
   ],
   "source": [
    "# Perform linear regression on `diabetes` dataset.\n",
    "from bastionlab.linfa.trainers import LinearRegression\n",
    "from bastionlab.polars import train_test_split\n",
    "\n",
    "train_rdf = train_rdf.select(pl.all().cast(pl.Float64)).collect()\n",
    "\n",
    "print(train_rdf.collect().fetch())\n",
    "\n",
    "train_array = train_rdf.to_array()\n",
    "target_array = target_rdf.to_array()\n",
    "\n",
    "train_X, test_X, train_Y, test_Y = train_test_split(\n",
    "    train_array, target_array, test_size=0.2, shuffle=True\n",
    ")\n",
    "\n",
    "lr = LinearRegression()\n",
    "\n",
    "lr.fit(train_X, train_Y)\n",
    "\n",
    "# y_pred = lr.predict(test_X)\n",
    "\n",
    "# result = pl.DataFrame(\n",
    "#     {\"Actual\": test_Y.collect().fetch().to_series(), \"Predict\": y_pred.to_series()}\n",
    "# )\n",
    "# result"
   ]
  }
 ],
 "metadata": {
  "kernelspec": {
   "display_name": "Python 3.8.10 ('base')",
   "language": "python",
   "name": "python3"
  },
  "language_info": {
   "codemirror_mode": {
    "name": "ipython",
    "version": 3
   },
   "file_extension": ".py",
   "mimetype": "text/x-python",
   "name": "python",
   "nbconvert_exporter": "python",
   "pygments_lexer": "ipython3",
   "version": "3.8.10"
  },
  "orig_nbformat": 4,
  "vscode": {
   "interpreter": {
    "hash": "cfb725626286d8c8fc5334ffe77697f720dc23e64d3046271825a5556b528e7d"
   }
  }
 },
 "nbformat": 4,
 "nbformat_minor": 2
}
