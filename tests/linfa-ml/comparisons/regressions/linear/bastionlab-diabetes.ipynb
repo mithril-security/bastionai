{
 "cells": [
  {
   "cell_type": "code",
   "execution_count": null,
   "metadata": {},
   "outputs": [],
   "source": [
    "! pip install bastionlab polars"
   ]
  },
  {
   "cell_type": "code",
   "execution_count": 2,
   "metadata": {},
   "outputs": [
    {
     "name": "stdout",
     "output_type": "stream",
     "text": [
      "--2023-01-04 15:03:55--  https://github.com/scikit-learn/scikit-learn/raw/98cf537f5c538fdbc9d27b851cf03ce7611b8a48/sklearn/datasets/data/diabetes_data_raw.csv.gz\n",
      "Resolving github.com (github.com)... 140.82.121.4\n",
      "Connecting to github.com (github.com)|140.82.121.4|:443... connected.\n",
      "HTTP request sent, awaiting response... 302 Found\n",
      "Location: https://raw.githubusercontent.com/scikit-learn/scikit-learn/98cf537f5c538fdbc9d27b851cf03ce7611b8a48/sklearn/datasets/data/diabetes_data_raw.csv.gz [following]\n",
      "--2023-01-04 15:03:55--  https://raw.githubusercontent.com/scikit-learn/scikit-learn/98cf537f5c538fdbc9d27b851cf03ce7611b8a48/sklearn/datasets/data/diabetes_data_raw.csv.gz\n",
      "Resolving raw.githubusercontent.com (raw.githubusercontent.com)... 185.199.109.133, 185.199.110.133, 185.199.111.133, ...\n",
      "Connecting to raw.githubusercontent.com (raw.githubusercontent.com)|185.199.109.133|:443... connected.\n",
      "HTTP request sent, awaiting response... 200 OK\n",
      "Length: 7105 (6.9K) [application/octet-stream]\n",
      "Saving to: ‘diabetes_train.csv.gz’\n",
      "\n",
      "diabetes_train.csv. 100%[===================>]   6.94K  --.-KB/s    in 0s      \n",
      "\n",
      "2023-01-04 15:03:55 (84.7 MB/s) - ‘diabetes_train.csv.gz’ saved [7105/7105]\n",
      "\n",
      "--2023-01-04 15:03:55--  https://github.com/scikit-learn/scikit-learn/raw/98cf537f5c538fdbc9d27b851cf03ce7611b8a48/sklearn/datasets/data/diabetes_target.csv.gz\n",
      "Resolving github.com (github.com)... 140.82.121.4\n",
      "Connecting to github.com (github.com)|140.82.121.4|:443... connected.\n",
      "HTTP request sent, awaiting response... 302 Found\n",
      "Location: https://raw.githubusercontent.com/scikit-learn/scikit-learn/98cf537f5c538fdbc9d27b851cf03ce7611b8a48/sklearn/datasets/data/diabetes_target.csv.gz [following]\n",
      "--2023-01-04 15:03:55--  https://raw.githubusercontent.com/scikit-learn/scikit-learn/98cf537f5c538fdbc9d27b851cf03ce7611b8a48/sklearn/datasets/data/diabetes_target.csv.gz\n",
      "Resolving raw.githubusercontent.com (raw.githubusercontent.com)... 185.199.109.133, 185.199.110.133, 185.199.111.133, ...\n",
      "Connecting to raw.githubusercontent.com (raw.githubusercontent.com)|185.199.109.133|:443... connected.\n",
      "HTTP request sent, awaiting response... 200 OK\n",
      "Length: 1050 (1.0K) [application/octet-stream]\n",
      "Saving to: ‘diabetes_target.csv.gz’\n",
      "\n",
      "diabetes_target.csv 100%[===================>]   1.03K  --.-KB/s    in 0s      \n",
      "\n",
      "2023-01-04 15:03:55 (95.8 MB/s) - ‘diabetes_target.csv.gz’ saved [1050/1050]\n",
      "\n"
     ]
    }
   ],
   "source": [
    "!wget -O diabetes_train.csv.gz https://github.com/scikit-learn/scikit-learn/raw/98cf537f5c538fdbc9d27b851cf03ce7611b8a48/sklearn/datasets/data/diabetes_data_raw.csv.gz\n",
    "!wget -O diabetes_target.csv.gz https://github.com/scikit-learn/scikit-learn/raw/98cf537f5c538fdbc9d27b851cf03ce7611b8a48/sklearn/datasets/data/diabetes_target.csv.gz\n",
    "!gzip -d diabetes_train.csv.gz\n",
    "!gzip -d diabetes_target.csv.gz"
   ]
  },
  {
   "cell_type": "code",
   "execution_count": 1,
   "metadata": {},
   "outputs": [
    {
     "name": "stderr",
     "output_type": "stream",
     "text": [
      "/home/kbamponsem/base/lib/python3.8/site-packages/tqdm/auto.py:22: TqdmWarning: IProgress not found. Please update jupyter and ipywidgets. See https://ipywidgets.readthedocs.io/en/stable/user_install.html\n",
      "  from .autonotebook import tqdm as notebook_tqdm\n"
     ]
    }
   ],
   "source": [
    "from bastionlab import Connection, Identity\n",
    "import polars as pl"
   ]
  },
  {
   "cell_type": "code",
   "execution_count": 2,
   "metadata": {},
   "outputs": [],
   "source": [
    "connection = Connection(\"localhost\")"
   ]
  },
  {
   "cell_type": "code",
   "execution_count": 3,
   "metadata": {},
   "outputs": [],
   "source": [
    "# load dataset\n",
    "train_df = pl.read_csv(\n",
    "    \"diabetes_train.csv\",\n",
    "    sep=\" \",\n",
    "    has_header=False,\n",
    "    new_columns=[\"age\", \"sex\", \"bmi\", \"bp\", \"s1\", \"s2\", \"s3\", \"s4\", \"s5\", \"s6\"],\n",
    ")\n",
    "test_df = pl.read_csv(\n",
    "    \"diabetes_target.csv\",\n",
    "    has_header=False,\n",
    "    new_columns=[\"target\"],\n",
    ")"
   ]
  },
  {
   "cell_type": "code",
   "execution_count": 4,
   "metadata": {},
   "outputs": [],
   "source": [
    "train_rdf = connection.client.polars.send_df(train_df)\n",
    "test_rdf = connection.client.polars.send_df(test_df)"
   ]
  },
  {
   "cell_type": "code",
   "execution_count": 5,
   "metadata": {},
   "outputs": [
    {
     "name": "stdout",
     "output_type": "stream",
     "text": [
      "FittedModel(identifier=0ef7859a-6a49-433b-b280-7652cf3d00d4)\n",
      "  └── LinearRegression(fit_intercept=True)\n"
     ]
    },
    {
     "ename": "ImportError",
     "evalue": "cannot import name 'FetchableLazyFrame' from 'bastionlab.polars' (/home/kbamponsem/Projects/bastionlab/client/src/bastionlab/polars/__init__.py)",
     "output_type": "error",
     "traceback": [
      "\u001b[0;31m---------------------------------------------------------------------------\u001b[0m",
      "\u001b[0;31mImportError\u001b[0m                               Traceback (most recent call last)",
      "Cell \u001b[0;32mIn[5], line 6\u001b[0m\n\u001b[1;32m      4\u001b[0m model \u001b[39m=\u001b[39m connection\u001b[39m.\u001b[39mclient\u001b[39m.\u001b[39mlinfa\u001b[39m.\u001b[39mtrain(train_rdf, test_rdf, LinearRegression(), \u001b[39m0.85\u001b[39m)\n\u001b[1;32m      5\u001b[0m \u001b[39mprint\u001b[39m(model)\n\u001b[0;32m----> 6\u001b[0m res \u001b[39m=\u001b[39m connection\u001b[39m.\u001b[39;49mclient\u001b[39m.\u001b[39;49mlinfa\u001b[39m.\u001b[39;49mpredict(\n\u001b[1;32m      7\u001b[0m     model, [\u001b[39m60\u001b[39;49m, \u001b[39m2\u001b[39;49m, \u001b[39m28.2\u001b[39;49m, \u001b[39m112.0\u001b[39;49m, \u001b[39m185\u001b[39;49m, \u001b[39m113.8\u001b[39;49m, \u001b[39m42.0\u001b[39;49m, \u001b[39m4.0\u001b[39;49m, \u001b[39m4.9836\u001b[39;49m, \u001b[39m93\u001b[39;49m]\n\u001b[1;32m      8\u001b[0m )\n\u001b[1;32m      9\u001b[0m \u001b[39mprint\u001b[39m(res)\n",
      "File \u001b[0;32m~/Projects/bastionlab/client/src/bastionlab/linfa/client.py:48\u001b[0m, in \u001b[0;36mBastionLabLinfa.predict\u001b[0;34m(self, model, data)\u001b[0m\n\u001b[1;32m     47\u001b[0m \u001b[39mdef\u001b[39;00m \u001b[39mpredict\u001b[39m(\u001b[39mself\u001b[39m, model: \u001b[39m\"\u001b[39m\u001b[39mFittedModel\u001b[39m\u001b[39m\"\u001b[39m, data: List[\u001b[39mfloat\u001b[39m]) \u001b[39m-\u001b[39m\u001b[39m>\u001b[39m pl\u001b[39m.\u001b[39mDataFrame:\n\u001b[0;32m---> 48\u001b[0m     \u001b[39mfrom\u001b[39;00m \u001b[39m.\u001b[39;00m\u001b[39m.\u001b[39;00m\u001b[39mpolars\u001b[39;00m \u001b[39mimport\u001b[39;00m FetchableLazyFrame\n\u001b[1;32m     50\u001b[0m     res \u001b[39m=\u001b[39m \u001b[39mself\u001b[39m\u001b[39m.\u001b[39mstub\u001b[39m.\u001b[39mPredict(\n\u001b[1;32m     51\u001b[0m         PredictionRequest(model\u001b[39m=\u001b[39mmodel\u001b[39m.\u001b[39midentifier, data\u001b[39m=\u001b[39mdata, probability\u001b[39m=\u001b[39m\u001b[39mFalse\u001b[39;00m)\n\u001b[1;32m     52\u001b[0m     )\n\u001b[1;32m     53\u001b[0m     \u001b[39mreturn\u001b[39;00m FetchableLazyFrame\u001b[39m.\u001b[39m_from_reference(\u001b[39mself\u001b[39m\u001b[39m.\u001b[39mpolars, res)\u001b[39m.\u001b[39mfetch()\n",
      "\u001b[0;31mImportError\u001b[0m: cannot import name 'FetchableLazyFrame' from 'bastionlab.polars' (/home/kbamponsem/Projects/bastionlab/client/src/bastionlab/polars/__init__.py)"
     ]
    }
   ],
   "source": [
    "# Perform linear regression on `diabetes` dataset.\n",
    "from bastionlab.linfa.trainers import LinearRegression\n",
    "\n",
    "model = connection.client.linfa.train(train_rdf, test_rdf, LinearRegression(), 0.85)\n",
    "print(model)\n",
    "\n",
    "res = connection.client.linfa.predict(\n",
    "    model, [60, 2, 28.2, 112.0, 185, 113.8, 42.0, 4.0, 4.9836, 93]\n",
    ")\n",
    "print(res)"
   ]
  }
 ],
 "metadata": {
  "kernelspec": {
   "display_name": "Python 3.8.10 ('base')",
   "language": "python",
   "name": "python3"
  },
  "language_info": {
   "codemirror_mode": {
    "name": "ipython",
    "version": 3
   },
   "file_extension": ".py",
   "mimetype": "text/x-python",
   "name": "python",
   "nbconvert_exporter": "python",
   "pygments_lexer": "ipython3",
   "version": "3.8.10"
  },
  "orig_nbformat": 4,
  "vscode": {
   "interpreter": {
    "hash": "cfb725626286d8c8fc5334ffe77697f720dc23e64d3046271825a5556b528e7d"
   }
  }
 },
 "nbformat": 4,
 "nbformat_minor": 2
}
