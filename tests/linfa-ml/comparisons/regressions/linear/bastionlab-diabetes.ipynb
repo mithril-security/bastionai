{
 "cells": [
  {
   "cell_type": "code",
   "execution_count": 2,
   "metadata": {},
   "outputs": [],
   "source": [
    "!wget -O diabetes_train.csv.gz https://github.com/scikit-learn/scikit-learn/raw/98cf537f5c538fdbc9d27b851cf03ce7611b8a48/sklearn/datasets/data/diabetes_data_raw.csv.gz\n",
    "!wget -O diabetes_target.csv.gz https://github.com/scikit-learn/scikit-learn/raw/98cf537f5c538fdbc9d27b851cf03ce7611b8a48/sklearn/datasets/data/diabetes_target.csv.gz\n",
    "!gzip -d diabetes_train.csv.gz\n",
    "!gzip -d diabetes_target.csv.gz"
   ]
  },
  {
   "cell_type": "code",
   "execution_count": 3,
   "metadata": {},
   "outputs": [],
   "source": [
    "from bastionlab import Connection\n",
    "import polars as pl\n",
    "\n",
    "connection = Connection(\"localhost\")"
   ]
  },
  {
   "cell_type": "code",
   "execution_count": 4,
   "metadata": {},
   "outputs": [],
   "source": [
    "# load dataset\n",
    "train_df = pl.read_csv(\n",
    "    \"diabetes_train.csv\",\n",
    "    sep=\" \",\n",
    "    has_header=False,\n",
    "    new_columns=[\"age\", \"sex\", \"bmi\", \"bp\", \"s1\", \"s2\", \"s3\", \"s4\", \"s5\", \"s6\"],\n",
    ")\n",
    "target_df = pl.read_csv(\n",
    "    \"diabetes_target.csv\",\n",
    "    has_header=False,\n",
    "    new_columns=[\"target\"],\n",
    ")"
   ]
  },
  {
   "cell_type": "code",
   "execution_count": 5,
   "metadata": {},
   "outputs": [
    {
     "name": "stderr",
     "output_type": "stream",
     "text": [
      "/home/kwabena/base/lib/python3.8/site-packages/tqdm/auto.py:22: TqdmWarning: IProgress not found. Please update jupyter and ipywidgets. See https://ipywidgets.readthedocs.io/en/stable/user_install.html\n",
      "  from .autonotebook import tqdm as notebook_tqdm\n"
     ]
    }
   ],
   "source": [
    "from bastionlab.polars.policy import Policy, TrueRule, Review, Aggregation\n",
    "\n",
    "policy = Policy(\n",
    "    safe_zone=Aggregation(min_agg_size=20), unsafe_handling=Review(), savable=False\n",
    ")\n",
    "train_rdf = connection.client.polars.send_df(train_df, policy)\n",
    "target_rdf = connection.client.polars.send_df(target_df, policy)"
   ]
  },
  {
   "cell_type": "code",
   "execution_count": 8,
   "metadata": {},
   "outputs": [
    {
     "name": "stdout",
     "output_type": "stream",
     "text": [
      "shape: (177, 1)\n",
      "┌────────────┐\n",
      "│ prediction │\n",
      "│ ---        │\n",
      "│ f64        │\n",
      "╞════════════╡\n",
      "│ 123.388614 │\n",
      "├╌╌╌╌╌╌╌╌╌╌╌╌┤\n",
      "│ 182.618054 │\n",
      "├╌╌╌╌╌╌╌╌╌╌╌╌┤\n",
      "│ 217.52973  │\n",
      "├╌╌╌╌╌╌╌╌╌╌╌╌┤\n",
      "│ 136.053701 │\n",
      "├╌╌╌╌╌╌╌╌╌╌╌╌┤\n",
      "│ ...        │\n",
      "├╌╌╌╌╌╌╌╌╌╌╌╌┤\n",
      "│ 142.901087 │\n",
      "├╌╌╌╌╌╌╌╌╌╌╌╌┤\n",
      "│ 175.852744 │\n",
      "├╌╌╌╌╌╌╌╌╌╌╌╌┤\n",
      "│ 94.228817  │\n",
      "├╌╌╌╌╌╌╌╌╌╌╌╌┤\n",
      "│ 176.624805 │\n",
      "└────────────┘\n"
     ]
    }
   ],
   "source": [
    "# Perform linear regression on `diabetes` dataset.\n",
    "from bastionlab.linfa.trainers import LinearRegression\n",
    "from bastionlab.polars import train_test_split\n",
    "\n",
    "train_rdf = train_rdf.select(pl.all().cast(pl.Float64)).collect()\n",
    "\n",
    "train_array = train_rdf.to_array()\n",
    "target_array = target_rdf.to_array()\n",
    "\n",
    "train_X, test_X, train_Y, test_Y = train_test_split(\n",
    "    train_array, target_array, test_size=0.4, shuffle=True\n",
    ")\n",
    "\n",
    "lr = LinearRegression()\n",
    "\n",
    "lr.fit(train_X, train_Y)\n",
    "\n",
    "y_pred = lr.predict(test_X)\n",
    "\n",
    "print(y_pred.collect().fetch())"
   ]
  }
 ],
 "metadata": {
  "kernelspec": {
   "display_name": "Python 3.8.10 ('base')",
   "language": "python",
   "name": "python3"
  },
  "language_info": {
   "codemirror_mode": {
    "name": "ipython",
    "version": 3
   },
   "file_extension": ".py",
   "mimetype": "text/x-python",
   "name": "python",
   "nbconvert_exporter": "python",
   "pygments_lexer": "ipython3",
   "version": "3.8.10"
  },
  "orig_nbformat": 4,
  "vscode": {
   "interpreter": {
    "hash": "cfb725626286d8c8fc5334ffe77697f720dc23e64d3046271825a5556b528e7d"
   }
  }
 },
 "nbformat": 4,
 "nbformat_minor": 2
}
