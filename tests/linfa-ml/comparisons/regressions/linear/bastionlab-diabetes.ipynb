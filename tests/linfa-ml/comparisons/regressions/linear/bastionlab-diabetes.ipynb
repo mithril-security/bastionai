{
 "cells": [
  {
   "cell_type": "code",
   "execution_count": null,
   "metadata": {},
   "outputs": [],
   "source": [
    "! pip install bastionlab polars"
   ]
  },
  {
   "cell_type": "code",
   "execution_count": 1,
   "metadata": {},
   "outputs": [],
   "source": [
    "from bastionlab import Connection, Identity\n",
    "import polars as pl"
   ]
  },
  {
   "cell_type": "code",
   "execution_count": 2,
   "metadata": {},
   "outputs": [],
   "source": [
    "data_owner = Identity.create(\"data_owner\")\n",
    "\n",
    "client = Connection(\"localhost\", identity=data_owner).client"
   ]
  },
  {
   "cell_type": "code",
   "execution_count": 3,
   "metadata": {},
   "outputs": [],
   "source": [
    "# load dataset\n",
    "train_df = pl.read_csv(\n",
    "    \"diabetes_train.csv\",\n",
    "    sep=\" \",\n",
    "    has_header=False,\n",
    "    new_columns=[\"age\", \"sex\", \"bmi\", \"bp\", \"s1\", \"s2\", \"s3\", \"s4\", \"s5\", \"s6\"],\n",
    ")\n",
    "test_df = pl.read_csv(\n",
    "    \"diabetes_test.csv\",\n",
    "    has_header=False,\n",
    "    new_columns=[\"target\"],\n",
    ")"
   ]
  },
  {
   "cell_type": "code",
   "execution_count": 4,
   "metadata": {},
   "outputs": [],
   "source": [
    "train_rdf = client.polars.send_df(train_df)\n",
    "test_rdf = client.polars.send_df(test_df)"
   ]
  },
  {
   "cell_type": "code",
   "execution_count": 14,
   "metadata": {},
   "outputs": [
    {
     "name": "stdout",
     "output_type": "stream",
     "text": [
      "LinearRegression(fit_intercept=True)\n",
      "shape: (1, 1)\n",
      "┌────────────┐\n",
      "│ prediction │\n",
      "│ ---        │\n",
      "│ f64        │\n",
      "╞════════════╡\n",
      "│ 192.289151 │\n",
      "└────────────┘\n"
     ]
    }
   ],
   "source": [
    "# Perform linear regression on `diabetes` dataset.\n",
    "from bastionlab.linfa.trainers import LinearRegression\n",
    "\n",
    "model = client.linfa.train(train_rdf, test_rdf, LinearRegression(), 0.85)\n",
    "print(model)\n",
    "res = client.linfa.predict(\n",
    "    model, [60, 2, 28.2, 112.0, 185, 113.8, 42.0, 4.0, 4.9836, 93]\n",
    ")\n",
    "print(res.fetch())"
   ]
  }
 ],
 "metadata": {
  "kernelspec": {
   "display_name": "Python 3.8.10 ('base')",
   "language": "python",
   "name": "python3"
  },
  "language_info": {
   "codemirror_mode": {
    "name": "ipython",
    "version": 3
   },
   "file_extension": ".py",
   "mimetype": "text/x-python",
   "name": "python",
   "nbconvert_exporter": "python",
   "pygments_lexer": "ipython3",
   "version": "3.8.10"
  },
  "orig_nbformat": 4,
  "vscode": {
   "interpreter": {
    "hash": "cfb725626286d8c8fc5334ffe77697f720dc23e64d3046271825a5556b528e7d"
   }
  }
 },
 "nbformat": 4,
 "nbformat_minor": 2
}
