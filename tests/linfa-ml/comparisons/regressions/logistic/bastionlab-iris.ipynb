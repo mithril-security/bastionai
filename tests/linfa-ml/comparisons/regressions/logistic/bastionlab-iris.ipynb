{
 "cells": [
  {
   "cell_type": "code",
   "execution_count": 1,
   "metadata": {},
   "outputs": [
    {
     "name": "stderr",
     "output_type": "stream",
     "text": [
      "/home/kbamponsem/base/lib/python3.8/site-packages/tqdm/auto.py:22: TqdmWarning: IProgress not found. Please update jupyter and ipywidgets. See https://ipywidgets.readthedocs.io/en/stable/user_install.html\n",
      "  from .autonotebook import tqdm as notebook_tqdm\n"
     ]
    }
   ],
   "source": [
    "from bastionlab import Connection, Identity\n",
    "import polars as pl"
   ]
  },
  {
   "cell_type": "code",
   "execution_count": 2,
   "metadata": {},
   "outputs": [],
   "source": [
    "data_owner = Identity.create(\"data_owner\")\n",
    "client = Connection(\"localhost\").client"
   ]
  },
  {
   "cell_type": "code",
   "execution_count": 8,
   "metadata": {},
   "outputs": [
    {
     "name": "stdout",
     "output_type": "stream",
     "text": [
      "shape: (150, 5)\n",
      "┌───────────────────┬──────────────────┬───────────────────┬──────────────────┬────────┐\n",
      "│ sepal length (cm) ┆ sepal width (cm) ┆ petal length (cm) ┆ petal width (cm) ┆ target │\n",
      "│ ---               ┆ ---              ┆ ---               ┆ ---              ┆ ---    │\n",
      "│ f64               ┆ f64              ┆ f64               ┆ f64              ┆ i64    │\n",
      "╞═══════════════════╪══════════════════╪═══════════════════╪══════════════════╪════════╡\n",
      "│ 5.1               ┆ 3.5              ┆ 1.4               ┆ 0.2              ┆ 0      │\n",
      "├╌╌╌╌╌╌╌╌╌╌╌╌╌╌╌╌╌╌╌┼╌╌╌╌╌╌╌╌╌╌╌╌╌╌╌╌╌╌┼╌╌╌╌╌╌╌╌╌╌╌╌╌╌╌╌╌╌╌┼╌╌╌╌╌╌╌╌╌╌╌╌╌╌╌╌╌╌┼╌╌╌╌╌╌╌╌┤\n",
      "│ 4.9               ┆ 3.0              ┆ 1.4               ┆ 0.2              ┆ 0      │\n",
      "├╌╌╌╌╌╌╌╌╌╌╌╌╌╌╌╌╌╌╌┼╌╌╌╌╌╌╌╌╌╌╌╌╌╌╌╌╌╌┼╌╌╌╌╌╌╌╌╌╌╌╌╌╌╌╌╌╌╌┼╌╌╌╌╌╌╌╌╌╌╌╌╌╌╌╌╌╌┼╌╌╌╌╌╌╌╌┤\n",
      "│ 4.7               ┆ 3.2              ┆ 1.3               ┆ 0.2              ┆ 0      │\n",
      "├╌╌╌╌╌╌╌╌╌╌╌╌╌╌╌╌╌╌╌┼╌╌╌╌╌╌╌╌╌╌╌╌╌╌╌╌╌╌┼╌╌╌╌╌╌╌╌╌╌╌╌╌╌╌╌╌╌╌┼╌╌╌╌╌╌╌╌╌╌╌╌╌╌╌╌╌╌┼╌╌╌╌╌╌╌╌┤\n",
      "│ 4.6               ┆ 3.1              ┆ 1.5               ┆ 0.2              ┆ 0      │\n",
      "├╌╌╌╌╌╌╌╌╌╌╌╌╌╌╌╌╌╌╌┼╌╌╌╌╌╌╌╌╌╌╌╌╌╌╌╌╌╌┼╌╌╌╌╌╌╌╌╌╌╌╌╌╌╌╌╌╌╌┼╌╌╌╌╌╌╌╌╌╌╌╌╌╌╌╌╌╌┼╌╌╌╌╌╌╌╌┤\n",
      "│ ...               ┆ ...              ┆ ...               ┆ ...              ┆ ...    │\n",
      "├╌╌╌╌╌╌╌╌╌╌╌╌╌╌╌╌╌╌╌┼╌╌╌╌╌╌╌╌╌╌╌╌╌╌╌╌╌╌┼╌╌╌╌╌╌╌╌╌╌╌╌╌╌╌╌╌╌╌┼╌╌╌╌╌╌╌╌╌╌╌╌╌╌╌╌╌╌┼╌╌╌╌╌╌╌╌┤\n",
      "│ 6.3               ┆ 2.5              ┆ 5.0               ┆ 1.9              ┆ 2      │\n",
      "├╌╌╌╌╌╌╌╌╌╌╌╌╌╌╌╌╌╌╌┼╌╌╌╌╌╌╌╌╌╌╌╌╌╌╌╌╌╌┼╌╌╌╌╌╌╌╌╌╌╌╌╌╌╌╌╌╌╌┼╌╌╌╌╌╌╌╌╌╌╌╌╌╌╌╌╌╌┼╌╌╌╌╌╌╌╌┤\n",
      "│ 6.5               ┆ 3.0              ┆ 5.2               ┆ 2.0              ┆ 2      │\n",
      "├╌╌╌╌╌╌╌╌╌╌╌╌╌╌╌╌╌╌╌┼╌╌╌╌╌╌╌╌╌╌╌╌╌╌╌╌╌╌┼╌╌╌╌╌╌╌╌╌╌╌╌╌╌╌╌╌╌╌┼╌╌╌╌╌╌╌╌╌╌╌╌╌╌╌╌╌╌┼╌╌╌╌╌╌╌╌┤\n",
      "│ 6.2               ┆ 3.4              ┆ 5.4               ┆ 2.3              ┆ 2      │\n",
      "├╌╌╌╌╌╌╌╌╌╌╌╌╌╌╌╌╌╌╌┼╌╌╌╌╌╌╌╌╌╌╌╌╌╌╌╌╌╌┼╌╌╌╌╌╌╌╌╌╌╌╌╌╌╌╌╌╌╌┼╌╌╌╌╌╌╌╌╌╌╌╌╌╌╌╌╌╌┼╌╌╌╌╌╌╌╌┤\n",
      "│ 5.9               ┆ 3.0              ┆ 5.1               ┆ 1.8              ┆ 2      │\n",
      "└───────────────────┴──────────────────┴───────────────────┴──────────────────┴────────┘\n"
     ]
    }
   ],
   "source": [
    "target_names = [\"setosa\", \"versicolor\", \"virginica\"]\n",
    "df = pl.read_csv(\n",
    "    \"iris.csv\",\n",
    "    has_header=False,\n",
    "    new_columns=[\n",
    "        \"sepal length (cm)\",\n",
    "        \"sepal width (cm)\",\n",
    "        \"petal length (cm)\",\n",
    "        \"petal width (cm)\",\n",
    "        \"target\",\n",
    "    ],\n",
    ")\n",
    "\n",
    "df = df.with_column(\n",
    "    pl.col(\"target\")\n",
    "    .map(lambda a: a.apply(lambda b: True if target_names[b] == \"virginica\" else False))\n",
    "    .alias(\"target_class\")\n",
    ")\n",
    "\n",
    "target_class_df = pl.DataFrame({\"classes\": target_names})\n",
    "target_class_df = target_class_df.with_row_count(\"id\")"
   ]
  },
  {
   "cell_type": "code",
   "execution_count": 9,
   "metadata": {},
   "outputs": [
    {
     "name": "stdout",
     "output_type": "stream",
     "text": [
      "FetchableLazyFrame(identifier=2e965adf-68ca-496c-a416-73959fa92427) FetchableLazyFrame(identifier=6f3b146a-05fa-4f72-8527-9f621a62a3d1)\n"
     ]
    }
   ],
   "source": [
    "rdf = client.polars.send_df(df)\n",
    "classes_rdf = client.polars.send_df(target_class_df)\n",
    "\n",
    "train_rdf = rdf.select(pl.col([\"petal length (cm)\", \"petal width (cm)\"])).collect()\n",
    "test_rdf = rdf.select(pl.col(\"target_class\")).collect()\n",
    "print(train_rdf, test_rdf)"
   ]
  },
  {
   "cell_type": "code",
   "execution_count": 10,
   "metadata": {},
   "outputs": [],
   "source": [
    "from bastionlab.linfa.trainers import LogisticRegression\n",
    "\n",
    "trainer = client.linfa.train(train_rdf, test_rdf, LogisticRegression())"
   ]
  },
  {
   "cell_type": "code",
   "execution_count": 11,
   "metadata": {},
   "outputs": [
    {
     "name": "stdout",
     "output_type": "stream",
     "text": [
      "shape: (1, 1)\n",
      "┌────────────┐\n",
      "│ prediction │\n",
      "│ ---        │\n",
      "│ u64        │\n",
      "╞════════════╡\n",
      "│ 1          │\n",
      "└────────────┘\n"
     ]
    }
   ],
   "source": [
    "res = client.linfa.predict(trainer, [5.5, 4.2])\n",
    "print(res)"
   ]
  },
  {
   "cell_type": "code",
   "execution_count": 12,
   "metadata": {},
   "outputs": [
    {
     "name": "stdout",
     "output_type": "stream",
     "text": [
      "shape: (1, 1)\n",
      "┌────────────┐\n",
      "│ prediction │\n",
      "│ ---        │\n",
      "│ f64        │\n",
      "╞════════════╡\n",
      "│ 0.999569   │\n",
      "└────────────┘\n"
     ]
    }
   ],
   "source": [
    "res = client.linfa.predict_proba(trainer, [5.5, 4.2])\n",
    "print(res)"
   ]
  },
  {
   "cell_type": "code",
   "execution_count": 13,
   "metadata": {},
   "outputs": [],
   "source": [
    "res = client.linfa.cross_validate(trainer)"
   ]
  }
 ],
 "metadata": {
  "kernelspec": {
   "display_name": "Python 3.8.10 ('base')",
   "language": "python",
   "name": "python3"
  },
  "language_info": {
   "codemirror_mode": {
    "name": "ipython",
    "version": 3
   },
   "file_extension": ".py",
   "mimetype": "text/x-python",
   "name": "python",
   "nbconvert_exporter": "python",
   "pygments_lexer": "ipython3",
   "version": "3.8.10"
  },
  "orig_nbformat": 4,
  "vscode": {
   "interpreter": {
    "hash": "cfb725626286d8c8fc5334ffe77697f720dc23e64d3046271825a5556b528e7d"
   }
  }
 },
 "nbformat": 4,
 "nbformat_minor": 2
}
