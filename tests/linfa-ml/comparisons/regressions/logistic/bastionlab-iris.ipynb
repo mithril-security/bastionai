{
 "cells": [
  {
   "cell_type": "code",
   "execution_count": 1,
   "metadata": {},
   "outputs": [],
   "source": [
    "from bastionlab import Connection, Identity, LogisticRegression\n",
    "import polars as pl"
   ]
  },
  {
   "cell_type": "code",
   "execution_count": 48,
   "metadata": {},
   "outputs": [],
   "source": [
    "data_owner = Identity.create(\"data_owner\")\n",
    "\n",
    "client = Connection(\"localhost\", identity=data_owner).client"
   ]
  },
  {
   "cell_type": "code",
   "execution_count": 49,
   "metadata": {},
   "outputs": [],
   "source": [
    "target_names = [\"setosa\", \"versicolor\", \"virginica\"]\n",
    "df = pl.read_csv(\n",
    "    \"iris.csv\",\n",
    "    has_header=False,\n",
    "    new_columns=[\n",
    "        \"sepal length (cm)\",\n",
    "        \"sepal width (cm)\",\n",
    "        \"petal length (cm)\",\n",
    "        \"petal width (cm)\",\n",
    "        \"target\",\n",
    "    ],\n",
    ")\n",
    "\n",
    "\n",
    "df = df.with_column(\n",
    "    pl.col(\"target\")\n",
    "    .map(lambda a: a.apply(lambda b: True if target_names[b] == \"virginica\" else False))\n",
    "    .alias(\"target_class\")\n",
    ")\n",
    "\n",
    "target_class_df = pl.DataFrame({\"classes\": target_names})\n",
    "target_class_df = target_class_df.with_row_count(\"id\")"
   ]
  },
  {
   "cell_type": "code",
   "execution_count": 50,
   "metadata": {},
   "outputs": [
    {
     "name": "stdout",
     "output_type": "stream",
     "text": [
      "FetchableLazyFrame(identifier=461f602f-ca5f-4e4c-8f2e-52f27f925c71) FetchableLazyFrame(identifier=8eacea3a-8076-44b0-a3fb-45b5f4c5cd3f)\n"
     ]
    }
   ],
   "source": [
    "rdf = client.send_df(df)\n",
    "classes_rdf = client.send_df(target_class_df)\n",
    "\n",
    "train_rdf = rdf.select(pl.col([\"petal length (cm)\", \"petal width (cm)\"])).collect()\n",
    "test_rdf = rdf.select(pl.col(\"target_class\")).collect()\n",
    "print(train_rdf, test_rdf)"
   ]
  },
  {
   "cell_type": "code",
   "execution_count": 51,
   "metadata": {},
   "outputs": [],
   "source": [
    "trainer = client.train(train_rdf, test_rdf, LogisticRegression())"
   ]
  },
  {
   "cell_type": "code",
   "execution_count": 53,
   "metadata": {},
   "outputs": [
    {
     "name": "stdout",
     "output_type": "stream",
     "text": [
      "FetchableLazyFrame(identifier=8cd288f3-040a-41fb-9f5a-c98817a555a9)\n"
     ]
    }
   ],
   "source": [
    "res = client.predict(trainer, [5.5, 4.2])\n",
    "print(res)"
   ]
  }
 ],
 "metadata": {
  "kernelspec": {
   "display_name": "Python 3.8.10 ('base')",
   "language": "python",
   "name": "python3"
  },
  "language_info": {
   "codemirror_mode": {
    "name": "ipython",
    "version": 3
   },
   "file_extension": ".py",
   "mimetype": "text/x-python",
   "name": "python",
   "nbconvert_exporter": "python",
   "pygments_lexer": "ipython3",
   "version": "3.8.10"
  },
  "orig_nbformat": 4,
  "vscode": {
   "interpreter": {
    "hash": "cfb725626286d8c8fc5334ffe77697f720dc23e64d3046271825a5556b528e7d"
   }
  }
 },
 "nbformat": 4,
 "nbformat_minor": 2
}
