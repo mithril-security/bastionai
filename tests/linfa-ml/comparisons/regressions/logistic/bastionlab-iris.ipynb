{
 "cells": [
  {
   "cell_type": "code",
   "execution_count": 1,
   "metadata": {},
   "outputs": [],
   "source": [
    "from bastionlab import Connection, Identity\n",
    "import polars as pl"
   ]
  },
  {
   "cell_type": "code",
   "execution_count": 3,
   "metadata": {},
   "outputs": [],
   "source": [
    "data_owner = Identity.create(\"data_owner\")\n",
    "client = Connection(\"localhost\").client"
   ]
  },
  {
   "cell_type": "code",
   "execution_count": 4,
   "metadata": {},
   "outputs": [],
   "source": [
    "target_names = [\"setosa\", \"versicolor\", \"virginica\"]\n",
    "df = pl.read_csv(\n",
    "    \"iris.csv\",\n",
    "    has_header=False,\n",
    "    new_columns=[\n",
    "        \"sepal length (cm)\",\n",
    "        \"sepal width (cm)\",\n",
    "        \"petal length (cm)\",\n",
    "        \"petal width (cm)\",\n",
    "        \"target\",\n",
    "    ],\n",
    ")\n",
    "\n",
    "\n",
    "df = df.with_column(\n",
    "    pl.col(\"target\")\n",
    "    .map(lambda a: a.apply(lambda b: True if target_names[b] == \"virginica\" else False))\n",
    "    .alias(\"target_class\")\n",
    ")\n",
    "\n",
    "target_class_df = pl.DataFrame({\"classes\": target_names})\n",
    "target_class_df = target_class_df.with_row_count(\"id\")"
   ]
  },
  {
   "cell_type": "code",
   "execution_count": 5,
   "metadata": {},
   "outputs": [
    {
     "name": "stdout",
     "output_type": "stream",
     "text": [
      "FetchableLazyFrame(identifier=013c99de-50e9-4e55-94c1-56285245b423) FetchableLazyFrame(identifier=90e69b48-cac1-4465-9929-a7d79e5f0b94)\n"
     ]
    }
   ],
   "source": [
    "rdf = client.polars.send_df(df)\n",
    "classes_rdf = client.polars.send_df(target_class_df)\n",
    "\n",
    "train_rdf = rdf.select(pl.col([\"petal length (cm)\", \"petal width (cm)\"])).collect()\n",
    "test_rdf = rdf.select(pl.col(\"target_class\")).collect()\n",
    "print(train_rdf, test_rdf)"
   ]
  },
  {
   "cell_type": "code",
   "execution_count": 6,
   "metadata": {},
   "outputs": [
    {
     "ename": "AttributeError",
     "evalue": "'Client' object has no attribute 'train'",
     "output_type": "error",
     "traceback": [
      "\u001b[0;31m---------------------------------------------------------------------------\u001b[0m",
      "\u001b[0;31mAttributeError\u001b[0m                            Traceback (most recent call last)",
      "\u001b[1;32m/home/kbamponsem/Projects/bastionlab/tests/linfa-ml/comparisons/regressions/logistic/bastionlab-iris.ipynb Cell 5\u001b[0m in \u001b[0;36m<cell line: 3>\u001b[0;34m()\u001b[0m\n\u001b[1;32m      <a href='vscode-notebook-cell://wsl%2Bubuntu/home/kbamponsem/Projects/bastionlab/tests/linfa-ml/comparisons/regressions/logistic/bastionlab-iris.ipynb#W4sdnNjb2RlLXJlbW90ZQ%3D%3D?line=0'>1</a>\u001b[0m \u001b[39mfrom\u001b[39;00m \u001b[39mbastionlab\u001b[39;00m\u001b[39m.\u001b[39;00m\u001b[39mlinfa\u001b[39;00m\u001b[39m.\u001b[39;00m\u001b[39mtrainers\u001b[39;00m \u001b[39mimport\u001b[39;00m LogisticRegression\n\u001b[0;32m----> <a href='vscode-notebook-cell://wsl%2Bubuntu/home/kbamponsem/Projects/bastionlab/tests/linfa-ml/comparisons/regressions/logistic/bastionlab-iris.ipynb#W4sdnNjb2RlLXJlbW90ZQ%3D%3D?line=2'>3</a>\u001b[0m trainer \u001b[39m=\u001b[39m client\u001b[39m.\u001b[39;49mtrain(train_rdf, test_rdf, LogisticRegression())\n",
      "\u001b[0;31mAttributeError\u001b[0m: 'Client' object has no attribute 'train'"
     ]
    }
   ],
   "source": [
    "from bastionlab.linfa.trainers import LogisticRegression\n",
    "\n",
    "trainer = client.linfa.train(train_rdf, test_rdf, LogisticRegression())"
   ]
  },
  {
   "cell_type": "code",
   "execution_count": 53,
   "metadata": {},
   "outputs": [
    {
     "name": "stdout",
     "output_type": "stream",
     "text": [
      "FetchableLazyFrame(identifier=8cd288f3-040a-41fb-9f5a-c98817a555a9)\n"
     ]
    }
   ],
   "source": [
    "res = client.predict(trainer, [5.5, 4.2])\n",
    "print(res)"
   ]
  }
 ],
 "metadata": {
  "kernelspec": {
   "display_name": "Python 3.8.10 ('base')",
   "language": "python",
   "name": "python3"
  },
  "language_info": {
   "codemirror_mode": {
    "name": "ipython",
    "version": 3
   },
   "file_extension": ".py",
   "mimetype": "text/x-python",
   "name": "python",
   "nbconvert_exporter": "python",
   "pygments_lexer": "ipython3",
   "version": "3.8.10"
  },
  "orig_nbformat": 4,
  "vscode": {
   "interpreter": {
    "hash": "cfb725626286d8c8fc5334ffe77697f720dc23e64d3046271825a5556b528e7d"
   }
  }
 },
 "nbformat": 4,
 "nbformat_minor": 2
}
