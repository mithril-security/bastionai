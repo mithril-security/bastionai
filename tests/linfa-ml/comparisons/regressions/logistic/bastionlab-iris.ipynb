{
 "cells": [
  {
   "cell_type": "code",
   "execution_count": 1,
   "metadata": {},
   "outputs": [],
   "source": [
    "from bastionlab import Connection, Identity\n",
    "import polars as pl"
   ]
  },
  {
   "cell_type": "code",
   "execution_count": 2,
   "metadata": {},
   "outputs": [],
   "source": [
    "data_owner = Identity.create(\"data_owner\")\n",
    "client = Connection(\"localhost\", identity=data_owner).client"
   ]
  },
  {
   "cell_type": "code",
   "execution_count": 3,
   "metadata": {},
   "outputs": [],
   "source": [
    "target_names = [\"setosa\", \"versicolor\", \"virginica\"]\n",
    "df = pl.read_csv(\n",
    "    \"iris.csv\",\n",
    "    has_header=False,\n",
    "    new_columns=[\n",
    "        \"sepal length (cm)\",\n",
    "        \"sepal width (cm)\",\n",
    "        \"petal length (cm)\",\n",
    "        \"petal width (cm)\",\n",
    "        \"target\",\n",
    "    ],\n",
    ")\n",
    "\n",
    "\n",
    "df = df.with_column(\n",
    "    pl.col(\"target\")\n",
    "    .map(lambda a: a.apply(lambda b: True if target_names[b] == \"virginica\" else False))\n",
    "    .alias(\"target_class\")\n",
    ")\n",
    "\n",
    "target_class_df = pl.DataFrame({\"classes\": target_names})\n",
    "target_class_df = target_class_df.with_row_count(\"id\")"
   ]
  },
  {
   "cell_type": "code",
   "execution_count": 4,
   "metadata": {},
   "outputs": [
    {
     "name": "stdout",
     "output_type": "stream",
     "text": [
      "FetchableLazyFrame(identifier=6c367977-8bc2-42e2-936e-d38fbd8c2a6a) FetchableLazyFrame(identifier=6c795f46-6f09-42e5-b905-827c9acab73a)\n"
     ]
    }
   ],
   "source": [
    "rdf = client.polars.send_df(df)\n",
    "classes_rdf = client.polars.send_df(target_class_df)\n",
    "\n",
    "train_rdf = rdf.select(pl.col([\"petal length (cm)\", \"petal width (cm)\"])).collect()\n",
    "test_rdf = rdf.select(pl.col(\"target_class\")).collect()\n",
    "print(train_rdf, test_rdf)"
   ]
  },
  {
   "cell_type": "code",
   "execution_count": 5,
   "metadata": {},
   "outputs": [],
   "source": [
    "from bastionlab.linfa.trainers import LogisticRegression\n",
    "\n",
    "trainer = client.linfa.train(train_rdf, test_rdf, LogisticRegression())"
   ]
  },
  {
   "cell_type": "code",
   "execution_count": 6,
   "metadata": {},
   "outputs": [
    {
     "name": "stdout",
     "output_type": "stream",
     "text": [
      "shape: (1, 1)\n",
      "┌────────────┐\n",
      "│ prediction │\n",
      "│ ---        │\n",
      "│ u64        │\n",
      "╞════════════╡\n",
      "│ 1          │\n",
      "└────────────┘\n"
     ]
    }
   ],
   "source": [
    "res = client.linfa.predict(trainer, [5.5, 4.2])\n",
    "print(res)"
   ]
  },
  {
   "cell_type": "code",
   "execution_count": 9,
   "metadata": {},
   "outputs": [
    {
     "name": "stdout",
     "output_type": "stream",
     "text": [
      "shape: (1, 1)\n",
      "┌────────────┐\n",
      "│ prediction │\n",
      "│ ---        │\n",
      "│ f64        │\n",
      "╞════════════╡\n",
      "│ 1.0        │\n",
      "└────────────┘\n"
     ]
    }
   ],
   "source": [
    "res = client.linfa.predict_proba(trainer, [5.5, 4.2])\n",
    "print(res)"
   ]
  },
  {
   "cell_type": "code",
   "execution_count": null,
   "metadata": {},
   "outputs": [],
   "source": [
    "res = client.linfa.cross_validate(trainer)"
   ]
  }
 ],
 "metadata": {
  "kernelspec": {
   "display_name": "Python 3.8.10 ('base')",
   "language": "python",
   "name": "python3"
  },
  "language_info": {
   "codemirror_mode": {
    "name": "ipython",
    "version": 3
   },
   "file_extension": ".py",
   "mimetype": "text/x-python",
   "name": "python",
   "nbconvert_exporter": "python",
   "pygments_lexer": "ipython3",
   "version": "3.8.10"
  },
  "orig_nbformat": 4,
  "vscode": {
   "interpreter": {
    "hash": "cfb725626286d8c8fc5334ffe77697f720dc23e64d3046271825a5556b528e7d"
   }
  }
 },
 "nbformat": 4,
 "nbformat_minor": 2
}
