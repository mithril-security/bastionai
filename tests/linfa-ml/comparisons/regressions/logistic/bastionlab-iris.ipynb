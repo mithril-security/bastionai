{
 "cells": [
  {
   "cell_type": "code",
   "execution_count": null,
   "metadata": {},
   "outputs": [],
   "source": [
    "from bastionlab import Connection, Identity, LogisticRegression\n",
    "import polars as pl"
   ]
  },
  {
   "cell_type": "code",
   "execution_count": 33,
   "metadata": {},
   "outputs": [],
   "source": [
    "data_owner = Identity.create(\"data_owner\")\n",
    "\n",
    "client = Connection(\"localhost\", identity=data_owner).client"
   ]
  },
  {
   "cell_type": "code",
   "execution_count": 34,
   "metadata": {},
   "outputs": [],
   "source": [
    "target_names = [\"setosa\" \"versicolor\" \"virginica\"]\n",
    "df = pl.read_csv(\n",
    "    \"iris.csv\",\n",
    "    has_header=False,\n",
    "    new_columns=[\n",
    "        \"sepal length (cm)\",\n",
    "        \"sepal width (cm)\",\n",
    "        \"petal length (cm)\",\n",
    "        \"petal width (cm)\",\n",
    "        \"target\",\n",
    "    ],\n",
    ")"
   ]
  },
  {
   "cell_type": "code",
   "execution_count": 35,
   "metadata": {},
   "outputs": [
    {
     "name": "stdout",
     "output_type": "stream",
     "text": [
      "FetchableLazyFrame(identifier=fbdfb950-ad82-4395-a3e8-4f3b44396d2d) FetchableLazyFrame(identifier=23d77c70-a1af-4be8-8777-0c5e593017de)\n"
     ]
    }
   ],
   "source": [
    "rdf = client.send_df(df)\n",
    "\n",
    "train_rdf = rdf.select(rdf.columns[:4]).collect()\n",
    "test_rdf = rdf.select(rdf.columns[-1]).collect()\n",
    "print(train_rdf, test_rdf)"
   ]
  },
  {
   "cell_type": "code",
   "execution_count": 36,
   "metadata": {},
   "outputs": [],
   "source": [
    "trainer = client.train(train_rdf, test_rdf, LogisticRegression(decision_boundary=0.4))"
   ]
  },
  {
   "cell_type": "code",
   "execution_count": 32,
   "metadata": {},
   "outputs": [
    {
     "name": "stdout",
     "output_type": "stream",
     "text": [
      "FetchableLazyFrame(identifier=54b99a46-bd02-401a-859d-74c46b69194b)\n"
     ]
    }
   ],
   "source": [
    "res = client.predict(trainer, [5.5, 4.2, 1.4, 0.2])\n",
    "print(res)"
   ]
  }
 ],
 "metadata": {
  "kernelspec": {
   "display_name": "Python 3.8.10 ('base')",
   "language": "python",
   "name": "python3"
  },
  "language_info": {
   "codemirror_mode": {
    "name": "ipython",
    "version": 3
   },
   "file_extension": ".py",
   "mimetype": "text/x-python",
   "name": "python",
   "nbconvert_exporter": "python",
   "pygments_lexer": "ipython3",
   "version": "3.8.10"
  },
  "orig_nbformat": 4,
  "vscode": {
   "interpreter": {
    "hash": "cfb725626286d8c8fc5334ffe77697f720dc23e64d3046271825a5556b528e7d"
   }
  }
 },
 "nbformat": 4,
 "nbformat_minor": 2
}
