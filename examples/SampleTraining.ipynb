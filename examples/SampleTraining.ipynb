{
 "cells": [
  {
   "cell_type": "code",
   "execution_count": null,
   "metadata": {},
   "outputs": [],
   "source": [
    "! pip install torch"
   ]
  },
  {
   "cell_type": "code",
   "execution_count": null,
   "metadata": {},
   "outputs": [],
   "source": [
    "from typing import Tuple\n",
    "\n",
    "import torch\n",
    "from bastionai.client import connect\n",
    "from bastionai.pb.remote_torch_pb2 import TestConfig, TrainConfig\n",
    "from bastionai.psg.nn import Linear\n",
    "from torch import Tensor\n",
    "from torch.nn import Module\n",
    "from torch.utils.data import Dataset\n"
   ]
  },
  {
   "cell_type": "markdown",
   "metadata": {},
   "source": [
    "Below is a simple neural network that simply employs a Linear layer to perform linear regression."
   ]
  },
  {
   "cell_type": "code",
   "execution_count": null,
   "metadata": {},
   "outputs": [],
   "source": [
    "class LReg(Module):\n",
    "    def __init__(self) -> None:\n",
    "        super().__init__()\n",
    "        self.fc1 = Linear(1, 1, 2)\n",
    "\n",
    "    def forward(self, x: Tensor) -> Tensor:\n",
    "        return self.fc1(x)"
   ]
  },
  {
   "cell_type": "markdown",
   "metadata": {},
   "source": [
    "A simple dataloader described below serving two tensors both holding 4 elements."
   ]
  },
  {
   "cell_type": "code",
   "execution_count": null,
   "metadata": {},
   "outputs": [],
   "source": [
    "class LRegDataset(Dataset):\n",
    "    def __init__(self) -> None:\n",
    "        super().__init__()\n",
    "        self.X = torch.tensor([[0.0], [1.0], [0.5], [0.2]])\n",
    "        self.Y = torch.tensor([[0.0], [2.0], [1.0], [0.4]])\n",
    "\n",
    "    def __len__(self) -> int:\n",
    "        return 4\n",
    "\n",
    "    def __getitem__(self, idx: int) -> Tuple[torch.Tensor, torch.Tensor]:\n",
    "        return (self.X[idx], self.Y[idx])"
   ]
  },
  {
   "cell_type": "markdown",
   "metadata": {},
   "source": [
    "Initializes both the model and the dataloader."
   ]
  },
  {
   "cell_type": "code",
   "execution_count": null,
   "metadata": {},
   "outputs": [],
   "source": [
    "lreg_model = LReg()\n",
    "lreg_dataset = LRegDataset()"
   ]
  },
  {
   "cell_type": "markdown",
   "metadata": {},
   "source": [
    "Once BastionAI receives artifacts (both datasets and models,) it returns references."
   ]
  },
  {
   "cell_type": "code",
   "execution_count": null,
   "metadata": {},
   "outputs": [],
   "source": [
    "client = connect(addr=\"localhost\", port=50053)\n",
    "\n",
    "model_ref = client.send_model(\n",
    "    lreg_model, \"1D Linear Regression Model\", b\"secret\")\n",
    "print(f\"Model ref: {model_ref}\")\n",
    "\n",
    "dataset_ref = client.send_dataset(\n",
    "    lreg_dataset, \"Dummy 1D Linear Regression Dataset (param is 2)\", b'secret')\n",
    "print(f\"Dataset ref: {dataset_ref}\")"
   ]
  },
  {
   "cell_type": "markdown",
   "metadata": {},
   "source": [
    "Below, we fetch all the available models and datasets on BastionAI."
   ]
  },
  {
   "cell_type": "code",
   "execution_count": null,
   "metadata": {},
   "outputs": [],
   "source": [
    "client = connect(\"localhost\", 50053)\n",
    "available_models = client.get_available_models()\n",
    "print(available_models)\n",
    "\n",
    "available_datasets = client.get_available_datasets()\n",
    "print(available_datasets)\n"
   ]
  },
  {
   "cell_type": "markdown",
   "metadata": {},
   "source": [
    "Models on BastionAI can be either trained on GPU or CPU. Below, we use the `get_devices` endpoint to see the available devices on BastionAI."
   ]
  },
  {
   "cell_type": "code",
   "execution_count": null,
   "metadata": {},
   "outputs": [],
   "source": [
    "client = connect(\"localhost\", 50053)\n",
    "\n",
    "available_devices = client.get_available_devices()\n",
    "print(available_devices)\n"
   ]
  },
  {
   "cell_type": "markdown",
   "metadata": {},
   "source": [
    "To test the power of BastionAI, we train the simple Linear regression neural network defined above."
   ]
  },
  {
   "cell_type": "markdown",
   "metadata": {},
   "source": [
    "Create training configurations."
   ]
  },
  {
   "cell_type": "code",
   "execution_count": null,
   "metadata": {},
   "outputs": [],
   "source": [
    "from bastionai.utils.utils import create_training_config, Optimizers\n"
   ]
  },
  {
   "cell_type": "code",
   "execution_count": null,
   "metadata": {},
   "outputs": [],
   "source": [
    "client = connect(addr=\"localhost\", port=50053)\n",
    "training_config = create_training_config(model_ref,\n",
    "                                         dataset_ref,\n",
    "                                         batch_size=2,\n",
    "                                         epochs=100,\n",
    "                                         learning_rate=0.1,\n",
    "                                         weight_decay=0.,\n",
    "                                         noise_multiplier=0.1,\n",
    "                                         max_grad_norm=1.,\n",
    "                                         extra_args={\n",
    "                                             \"momentum\": 0.,\n",
    "                                             \"dampening\": 0.,\n",
    "                                             \"nesterov\": False\n",
    "                                         },\n",
    "                                         optimizer=Optimizers.SGD)\n",
    "\n",
    "client.train(training_config)\n"
   ]
  },
  {
   "cell_type": "markdown",
   "metadata": {},
   "source": [
    "We securely fetch the trained weights from BastionAI."
   ]
  },
  {
   "cell_type": "code",
   "execution_count": null,
   "metadata": {},
   "outputs": [],
   "source": [
    "client = connect(\"localhost\", 50053)\n",
    "client.fetch_model_weights(lreg_model, model_ref)\n",
    "print(f\"Weight: {lreg_model.fc1.inner.expanded_weight}\")\n"
   ]
  }
 ],
 "metadata": {
  "kernelspec": {
   "display_name": "Python 3.8.10 ('base')",
   "language": "python",
   "name": "python3"
  },
  "language_info": {
   "codemirror_mode": {
    "name": "ipython",
    "version": 3
   },
   "file_extension": ".py",
   "mimetype": "text/x-python",
   "name": "python",
   "nbconvert_exporter": "python",
   "pygments_lexer": "ipython3",
   "version": "3.8.10"
  },
  "orig_nbformat": 4,
  "vscode": {
   "interpreter": {
    "hash": "cfb725626286d8c8fc5334ffe77697f720dc23e64d3046271825a5556b528e7d"
   }
  }
 },
 "nbformat": 4,
 "nbformat_minor": 2
}
