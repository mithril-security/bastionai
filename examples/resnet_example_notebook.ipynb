{
 "cells": [
  {
   "cell_type": "code",
   "execution_count": null,
   "metadata": {},
   "outputs": [],
   "source": [
    "%pip install bastionai"
   ]
  },
  {
   "cell_type": "code",
   "execution_count": null,
   "metadata": {},
   "outputs": [],
   "source": [
    "%pip install torch==1.12.0 torchvision ipykernel ipywidgets"
   ]
  },
  {
   "cell_type": "code",
   "execution_count": null,
   "metadata": {},
   "outputs": [],
   "source": [
    "from torchvision.models import resnet50, ResNet50_Weights\n",
    "from torchvision.datasets import CIFAR100\n",
    "from torchvision.transforms import ToTensor, Normalize, Compose\n",
    "\n",
    "transform = Compose([\n",
    "    ToTensor(),\n",
    "    Normalize((0.4914, 0.4822, 0.4465), (0.2023, 0.1994, 0.2010)),\n",
    "    lambda x: [x],\n",
    "])\n",
    "\n",
    "train_dataset = CIFAR100(\"data\", train=True, transform=transform, download=True)\n",
    "test_dataset = CIFAR100(\"data\", train=False, transform=transform, download=True)\n",
    "\n",
    "model = resnet50(weights=ResNet50_Weights.IMAGENET1K_V2)"
   ]
  },
  {
   "cell_type": "code",
   "execution_count": null,
   "metadata": {},
   "outputs": [],
   "source": [
    "from bastionai.client import Connection\n",
    "\n",
    "with Connection(\"localhost\", 50051) as client:\n",
    "    remote_dataloader = client.RemoteDataset(train_dataset, test_dataset, name=\"CIFAR100\")"
   ]
  },
  {
   "cell_type": "code",
   "execution_count": null,
   "metadata": {},
   "outputs": [],
   "source": [
    "with Connection(\"localhost\", 50051) as client:\n",
    "    remote_learner = client.RemoteLearner(\n",
    "        model,\n",
    "        remote_dataloader,\n",
    "        max_batch_size=4,\n",
    "        loss=\"cross_entropy\",\n",
    "        model_name=\"ResNet50\",\n",
    "    )\n",
    "\n",
    "    remote_learner.fit(nb_epochs=100, eps=6.0)\n",
    "    # remote_learner.test(metric=\"accuracy\")\n",
    "    \n",
    "    # trained_model = remote_learner.get_model()"
   ]
  }
 ],
 "metadata": {
  "kernelspec": {
   "display_name": "Python 3.10.4 ('venv': venv)",
   "language": "python",
   "name": "python3"
  },
  "language_info": {
   "codemirror_mode": {
    "name": "ipython",
    "version": 3
   },
   "file_extension": ".py",
   "mimetype": "text/x-python",
   "name": "python",
   "nbconvert_exporter": "python",
   "pygments_lexer": "ipython3"
  },
  "vscode": {
   "interpreter": {
    "hash": "6993cb9073eaa1097b6e3b6529d06c5840b05bad16c8a47177ac9bf16f0b1e0e"
   }
  }
 },
 "nbformat": 4,
 "nbformat_minor": 2
}
